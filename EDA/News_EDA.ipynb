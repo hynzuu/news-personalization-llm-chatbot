{
 "cells": [
  {
   "cell_type": "markdown",
   "metadata": {},
   "source": [
    "# News EDA"
   ]
  },
  {
   "cell_type": "code",
   "execution_count": 3,
   "metadata": {},
   "outputs": [
    {
     "name": "stdout",
     "output_type": "stream",
     "text": [
      "Defaulting to user installation because normal site-packages is not writeable\n",
      "Requirement already satisfied: koreanize_matplotlib in /Users/mac/Library/Python/3.9/lib/python/site-packages (0.1.1)\n",
      "Requirement already satisfied: matplotlib in /Users/mac/Library/Python/3.9/lib/python/site-packages (from koreanize_matplotlib) (3.9.4)\n",
      "Requirement already satisfied: contourpy>=1.0.1 in /Users/mac/Library/Python/3.9/lib/python/site-packages (from matplotlib->koreanize_matplotlib) (1.3.0)\n",
      "Requirement already satisfied: cycler>=0.10 in /Users/mac/Library/Python/3.9/lib/python/site-packages (from matplotlib->koreanize_matplotlib) (0.12.1)\n",
      "Requirement already satisfied: fonttools>=4.22.0 in /Users/mac/Library/Python/3.9/lib/python/site-packages (from matplotlib->koreanize_matplotlib) (4.56.0)\n",
      "Requirement already satisfied: kiwisolver>=1.3.1 in /Users/mac/Library/Python/3.9/lib/python/site-packages (from matplotlib->koreanize_matplotlib) (1.4.7)\n",
      "Requirement already satisfied: numpy>=1.23 in /Users/mac/Library/Python/3.9/lib/python/site-packages (from matplotlib->koreanize_matplotlib) (1.26.4)\n",
      "Requirement already satisfied: packaging>=20.0 in /Users/mac/Library/Python/3.9/lib/python/site-packages (from matplotlib->koreanize_matplotlib) (24.2)\n",
      "Requirement already satisfied: pillow>=8 in /Users/mac/Library/Python/3.9/lib/python/site-packages (from matplotlib->koreanize_matplotlib) (11.1.0)\n",
      "Requirement already satisfied: pyparsing>=2.3.1 in /Users/mac/Library/Python/3.9/lib/python/site-packages (from matplotlib->koreanize_matplotlib) (3.2.1)\n",
      "Requirement already satisfied: python-dateutil>=2.7 in /Users/mac/Library/Python/3.9/lib/python/site-packages (from matplotlib->koreanize_matplotlib) (2.9.0.post0)\n",
      "Requirement already satisfied: importlib-resources>=3.2.0 in /Users/mac/Library/Python/3.9/lib/python/site-packages (from matplotlib->koreanize_matplotlib) (6.5.2)\n",
      "Requirement already satisfied: zipp>=3.1.0 in /Users/mac/Library/Python/3.9/lib/python/site-packages (from importlib-resources>=3.2.0->matplotlib->koreanize_matplotlib) (3.21.0)\n",
      "Requirement already satisfied: six>=1.5 in /Users/mac/Library/Python/3.9/lib/python/site-packages (from python-dateutil>=2.7->matplotlib->koreanize_matplotlib) (1.17.0)\n",
      "Note: you may need to restart the kernel to use updated packages.\n"
     ]
    }
   ],
   "source": [
    "pip install koreanize_matplotlib"
   ]
  },
  {
   "cell_type": "code",
   "execution_count": 2,
   "metadata": {},
   "outputs": [
    {
     "name": "stdout",
     "output_type": "stream",
     "text": [
      "Defaulting to user installation because normal site-packages is not writeable\n",
      "Requirement already satisfied: nltk in /Users/mac/Library/Python/3.9/lib/python/site-packages (3.9.1)\n",
      "Requirement already satisfied: click in /Users/mac/Library/Python/3.9/lib/python/site-packages (from nltk) (8.1.8)\n",
      "Requirement already satisfied: joblib in /Users/mac/Library/Python/3.9/lib/python/site-packages (from nltk) (1.4.2)\n",
      "Requirement already satisfied: regex>=2021.8.3 in /Users/mac/Library/Python/3.9/lib/python/site-packages (from nltk) (2024.11.6)\n",
      "Requirement already satisfied: tqdm in /Users/mac/Library/Python/3.9/lib/python/site-packages (from nltk) (4.67.1)\n",
      "Note: you may need to restart the kernel to use updated packages.\n"
     ]
    }
   ],
   "source": [
    "pip install nltk"
   ]
  },
  {
   "cell_type": "code",
   "execution_count": 1,
   "metadata": {},
   "outputs": [
    {
     "name": "stderr",
     "output_type": "stream",
     "text": [
      "[nltk_data] Downloading package stopwords to /Users/mac/nltk_data...\n",
      "[nltk_data]   Package stopwords is already up-to-date!\n",
      "[nltk_data] Downloading package punkt to /Users/mac/nltk_data...\n",
      "[nltk_data]   Package punkt is already up-to-date!\n",
      "[nltk_data] Downloading package punkt_tab to /Users/mac/nltk_data...\n",
      "[nltk_data]   Package punkt_tab is already up-to-date!\n"
     ]
    },
    {
     "data": {
      "text/plain": [
       "True"
      ]
     },
     "execution_count": 1,
     "metadata": {},
     "output_type": "execute_result"
    }
   ],
   "source": [
    "import nltk\n",
    "from nltk.corpus import stopwords\n",
    "from nltk.tokenize import word_tokenize\n",
    "\n",
    "nltk.download('stopwords')\n",
    "nltk.download('punkt')  \n",
    "nltk.download('punkt_tab')"
   ]
  },
  {
   "cell_type": "code",
   "execution_count": 2,
   "metadata": {},
   "outputs": [],
   "source": [
    "import koreanize_matplotlib"
   ]
  },
  {
   "cell_type": "code",
   "execution_count": 3,
   "metadata": {},
   "outputs": [],
   "source": [
    "import pandas as pd\n",
    "import numpy as np\n",
    "import seaborn as sns\n",
    "import matplotlib.pyplot as plt"
   ]
  },
  {
   "cell_type": "code",
   "execution_count": 4,
   "metadata": {},
   "outputs": [],
   "source": [
    "pd.set_option('display.max_columns', None)  \n",
    "pd.set_option('display.max_colwidth', None)"
   ]
  },
  {
   "cell_type": "code",
   "execution_count": 5,
   "metadata": {},
   "outputs": [
    {
     "data": {
      "text/html": [
       "<div>\n",
       "<style scoped>\n",
       "    .dataframe tbody tr th:only-of-type {\n",
       "        vertical-align: middle;\n",
       "    }\n",
       "\n",
       "    .dataframe tbody tr th {\n",
       "        vertical-align: top;\n",
       "    }\n",
       "\n",
       "    .dataframe thead th {\n",
       "        text-align: right;\n",
       "    }\n",
       "</style>\n",
       "<table border=\"1\" class=\"dataframe\">\n",
       "  <thead>\n",
       "    <tr style=\"text-align: right;\">\n",
       "      <th></th>\n",
       "      <th>news_id</th>\n",
       "      <th>category</th>\n",
       "      <th>subcategory</th>\n",
       "      <th>title</th>\n",
       "      <th>abstract</th>\n",
       "      <th>url</th>\n",
       "      <th>title_entities</th>\n",
       "      <th>abstract_entities</th>\n",
       "    </tr>\n",
       "  </thead>\n",
       "  <tbody>\n",
       "    <tr>\n",
       "      <th>0</th>\n",
       "      <td>N55528</td>\n",
       "      <td>lifestyle</td>\n",
       "      <td>lifestyleroyals</td>\n",
       "      <td>The Brands Queen Elizabeth, Prince Charles, and Prince Philip Swear By</td>\n",
       "      <td>Shop the notebooks, jackets, and more that the royals can't live without.</td>\n",
       "      <td>https://assets.msn.com/labs/mind/AAGH0ET.html</td>\n",
       "      <td>[{\"Label\": \"Prince Philip, Duke of Edinburgh\", \"Type\": \"P\", \"WikidataId\": \"Q80976\", \"Confidence\": 1.0, \"OccurrenceOffsets\": [48], \"SurfaceForms\": [\"Prince Philip\"]}, {\"Label\": \"Charles, Prince of Wales\", \"Type\": \"P\", \"WikidataId\": \"Q43274\", \"Confidence\": 1.0, \"OccurrenceOffsets\": [28], \"SurfaceForms\": [\"Prince Charles\"]}, {\"Label\": \"Elizabeth II\", \"Type\": \"P\", \"WikidataId\": \"Q9682\", \"Confidence\": 0.97, \"OccurrenceOffsets\": [11], \"SurfaceForms\": [\"Queen Elizabeth\"]}]</td>\n",
       "      <td>[]</td>\n",
       "    </tr>\n",
       "    <tr>\n",
       "      <th>1</th>\n",
       "      <td>N19639</td>\n",
       "      <td>health</td>\n",
       "      <td>weightloss</td>\n",
       "      <td>50 Worst Habits For Belly Fat</td>\n",
       "      <td>These seemingly harmless habits are holding you back and keeping you from shedding that unwanted belly fat for good.</td>\n",
       "      <td>https://assets.msn.com/labs/mind/AAB19MK.html</td>\n",
       "      <td>[{\"Label\": \"Adipose tissue\", \"Type\": \"C\", \"WikidataId\": \"Q193583\", \"Confidence\": 1.0, \"OccurrenceOffsets\": [20], \"SurfaceForms\": [\"Belly Fat\"]}]</td>\n",
       "      <td>[{\"Label\": \"Adipose tissue\", \"Type\": \"C\", \"WikidataId\": \"Q193583\", \"Confidence\": 1.0, \"OccurrenceOffsets\": [97], \"SurfaceForms\": [\"belly fat\"]}]</td>\n",
       "    </tr>\n",
       "    <tr>\n",
       "      <th>2</th>\n",
       "      <td>N61837</td>\n",
       "      <td>news</td>\n",
       "      <td>newsworld</td>\n",
       "      <td>The Cost of Trump's Aid Freeze in the Trenches of Ukraine's War</td>\n",
       "      <td>Lt. Ivan Molchanets peeked over a parapet of sand bags at the front line of the war in Ukraine. Next to him was an empty helmet propped up to trick snipers, already perforated with multiple holes.</td>\n",
       "      <td>https://assets.msn.com/labs/mind/AAJgNsz.html</td>\n",
       "      <td>[]</td>\n",
       "      <td>[{\"Label\": \"Ukraine\", \"Type\": \"G\", \"WikidataId\": \"Q212\", \"Confidence\": 0.946, \"OccurrenceOffsets\": [87], \"SurfaceForms\": [\"Ukraine\"]}]</td>\n",
       "    </tr>\n",
       "    <tr>\n",
       "      <th>3</th>\n",
       "      <td>N53526</td>\n",
       "      <td>health</td>\n",
       "      <td>voices</td>\n",
       "      <td>I Was An NBA Wife. Here's How It Affected My Mental Health.</td>\n",
       "      <td>I felt like I was a fraud, and being an NBA wife didn't help that. In fact, it nearly destroyed me.</td>\n",
       "      <td>https://assets.msn.com/labs/mind/AACk2N6.html</td>\n",
       "      <td>[]</td>\n",
       "      <td>[{\"Label\": \"National Basketball Association\", \"Type\": \"O\", \"WikidataId\": \"Q155223\", \"Confidence\": 1.0, \"OccurrenceOffsets\": [40], \"SurfaceForms\": [\"NBA\"]}]</td>\n",
       "    </tr>\n",
       "    <tr>\n",
       "      <th>4</th>\n",
       "      <td>N38324</td>\n",
       "      <td>health</td>\n",
       "      <td>medical</td>\n",
       "      <td>How to Get Rid of Skin Tags, According to a Dermatologist</td>\n",
       "      <td>They seem harmless, but there's a very good reason you shouldn't ignore them. The post How to Get Rid of Skin Tags, According to a Dermatologist appeared first on Reader's Digest.</td>\n",
       "      <td>https://assets.msn.com/labs/mind/AAAKEkt.html</td>\n",
       "      <td>[{\"Label\": \"Skin tag\", \"Type\": \"C\", \"WikidataId\": \"Q3179593\", \"Confidence\": 1.0, \"OccurrenceOffsets\": [18], \"SurfaceForms\": [\"Skin Tags\"]}]</td>\n",
       "      <td>[{\"Label\": \"Skin tag\", \"Type\": \"C\", \"WikidataId\": \"Q3179593\", \"Confidence\": 1.0, \"OccurrenceOffsets\": [105], \"SurfaceForms\": [\"Skin Tags\"]}, {\"Label\": \"Dermatology\", \"Type\": \"C\", \"WikidataId\": \"Q171171\", \"Confidence\": 1.0, \"OccurrenceOffsets\": [131], \"SurfaceForms\": [\"Dermatologist\"]}, {\"Label\": \"Reader's Digest\", \"Type\": \"M\", \"WikidataId\": \"Q371820\", \"Confidence\": 0.999, \"OccurrenceOffsets\": [163], \"SurfaceForms\": [\"Reader's Digest\"]}]</td>\n",
       "    </tr>\n",
       "  </tbody>\n",
       "</table>\n",
       "</div>"
      ],
      "text/plain": [
       "  news_id   category      subcategory  \\\n",
       "0  N55528  lifestyle  lifestyleroyals   \n",
       "1  N19639     health       weightloss   \n",
       "2  N61837       news        newsworld   \n",
       "3  N53526     health           voices   \n",
       "4  N38324     health          medical   \n",
       "\n",
       "                                                                    title  \\\n",
       "0  The Brands Queen Elizabeth, Prince Charles, and Prince Philip Swear By   \n",
       "1                                           50 Worst Habits For Belly Fat   \n",
       "2         The Cost of Trump's Aid Freeze in the Trenches of Ukraine's War   \n",
       "3             I Was An NBA Wife. Here's How It Affected My Mental Health.   \n",
       "4               How to Get Rid of Skin Tags, According to a Dermatologist   \n",
       "\n",
       "                                                                                                                                                                                               abstract  \\\n",
       "0                                                                                                                             Shop the notebooks, jackets, and more that the royals can't live without.   \n",
       "1                                                                                  These seemingly harmless habits are holding you back and keeping you from shedding that unwanted belly fat for good.   \n",
       "2  Lt. Ivan Molchanets peeked over a parapet of sand bags at the front line of the war in Ukraine. Next to him was an empty helmet propped up to trick snipers, already perforated with multiple holes.   \n",
       "3                                                                                                   I felt like I was a fraud, and being an NBA wife didn't help that. In fact, it nearly destroyed me.   \n",
       "4                   They seem harmless, but there's a very good reason you shouldn't ignore them. The post How to Get Rid of Skin Tags, According to a Dermatologist appeared first on Reader's Digest.   \n",
       "\n",
       "                                             url  \\\n",
       "0  https://assets.msn.com/labs/mind/AAGH0ET.html   \n",
       "1  https://assets.msn.com/labs/mind/AAB19MK.html   \n",
       "2  https://assets.msn.com/labs/mind/AAJgNsz.html   \n",
       "3  https://assets.msn.com/labs/mind/AACk2N6.html   \n",
       "4  https://assets.msn.com/labs/mind/AAAKEkt.html   \n",
       "\n",
       "                                                                                                                                                                                                                                                                                                                                                                                                                                                                           title_entities  \\\n",
       "0  [{\"Label\": \"Prince Philip, Duke of Edinburgh\", \"Type\": \"P\", \"WikidataId\": \"Q80976\", \"Confidence\": 1.0, \"OccurrenceOffsets\": [48], \"SurfaceForms\": [\"Prince Philip\"]}, {\"Label\": \"Charles, Prince of Wales\", \"Type\": \"P\", \"WikidataId\": \"Q43274\", \"Confidence\": 1.0, \"OccurrenceOffsets\": [28], \"SurfaceForms\": [\"Prince Charles\"]}, {\"Label\": \"Elizabeth II\", \"Type\": \"P\", \"WikidataId\": \"Q9682\", \"Confidence\": 0.97, \"OccurrenceOffsets\": [11], \"SurfaceForms\": [\"Queen Elizabeth\"]}]   \n",
       "1                                                                                                                                                                                                                                                                                                                                        [{\"Label\": \"Adipose tissue\", \"Type\": \"C\", \"WikidataId\": \"Q193583\", \"Confidence\": 1.0, \"OccurrenceOffsets\": [20], \"SurfaceForms\": [\"Belly Fat\"]}]   \n",
       "2                                                                                                                                                                                                                                                                                                                                                                                                                                                                                      []   \n",
       "3                                                                                                                                                                                                                                                                                                                                                                                                                                                                                      []   \n",
       "4                                                                                                                                                                                                                                                                                                                                             [{\"Label\": \"Skin tag\", \"Type\": \"C\", \"WikidataId\": \"Q3179593\", \"Confidence\": 1.0, \"OccurrenceOffsets\": [18], \"SurfaceForms\": [\"Skin Tags\"]}]   \n",
       "\n",
       "                                                                                                                                                                                                                                                                                                                                                                                                                                          abstract_entities  \n",
       "0                                                                                                                                                                                                                                                                                                                                                                                                                                                        []  \n",
       "1                                                                                                                                                                                                                                                                                                          [{\"Label\": \"Adipose tissue\", \"Type\": \"C\", \"WikidataId\": \"Q193583\", \"Confidence\": 1.0, \"OccurrenceOffsets\": [97], \"SurfaceForms\": [\"belly fat\"]}]  \n",
       "2                                                                                                                                                                                                                                                                                                                    [{\"Label\": \"Ukraine\", \"Type\": \"G\", \"WikidataId\": \"Q212\", \"Confidence\": 0.946, \"OccurrenceOffsets\": [87], \"SurfaceForms\": [\"Ukraine\"]}]  \n",
       "3                                                                                                                                                                                                                                                                                               [{\"Label\": \"National Basketball Association\", \"Type\": \"O\", \"WikidataId\": \"Q155223\", \"Confidence\": 1.0, \"OccurrenceOffsets\": [40], \"SurfaceForms\": [\"NBA\"]}]  \n",
       "4  [{\"Label\": \"Skin tag\", \"Type\": \"C\", \"WikidataId\": \"Q3179593\", \"Confidence\": 1.0, \"OccurrenceOffsets\": [105], \"SurfaceForms\": [\"Skin Tags\"]}, {\"Label\": \"Dermatology\", \"Type\": \"C\", \"WikidataId\": \"Q171171\", \"Confidence\": 1.0, \"OccurrenceOffsets\": [131], \"SurfaceForms\": [\"Dermatologist\"]}, {\"Label\": \"Reader's Digest\", \"Type\": \"M\", \"WikidataId\": \"Q371820\", \"Confidence\": 0.999, \"OccurrenceOffsets\": [163], \"SurfaceForms\": [\"Reader's Digest\"]}]  "
      ]
     },
     "execution_count": 5,
     "metadata": {},
     "output_type": "execute_result"
    }
   ],
   "source": [
    "news_df=pd.read_csv('./Data/news.csv')\n",
    "news_df.head()"
   ]
  },
  {
   "cell_type": "code",
   "execution_count": 6,
   "metadata": {},
   "outputs": [],
   "source": [
    "news_df.drop('url',axis=1,inplace=True)"
   ]
  },
  {
   "cell_type": "code",
   "execution_count": 7,
   "metadata": {},
   "outputs": [
    {
     "data": {
      "text/plain": [
       "(51282, 7)"
      ]
     },
     "execution_count": 7,
     "metadata": {},
     "output_type": "execute_result"
    }
   ],
   "source": [
    "news_df.shape"
   ]
  },
  {
   "cell_type": "code",
   "execution_count": 8,
   "metadata": {},
   "outputs": [
    {
     "data": {
      "text/plain": [
       "news_id                 0\n",
       "category                0\n",
       "subcategory             0\n",
       "title                   0\n",
       "abstract             2666\n",
       "title_entities          3\n",
       "abstract_entities       4\n",
       "dtype: int64"
      ]
     },
     "execution_count": 8,
     "metadata": {},
     "output_type": "execute_result"
    }
   ],
   "source": [
    "news_df.isna().sum()"
   ]
  },
  {
   "cell_type": "code",
   "execution_count": 9,
   "metadata": {},
   "outputs": [],
   "source": [
    "news_df.dropna(axis=0 ,inplace=True)"
   ]
  },
  {
   "cell_type": "code",
   "execution_count": 11,
   "metadata": {},
   "outputs": [
    {
     "data": {
      "text/plain": [
       "48612"
      ]
     },
     "execution_count": 11,
     "metadata": {},
     "output_type": "execute_result"
    }
   ],
   "source": [
    "news_df['news_id'].nunique()\n"
   ]
  },
  {
   "cell_type": "markdown",
   "metadata": {},
   "source": [
    "### 데이터 정제"
   ]
  },
  {
   "cell_type": "code",
   "execution_count": 12,
   "metadata": {},
   "outputs": [],
   "source": [
    "import re\n",
    "\n",
    "# 영어, 소문자로 통일, 불용어 제거, 숫자 제거(x), 특수문자 제거, 마지막에 내용이 줄임표시 되어있는 것들이 있음(...)\n",
    "stop_words=set(stopwords.words('english'))  \n",
    "\n",
    "\n",
    "def clean_text(text):\n",
    "    text=text.lower()\n",
    "    #text=re.sub(r'\\d+','',text)\n",
    "    text=re.sub(r'[^\\w\\s]','',text) # 특수문자 제거\n",
    "    text=re.sub(r'\\s+',' ',text) # 연속된 공백 하나의 공백으로\n",
    "    tokens=word_tokenize(text)\n",
    "    for token in tokens:\n",
    "        if token in stop_words:\n",
    "            tokens.remove(token)    \n",
    "    text=' '.join(tokens)   \n",
    "    \n",
    "    return text\n",
    "    "
   ]
  },
  {
   "cell_type": "code",
   "execution_count": 13,
   "metadata": {},
   "outputs": [],
   "source": [
    "news_df['title']=news_df['title'].apply(lambda x: clean_text(x))  \n",
    "news_df['abstract']=news_df['abstract'].apply(lambda x: clean_text(x))"
   ]
  },
  {
   "cell_type": "markdown",
   "metadata": {},
   "source": [
    "## 카테고리 및 서브카테고리별 뉴스 수"
   ]
  },
  {
   "cell_type": "code",
   "execution_count": 14,
   "metadata": {},
   "outputs": [
    {
     "data": {
      "image/png": "[encoded data removed]",
      "text/plain": [
       "<Figure size 800x300 with 1 Axes>"
      ]
     },
     "metadata": {},
     "output_type": "display_data"
    },
    {
     "data": {
      "image/png": "[encoded data removed]",
      "text/plain": [
       "<Figure size 800x300 with 1 Axes>"
      ]
     },
     "metadata": {},
     "output_type": "display_data"
    }
   ],
   "source": [
    "# 카테고리, 서브 카테고리 상위 10개씩 확인\n",
    "\n",
    "plt.figure(figsize=(8, 3))\n",
    "sns.countplot(x='category', data=news_df, order=news_df['category'].value_counts().index[:10])\n",
    "plt.title('카테고리별 뉴스 수 Top 10')\n",
    "plt.xticks(rotation=45)\n",
    "plt.show()\n",
    "\n",
    "plt.figure(figsize=(8, 3))\n",
    "sns.countplot(\n",
    "    x='subcategory',\n",
    "    data=news_df,\n",
    "    order=news_df['subcategory'].value_counts().index[:10] \n",
    ")\n",
    "plt.xticks(rotation=45)\n",
    "plt.title('서브카테고리별 뉴스 수 Top 10')\n",
    "plt.show()"
   ]
  },
  {
   "cell_type": "code",
   "execution_count": 15,
   "metadata": {},
   "outputs": [
    {
     "data": {
      "text/plain": [
       "category\n",
       "news            15203\n",
       "sports          13230\n",
       "finance          3047\n",
       "foodanddrink     2513\n",
       "lifestyle        2318\n",
       "travel           2223\n",
       "video            2064\n",
       "weather          1879\n",
       "health           1834\n",
       "autos            1502\n",
       "Name: count, dtype: int64"
      ]
     },
     "execution_count": 15,
     "metadata": {},
     "output_type": "execute_result"
    }
   ],
   "source": [
    "news_df['category'].value_counts()[:10]"
   ]
  },
  {
   "cell_type": "code",
   "execution_count": 16,
   "metadata": {},
   "outputs": [
    {
     "data": {
      "text/plain": [
       "subcategory\n",
       "newsus                      6309\n",
       "football_nfl                4881\n",
       "newspolitics                2760\n",
       "newscrime                   2120\n",
       "weathertopstories           1878\n",
       "newsworld                   1666\n",
       "baseball_mlb                1550\n",
       "football_ncaa               1547\n",
       "basketball_nba              1464\n",
       "newsscienceandtechnology    1201\n",
       "Name: count, dtype: int64"
      ]
     },
     "execution_count": 16,
     "metadata": {},
     "output_type": "execute_result"
    }
   ],
   "source": [
    "news_df['subcategory'].value_counts()[:10]"
   ]
  },
  {
   "cell_type": "markdown",
   "metadata": {},
   "source": [
    "## 뉴스 title 및 abstract 길이 분포(공백 포함 yes )"
   ]
  },
  {
   "cell_type": "code",
   "execution_count": 17,
   "metadata": {},
   "outputs": [
    {
     "data": {
      "image/png": "[encoded data removed]",
      "text/plain": [
       "<Figure size 800x400 with 1 Axes>"
      ]
     },
     "metadata": {},
     "output_type": "display_data"
    }
   ],
   "source": [
    "news_df['title_length'] = news_df['title'].apply(len)\n",
    "\n",
    "plt.figure(figsize=(8, 4))\n",
    "sns.histplot(news_df['title_length'], bins=30, kde=True)\n",
    "plt.title('뉴스 제목 길이 분포')\n",
    "plt.xlabel('제목 길이(문자 수)')\n",
    "plt.show()\n"
   ]
  },
  {
   "cell_type": "code",
   "execution_count": 18,
   "metadata": {},
   "outputs": [
    {
     "data": {
      "image/png": "[encoded data removed]",
      "text/plain": [
       "<Figure size 800x400 with 1 Axes>"
      ]
     },
     "metadata": {},
     "output_type": "display_data"
    }
   ],
   "source": [
    "news_df['abstract_length'] = news_df['abstract'].fillna('').apply(len)\n",
    "\n",
    "plt.figure(figsize=(8, 4))\n",
    "sns.histplot(news_df['abstract_length'], bins=30, kde=True)\n",
    "plt.title('뉴스 요약(abstract) 길이 분포')\n",
    "plt.xlabel('요약 길이(문자 수)')\n",
    "plt.show()\n"
   ]
  },
  {
   "cell_type": "code",
   "execution_count": 19,
   "metadata": {},
   "outputs": [
    {
     "data": {
      "text/html": [
       "<div>\n",
       "<style scoped>\n",
       "    .dataframe tbody tr th:only-of-type {\n",
       "        vertical-align: middle;\n",
       "    }\n",
       "\n",
       "    .dataframe tbody tr th {\n",
       "        vertical-align: top;\n",
       "    }\n",
       "\n",
       "    .dataframe thead th {\n",
       "        text-align: right;\n",
       "    }\n",
       "</style>\n",
       "<table border=\"1\" class=\"dataframe\">\n",
       "  <thead>\n",
       "    <tr style=\"text-align: right;\">\n",
       "      <th></th>\n",
       "      <th>title_length</th>\n",
       "      <th>abstract_length</th>\n",
       "    </tr>\n",
       "  </thead>\n",
       "  <tbody>\n",
       "    <tr>\n",
       "      <th>count</th>\n",
       "      <td>48612.000000</td>\n",
       "      <td>48612.000000</td>\n",
       "    </tr>\n",
       "    <tr>\n",
       "      <th>mean</th>\n",
       "      <td>56.105817</td>\n",
       "      <td>169.802374</td>\n",
       "    </tr>\n",
       "    <tr>\n",
       "      <th>std</th>\n",
       "      <td>16.398551</td>\n",
       "      <td>120.808073</td>\n",
       "    </tr>\n",
       "    <tr>\n",
       "      <th>min</th>\n",
       "      <td>7.000000</td>\n",
       "      <td>0.000000</td>\n",
       "    </tr>\n",
       "    <tr>\n",
       "      <th>25%</th>\n",
       "      <td>45.000000</td>\n",
       "      <td>78.000000</td>\n",
       "    </tr>\n",
       "    <tr>\n",
       "      <th>50%</th>\n",
       "      <td>55.000000</td>\n",
       "      <td>119.000000</td>\n",
       "    </tr>\n",
       "    <tr>\n",
       "      <th>75%</th>\n",
       "      <td>66.000000</td>\n",
       "      <td>301.000000</td>\n",
       "    </tr>\n",
       "    <tr>\n",
       "      <th>max</th>\n",
       "      <td>200.000000</td>\n",
       "      <td>1894.000000</td>\n",
       "    </tr>\n",
       "  </tbody>\n",
       "</table>\n",
       "</div>"
      ],
      "text/plain": [
       "       title_length  abstract_length\n",
       "count  48612.000000     48612.000000\n",
       "mean      56.105817       169.802374\n",
       "std       16.398551       120.808073\n",
       "min        7.000000         0.000000\n",
       "25%       45.000000        78.000000\n",
       "50%       55.000000       119.000000\n",
       "75%       66.000000       301.000000\n",
       "max      200.000000      1894.000000"
      ]
     },
     "execution_count": 19,
     "metadata": {},
     "output_type": "execute_result"
    }
   ],
   "source": [
    "news_df[['title_length','abstract_length']].describe()"
   ]
  },
  {
   "cell_type": "markdown",
   "metadata": {},
   "source": [
    "## 뉴스 title 및 abstract 토큰 길이 분포(공백 포함 no )"
   ]
  },
  {
   "cell_type": "code",
   "execution_count": 20,
   "metadata": {},
   "outputs": [
    {
     "data": {
      "image/png": "[encoded data removed]",
      "text/plain": [
       "<Figure size 800x400 with 1 Axes>"
      ]
     },
     "metadata": {},
     "output_type": "display_data"
    }
   ],
   "source": [
    "import re\n",
    "news_df['title_word_count'] = news_df['title'].apply(lambda x: len(x.split()))\n",
    "news_df['abstract_word_count'] = news_df['abstract'].apply(lambda x: len(x.split()))\n",
    "\n",
    "# 시각화\n",
    "plt.figure(figsize=(8, 4))\n",
    "sns.histplot(news_df['title_word_count'], bins=30, kde=True)\n",
    "plt.title('뉴스 제목 단어 개수 분포')\n",
    "plt.xlabel('제목 단어 개수')\n",
    "plt.show()\n"
   ]
  },
  {
   "cell_type": "code",
   "execution_count": 21,
   "metadata": {},
   "outputs": [
    {
     "data": {
      "image/png": "[encoded data removed]",
      "text/plain": [
       "<Figure size 800x400 with 1 Axes>"
      ]
     },
     "metadata": {},
     "output_type": "display_data"
    }
   ],
   "source": [
    "plt.figure(figsize=(8, 4))\n",
    "sns.histplot(news_df['abstract_word_count'], bins=30, kde=True) \n",
    "plt.title('뉴스 요약(abstract) 단어 개수 분포')\n",
    "plt.xlabel('요약 단어 개수')\n",
    "plt.show()"
   ]
  },
  {
   "cell_type": "code",
   "execution_count": 22,
   "metadata": {},
   "outputs": [
    {
     "data": {
      "text/html": [
       "<div>\n",
       "<style scoped>\n",
       "    .dataframe tbody tr th:only-of-type {\n",
       "        vertical-align: middle;\n",
       "    }\n",
       "\n",
       "    .dataframe tbody tr th {\n",
       "        vertical-align: top;\n",
       "    }\n",
       "\n",
       "    .dataframe thead th {\n",
       "        text-align: right;\n",
       "    }\n",
       "</style>\n",
       "<table border=\"1\" class=\"dataframe\">\n",
       "  <thead>\n",
       "    <tr style=\"text-align: right;\">\n",
       "      <th></th>\n",
       "      <th>title_word_count</th>\n",
       "      <th>abstract_word_count</th>\n",
       "    </tr>\n",
       "  </thead>\n",
       "  <tbody>\n",
       "    <tr>\n",
       "      <th>count</th>\n",
       "      <td>48612.000000</td>\n",
       "      <td>48612.000000</td>\n",
       "    </tr>\n",
       "    <tr>\n",
       "      <th>mean</th>\n",
       "      <td>8.453859</td>\n",
       "      <td>25.659981</td>\n",
       "    </tr>\n",
       "    <tr>\n",
       "      <th>std</th>\n",
       "      <td>2.412994</td>\n",
       "      <td>18.284916</td>\n",
       "    </tr>\n",
       "    <tr>\n",
       "      <th>min</th>\n",
       "      <td>1.000000</td>\n",
       "      <td>0.000000</td>\n",
       "    </tr>\n",
       "    <tr>\n",
       "      <th>25%</th>\n",
       "      <td>7.000000</td>\n",
       "      <td>12.000000</td>\n",
       "    </tr>\n",
       "    <tr>\n",
       "      <th>50%</th>\n",
       "      <td>8.000000</td>\n",
       "      <td>18.000000</td>\n",
       "    </tr>\n",
       "    <tr>\n",
       "      <th>75%</th>\n",
       "      <td>10.000000</td>\n",
       "      <td>45.000000</td>\n",
       "    </tr>\n",
       "    <tr>\n",
       "      <th>max</th>\n",
       "      <td>32.000000</td>\n",
       "      <td>320.000000</td>\n",
       "    </tr>\n",
       "  </tbody>\n",
       "</table>\n",
       "</div>"
      ],
      "text/plain": [
       "       title_word_count  abstract_word_count\n",
       "count      48612.000000         48612.000000\n",
       "mean           8.453859            25.659981\n",
       "std            2.412994            18.284916\n",
       "min            1.000000             0.000000\n",
       "25%            7.000000            12.000000\n",
       "50%            8.000000            18.000000\n",
       "75%           10.000000            45.000000\n",
       "max           32.000000           320.000000"
      ]
     },
     "execution_count": 22,
     "metadata": {},
     "output_type": "execute_result"
    }
   ],
   "source": [
    "news_df[['title_word_count','abstract_word_count']].describe()"
   ]
  },
  {
   "cell_type": "code",
   "execution_count": 23,
   "metadata": {},
   "outputs": [
    {
     "data": {
      "text/html": [
       "<div>\n",
       "<style scoped>\n",
       "    .dataframe tbody tr th:only-of-type {\n",
       "        vertical-align: middle;\n",
       "    }\n",
       "\n",
       "    .dataframe tbody tr th {\n",
       "        vertical-align: top;\n",
       "    }\n",
       "\n",
       "    .dataframe thead th {\n",
       "        text-align: right;\n",
       "    }\n",
       "</style>\n",
       "<table border=\"1\" class=\"dataframe\">\n",
       "  <thead>\n",
       "    <tr style=\"text-align: right;\">\n",
       "      <th></th>\n",
       "      <th>news_id</th>\n",
       "      <th>category</th>\n",
       "      <th>subcategory</th>\n",
       "      <th>title</th>\n",
       "      <th>abstract</th>\n",
       "      <th>title_entities</th>\n",
       "      <th>abstract_entities</th>\n",
       "      <th>title_length</th>\n",
       "      <th>abstract_length</th>\n",
       "      <th>title_word_count</th>\n",
       "      <th>abstract_word_count</th>\n",
       "    </tr>\n",
       "  </thead>\n",
       "  <tbody>\n",
       "    <tr>\n",
       "      <th>0</th>\n",
       "      <td>N55528</td>\n",
       "      <td>lifestyle</td>\n",
       "      <td>lifestyleroyals</td>\n",
       "      <td>brands queen elizabeth prince charles prince philip swear</td>\n",
       "      <td>shop notebooks jackets more the royals cant live without</td>\n",
       "      <td>[{\"Label\": \"Prince Philip, Duke of Edinburgh\", \"Type\": \"P\", \"WikidataId\": \"Q80976\", \"Confidence\": 1.0, \"OccurrenceOffsets\": [48], \"SurfaceForms\": [\"Prince Philip\"]}, {\"Label\": \"Charles, Prince of Wales\", \"Type\": \"P\", \"WikidataId\": \"Q43274\", \"Confidence\": 1.0, \"OccurrenceOffsets\": [28], \"SurfaceForms\": [\"Prince Charles\"]}, {\"Label\": \"Elizabeth II\", \"Type\": \"P\", \"WikidataId\": \"Q9682\", \"Confidence\": 0.97, \"OccurrenceOffsets\": [11], \"SurfaceForms\": [\"Queen Elizabeth\"]}]</td>\n",
       "      <td>[]</td>\n",
       "      <td>57</td>\n",
       "      <td>56</td>\n",
       "      <td>8</td>\n",
       "      <td>9</td>\n",
       "    </tr>\n",
       "    <tr>\n",
       "      <th>1</th>\n",
       "      <td>N19639</td>\n",
       "      <td>health</td>\n",
       "      <td>weightloss</td>\n",
       "      <td>50 worst habits belly fat</td>\n",
       "      <td>seemingly harmless habits holding back keeping from shedding unwanted belly fat good</td>\n",
       "      <td>[{\"Label\": \"Adipose tissue\", \"Type\": \"C\", \"WikidataId\": \"Q193583\", \"Confidence\": 1.0, \"OccurrenceOffsets\": [20], \"SurfaceForms\": [\"Belly Fat\"]}]</td>\n",
       "      <td>[{\"Label\": \"Adipose tissue\", \"Type\": \"C\", \"WikidataId\": \"Q193583\", \"Confidence\": 1.0, \"OccurrenceOffsets\": [97], \"SurfaceForms\": [\"belly fat\"]}]</td>\n",
       "      <td>25</td>\n",
       "      <td>84</td>\n",
       "      <td>5</td>\n",
       "      <td>12</td>\n",
       "    </tr>\n",
       "  </tbody>\n",
       "</table>\n",
       "</div>"
      ],
      "text/plain": [
       "  news_id   category      subcategory  \\\n",
       "0  N55528  lifestyle  lifestyleroyals   \n",
       "1  N19639     health       weightloss   \n",
       "\n",
       "                                                       title  \\\n",
       "0  brands queen elizabeth prince charles prince philip swear   \n",
       "1                                  50 worst habits belly fat   \n",
       "\n",
       "                                                                               abstract  \\\n",
       "0                              shop notebooks jackets more the royals cant live without   \n",
       "1  seemingly harmless habits holding back keeping from shedding unwanted belly fat good   \n",
       "\n",
       "                                                                                                                                                                                                                                                                                                                                                                                                                                                                           title_entities  \\\n",
       "0  [{\"Label\": \"Prince Philip, Duke of Edinburgh\", \"Type\": \"P\", \"WikidataId\": \"Q80976\", \"Confidence\": 1.0, \"OccurrenceOffsets\": [48], \"SurfaceForms\": [\"Prince Philip\"]}, {\"Label\": \"Charles, Prince of Wales\", \"Type\": \"P\", \"WikidataId\": \"Q43274\", \"Confidence\": 1.0, \"OccurrenceOffsets\": [28], \"SurfaceForms\": [\"Prince Charles\"]}, {\"Label\": \"Elizabeth II\", \"Type\": \"P\", \"WikidataId\": \"Q9682\", \"Confidence\": 0.97, \"OccurrenceOffsets\": [11], \"SurfaceForms\": [\"Queen Elizabeth\"]}]   \n",
       "1                                                                                                                                                                                                                                                                                                                                        [{\"Label\": \"Adipose tissue\", \"Type\": \"C\", \"WikidataId\": \"Q193583\", \"Confidence\": 1.0, \"OccurrenceOffsets\": [20], \"SurfaceForms\": [\"Belly Fat\"]}]   \n",
       "\n",
       "                                                                                                                                  abstract_entities  \\\n",
       "0                                                                                                                                                []   \n",
       "1  [{\"Label\": \"Adipose tissue\", \"Type\": \"C\", \"WikidataId\": \"Q193583\", \"Confidence\": 1.0, \"OccurrenceOffsets\": [97], \"SurfaceForms\": [\"belly fat\"]}]   \n",
       "\n",
       "   title_length  abstract_length  title_word_count  abstract_word_count  \n",
       "0            57               56                 8                    9  \n",
       "1            25               84                 5                   12  "
      ]
     },
     "execution_count": 23,
     "metadata": {},
     "output_type": "execute_result"
    }
   ],
   "source": [
    "news_df.head(2)"
   ]
  },
  {
   "cell_type": "markdown",
   "metadata": {},
   "source": [
    "## title_entities, abstract_entities entity 빈도 확인"
   ]
  },
  {
   "cell_type": "markdown",
   "metadata": {},
   "source": [
    "### 개체명(Label) 추출 함수"
   ]
  },
  {
   "cell_type": "code",
   "execution_count": 24,
   "metadata": {},
   "outputs": [],
   "source": [
    "# Entity 빈도 \n",
    "import json\n",
    "from collections import Counter\n",
    "\n",
    "# title_entities와 abstract_entities에서 개체명(Label) 추출 함수\n",
    "def extract_entities(entity_column):\n",
    "    entities = []\n",
    "    for entity_list in entity_column.dropna():  # 결측값 제외\n",
    "        try:\n",
    "            parsed_entities = json.loads(entity_list)  # JSON 파싱\n",
    "            entities.extend([ent[\"Label\"] for ent in parsed_entities])\n",
    "        except json.JSONDecodeError:\n",
    "            continue  # JSON 파싱 오류 발생 시 무시\n",
    "    return entities\n"
   ]
  },
  {
   "cell_type": "code",
   "execution_count": 25,
   "metadata": {},
   "outputs": [],
   "source": [
    "title_entities_list = extract_entities(news_df['title_entities'])\n",
    "abstract_entities_list = extract_entities(news_df['abstract_entities'])\n"
   ]
  },
  {
   "cell_type": "markdown",
   "metadata": {},
   "source": [
    "#### 타이틀"
   ]
  },
  {
   "cell_type": "code",
   "execution_count": 26,
   "metadata": {},
   "outputs": [
    {
     "data": {
      "text/plain": [
       "56761"
      ]
     },
     "execution_count": 26,
     "metadata": {},
     "output_type": "execute_result"
    }
   ],
   "source": [
    "len(title_entities_list)"
   ]
  },
  {
   "cell_type": "code",
   "execution_count": 27,
   "metadata": {},
   "outputs": [
    {
     "data": {
      "text/plain": [
       "[('Donald Trump', 1467),\n",
       " ('National Football League', 460),\n",
       " ('United States', 393),\n",
       " ('New England Patriots', 377),\n",
       " ('Houston Astros', 336),\n",
       " ('California', 334),\n",
       " ('Republican Party (United States)', 284),\n",
       " ('Democratic Party (United States)', 268),\n",
       " ('Ukraine', 261),\n",
       " ('Florida', 260)]"
      ]
     },
     "execution_count": 27,
     "metadata": {},
     "output_type": "execute_result"
    }
   ],
   "source": [
    "Counter(title_entities_list).most_common(10)"
   ]
  },
  {
   "cell_type": "markdown",
   "metadata": {},
   "source": [
    "#### 요약"
   ]
  },
  {
   "cell_type": "code",
   "execution_count": 28,
   "metadata": {},
   "outputs": [
    {
     "data": {
      "text/plain": [
       "95309"
      ]
     },
     "execution_count": 28,
     "metadata": {},
     "output_type": "execute_result"
    }
   ],
   "source": [
    "len(abstract_entities_list)"
   ]
  },
  {
   "cell_type": "code",
   "execution_count": 29,
   "metadata": {},
   "outputs": [
    {
     "data": {
      "text/plain": [
       "[('Donald Trump', 1821),\n",
       " ('United States', 1102),\n",
       " ('National Football League', 697),\n",
       " ('California', 584),\n",
       " ('New England Patriots', 547),\n",
       " ('Democratic Party (United States)', 449),\n",
       " ('Republican Party (United States)', 432),\n",
       " ('Houston Astros', 412),\n",
       " ('Ukraine', 388),\n",
       " ('Florida', 382)]"
      ]
     },
     "execution_count": 29,
     "metadata": {},
     "output_type": "execute_result"
    }
   ],
   "source": [
    "Counter(abstract_entities_list).most_common(10)"
   ]
  },
  {
   "cell_type": "markdown",
   "metadata": {},
   "source": [
    "### 개체 유형(Type) 분석 "
   ]
  },
  {
   "cell_type": "markdown",
   "metadata": {},
   "source": [
    "- P\tPerson\t인물 \n",
    "- O\tOrganization\t\n",
    "- G\tGeographical Location\t지리적 위치\n",
    "- C\tConcept\t개념 \n",
    "- U\tUnknown\t알 수 없는 개체\n",
    "- N\tNumber\t숫자\n",
    "- F\tFacility\t시설/건물 \n",
    "- W\tWork of Art\t예술 작품 \n",
    "- S\tSoftware\t소프트웨어 \n",
    "- E\tEvent\t이벤트 \n",
    "- M\tMedical Condition\t의학적 상태 \n",
    "- H\tHotel\t호텔 \n",
    "- B\tBiological Entity\t생물학적 개체 \n",
    "- L\tLaw\t법률 \n",
    "- V\tVideo Game\t비디오 게임 \n",
    "- J\tJournalistic Source\t저널리즘 출처 \n",
    "- K\tPark\t공원 \n",
    "- Y\tAward\t상/수상 \n",
    "- R\tRoad\t도로\n",
    "- Q\tCurrency   화폐 \n",
    "- I\tInstrument\t악기 \n",
    "- A\tAircraft\t항공기\n"
   ]
  },
  {
   "cell_type": "code",
   "execution_count": 30,
   "metadata": {},
   "outputs": [],
   "source": [
    "def extract_entity_types(entity_column):\n",
    "    entity_types = []\n",
    "    for entity_list in entity_column.dropna():\n",
    "        try:\n",
    "            parsed_entities = json.loads(entity_list)\n",
    "            entity_types.extend([ent[\"Type\"] for ent in parsed_entities])\n",
    "        except json.JSONDecodeError:\n",
    "            continue\n",
    "    return entity_types"
   ]
  },
  {
   "cell_type": "code",
   "execution_count": 31,
   "metadata": {},
   "outputs": [],
   "source": [
    "title_entity_types = extract_entity_types(news_df['title_entities'])\n",
    "abstract_entity_types = extract_entity_types(news_df['abstract_entities'])\n",
    "\n",
    "title_entity_types_counts=Counter(title_entity_types)\n",
    "abstract_entity_types_counts=Counter(abstract_entity_types)"
   ]
  },
  {
   "cell_type": "code",
   "execution_count": 32,
   "metadata": {},
   "outputs": [
    {
     "data": {
      "text/plain": [
       "Counter({'O': 14749,\n",
       "         'P': 14520,\n",
       "         'G': 11996,\n",
       "         'U': 3594,\n",
       "         'C': 3105,\n",
       "         'N': 1649,\n",
       "         'F': 1562,\n",
       "         'W': 898,\n",
       "         'S': 809,\n",
       "         'E': 674,\n",
       "         'M': 594,\n",
       "         'H': 503,\n",
       "         'B': 500,\n",
       "         'L': 474,\n",
       "         'V': 462,\n",
       "         'J': 279,\n",
       "         'K': 155,\n",
       "         'Y': 110,\n",
       "         'R': 75,\n",
       "         'Q': 18,\n",
       "         'I': 18,\n",
       "         'A': 17})"
      ]
     },
     "execution_count": 32,
     "metadata": {},
     "output_type": "execute_result"
    }
   ],
   "source": [
    "Counter(title_entity_types)"
   ]
  },
  {
   "cell_type": "code",
   "execution_count": 47,
   "metadata": {},
   "outputs": [
    {
     "data": {
      "text/plain": [
       "Counter({'G': 24562,\n",
       "         'O': 22900,\n",
       "         'P': 19546,\n",
       "         'U': 6249,\n",
       "         'C': 3385,\n",
       "         'M': 3264,\n",
       "         'F': 3188,\n",
       "         'N': 2871,\n",
       "         'S': 2352,\n",
       "         'W': 1403,\n",
       "         'E': 1035,\n",
       "         'L': 1028,\n",
       "         'B': 957,\n",
       "         'H': 626,\n",
       "         'K': 624,\n",
       "         'V': 519,\n",
       "         'J': 369,\n",
       "         'Y': 219,\n",
       "         'R': 113,\n",
       "         'Q': 42,\n",
       "         'A': 34,\n",
       "         'I': 23})"
      ]
     },
     "execution_count": 47,
     "metadata": {},
     "output_type": "execute_result"
    }
   ],
   "source": [
    "Counter(abstract_entity_types)"
   ]
  },
  {
   "cell_type": "code",
   "execution_count": 48,
   "metadata": {},
   "outputs": [
    {
     "data": {
      "text/html": [
       "<div>\n",
       "<style scoped>\n",
       "    .dataframe tbody tr th:only-of-type {\n",
       "        vertical-align: middle;\n",
       "    }\n",
       "\n",
       "    .dataframe tbody tr th {\n",
       "        vertical-align: top;\n",
       "    }\n",
       "\n",
       "    .dataframe thead th {\n",
       "        text-align: right;\n",
       "    }\n",
       "</style>\n",
       "<table border=\"1\" class=\"dataframe\">\n",
       "  <thead>\n",
       "    <tr style=\"text-align: right;\">\n",
       "      <th></th>\n",
       "      <th>Entity Type</th>\n",
       "      <th>Count</th>\n",
       "    </tr>\n",
       "  </thead>\n",
       "  <tbody>\n",
       "    <tr>\n",
       "      <th>0</th>\n",
       "      <td>P</td>\n",
       "      <td>14520</td>\n",
       "    </tr>\n",
       "    <tr>\n",
       "      <th>1</th>\n",
       "      <td>C</td>\n",
       "      <td>3105</td>\n",
       "    </tr>\n",
       "    <tr>\n",
       "      <th>2</th>\n",
       "      <td>O</td>\n",
       "      <td>14749</td>\n",
       "    </tr>\n",
       "  </tbody>\n",
       "</table>\n",
       "</div>"
      ],
      "text/plain": [
       "  Entity Type  Count\n",
       "0           P  14520\n",
       "1           C   3105\n",
       "2           O  14749"
      ]
     },
     "execution_count": 48,
     "metadata": {},
     "output_type": "execute_result"
    }
   ],
   "source": [
    "entity_type_df = pd.DataFrame({\n",
    "    \"Entity Type\": list(title_entity_types_counts.keys()),\n",
    "    \"Count\": list(title_entity_types_counts.values())\n",
    "})\n",
    "entity_type_df.head(3)"
   ]
  },
  {
   "cell_type": "code",
   "execution_count": 49,
   "metadata": {},
   "outputs": [
    {
     "data": {
      "image/png": "[encoded data removed]",
      "text/plain": [
       "<Figure size 500x300 with 1 Axes>"
      ]
     },
     "metadata": {},
     "output_type": "display_data"
    }
   ],
   "source": [
    "plt.figure(figsize=(5, 3))\n",
    "sns.barplot(x=sorted(title_entity_types_counts, key=title_entity_types_counts.get, reverse=True), \n",
    "            y=sorted(title_entity_types_counts.values(), reverse=True))\n",
    "plt.xlabel(\"Entity Type\")\n",
    "plt.ylabel(\"Count\")\n",
    "plt.title(\"title Entity type 분포\")\n",
    "plt.show()"
   ]
  },
  {
   "cell_type": "code",
   "execution_count": 50,
   "metadata": {},
   "outputs": [
    {
     "data": {
      "image/png": "[encoded data removed]",
      "text/plain": [
       "<Figure size 500x300 with 1 Axes>"
      ]
     },
     "metadata": {},
     "output_type": "display_data"
    }
   ],
   "source": [
    "plt.figure(figsize=(5, 3))\n",
    "sns.barplot(x=sorted(abstract_entity_types_counts, key=abstract_entity_types_counts.get, reverse=True), \n",
    "            y=sorted(abstract_entity_types_counts.values(), reverse=True))\n",
    "plt.xlabel(\"Entity Type\")\n",
    "plt.ylabel(\"Count\")\n",
    "plt.title(\"abstract Entity type 분포\")\n",
    "plt.show()"
   ]
  },
  {
   "cell_type": "code",
   "execution_count": 51,
   "metadata": {},
   "outputs": [],
   "source": [
    "news_df['title_entity_count'] = news_df['title_entities'].apply(lambda x: len(json.loads(x)) if pd.notna(x) else 0)\n",
    "news_df['abstract_entity_count'] = news_df['abstract_entities'].apply(lambda x: len(json.loads(x)) if pd.notna(x) else 0)\n"
   ]
  },
  {
   "cell_type": "code",
   "execution_count": 57,
   "metadata": {},
   "outputs": [
    {
     "data": {
      "image/png": "[encoded data removed]",
      "text/plain": [
       "<Figure size 800x500 with 1 Axes>"
      ]
     },
     "metadata": {},
     "output_type": "display_data"
    }
   ],
   "source": [
    "# ppt 용\n",
    "\n",
    "sorted_labels = sorted(title_entity_types_counts, key=title_entity_types_counts.get, reverse=True)\n",
    "title_counts = [title_entity_types_counts.get(label, 0) for label in sorted_labels]\n",
    "abstract_counts = [abstract_entity_types_counts.get(label, 0) for label in sorted_labels]\n",
    "\n",
    "\n",
    "y = np.arange(len(sorted_labels))\n",
    "width = 0.4 \n",
    "plt.figure(figsize=(8, 5))\n",
    "plt.barh(y - width/2, title_counts, height=width, color=\"skyblue\", label=\"Title Entities\")\n",
    "plt.barh(y + width/2, abstract_counts, height=width, color=\"salmon\", label=\"Abstract Entities\")\n",
    "plt.yticks(y, sorted_labels)  \n",
    "plt.xlabel(\"Count\")\n",
    "plt.ylabel(\"Entity Type\")\n",
    "plt.title(\"Title vs Abstract Entity Type Distribution (Sorted by Title)\")\n",
    "plt.legend()\n",
    "plt.gca().invert_yaxis()  \n",
    "plt.show()\n"
   ]
  },
  {
   "cell_type": "code",
   "execution_count": 39,
   "metadata": {},
   "outputs": [
    {
     "data": {
      "text/html": [
       "<div>\n",
       "<style scoped>\n",
       "    .dataframe tbody tr th:only-of-type {\n",
       "        vertical-align: middle;\n",
       "    }\n",
       "\n",
       "    .dataframe tbody tr th {\n",
       "        vertical-align: top;\n",
       "    }\n",
       "\n",
       "    .dataframe thead th {\n",
       "        text-align: right;\n",
       "    }\n",
       "</style>\n",
       "<table border=\"1\" class=\"dataframe\">\n",
       "  <thead>\n",
       "    <tr style=\"text-align: right;\">\n",
       "      <th></th>\n",
       "      <th>title_entity_count</th>\n",
       "      <th>abstract_entity_count</th>\n",
       "    </tr>\n",
       "  </thead>\n",
       "  <tbody>\n",
       "    <tr>\n",
       "      <th>count</th>\n",
       "      <td>48612.000000</td>\n",
       "      <td>48612.000000</td>\n",
       "    </tr>\n",
       "    <tr>\n",
       "      <th>mean</th>\n",
       "      <td>1.167634</td>\n",
       "      <td>1.960606</td>\n",
       "    </tr>\n",
       "    <tr>\n",
       "      <th>std</th>\n",
       "      <td>0.977593</td>\n",
       "      <td>1.817831</td>\n",
       "    </tr>\n",
       "    <tr>\n",
       "      <th>min</th>\n",
       "      <td>0.000000</td>\n",
       "      <td>0.000000</td>\n",
       "    </tr>\n",
       "    <tr>\n",
       "      <th>25%</th>\n",
       "      <td>0.000000</td>\n",
       "      <td>1.000000</td>\n",
       "    </tr>\n",
       "    <tr>\n",
       "      <th>50%</th>\n",
       "      <td>1.000000</td>\n",
       "      <td>2.000000</td>\n",
       "    </tr>\n",
       "    <tr>\n",
       "      <th>75%</th>\n",
       "      <td>2.000000</td>\n",
       "      <td>3.000000</td>\n",
       "    </tr>\n",
       "    <tr>\n",
       "      <th>max</th>\n",
       "      <td>8.000000</td>\n",
       "      <td>30.000000</td>\n",
       "    </tr>\n",
       "  </tbody>\n",
       "</table>\n",
       "</div>"
      ],
      "text/plain": [
       "       title_entity_count  abstract_entity_count\n",
       "count        48612.000000           48612.000000\n",
       "mean             1.167634               1.960606\n",
       "std              0.977593               1.817831\n",
       "min              0.000000               0.000000\n",
       "25%              0.000000               1.000000\n",
       "50%              1.000000               2.000000\n",
       "75%              2.000000               3.000000\n",
       "max              8.000000              30.000000"
      ]
     },
     "execution_count": 39,
     "metadata": {},
     "output_type": "execute_result"
    }
   ],
   "source": [
    "entity_count_summary = news_df[['title_entity_count', 'abstract_entity_count']].describe()\n",
    "entity_count_summary"
   ]
  },
  {
   "cell_type": "code",
   "execution_count": 40,
   "metadata": {},
   "outputs": [],
   "source": [
    "impression_df=pd.read_csv('./Data/impressions.csv')"
   ]
  },
  {
   "cell_type": "code",
   "execution_count": 41,
   "metadata": {},
   "outputs": [
    {
     "data": {
      "text/html": [
       "<div>\n",
       "<style scoped>\n",
       "    .dataframe tbody tr th:only-of-type {\n",
       "        vertical-align: middle;\n",
       "    }\n",
       "\n",
       "    .dataframe tbody tr th {\n",
       "        vertical-align: top;\n",
       "    }\n",
       "\n",
       "    .dataframe thead th {\n",
       "        text-align: right;\n",
       "    }\n",
       "</style>\n",
       "<table border=\"1\" class=\"dataframe\">\n",
       "  <thead>\n",
       "    <tr style=\"text-align: right;\">\n",
       "      <th></th>\n",
       "      <th>user_id</th>\n",
       "      <th>news_id</th>\n",
       "      <th>clicked</th>\n",
       "    </tr>\n",
       "  </thead>\n",
       "  <tbody>\n",
       "    <tr>\n",
       "      <th>0</th>\n",
       "      <td>U13740</td>\n",
       "      <td>N55689</td>\n",
       "      <td>1</td>\n",
       "    </tr>\n",
       "    <tr>\n",
       "      <th>1</th>\n",
       "      <td>U13740</td>\n",
       "      <td>N35729</td>\n",
       "      <td>0</td>\n",
       "    </tr>\n",
       "    <tr>\n",
       "      <th>2</th>\n",
       "      <td>U91836</td>\n",
       "      <td>N20678</td>\n",
       "      <td>0</td>\n",
       "    </tr>\n",
       "    <tr>\n",
       "      <th>3</th>\n",
       "      <td>U91836</td>\n",
       "      <td>N39317</td>\n",
       "      <td>0</td>\n",
       "    </tr>\n",
       "    <tr>\n",
       "      <th>4</th>\n",
       "      <td>U91836</td>\n",
       "      <td>N58114</td>\n",
       "      <td>0</td>\n",
       "    </tr>\n",
       "  </tbody>\n",
       "</table>\n",
       "</div>"
      ],
      "text/plain": [
       "  user_id news_id  clicked\n",
       "0  U13740  N55689        1\n",
       "1  U13740  N35729        0\n",
       "2  U91836  N20678        0\n",
       "3  U91836  N39317        0\n",
       "4  U91836  N58114        0"
      ]
     },
     "execution_count": 41,
     "metadata": {},
     "output_type": "execute_result"
    }
   ],
   "source": [
    "impression_df.head()"
   ]
  },
  {
   "cell_type": "code",
   "execution_count": 42,
   "metadata": {},
   "outputs": [
    {
     "data": {
      "text/plain": [
       "news_id                  0\n",
       "category                 0\n",
       "subcategory              0\n",
       "title                    0\n",
       "abstract                 0\n",
       "title_entities           0\n",
       "abstract_entities        0\n",
       "title_length             0\n",
       "abstract_length          0\n",
       "title_word_count         0\n",
       "abstract_word_count      0\n",
       "title_entity_count       0\n",
       "abstract_entity_count    0\n",
       "dtype: int64"
      ]
     },
     "execution_count": 42,
     "metadata": {},
     "output_type": "execute_result"
    }
   ],
   "source": [
    "news_df.isna().sum()"
   ]
  },
  {
   "cell_type": "markdown",
   "metadata": {},
   "source": [
    "# Impression + News Data EDA"
   ]
  },
  {
   "cell_type": "markdown",
   "metadata": {},
   "source": [
    "- 사용자에게 노출 되었는데 클릭을 하고 안하고에 대한 데이터\n",
    "- 노출이 된 뉴스들 중 클릭된 뉴스와 클린이 안된 뉴스의 차이점 파악"
   ]
  },
  {
   "cell_type": "code",
   "execution_count": 43,
   "metadata": {},
   "outputs": [
    {
     "data": {
      "text/html": [
       "<div>\n",
       "<style scoped>\n",
       "    .dataframe tbody tr th:only-of-type {\n",
       "        vertical-align: middle;\n",
       "    }\n",
       "\n",
       "    .dataframe tbody tr th {\n",
       "        vertical-align: top;\n",
       "    }\n",
       "\n",
       "    .dataframe thead th {\n",
       "        text-align: right;\n",
       "    }\n",
       "</style>\n",
       "<table border=\"1\" class=\"dataframe\">\n",
       "  <thead>\n",
       "    <tr style=\"text-align: right;\">\n",
       "      <th></th>\n",
       "      <th>impression_id</th>\n",
       "      <th>user_id</th>\n",
       "      <th>time</th>\n",
       "      <th>history</th>\n",
       "      <th>impressions</th>\n",
       "    </tr>\n",
       "  </thead>\n",
       "  <tbody>\n",
       "    <tr>\n",
       "      <th>0</th>\n",
       "      <td>1</td>\n",
       "      <td>U13740</td>\n",
       "      <td>11/11/2019 9:05:58 AM</td>\n",
       "      <td>N55189 N42782 N34694 N45794 N18445 N63302 N10414 N19347 N31801</td>\n",
       "      <td>N55689-1 N35729-0</td>\n",
       "    </tr>\n",
       "    <tr>\n",
       "      <th>1</th>\n",
       "      <td>2</td>\n",
       "      <td>U91836</td>\n",
       "      <td>11/12/2019 6:11:30 PM</td>\n",
       "      <td>N31739 N6072 N63045 N23979 N35656 N43353 N8129 N1569 N17686 N13008 N21623 N6233 N14340 N48031 N62285 N44383 N23061 N16290 N6244 N45099 N58715 N59049 N7023 N50528 N42704 N46082 N8275 N15710 N59026 N8429 N30867 N56514 N19709 N31402 N31741 N54889 N9798 N62612 N2663 N16617 N6087 N13231 N63317 N61388 N59359 N51163 N30698 N34567 N54225 N32852 N55833 N64467 N3142 N13912 N29802 N44462 N29948 N4486 N5398 N14761 N47020 N65112 N31699 N37159 N61101 N14761 N3433 N10438 N61355 N21164 N22976 N2511 N48390 N58224 N48742 N35458 N24611 N37509 N21773 N41011 N19041 N25785</td>\n",
       "      <td>N20678-0 N39317-0 N58114-0 N20495-0 N42977-0 N22407-0 N14592-0 N17059-1 N33677-0 N7821-0 N6890-0</td>\n",
       "    </tr>\n",
       "  </tbody>\n",
       "</table>\n",
       "</div>"
      ],
      "text/plain": [
       "   impression_id user_id                   time  \\\n",
       "0              1  U13740  11/11/2019 9:05:58 AM   \n",
       "1              2  U91836  11/12/2019 6:11:30 PM   \n",
       "\n",
       "                                                                                                                                                                                                                                                                                                                                                                                                                                                                                                                                                                         history  \\\n",
       "0                                                                                                                                                                                                                                                                                                                                                                                                                                                                                                                 N55189 N42782 N34694 N45794 N18445 N63302 N10414 N19347 N31801   \n",
       "1  N31739 N6072 N63045 N23979 N35656 N43353 N8129 N1569 N17686 N13008 N21623 N6233 N14340 N48031 N62285 N44383 N23061 N16290 N6244 N45099 N58715 N59049 N7023 N50528 N42704 N46082 N8275 N15710 N59026 N8429 N30867 N56514 N19709 N31402 N31741 N54889 N9798 N62612 N2663 N16617 N6087 N13231 N63317 N61388 N59359 N51163 N30698 N34567 N54225 N32852 N55833 N64467 N3142 N13912 N29802 N44462 N29948 N4486 N5398 N14761 N47020 N65112 N31699 N37159 N61101 N14761 N3433 N10438 N61355 N21164 N22976 N2511 N48390 N58224 N48742 N35458 N24611 N37509 N21773 N41011 N19041 N25785   \n",
       "\n",
       "                                                                                        impressions  \n",
       "0                                                                                 N55689-1 N35729-0  \n",
       "1  N20678-0 N39317-0 N58114-0 N20495-0 N42977-0 N22407-0 N14592-0 N17059-1 N33677-0 N7821-0 N6890-0  "
      ]
     },
     "execution_count": 43,
     "metadata": {},
     "output_type": "execute_result"
    }
   ],
   "source": [
    "behavior_df=pd.read_csv('./Data/behaviors.csv')  \n",
    "behavior_df.head(2)"
   ]
  },
  {
   "cell_type": "code",
   "execution_count": 44,
   "metadata": {},
   "outputs": [
    {
     "data": {
      "text/html": [
       "<div>\n",
       "<style scoped>\n",
       "    .dataframe tbody tr th:only-of-type {\n",
       "        vertical-align: middle;\n",
       "    }\n",
       "\n",
       "    .dataframe tbody tr th {\n",
       "        vertical-align: top;\n",
       "    }\n",
       "\n",
       "    .dataframe thead th {\n",
       "        text-align: right;\n",
       "    }\n",
       "</style>\n",
       "<table border=\"1\" class=\"dataframe\">\n",
       "  <thead>\n",
       "    <tr style=\"text-align: right;\">\n",
       "      <th></th>\n",
       "      <th>user_id</th>\n",
       "      <th>news_id</th>\n",
       "      <th>clicked</th>\n",
       "    </tr>\n",
       "  </thead>\n",
       "  <tbody>\n",
       "    <tr>\n",
       "      <th>0</th>\n",
       "      <td>U13740</td>\n",
       "      <td>N55689</td>\n",
       "      <td>1</td>\n",
       "    </tr>\n",
       "    <tr>\n",
       "      <th>1</th>\n",
       "      <td>U13740</td>\n",
       "      <td>N35729</td>\n",
       "      <td>0</td>\n",
       "    </tr>\n",
       "  </tbody>\n",
       "</table>\n",
       "</div>"
      ],
      "text/plain": [
       "  user_id news_id  clicked\n",
       "0  U13740  N55689        1\n",
       "1  U13740  N35729        0"
      ]
     },
     "execution_count": 44,
     "metadata": {},
     "output_type": "execute_result"
    }
   ],
   "source": [
    "impression_df=pd.read_csv('./Data/impressions.csv') \n",
    "impression_df.head(2)   "
   ]
  },
  {
   "cell_type": "code",
   "execution_count": 45,
   "metadata": {},
   "outputs": [
    {
     "data": {
      "text/plain": [
       "(5843444, 3)"
      ]
     },
     "execution_count": 45,
     "metadata": {},
     "output_type": "execute_result"
    }
   ],
   "source": [
    "impression_df.shape"
   ]
  },
  {
   "cell_type": "code",
   "execution_count": 46,
   "metadata": {},
   "outputs": [
    {
     "data": {
      "text/plain": [
       "(48612, 13)"
      ]
     },
     "execution_count": 46,
     "metadata": {},
     "output_type": "execute_result"
    }
   ],
   "source": [
    "news_df.shape"
   ]
  },
  {
   "cell_type": "code",
   "execution_count": 47,
   "metadata": {},
   "outputs": [
    {
     "data": {
      "text/plain": [
       "user_id    0\n",
       "news_id    0\n",
       "clicked    0\n",
       "dtype: int64"
      ]
     },
     "execution_count": 47,
     "metadata": {},
     "output_type": "execute_result"
    }
   ],
   "source": [
    "impression_df.isna().sum()"
   ]
  },
  {
   "cell_type": "code",
   "execution_count": 48,
   "metadata": {},
   "outputs": [
    {
     "data": {
      "text/html": [
       "<div>\n",
       "<style scoped>\n",
       "    .dataframe tbody tr th:only-of-type {\n",
       "        vertical-align: middle;\n",
       "    }\n",
       "\n",
       "    .dataframe tbody tr th {\n",
       "        vertical-align: top;\n",
       "    }\n",
       "\n",
       "    .dataframe thead th {\n",
       "        text-align: right;\n",
       "    }\n",
       "</style>\n",
       "<table border=\"1\" class=\"dataframe\">\n",
       "  <thead>\n",
       "    <tr style=\"text-align: right;\">\n",
       "      <th></th>\n",
       "      <th>user_id</th>\n",
       "      <th>news_id</th>\n",
       "      <th>clicked</th>\n",
       "      <th>category</th>\n",
       "      <th>subcategory</th>\n",
       "      <th>title</th>\n",
       "      <th>abstract</th>\n",
       "      <th>title_entities</th>\n",
       "      <th>abstract_entities</th>\n",
       "      <th>title_length</th>\n",
       "      <th>abstract_length</th>\n",
       "      <th>title_word_count</th>\n",
       "      <th>abstract_word_count</th>\n",
       "      <th>title_entity_count</th>\n",
       "      <th>abstract_entity_count</th>\n",
       "    </tr>\n",
       "  </thead>\n",
       "  <tbody>\n",
       "    <tr>\n",
       "      <th>0</th>\n",
       "      <td>U13740</td>\n",
       "      <td>N55689</td>\n",
       "      <td>1</td>\n",
       "      <td>sports</td>\n",
       "      <td>football_nfl</td>\n",
       "      <td>charles rogers former michigan state football detroit lions star dead 38</td>\n",
       "      <td>charles rogers former michigan state football star the detroit lions selected the second overall pick 2003 nfl draft died</td>\n",
       "      <td>[{\"Label\": \"Charles Rogers (American football)\", \"Type\": \"P\", \"WikidataId\": \"Q5082150\", \"Confidence\": 0.999, \"OccurrenceOffsets\": [0], \"SurfaceForms\": [\"Charles Rogers\"]}, {\"Label\": \"Detroit Lions\", \"Type\": \"O\", \"WikidataId\": \"Q271880\", \"Confidence\": 1.0, \"OccurrenceOffsets\": [48], \"SurfaceForms\": [\"Detroit Lions\"]}]</td>\n",
       "      <td>[{\"Label\": \"2003 NFL Draft\", \"Type\": \"U\", \"WikidataId\": \"Q3714946\", \"Confidence\": 1.0, \"OccurrenceOffsets\": [120], \"SurfaceForms\": [\"2003 NFL\"]}, {\"Label\": \"Charles Rogers (American football)\", \"Type\": \"P\", \"WikidataId\": \"Q5082150\", \"Confidence\": 0.999, \"OccurrenceOffsets\": [0], \"SurfaceForms\": [\"Charles Rogers\"]}, {\"Label\": \"Detroit Lions\", \"Type\": \"O\", \"WikidataId\": \"Q271880\", \"Confidence\": 1.0, \"OccurrenceOffsets\": [65], \"SurfaceForms\": [\"Detroit Lions\"]}]</td>\n",
       "      <td>72.0</td>\n",
       "      <td>121.0</td>\n",
       "      <td>11.0</td>\n",
       "      <td>19.0</td>\n",
       "      <td>2.0</td>\n",
       "      <td>3.0</td>\n",
       "    </tr>\n",
       "    <tr>\n",
       "      <th>1</th>\n",
       "      <td>U13740</td>\n",
       "      <td>N35729</td>\n",
       "      <td>0</td>\n",
       "      <td>news</td>\n",
       "      <td>newsus</td>\n",
       "      <td>porsche launches second story new jersey building killing 2</td>\n",
       "      <td>porsche went airborne a median toms river causing to crash a red brick building</td>\n",
       "      <td>[{\"Label\": \"Porsche\", \"Type\": \"O\", \"WikidataId\": \"Q40993\", \"Confidence\": 0.999, \"OccurrenceOffsets\": [0], \"SurfaceForms\": [\"Porsche\"]}, {\"Label\": \"New Jersey\", \"Type\": \"G\", \"WikidataId\": \"Q1408\", \"Confidence\": 0.992, \"OccurrenceOffsets\": [38], \"SurfaceForms\": [\"New Jersey\"]}]</td>\n",
       "      <td>[{\"Label\": \"Porsche\", \"Type\": \"O\", \"WikidataId\": \"Q40993\", \"Confidence\": 0.999, \"OccurrenceOffsets\": [0], \"SurfaceForms\": [\"The Porsche\"]}, {\"Label\": \"Toms River\", \"Type\": \"L\", \"WikidataId\": \"Q7820393\", \"Confidence\": 1.0, \"OccurrenceOffsets\": [42], \"SurfaceForms\": [\"Toms River\"]}]</td>\n",
       "      <td>59.0</td>\n",
       "      <td>79.0</td>\n",
       "      <td>9.0</td>\n",
       "      <td>14.0</td>\n",
       "      <td>2.0</td>\n",
       "      <td>2.0</td>\n",
       "    </tr>\n",
       "    <tr>\n",
       "      <th>2</th>\n",
       "      <td>U91836</td>\n",
       "      <td>N20678</td>\n",
       "      <td>0</td>\n",
       "      <td>sports</td>\n",
       "      <td>more_sports</td>\n",
       "      <td>bode miller delivered twin boys midwife didnt make time the birth</td>\n",
       "      <td>bode miller added yet another impressive title his list accomplishments friday</td>\n",
       "      <td>[{\"Label\": \"Bode Miller\", \"Type\": \"P\", \"WikidataId\": \"Q2129\", \"Confidence\": 1.0, \"OccurrenceOffsets\": [0], \"SurfaceForms\": [\"Bode Miller\"]}]</td>\n",
       "      <td>[{\"Label\": \"Bode Miller\", \"Type\": \"P\", \"WikidataId\": \"Q2129\", \"Confidence\": 1.0, \"OccurrenceOffsets\": [0], \"SurfaceForms\": [\"Bode Miller\"]}]</td>\n",
       "      <td>65.0</td>\n",
       "      <td>78.0</td>\n",
       "      <td>11.0</td>\n",
       "      <td>11.0</td>\n",
       "      <td>1.0</td>\n",
       "      <td>1.0</td>\n",
       "    </tr>\n",
       "    <tr>\n",
       "      <th>3</th>\n",
       "      <td>U91836</td>\n",
       "      <td>N39317</td>\n",
       "      <td>0</td>\n",
       "      <td>news</td>\n",
       "      <td>newspolitics</td>\n",
       "      <td>senior trump official embellished résumé face fake time cover</td>\n",
       "      <td>state dept official mina chang claimed be harvard business school alumna ran nonprofit worked 40 countries</td>\n",
       "      <td>[{\"Label\": \"Donald Trump\", \"Type\": \"P\", \"WikidataId\": \"Q22686\", \"Confidence\": 0.983, \"OccurrenceOffsets\": [7], \"SurfaceForms\": [\"Trump\"]}]</td>\n",
       "      <td>[{\"Label\": \"Harvard Business School\", \"Type\": \"O\", \"WikidataId\": \"Q49126\", \"Confidence\": 1.0, \"OccurrenceOffsets\": [48], \"SurfaceForms\": [\"Harvard Business School\"]}, {\"Label\": \"United States Department of State\", \"Type\": \"O\", \"WikidataId\": \"Q789915\", \"Confidence\": 1.0, \"OccurrenceOffsets\": [0], \"SurfaceForms\": [\"State Dept\"]}]</td>\n",
       "      <td>61.0</td>\n",
       "      <td>106.0</td>\n",
       "      <td>9.0</td>\n",
       "      <td>16.0</td>\n",
       "      <td>1.0</td>\n",
       "      <td>2.0</td>\n",
       "    </tr>\n",
       "    <tr>\n",
       "      <th>4</th>\n",
       "      <td>U91836</td>\n",
       "      <td>N58114</td>\n",
       "      <td>0</td>\n",
       "      <td>NaN</td>\n",
       "      <td>NaN</td>\n",
       "      <td>NaN</td>\n",
       "      <td>NaN</td>\n",
       "      <td>NaN</td>\n",
       "      <td>NaN</td>\n",
       "      <td>NaN</td>\n",
       "      <td>NaN</td>\n",
       "      <td>NaN</td>\n",
       "      <td>NaN</td>\n",
       "      <td>NaN</td>\n",
       "      <td>NaN</td>\n",
       "    </tr>\n",
       "  </tbody>\n",
       "</table>\n",
       "</div>"
      ],
      "text/plain": [
       "  user_id news_id  clicked category   subcategory  \\\n",
       "0  U13740  N55689        1   sports  football_nfl   \n",
       "1  U13740  N35729        0     news        newsus   \n",
       "2  U91836  N20678        0   sports   more_sports   \n",
       "3  U91836  N39317        0     news  newspolitics   \n",
       "4  U91836  N58114        0      NaN           NaN   \n",
       "\n",
       "                                                                      title  \\\n",
       "0  charles rogers former michigan state football detroit lions star dead 38   \n",
       "1               porsche launches second story new jersey building killing 2   \n",
       "2         bode miller delivered twin boys midwife didnt make time the birth   \n",
       "3             senior trump official embellished résumé face fake time cover   \n",
       "4                                                                       NaN   \n",
       "\n",
       "                                                                                                                    abstract  \\\n",
       "0  charles rogers former michigan state football star the detroit lions selected the second overall pick 2003 nfl draft died   \n",
       "1                                            porsche went airborne a median toms river causing to crash a red brick building   \n",
       "2                                             bode miller added yet another impressive title his list accomplishments friday   \n",
       "3                 state dept official mina chang claimed be harvard business school alumna ran nonprofit worked 40 countries   \n",
       "4                                                                                                                        NaN   \n",
       "\n",
       "                                                                                                                                                                                                                                                                                                                   title_entities  \\\n",
       "0  [{\"Label\": \"Charles Rogers (American football)\", \"Type\": \"P\", \"WikidataId\": \"Q5082150\", \"Confidence\": 0.999, \"OccurrenceOffsets\": [0], \"SurfaceForms\": [\"Charles Rogers\"]}, {\"Label\": \"Detroit Lions\", \"Type\": \"O\", \"WikidataId\": \"Q271880\", \"Confidence\": 1.0, \"OccurrenceOffsets\": [48], \"SurfaceForms\": [\"Detroit Lions\"]}]   \n",
       "1                                            [{\"Label\": \"Porsche\", \"Type\": \"O\", \"WikidataId\": \"Q40993\", \"Confidence\": 0.999, \"OccurrenceOffsets\": [0], \"SurfaceForms\": [\"Porsche\"]}, {\"Label\": \"New Jersey\", \"Type\": \"G\", \"WikidataId\": \"Q1408\", \"Confidence\": 0.992, \"OccurrenceOffsets\": [38], \"SurfaceForms\": [\"New Jersey\"]}]   \n",
       "2                                                                                                                                                                                    [{\"Label\": \"Bode Miller\", \"Type\": \"P\", \"WikidataId\": \"Q2129\", \"Confidence\": 1.0, \"OccurrenceOffsets\": [0], \"SurfaceForms\": [\"Bode Miller\"]}]   \n",
       "3                                                                                                                                                                                      [{\"Label\": \"Donald Trump\", \"Type\": \"P\", \"WikidataId\": \"Q22686\", \"Confidence\": 0.983, \"OccurrenceOffsets\": [7], \"SurfaceForms\": [\"Trump\"]}]   \n",
       "4                                                                                                                                                                                                                                                                                                                             NaN   \n",
       "\n",
       "                                                                                                                                                                                                                                                                                                                                                                                                                                                                 abstract_entities  \\\n",
       "0  [{\"Label\": \"2003 NFL Draft\", \"Type\": \"U\", \"WikidataId\": \"Q3714946\", \"Confidence\": 1.0, \"OccurrenceOffsets\": [120], \"SurfaceForms\": [\"2003 NFL\"]}, {\"Label\": \"Charles Rogers (American football)\", \"Type\": \"P\", \"WikidataId\": \"Q5082150\", \"Confidence\": 0.999, \"OccurrenceOffsets\": [0], \"SurfaceForms\": [\"Charles Rogers\"]}, {\"Label\": \"Detroit Lions\", \"Type\": \"O\", \"WikidataId\": \"Q271880\", \"Confidence\": 1.0, \"OccurrenceOffsets\": [65], \"SurfaceForms\": [\"Detroit Lions\"]}]   \n",
       "1                                                                                                                                                                                        [{\"Label\": \"Porsche\", \"Type\": \"O\", \"WikidataId\": \"Q40993\", \"Confidence\": 0.999, \"OccurrenceOffsets\": [0], \"SurfaceForms\": [\"The Porsche\"]}, {\"Label\": \"Toms River\", \"Type\": \"L\", \"WikidataId\": \"Q7820393\", \"Confidence\": 1.0, \"OccurrenceOffsets\": [42], \"SurfaceForms\": [\"Toms River\"]}]   \n",
       "2                                                                                                                                                                                                                                                                                                                                     [{\"Label\": \"Bode Miller\", \"Type\": \"P\", \"WikidataId\": \"Q2129\", \"Confidence\": 1.0, \"OccurrenceOffsets\": [0], \"SurfaceForms\": [\"Bode Miller\"]}]   \n",
       "3                                                                                                                                        [{\"Label\": \"Harvard Business School\", \"Type\": \"O\", \"WikidataId\": \"Q49126\", \"Confidence\": 1.0, \"OccurrenceOffsets\": [48], \"SurfaceForms\": [\"Harvard Business School\"]}, {\"Label\": \"United States Department of State\", \"Type\": \"O\", \"WikidataId\": \"Q789915\", \"Confidence\": 1.0, \"OccurrenceOffsets\": [0], \"SurfaceForms\": [\"State Dept\"]}]   \n",
       "4                                                                                                                                                                                                                                                                                                                                                                                                                                                                              NaN   \n",
       "\n",
       "   title_length  abstract_length  title_word_count  abstract_word_count  \\\n",
       "0          72.0            121.0              11.0                 19.0   \n",
       "1          59.0             79.0               9.0                 14.0   \n",
       "2          65.0             78.0              11.0                 11.0   \n",
       "3          61.0            106.0               9.0                 16.0   \n",
       "4           NaN              NaN               NaN                  NaN   \n",
       "\n",
       "   title_entity_count  abstract_entity_count  \n",
       "0                 2.0                    3.0  \n",
       "1                 2.0                    2.0  \n",
       "2                 1.0                    1.0  \n",
       "3                 1.0                    2.0  \n",
       "4                 NaN                    NaN  "
      ]
     },
     "execution_count": 48,
     "metadata": {},
     "output_type": "execute_result"
    }
   ],
   "source": [
    "merged_df=pd.merge(impression_df,news_df,how='left',left_on='news_id',right_on='news_id')   \n",
    "merged_df.head()"
   ]
  },
  {
   "cell_type": "code",
   "execution_count": 49,
   "metadata": {},
   "outputs": [
    {
     "data": {
      "text/plain": [
       "(5843444, 15)"
      ]
     },
     "execution_count": 49,
     "metadata": {},
     "output_type": "execute_result"
    }
   ],
   "source": [
    "merged_df.shape"
   ]
  },
  {
   "cell_type": "code",
   "execution_count": 50,
   "metadata": {},
   "outputs": [
    {
     "data": {
      "text/plain": [
       "user_id                       0\n",
       "news_id                       0\n",
       "clicked                       0\n",
       "category                 246820\n",
       "subcategory              246820\n",
       "title                    246820\n",
       "abstract                 246820\n",
       "title_entities           246820\n",
       "abstract_entities        246820\n",
       "title_length             246820\n",
       "abstract_length          246820\n",
       "title_word_count         246820\n",
       "abstract_word_count      246820\n",
       "title_entity_count       246820\n",
       "abstract_entity_count    246820\n",
       "dtype: int64"
      ]
     },
     "execution_count": 50,
     "metadata": {},
     "output_type": "execute_result"
    }
   ],
   "source": [
    "merged_df.isna().sum()"
   ]
  },
  {
   "cell_type": "code",
   "execution_count": 51,
   "metadata": {},
   "outputs": [],
   "source": [
    "merged_df.dropna(axis=0,inplace=True)"
   ]
  },
  {
   "cell_type": "code",
   "execution_count": 52,
   "metadata": {},
   "outputs": [
    {
     "data": {
      "text/plain": [
       "(5596624, 15)"
      ]
     },
     "execution_count": 52,
     "metadata": {},
     "output_type": "execute_result"
    }
   ],
   "source": [
    "merged_df.shape"
   ]
  },
  {
   "cell_type": "code",
   "execution_count": 53,
   "metadata": {},
   "outputs": [
    {
     "name": "stdout",
     "output_type": "stream",
     "text": [
      "<class 'pandas.core.frame.DataFrame'>\n",
      "Index: 5596624 entries, 0 to 5843443\n",
      "Data columns (total 15 columns):\n",
      " #   Column                 Dtype  \n",
      "---  ------                 -----  \n",
      " 0   user_id                object \n",
      " 1   news_id                object \n",
      " 2   clicked                int64  \n",
      " 3   category               object \n",
      " 4   subcategory            object \n",
      " 5   title                  object \n",
      " 6   abstract               object \n",
      " 7   title_entities         object \n",
      " 8   abstract_entities      object \n",
      " 9   title_length           float64\n",
      " 10  abstract_length        float64\n",
      " 11  title_word_count       float64\n",
      " 12  abstract_word_count    float64\n",
      " 13  title_entity_count     float64\n",
      " 14  abstract_entity_count  float64\n",
      "dtypes: float64(6), int64(1), object(8)\n",
      "memory usage: 683.2+ MB\n"
     ]
    }
   ],
   "source": [
    "merged_df.info()"
   ]
  },
  {
   "cell_type": "code",
   "execution_count": 54,
   "metadata": {},
   "outputs": [
    {
     "data": {
      "text/html": [
       "<div>\n",
       "<style scoped>\n",
       "    .dataframe tbody tr th:only-of-type {\n",
       "        vertical-align: middle;\n",
       "    }\n",
       "\n",
       "    .dataframe tbody tr th {\n",
       "        vertical-align: top;\n",
       "    }\n",
       "\n",
       "    .dataframe thead th {\n",
       "        text-align: right;\n",
       "    }\n",
       "</style>\n",
       "<table border=\"1\" class=\"dataframe\">\n",
       "  <thead>\n",
       "    <tr style=\"text-align: right;\">\n",
       "      <th></th>\n",
       "      <th>clicked</th>\n",
       "      <th>title_length</th>\n",
       "      <th>abstract_length</th>\n",
       "      <th>title_word_count</th>\n",
       "      <th>abstract_word_count</th>\n",
       "      <th>title_entity_count</th>\n",
       "      <th>abstract_entity_count</th>\n",
       "    </tr>\n",
       "  </thead>\n",
       "  <tbody>\n",
       "    <tr>\n",
       "      <th>count</th>\n",
       "      <td>5.596624e+06</td>\n",
       "      <td>5.596624e+06</td>\n",
       "      <td>5.596624e+06</td>\n",
       "      <td>5.596624e+06</td>\n",
       "      <td>5.596624e+06</td>\n",
       "      <td>5.596624e+06</td>\n",
       "      <td>5.596624e+06</td>\n",
       "    </tr>\n",
       "    <tr>\n",
       "      <th>mean</th>\n",
       "      <td>4.043223e-02</td>\n",
       "      <td>5.445257e+01</td>\n",
       "      <td>1.242830e+02</td>\n",
       "      <td>8.362212e+00</td>\n",
       "      <td>1.874454e+01</td>\n",
       "      <td>9.649333e-01</td>\n",
       "      <td>1.547430e+00</td>\n",
       "    </tr>\n",
       "    <tr>\n",
       "      <th>std</th>\n",
       "      <td>1.969707e-01</td>\n",
       "      <td>1.752357e+01</td>\n",
       "      <td>9.292313e+01</td>\n",
       "      <td>2.545269e+00</td>\n",
       "      <td>1.368641e+01</td>\n",
       "      <td>9.359971e-01</td>\n",
       "      <td>1.738455e+00</td>\n",
       "    </tr>\n",
       "    <tr>\n",
       "      <th>min</th>\n",
       "      <td>0.000000e+00</td>\n",
       "      <td>7.000000e+00</td>\n",
       "      <td>0.000000e+00</td>\n",
       "      <td>2.000000e+00</td>\n",
       "      <td>0.000000e+00</td>\n",
       "      <td>0.000000e+00</td>\n",
       "      <td>0.000000e+00</td>\n",
       "    </tr>\n",
       "    <tr>\n",
       "      <th>25%</th>\n",
       "      <td>0.000000e+00</td>\n",
       "      <td>4.300000e+01</td>\n",
       "      <td>6.200000e+01</td>\n",
       "      <td>7.000000e+00</td>\n",
       "      <td>1.000000e+01</td>\n",
       "      <td>0.000000e+00</td>\n",
       "      <td>0.000000e+00</td>\n",
       "    </tr>\n",
       "    <tr>\n",
       "      <th>50%</th>\n",
       "      <td>0.000000e+00</td>\n",
       "      <td>5.300000e+01</td>\n",
       "      <td>1.000000e+02</td>\n",
       "      <td>8.000000e+00</td>\n",
       "      <td>1.500000e+01</td>\n",
       "      <td>1.000000e+00</td>\n",
       "      <td>1.000000e+00</td>\n",
       "    </tr>\n",
       "    <tr>\n",
       "      <th>75%</th>\n",
       "      <td>0.000000e+00</td>\n",
       "      <td>6.500000e+01</td>\n",
       "      <td>1.500000e+02</td>\n",
       "      <td>1.000000e+01</td>\n",
       "      <td>2.200000e+01</td>\n",
       "      <td>1.000000e+00</td>\n",
       "      <td>2.000000e+00</td>\n",
       "    </tr>\n",
       "    <tr>\n",
       "      <th>max</th>\n",
       "      <td>1.000000e+00</td>\n",
       "      <td>1.740000e+02</td>\n",
       "      <td>1.892000e+03</td>\n",
       "      <td>2.500000e+01</td>\n",
       "      <td>2.870000e+02</td>\n",
       "      <td>7.000000e+00</td>\n",
       "      <td>3.000000e+01</td>\n",
       "    </tr>\n",
       "  </tbody>\n",
       "</table>\n",
       "</div>"
      ],
      "text/plain": [
       "            clicked  title_length  abstract_length  title_word_count  \\\n",
       "count  5.596624e+06  5.596624e+06     5.596624e+06      5.596624e+06   \n",
       "mean   4.043223e-02  5.445257e+01     1.242830e+02      8.362212e+00   \n",
       "std    1.969707e-01  1.752357e+01     9.292313e+01      2.545269e+00   \n",
       "min    0.000000e+00  7.000000e+00     0.000000e+00      2.000000e+00   \n",
       "25%    0.000000e+00  4.300000e+01     6.200000e+01      7.000000e+00   \n",
       "50%    0.000000e+00  5.300000e+01     1.000000e+02      8.000000e+00   \n",
       "75%    0.000000e+00  6.500000e+01     1.500000e+02      1.000000e+01   \n",
       "max    1.000000e+00  1.740000e+02     1.892000e+03      2.500000e+01   \n",
       "\n",
       "       abstract_word_count  title_entity_count  abstract_entity_count  \n",
       "count         5.596624e+06        5.596624e+06           5.596624e+06  \n",
       "mean          1.874454e+01        9.649333e-01           1.547430e+00  \n",
       "std           1.368641e+01        9.359971e-01           1.738455e+00  \n",
       "min           0.000000e+00        0.000000e+00           0.000000e+00  \n",
       "25%           1.000000e+01        0.000000e+00           0.000000e+00  \n",
       "50%           1.500000e+01        1.000000e+00           1.000000e+00  \n",
       "75%           2.200000e+01        1.000000e+00           2.000000e+00  \n",
       "max           2.870000e+02        7.000000e+00           3.000000e+01  "
      ]
     },
     "execution_count": 54,
     "metadata": {},
     "output_type": "execute_result"
    }
   ],
   "source": [
    "merged_df.describe()"
   ]
  },
  {
   "cell_type": "code",
   "execution_count": 55,
   "metadata": {},
   "outputs": [
    {
     "data": {
      "text/html": [
       "<div>\n",
       "<style scoped>\n",
       "    .dataframe tbody tr th:only-of-type {\n",
       "        vertical-align: middle;\n",
       "    }\n",
       "\n",
       "    .dataframe tbody tr th {\n",
       "        vertical-align: top;\n",
       "    }\n",
       "\n",
       "    .dataframe thead tr th {\n",
       "        text-align: left;\n",
       "    }\n",
       "</style>\n",
       "<table border=\"1\" class=\"dataframe\">\n",
       "  <thead>\n",
       "    <tr>\n",
       "      <th></th>\n",
       "      <th>category</th>\n",
       "      <th>sum</th>\n",
       "      <th>mean</th>\n",
       "    </tr>\n",
       "    <tr>\n",
       "      <th></th>\n",
       "      <th></th>\n",
       "      <th>clicked</th>\n",
       "      <th>clicked</th>\n",
       "    </tr>\n",
       "  </thead>\n",
       "  <tbody>\n",
       "    <tr>\n",
       "      <th>9</th>\n",
       "      <td>news</td>\n",
       "      <td>66296</td>\n",
       "      <td>0.043645</td>\n",
       "    </tr>\n",
       "    <tr>\n",
       "      <th>6</th>\n",
       "      <td>lifestyle</td>\n",
       "      <td>25938</td>\n",
       "      <td>0.040509</td>\n",
       "    </tr>\n",
       "    <tr>\n",
       "      <th>11</th>\n",
       "      <td>sports</td>\n",
       "      <td>23390</td>\n",
       "      <td>0.047345</td>\n",
       "    </tr>\n",
       "    <tr>\n",
       "      <th>2</th>\n",
       "      <td>finance</td>\n",
       "      <td>20558</td>\n",
       "      <td>0.036579</td>\n",
       "    </tr>\n",
       "    <tr>\n",
       "      <th>8</th>\n",
       "      <td>music</td>\n",
       "      <td>15587</td>\n",
       "      <td>0.059657</td>\n",
       "    </tr>\n",
       "    <tr>\n",
       "      <th>13</th>\n",
       "      <td>tv</td>\n",
       "      <td>14495</td>\n",
       "      <td>0.059727</td>\n",
       "    </tr>\n",
       "    <tr>\n",
       "      <th>4</th>\n",
       "      <td>health</td>\n",
       "      <td>10850</td>\n",
       "      <td>0.035717</td>\n",
       "    </tr>\n",
       "    <tr>\n",
       "      <th>3</th>\n",
       "      <td>foodanddrink</td>\n",
       "      <td>10778</td>\n",
       "      <td>0.029465</td>\n",
       "    </tr>\n",
       "    <tr>\n",
       "      <th>1</th>\n",
       "      <td>entertainment</td>\n",
       "      <td>10051</td>\n",
       "      <td>0.030964</td>\n",
       "    </tr>\n",
       "    <tr>\n",
       "      <th>12</th>\n",
       "      <td>travel</td>\n",
       "      <td>8255</td>\n",
       "      <td>0.026312</td>\n",
       "    </tr>\n",
       "    <tr>\n",
       "      <th>0</th>\n",
       "      <td>autos</td>\n",
       "      <td>7100</td>\n",
       "      <td>0.027756</td>\n",
       "    </tr>\n",
       "    <tr>\n",
       "      <th>15</th>\n",
       "      <td>weather</td>\n",
       "      <td>4537</td>\n",
       "      <td>0.051790</td>\n",
       "    </tr>\n",
       "    <tr>\n",
       "      <th>14</th>\n",
       "      <td>video</td>\n",
       "      <td>4260</td>\n",
       "      <td>0.045450</td>\n",
       "    </tr>\n",
       "    <tr>\n",
       "      <th>7</th>\n",
       "      <td>movies</td>\n",
       "      <td>4185</td>\n",
       "      <td>0.031684</td>\n",
       "    </tr>\n",
       "    <tr>\n",
       "      <th>5</th>\n",
       "      <td>kids</td>\n",
       "      <td>3</td>\n",
       "      <td>0.018519</td>\n",
       "    </tr>\n",
       "    <tr>\n",
       "      <th>10</th>\n",
       "      <td>northamerica</td>\n",
       "      <td>1</td>\n",
       "      <td>0.034483</td>\n",
       "    </tr>\n",
       "  </tbody>\n",
       "</table>\n",
       "</div>"
      ],
      "text/plain": [
       "         category     sum      mean\n",
       "                  clicked   clicked\n",
       "9            news   66296  0.043645\n",
       "6       lifestyle   25938  0.040509\n",
       "11         sports   23390  0.047345\n",
       "2         finance   20558  0.036579\n",
       "8           music   15587  0.059657\n",
       "13             tv   14495  0.059727\n",
       "4          health   10850  0.035717\n",
       "3    foodanddrink   10778  0.029465\n",
       "1   entertainment   10051  0.030964\n",
       "12         travel    8255  0.026312\n",
       "0           autos    7100  0.027756\n",
       "15        weather    4537  0.051790\n",
       "14          video    4260  0.045450\n",
       "7          movies    4185  0.031684\n",
       "5            kids       3  0.018519\n",
       "10   northamerica       1  0.034483"
      ]
     },
     "execution_count": 55,
     "metadata": {},
     "output_type": "execute_result"
    }
   ],
   "source": [
    "merged_df.pivot_table(index='category',values='clicked',aggfunc=['sum','mean']).reset_index().sort_values(by=('sum','clicked'),ascending=False)    "
   ]
  },
  {
   "cell_type": "markdown",
   "metadata": {},
   "source": [
    "## 클릭 여부 비율"
   ]
  },
  {
   "cell_type": "markdown",
   "metadata": {},
   "source": [
    "클릭된 뉴스와 클릭되지 않은 뉴스가 어떤 차이가 있는지 확인해보기"
   ]
  },
  {
   "cell_type": "code",
   "execution_count": 56,
   "metadata": {},
   "outputs": [
    {
     "data": {
      "text/plain": [
       "clicked\n",
       "0    5370340\n",
       "1     226284\n",
       "Name: count, dtype: int64"
      ]
     },
     "execution_count": 56,
     "metadata": {},
     "output_type": "execute_result"
    }
   ],
   "source": [
    "merged_df['clicked'].value_counts()"
   ]
  },
  {
   "cell_type": "code",
   "execution_count": 57,
   "metadata": {},
   "outputs": [
    {
     "data": {
      "text/plain": [
       "<Axes: ylabel='count'>"
      ]
     },
     "execution_count": 57,
     "metadata": {},
     "output_type": "execute_result"
    },
    {
     "data": {
      "image/png": "[encoded data removed]",
      "text/plain": [
       "<Figure size 640x480 with 1 Axes>"
      ]
     },
     "metadata": {},
     "output_type": "display_data"
    }
   ],
   "source": [
    "merged_df['clicked'].value_counts().plot.pie(autopct='%1.1f%%') "
   ]
  },
  {
   "cell_type": "code",
   "execution_count": null,
   "metadata": {},
   "outputs": [],
   "source": [
    "# 노출 된 뉴스들 중 클릭된 뉴스는 매우 적다는 것 확인\n",
    "# 96%의 뉴스가 클릭되지 않았음\n",
    "# 노출되는 뉴스들이 사용자들의 관심사가 아니라는 것을 의미할 수 있음\n",
    "# 추천 시스템 구축이 필요함\n",
    "# 노출된 뉴스를 클릭하지 않는 원인을 파악해야 함\n",
    "# 몇가지의 원인을 예상하여 가설 검정을 통해 확인해보기"
   ]
  },
  {
   "cell_type": "code",
   "execution_count": null,
   "metadata": {},
   "outputs": [
    {
     "name": "stdout",
     "output_type": "stream",
     "text": [
      "ctr: 0.0404\n"
     ]
    },
    {
     "data": {
      "image/png": "[encoded data removed]",
      "text/plain": [
       "<Figure size 640x480 with 1 Axes>"
      ]
     },
     "metadata": {},
     "output_type": "display_data"
    }
   ],
   "source": [
    "#전체 클릭률\n",
    "\n",
    "ctr = merged_df[\"clicked\"].mean()\n",
    "print(f\"ctr: {ctr:.4f}\")\n",
    "\n",
    "sns.barplot(x=[\"Not Clicked\", \"Clicked\"], y=[1-ctr, ctr])\n",
    "\n",
    "plt.show()\n"
   ]
  },
  {
   "cell_type": "markdown",
   "metadata": {},
   "source": [
    "- 제목 길이가 길거나 짧으면 클릭될 확률이 높은지..\n",
    "- 개체수가 많으면 클릭될 확률이 높은지.."
   ]
  },
  {
   "cell_type": "markdown",
   "metadata": {},
   "source": [
    "## 클릭된 뉴스 vs 클릭되지 않은 뉴스 비교"
   ]
  },
  {
   "cell_type": "markdown",
   "metadata": {},
   "source": [
    "#### 가설 1: 뉴스 제목 길이가 클릭률에 영향을 미칠 것이다"
   ]
  },
  {
   "cell_type": "code",
   "execution_count": 60,
   "metadata": {},
   "outputs": [
    {
     "name": "stderr",
     "output_type": "stream",
     "text": [
      "/var/folders/kp/qjjg7mlj0bx023qd9bw7fngm0000gn/T/ipykernel_1614/3806160692.py:18: FutureWarning: \n",
      "\n",
      "`shade` is now deprecated in favor of `fill`; setting `fill=True`.\n",
      "This will become an error in seaborn v0.14.0; please update your code.\n",
      "\n",
      "  sns.kdeplot(clicked_df[\"title_length\"], label=\"Clicked\", shade=True)\n",
      "/var/folders/kp/qjjg7mlj0bx023qd9bw7fngm0000gn/T/ipykernel_1614/3806160692.py:19: FutureWarning: \n",
      "\n",
      "`shade` is now deprecated in favor of `fill`; setting `fill=True`.\n",
      "This will become an error in seaborn v0.14.0; please update your code.\n",
      "\n",
      "  sns.kdeplot(non_clicked_df[\"title_length\"], label=\"Not Clicked\", shade=True)\n"
     ]
    },
    {
     "data": {
      "image/png": "[encoded data removed]",
      "text/plain": [
       "<Figure size 1200x500 with 2 Axes>"
      ]
     },
     "metadata": {},
     "output_type": "display_data"
    }
   ],
   "source": [
    "# 길이 비교하기\n",
    "\n",
    "clicked_df=merged_df[merged_df['clicked']==1].copy()\n",
    "non_clicked_df=merged_df[merged_df['clicked']==0].copy()\n",
    "\n",
    "plt.figure(figsize=(12, 5))\n",
    "\n",
    "#박스\n",
    "plt.subplot(1, 2, 1)\n",
    "sns.boxplot(x=\"clicked\", y=\"title_length\", data=merged_df)\n",
    "plt.xticks([0, 1], [\"Not Clicked\", \"Clicked\"])\n",
    "plt.xlabel(\"Clicked\")\n",
    "plt.ylabel(\"Title Length\")\n",
    "plt.title(\"boxplot\")\n",
    "\n",
    "# KDE Plot\n",
    "plt.subplot(1, 2, 2)\n",
    "sns.kdeplot(clicked_df[\"title_length\"], label=\"Clicked\", shade=True)\n",
    "sns.kdeplot(non_clicked_df[\"title_length\"], label=\"Not Clicked\", shade=True)\n",
    "plt.xlabel(\"Title Length\")\n",
    "plt.title(\"kdeplot\")\n",
    "plt.legend()\n",
    "\n",
    "plt.show()\n"
   ]
  },
  {
   "cell_type": "code",
   "execution_count": 61,
   "metadata": {},
   "outputs": [
    {
     "data": {
      "text/html": [
       "<div>\n",
       "<style scoped>\n",
       "    .dataframe tbody tr th:only-of-type {\n",
       "        vertical-align: middle;\n",
       "    }\n",
       "\n",
       "    .dataframe tbody tr th {\n",
       "        vertical-align: top;\n",
       "    }\n",
       "\n",
       "    .dataframe thead tr th {\n",
       "        text-align: left;\n",
       "    }\n",
       "</style>\n",
       "<table border=\"1\" class=\"dataframe\">\n",
       "  <thead>\n",
       "    <tr>\n",
       "      <th></th>\n",
       "      <th>clicked</th>\n",
       "      <th>mean</th>\n",
       "      <th>median</th>\n",
       "      <th>std</th>\n",
       "      <th>min</th>\n",
       "      <th>max</th>\n",
       "    </tr>\n",
       "    <tr>\n",
       "      <th></th>\n",
       "      <th></th>\n",
       "      <th>title_length</th>\n",
       "      <th>title_length</th>\n",
       "      <th>title_length</th>\n",
       "      <th>title_length</th>\n",
       "      <th>title_length</th>\n",
       "    </tr>\n",
       "  </thead>\n",
       "  <tbody>\n",
       "    <tr>\n",
       "      <th>0</th>\n",
       "      <td>0</td>\n",
       "      <td>54.318648</td>\n",
       "      <td>53.0</td>\n",
       "      <td>17.475814</td>\n",
       "      <td>7.0</td>\n",
       "      <td>174.0</td>\n",
       "    </tr>\n",
       "    <tr>\n",
       "      <th>1</th>\n",
       "      <td>1</td>\n",
       "      <td>57.630924</td>\n",
       "      <td>56.0</td>\n",
       "      <td>18.336172</td>\n",
       "      <td>11.0</td>\n",
       "      <td>173.0</td>\n",
       "    </tr>\n",
       "  </tbody>\n",
       "</table>\n",
       "</div>"
      ],
      "text/plain": [
       "  clicked         mean       median          std          min          max\n",
       "          title_length title_length title_length title_length title_length\n",
       "0       0    54.318648         53.0    17.475814          7.0        174.0\n",
       "1       1    57.630924         56.0    18.336172         11.0        173.0"
      ]
     },
     "execution_count": 61,
     "metadata": {},
     "output_type": "execute_result"
    }
   ],
   "source": [
    "merged_df.pivot_table(\n",
    "    index=\"clicked\", \n",
    "    values=[\"title_length\"],\n",
    "    aggfunc=[\"mean\", \"median\", \"std\", \"min\", \"max\"]\n",
    ").reset_index()"
   ]
  },
  {
   "cell_type": "code",
   "execution_count": 62,
   "metadata": {},
   "outputs": [
    {
     "name": "stdout",
     "output_type": "stream",
     "text": [
      "NormaltestResult(statistic=45304.141487902896, pvalue=0.0)\n",
      "NormaltestResult(statistic=1024557.3557347164, pvalue=0.0)\n"
     ]
    }
   ],
   "source": [
    "# 정규성 검정\n",
    "from scipy import stats\n",
    "\n",
    "\n",
    "print(stats.normaltest(clicked_df['title_length']))\n",
    "print(stats.normaltest(non_clicked_df['title_length']))\n"
   ]
  },
  {
   "cell_type": "code",
   "execution_count": 63,
   "metadata": {},
   "outputs": [],
   "source": [
    "# 뉴스 제목 길이 데이터는 정규분포를 따르지 않음\n",
    "# 둘 다 비정규성을 띠고 있기 때문에 비모수검정 실행\n"
   ]
  },
  {
   "cell_type": "code",
   "execution_count": 64,
   "metadata": {},
   "outputs": [
    {
     "name": "stdout",
     "output_type": "stream",
     "text": [
      "U-statistic: 676504897842.0000, P-value: 0.0000\n"
     ]
    }
   ],
   "source": [
    "# 맨휘트니 유 검정 \n",
    "from scipy.stats import mannwhitneyu\n",
    "u_stat, p_value = mannwhitneyu(clicked_df[\"title_length\"], non_clicked_df[\"title_length\"], alternative=\"two-sided\")\n",
    "print(f\"U-statistic: {u_stat:.4f}, P-value: {p_value:.4f}\")\n"
   ]
  },
  {
   "cell_type": "code",
   "execution_count": 65,
   "metadata": {},
   "outputs": [],
   "source": [
    "# 뉴스 제목 길이와 클릭 여부 간에 유의미한 차이가 있음\n",
    "# 제목이 긴 뉴스가 클릭이 더 많은 경향이 있음\n",
    "# 하지만 둘의 길이가 많이 차이나는 것은 아니라서 긴게 효과적이다 라고 결론내기는 어려움\n",
    "# 가중치로 활용 가능.. "
   ]
  },
  {
   "cell_type": "markdown",
   "metadata": {},
   "source": [
    "### 가설 2) 뉴스 제목에 포함된 개체(Entity) 수가 클릭 여부/ 클릭률에 영향을 미칠 것이다."
   ]
  },
  {
   "cell_type": "markdown",
   "metadata": {},
   "source": [
    "#### 클릭 여부에 영향이 있는지 검정"
   ]
  },
  {
   "cell_type": "code",
   "execution_count": 66,
   "metadata": {},
   "outputs": [
    {
     "name": "stdout",
     "output_type": "stream",
     "text": [
      "NormaltestResult(statistic=21410.49768016626, pvalue=0.0)\n",
      "NormaltestResult(statistic=647475.4877705264, pvalue=0.0)\n"
     ]
    }
   ],
   "source": [
    "# 정규성 검정\n",
    "\n",
    "print(stats.normaltest(clicked_df['title_entity_count']))\n",
    "print(stats.normaltest(non_clicked_df['title_entity_count']))"
   ]
  },
  {
   "cell_type": "code",
   "execution_count": 67,
   "metadata": {},
   "outputs": [],
   "source": [
    "# 둘 다 비정규성 띠고 있으므로, 비모수 검정"
   ]
  },
  {
   "cell_type": "code",
   "execution_count": 68,
   "metadata": {},
   "outputs": [
    {
     "name": "stdout",
     "output_type": "stream",
     "text": [
      "U-statistic: 641413015459.5000, P-value: 0.0000\n"
     ]
    }
   ],
   "source": [
    "# 맨 휘트니 유 검정\n",
    "\n",
    "u_stat, p_value = mannwhitneyu(clicked_df[\"title_entity_count\"], non_clicked_df[\"title_entity_count\"], alternative=\"two-sided\")\n",
    "\n",
    "print(f\"U-statistic: {u_stat:.4f}, P-value: {p_value:.4f}\")\n"
   ]
  },
  {
   "cell_type": "code",
   "execution_count": 80,
   "metadata": {},
   "outputs": [],
   "source": [
    "# 클릭 여부에 영향 미침"
   ]
  },
  {
   "cell_type": "code",
   "execution_count": 69,
   "metadata": {},
   "outputs": [
    {
     "data": {
      "text/html": [
       "<div>\n",
       "<style scoped>\n",
       "    .dataframe tbody tr th:only-of-type {\n",
       "        vertical-align: middle;\n",
       "    }\n",
       "\n",
       "    .dataframe tbody tr th {\n",
       "        vertical-align: top;\n",
       "    }\n",
       "\n",
       "    .dataframe thead th {\n",
       "        text-align: right;\n",
       "    }\n",
       "</style>\n",
       "<table border=\"1\" class=\"dataframe\">\n",
       "  <thead>\n",
       "    <tr style=\"text-align: right;\">\n",
       "      <th></th>\n",
       "      <th>Category</th>\n",
       "      <th>Mean</th>\n",
       "      <th>Median</th>\n",
       "      <th>Std Dev</th>\n",
       "      <th>Min</th>\n",
       "      <th>Max</th>\n",
       "    </tr>\n",
       "  </thead>\n",
       "  <tbody>\n",
       "    <tr>\n",
       "      <th>0</th>\n",
       "      <td>Not Clicked</td>\n",
       "      <td>0.961748</td>\n",
       "      <td>1.0</td>\n",
       "      <td>0.936613</td>\n",
       "      <td>0.0</td>\n",
       "      <td>7.0</td>\n",
       "    </tr>\n",
       "    <tr>\n",
       "      <th>1</th>\n",
       "      <td>Clicked</td>\n",
       "      <td>1.040533</td>\n",
       "      <td>1.0</td>\n",
       "      <td>0.918020</td>\n",
       "      <td>0.0</td>\n",
       "      <td>6.0</td>\n",
       "    </tr>\n",
       "  </tbody>\n",
       "</table>\n",
       "</div>"
      ],
      "text/plain": [
       "      Category      Mean  Median   Std Dev  Min  Max\n",
       "0  Not Clicked  0.961748     1.0  0.936613  0.0  7.0\n",
       "1      Clicked  1.040533     1.0  0.918020  0.0  6.0"
      ]
     },
     "execution_count": 69,
     "metadata": {},
     "output_type": "execute_result"
    }
   ],
   "source": [
    "# 통계치 \n",
    "\n",
    "clicked_entity_count = clicked_df[\"title_entity_count\"]\n",
    "non_clicked_entity_count = non_clicked_df[\"title_entity_count\"]\n",
    "\n",
    "summary_stats_entity = pd.DataFrame({\n",
    "    \"Category\": [\"Not Clicked\", \"Clicked\"],\n",
    "    \"Mean\": [non_clicked_entity_count.mean(), clicked_entity_count.mean()],\n",
    "    \"Median\": [non_clicked_entity_count.median(), clicked_entity_count.median()],\n",
    "    \"Std Dev\": [non_clicked_entity_count.std(), clicked_entity_count.std()],\n",
    "    \"Min\": [non_clicked_entity_count.min(), clicked_entity_count.min()],\n",
    "    \"Max\": [non_clicked_entity_count.max(), clicked_entity_count.max()]\n",
    "})\n",
    "\n",
    "summary_stats_entity"
   ]
  },
  {
   "cell_type": "code",
   "execution_count": 70,
   "metadata": {},
   "outputs": [
    {
     "data": {
      "image/png": "[encoded data removed]",
      "text/plain": [
       "<Figure size 1200x500 with 2 Axes>"
      ]
     },
     "metadata": {},
     "output_type": "display_data"
    }
   ],
   "source": [
    "\n",
    "category_entity_ctr = merged_df.groupby(\"title_entity_count\")[\"clicked\"].mean().reset_index()\n",
    "category_entity_ctr.columns = [\"title_entity_count\", \"CTR\"]\n",
    "\n",
    "plt.figure(figsize=(12, 5))\n",
    "\n",
    "plt.subplot(1, 2, 1)\n",
    "sns.scatterplot(x=category_entity_ctr[\"title_entity_count\"], y=category_entity_ctr[\"CTR\"], alpha=0.7)\n",
    "plt.xlabel(\"Title Entity Count\")\n",
    "plt.ylabel(\"Click-Through Rate (CTR)\")\n",
    "plt.title(\"Scatter Plot of Title Entity Count vs CTR\")\n",
    "\n",
    "plt.subplot(1, 2, 2)\n",
    "sns.countplot(x=\"title_entity_count\", hue=\"clicked\", data=merged_df)\n",
    "plt.xlabel(\"Title Entity Count\")\n",
    "plt.ylabel(\"Count\")\n",
    "plt.title(\"Title Entity Count Distribution by Clicked Status\")\n",
    "plt.legend(title=\"Clicked\", labels=[\"Not Clicked\", \"Clicked\"])\n",
    "\n",
    "plt.tight_layout()\n",
    "plt.show()\n"
   ]
  },
  {
   "cell_type": "code",
   "execution_count": 78,
   "metadata": {},
   "outputs": [
    {
     "name": "stdout",
     "output_type": "stream",
     "text": [
      "NormaltestResult(statistic=1.7004056883060088, pvalue=0.42732824212143383)\n",
      "NormaltestResult(statistic=4.2741765800621225, pvalue=0.11799791902762807)\n"
     ]
    }
   ],
   "source": [
    "\n",
    "print(normaltest(category_entity_ctr[\"title_entity_count\"]))\n",
    "print(normaltest(category_entity_ctr[\"clicked\"]))  "
   ]
  },
  {
   "cell_type": "code",
   "execution_count": 83,
   "metadata": {},
   "outputs": [],
   "source": [
    "# 정규성 띰"
   ]
  },
  {
   "cell_type": "code",
   "execution_count": 84,
   "metadata": {},
   "outputs": [
    {
     "name": "stdout",
     "output_type": "stream",
     "text": [
      "Correlation: -0.0331,pvalue: 0.9381\n"
     ]
    }
   ],
   "source": [
    "from scipy.stats import spearmanr, pearsonr\n",
    "\n",
    "category_entity_ctr = merged_df.groupby(\"title_entity_count\")[\"clicked\"].mean().reset_index()\n",
    "pearson_corr, pearson_p = pearsonr(category_entity_ctr[\"title_entity_count\"], category_entity_ctr[\"clicked\"])\n",
    "\n",
    "spearman_corr, spearman_p = spearmanr(category_entity_ctr[\"title_entity_count\"], category_entity_ctr[\"clicked\"])\n",
    "\n",
    "print(f\"Correlation: {pearson_corr:.4f},pvalue: {pearson_p:.4f}\")\n"
   ]
  },
  {
   "cell_type": "code",
   "execution_count": null,
   "metadata": {},
   "outputs": [],
   "source": [
    "# 선형 관계 없음"
   ]
  },
  {
   "cell_type": "code",
   "execution_count": null,
   "metadata": {},
   "outputs": [],
   "source": [
    "# 검정 결과, 뉴스 제목 길이 클릭 여부에 영향을 미침\n",
    "# 클릭된 뉴스가 평균적으로 개수 더 많다고는 하지만, 크게 차이 없음\n",
    "# 대부분의 뉴스 제목은 1개 정도의 개체를 포함하고 있음\n",
    "#  상관분석 결과, 개체 수와 클릭률 간 상관관계는 없음(선형 관계 없음)\n",
    "# 계체 수가 일정 수준 이상 포함된다고 해서 클릭 가능성이 계속 증가하지 않음\n",
    "# 클릭률을 높이기 위해서는 제목의 질적 요소가 중요해 보임\n",
    "# 의미있는 개체가 포함되는지가 중요"
   ]
  },
  {
   "cell_type": "markdown",
   "metadata": {},
   "source": [
    "### 가설 3) 뉴스 카테고리에 따라 클릭률에 유의미한 차이가 있을 것이다."
   ]
  },
  {
   "cell_type": "code",
   "execution_count": 73,
   "metadata": {},
   "outputs": [
    {
     "data": {
      "image/png": "[encoded data removed]",
      "text/plain": [
       "<Figure size 1200x500 with 1 Axes>"
      ]
     },
     "metadata": {},
     "output_type": "display_data"
    }
   ],
   "source": [
    "# 카테고리별 클릭률 계산\n",
    "\n",
    "category_clicks = merged_df.groupby(\"category\")[\"clicked\"].value_counts().unstack()\n",
    "category_clicks.fillna(0, inplace=True)\n",
    "\n",
    "category_ctr = (category_clicks[1] / (category_clicks[0] + category_clicks[1])).reset_index()\n",
    "category_ctr.columns = [\"category\", \"CTR\"]\n",
    "\n",
    "category_ctr = category_ctr.sort_values(\"CTR\", ascending=False)\n",
    "\n",
    "\n",
    "plt.figure(figsize=(12, 5))\n",
    "sns.barplot(x=\"category\", y=\"CTR\", data=category_ctr, order=category_ctr[\"category\"])\n",
    "plt.xticks(rotation=45)\n",
    "plt.ylabel(\"Click-Through Rate (CTR)\")\n",
    "plt.title(\"카테고리별 클릭률 (CTR)\")\n",
    "plt.show()\n"
   ]
  },
  {
   "cell_type": "code",
   "execution_count": 74,
   "metadata": {},
   "outputs": [
    {
     "data": {
      "image/png": "[encoded data removed]",
      "text/plain": [
       "<Figure size 1200x500 with 1 Axes>"
      ]
     },
     "metadata": {},
     "output_type": "display_data"
    }
   ],
   "source": [
    "clicked_df=merged_df[merged_df['clicked']==1]\n",
    "\n",
    "plt.figure(figsize=(12,5))\n",
    "sns.countplot(x='category',data=clicked_df,order=clicked_df['category'].value_counts().index)   \n",
    "plt.title('카테고리별 클릭 수')\n",
    "plt.xticks(rotation=45)\n",
    "plt.show()\n"
   ]
  },
  {
   "cell_type": "code",
   "execution_count": 76,
   "metadata": {},
   "outputs": [
    {
     "name": "stdout",
     "output_type": "stream",
     "text": [
      "Chi-Square Statistic: 11389.9651, P-value: 0.0000\n"
     ]
    }
   ],
   "source": [
    "import scipy.stats as stats\n",
    "\n",
    "category_clicks = merged_df.groupby(\"category\")[\"clicked\"].value_counts().unstack().fillna(0)\n",
    "chi2_stat, p_val, dof, expected = stats.chi2_contingency(category_clicks)\n",
    "\n",
    "print(f\"Chi-Square Statistic: {chi2_stat:.4f}, P-value: {p_val:.4f}\")\n"
   ]
  },
  {
   "cell_type": "markdown",
   "metadata": {},
   "source": [
    "## 클릭 된 뉴스들 중 카테고리별 수 "
   ]
  },
  {
   "cell_type": "code",
   "execution_count": 54,
   "metadata": {},
   "outputs": [
    {
     "data": {
      "text/html": [
       "<div>\n",
       "<style scoped>\n",
       "    .dataframe tbody tr th:only-of-type {\n",
       "        vertical-align: middle;\n",
       "    }\n",
       "\n",
       "    .dataframe tbody tr th {\n",
       "        vertical-align: top;\n",
       "    }\n",
       "\n",
       "    .dataframe thead tr th {\n",
       "        text-align: left;\n",
       "    }\n",
       "</style>\n",
       "<table border=\"1\" class=\"dataframe\">\n",
       "  <thead>\n",
       "    <tr>\n",
       "      <th></th>\n",
       "      <th>category</th>\n",
       "      <th>sum</th>\n",
       "      <th>mean</th>\n",
       "    </tr>\n",
       "    <tr>\n",
       "      <th></th>\n",
       "      <th></th>\n",
       "      <th>clicked</th>\n",
       "      <th>clicked</th>\n",
       "    </tr>\n",
       "  </thead>\n",
       "  <tbody>\n",
       "    <tr>\n",
       "      <th>9</th>\n",
       "      <td>news</td>\n",
       "      <td>66296</td>\n",
       "      <td>0.043645</td>\n",
       "    </tr>\n",
       "    <tr>\n",
       "      <th>6</th>\n",
       "      <td>lifestyle</td>\n",
       "      <td>25938</td>\n",
       "      <td>0.040509</td>\n",
       "    </tr>\n",
       "    <tr>\n",
       "      <th>11</th>\n",
       "      <td>sports</td>\n",
       "      <td>23390</td>\n",
       "      <td>0.047345</td>\n",
       "    </tr>\n",
       "    <tr>\n",
       "      <th>2</th>\n",
       "      <td>finance</td>\n",
       "      <td>20558</td>\n",
       "      <td>0.036579</td>\n",
       "    </tr>\n",
       "    <tr>\n",
       "      <th>8</th>\n",
       "      <td>music</td>\n",
       "      <td>15587</td>\n",
       "      <td>0.059657</td>\n",
       "    </tr>\n",
       "    <tr>\n",
       "      <th>13</th>\n",
       "      <td>tv</td>\n",
       "      <td>14495</td>\n",
       "      <td>0.059727</td>\n",
       "    </tr>\n",
       "    <tr>\n",
       "      <th>4</th>\n",
       "      <td>health</td>\n",
       "      <td>10850</td>\n",
       "      <td>0.035717</td>\n",
       "    </tr>\n",
       "    <tr>\n",
       "      <th>3</th>\n",
       "      <td>foodanddrink</td>\n",
       "      <td>10778</td>\n",
       "      <td>0.029465</td>\n",
       "    </tr>\n",
       "    <tr>\n",
       "      <th>1</th>\n",
       "      <td>entertainment</td>\n",
       "      <td>10051</td>\n",
       "      <td>0.030964</td>\n",
       "    </tr>\n",
       "    <tr>\n",
       "      <th>12</th>\n",
       "      <td>travel</td>\n",
       "      <td>8255</td>\n",
       "      <td>0.026312</td>\n",
       "    </tr>\n",
       "    <tr>\n",
       "      <th>0</th>\n",
       "      <td>autos</td>\n",
       "      <td>7100</td>\n",
       "      <td>0.027756</td>\n",
       "    </tr>\n",
       "    <tr>\n",
       "      <th>15</th>\n",
       "      <td>weather</td>\n",
       "      <td>4537</td>\n",
       "      <td>0.051790</td>\n",
       "    </tr>\n",
       "    <tr>\n",
       "      <th>14</th>\n",
       "      <td>video</td>\n",
       "      <td>4260</td>\n",
       "      <td>0.045450</td>\n",
       "    </tr>\n",
       "    <tr>\n",
       "      <th>7</th>\n",
       "      <td>movies</td>\n",
       "      <td>4185</td>\n",
       "      <td>0.031684</td>\n",
       "    </tr>\n",
       "    <tr>\n",
       "      <th>5</th>\n",
       "      <td>kids</td>\n",
       "      <td>3</td>\n",
       "      <td>0.018519</td>\n",
       "    </tr>\n",
       "    <tr>\n",
       "      <th>10</th>\n",
       "      <td>northamerica</td>\n",
       "      <td>1</td>\n",
       "      <td>0.034483</td>\n",
       "    </tr>\n",
       "  </tbody>\n",
       "</table>\n",
       "</div>"
      ],
      "text/plain": [
       "         category     sum      mean\n",
       "                  clicked   clicked\n",
       "9            news   66296  0.043645\n",
       "6       lifestyle   25938  0.040509\n",
       "11         sports   23390  0.047345\n",
       "2         finance   20558  0.036579\n",
       "8           music   15587  0.059657\n",
       "13             tv   14495  0.059727\n",
       "4          health   10850  0.035717\n",
       "3    foodanddrink   10778  0.029465\n",
       "1   entertainment   10051  0.030964\n",
       "12         travel    8255  0.026312\n",
       "0           autos    7100  0.027756\n",
       "15        weather    4537  0.051790\n",
       "14          video    4260  0.045450\n",
       "7          movies    4185  0.031684\n",
       "5            kids       3  0.018519\n",
       "10   northamerica       1  0.034483"
      ]
     },
     "execution_count": 54,
     "metadata": {},
     "output_type": "execute_result"
    }
   ],
   "source": [
    "# 클릭이 많이 된 카테고리 확인\n",
    "\n",
    "merged_df.pivot_table(index='category',values='clicked',aggfunc=['sum','mean']).reset_index().sort_values(by=('sum','clicked'),ascending=False) "
   ]
  },
  {
   "cell_type": "code",
   "execution_count": 59,
   "metadata": {},
   "outputs": [
    {
     "data": {
      "image/png": "[encoded data removed]",
      "text/plain": [
       "<Figure size 800x400 with 1 Axes>"
      ]
     },
     "metadata": {},
     "output_type": "display_data"
    }
   ],
   "source": [
    "clicked_df=merged_df[merged_df['clicked']==1]\n",
    "\n",
    "plt.figure(figsize=(8,4))\n",
    "sns.countplot(x='category',data=clicked_df,order=clicked_df['category'].value_counts().index)   \n",
    "plt.title('카테고리별 클릭 수')\n",
    "plt.xticks(rotation=45)\n",
    "plt.show()\n"
   ]
  },
  {
   "cell_type": "markdown",
   "metadata": {},
   "source": [
    "## 클릭되지 않은 뉴스들 중 카테고리별 수 "
   ]
  },
  {
   "cell_type": "code",
   "execution_count": 61,
   "metadata": {},
   "outputs": [
    {
     "data": {
      "image/png": "[encoded data removed]",
      "text/plain": [
       "<Figure size 800x400 with 1 Axes>"
      ]
     },
     "metadata": {},
     "output_type": "display_data"
    }
   ],
   "source": [
    "non_clicked_df=merged_df[merged_df['clicked']==0] \n",
    "\n",
    "plt.figure(figsize=(8,4))\n",
    "sns.countplot(x='category',data=non_clicked_df,order=non_clicked_df['category'].value_counts().index)\n",
    "plt.title('카테고리별 클릭되지 않은 뉴스 수')\n",
    "plt.xticks(rotation=45)\n",
    "plt.show()\n"
   ]
  },
  {
   "cell_type": "code",
   "execution_count": 35,
   "metadata": {},
   "outputs": [
    {
     "data": {
      "text/html": [
       "<div>\n",
       "<style scoped>\n",
       "    .dataframe tbody tr th:only-of-type {\n",
       "        vertical-align: middle;\n",
       "    }\n",
       "\n",
       "    .dataframe tbody tr th {\n",
       "        vertical-align: top;\n",
       "    }\n",
       "\n",
       "    .dataframe thead th {\n",
       "        text-align: right;\n",
       "    }\n",
       "</style>\n",
       "<table border=\"1\" class=\"dataframe\">\n",
       "  <thead>\n",
       "    <tr style=\"text-align: right;\">\n",
       "      <th></th>\n",
       "      <th>news_id</th>\n",
       "      <th>category</th>\n",
       "      <th>subcategory</th>\n",
       "      <th>title</th>\n",
       "      <th>abstract</th>\n",
       "      <th>title_entities</th>\n",
       "      <th>abstract_entities</th>\n",
       "      <th>title_length</th>\n",
       "      <th>abstract_length</th>\n",
       "      <th>title_word_count</th>\n",
       "      <th>abstract_word_count</th>\n",
       "    </tr>\n",
       "  </thead>\n",
       "  <tbody>\n",
       "    <tr>\n",
       "      <th>0</th>\n",
       "      <td>N55528</td>\n",
       "      <td>lifestyle</td>\n",
       "      <td>lifestyleroyals</td>\n",
       "      <td>brands queen elizabeth prince charles prince philip swear</td>\n",
       "      <td>shop notebooks jackets more the royals cant live without</td>\n",
       "      <td>[{\"Label\": \"Prince Philip, Duke of Edinburgh\", \"Type\": \"P\", \"WikidataId\": \"Q80976\", \"Confidence\": 1.0, \"OccurrenceOffsets\": [48], \"SurfaceForms\": [\"Prince Philip\"]}, {\"Label\": \"Charles, Prince of Wales\", \"Type\": \"P\", \"WikidataId\": \"Q43274\", \"Confidence\": 1.0, \"OccurrenceOffsets\": [28], \"SurfaceForms\": [\"Prince Charles\"]}, {\"Label\": \"Elizabeth II\", \"Type\": \"P\", \"WikidataId\": \"Q9682\", \"Confidence\": 0.97, \"OccurrenceOffsets\": [11], \"SurfaceForms\": [\"Queen Elizabeth\"]}]</td>\n",
       "      <td>[]</td>\n",
       "      <td>57</td>\n",
       "      <td>56</td>\n",
       "      <td>8</td>\n",
       "      <td>9</td>\n",
       "    </tr>\n",
       "    <tr>\n",
       "      <th>1</th>\n",
       "      <td>N19639</td>\n",
       "      <td>health</td>\n",
       "      <td>weightloss</td>\n",
       "      <td>50 worst habits belly fat</td>\n",
       "      <td>seemingly harmless habits holding back keeping from shedding unwanted belly fat good</td>\n",
       "      <td>[{\"Label\": \"Adipose tissue\", \"Type\": \"C\", \"WikidataId\": \"Q193583\", \"Confidence\": 1.0, \"OccurrenceOffsets\": [20], \"SurfaceForms\": [\"Belly Fat\"]}]</td>\n",
       "      <td>[{\"Label\": \"Adipose tissue\", \"Type\": \"C\", \"WikidataId\": \"Q193583\", \"Confidence\": 1.0, \"OccurrenceOffsets\": [97], \"SurfaceForms\": [\"belly fat\"]}]</td>\n",
       "      <td>25</td>\n",
       "      <td>84</td>\n",
       "      <td>5</td>\n",
       "      <td>12</td>\n",
       "    </tr>\n",
       "    <tr>\n",
       "      <th>2</th>\n",
       "      <td>N61837</td>\n",
       "      <td>news</td>\n",
       "      <td>newsworld</td>\n",
       "      <td>cost trumps aid freeze the trenches ukraines war</td>\n",
       "      <td>lt ivan molchanets peeked a parapet sand bags the front line the war ukraine next him an empty helmet propped to trick snipers already perforated multiple holes</td>\n",
       "      <td>[]</td>\n",
       "      <td>[{\"Label\": \"Ukraine\", \"Type\": \"G\", \"WikidataId\": \"Q212\", \"Confidence\": 0.946, \"OccurrenceOffsets\": [87], \"SurfaceForms\": [\"Ukraine\"]}]</td>\n",
       "      <td>48</td>\n",
       "      <td>160</td>\n",
       "      <td>8</td>\n",
       "      <td>27</td>\n",
       "    </tr>\n",
       "    <tr>\n",
       "      <th>3</th>\n",
       "      <td>N53526</td>\n",
       "      <td>health</td>\n",
       "      <td>voices</td>\n",
       "      <td>was nba wife heres it affected mental health</td>\n",
       "      <td>felt like was fraud being nba wife didnt help in fact nearly destroyed</td>\n",
       "      <td>[]</td>\n",
       "      <td>[{\"Label\": \"National Basketball Association\", \"Type\": \"O\", \"WikidataId\": \"Q155223\", \"Confidence\": 1.0, \"OccurrenceOffsets\": [40], \"SurfaceForms\": [\"NBA\"]}]</td>\n",
       "      <td>44</td>\n",
       "      <td>70</td>\n",
       "      <td>8</td>\n",
       "      <td>13</td>\n",
       "    </tr>\n",
       "    <tr>\n",
       "      <th>4</th>\n",
       "      <td>N38324</td>\n",
       "      <td>health</td>\n",
       "      <td>medical</td>\n",
       "      <td>get rid skin tags according to a dermatologist</td>\n",
       "      <td>seem harmless theres very good reason shouldnt ignore the post get rid skin tags according to a dermatologist appeared first readers digest</td>\n",
       "      <td>[{\"Label\": \"Skin tag\", \"Type\": \"C\", \"WikidataId\": \"Q3179593\", \"Confidence\": 1.0, \"OccurrenceOffsets\": [18], \"SurfaceForms\": [\"Skin Tags\"]}]</td>\n",
       "      <td>[{\"Label\": \"Skin tag\", \"Type\": \"C\", \"WikidataId\": \"Q3179593\", \"Confidence\": 1.0, \"OccurrenceOffsets\": [105], \"SurfaceForms\": [\"Skin Tags\"]}, {\"Label\": \"Dermatology\", \"Type\": \"C\", \"WikidataId\": \"Q171171\", \"Confidence\": 1.0, \"OccurrenceOffsets\": [131], \"SurfaceForms\": [\"Dermatologist\"]}, {\"Label\": \"Reader's Digest\", \"Type\": \"M\", \"WikidataId\": \"Q371820\", \"Confidence\": 0.999, \"OccurrenceOffsets\": [163], \"SurfaceForms\": [\"Reader's Digest\"]}]</td>\n",
       "      <td>46</td>\n",
       "      <td>139</td>\n",
       "      <td>8</td>\n",
       "      <td>22</td>\n",
       "    </tr>\n",
       "  </tbody>\n",
       "</table>\n",
       "</div>"
      ],
      "text/plain": [
       "  news_id   category      subcategory  \\\n",
       "0  N55528  lifestyle  lifestyleroyals   \n",
       "1  N19639     health       weightloss   \n",
       "2  N61837       news        newsworld   \n",
       "3  N53526     health           voices   \n",
       "4  N38324     health          medical   \n",
       "\n",
       "                                                       title  \\\n",
       "0  brands queen elizabeth prince charles prince philip swear   \n",
       "1                                  50 worst habits belly fat   \n",
       "2           cost trumps aid freeze the trenches ukraines war   \n",
       "3               was nba wife heres it affected mental health   \n",
       "4             get rid skin tags according to a dermatologist   \n",
       "\n",
       "                                                                                                                                                           abstract  \\\n",
       "0                                                                                                          shop notebooks jackets more the royals cant live without   \n",
       "1                                                                              seemingly harmless habits holding back keeping from shedding unwanted belly fat good   \n",
       "2  lt ivan molchanets peeked a parapet sand bags the front line the war ukraine next him an empty helmet propped to trick snipers already perforated multiple holes   \n",
       "3                                                                                            felt like was fraud being nba wife didnt help in fact nearly destroyed   \n",
       "4                       seem harmless theres very good reason shouldnt ignore the post get rid skin tags according to a dermatologist appeared first readers digest   \n",
       "\n",
       "                                                                                                                                                                                                                                                                                                                                                                                                                                                                           title_entities  \\\n",
       "0  [{\"Label\": \"Prince Philip, Duke of Edinburgh\", \"Type\": \"P\", \"WikidataId\": \"Q80976\", \"Confidence\": 1.0, \"OccurrenceOffsets\": [48], \"SurfaceForms\": [\"Prince Philip\"]}, {\"Label\": \"Charles, Prince of Wales\", \"Type\": \"P\", \"WikidataId\": \"Q43274\", \"Confidence\": 1.0, \"OccurrenceOffsets\": [28], \"SurfaceForms\": [\"Prince Charles\"]}, {\"Label\": \"Elizabeth II\", \"Type\": \"P\", \"WikidataId\": \"Q9682\", \"Confidence\": 0.97, \"OccurrenceOffsets\": [11], \"SurfaceForms\": [\"Queen Elizabeth\"]}]   \n",
       "1                                                                                                                                                                                                                                                                                                                                        [{\"Label\": \"Adipose tissue\", \"Type\": \"C\", \"WikidataId\": \"Q193583\", \"Confidence\": 1.0, \"OccurrenceOffsets\": [20], \"SurfaceForms\": [\"Belly Fat\"]}]   \n",
       "2                                                                                                                                                                                                                                                                                                                                                                                                                                                                                      []   \n",
       "3                                                                                                                                                                                                                                                                                                                                                                                                                                                                                      []   \n",
       "4                                                                                                                                                                                                                                                                                                                                             [{\"Label\": \"Skin tag\", \"Type\": \"C\", \"WikidataId\": \"Q3179593\", \"Confidence\": 1.0, \"OccurrenceOffsets\": [18], \"SurfaceForms\": [\"Skin Tags\"]}]   \n",
       "\n",
       "                                                                                                                                                                                                                                                                                                                                                                                                                                          abstract_entities  \\\n",
       "0                                                                                                                                                                                                                                                                                                                                                                                                                                                        []   \n",
       "1                                                                                                                                                                                                                                                                                                          [{\"Label\": \"Adipose tissue\", \"Type\": \"C\", \"WikidataId\": \"Q193583\", \"Confidence\": 1.0, \"OccurrenceOffsets\": [97], \"SurfaceForms\": [\"belly fat\"]}]   \n",
       "2                                                                                                                                                                                                                                                                                                                    [{\"Label\": \"Ukraine\", \"Type\": \"G\", \"WikidataId\": \"Q212\", \"Confidence\": 0.946, \"OccurrenceOffsets\": [87], \"SurfaceForms\": [\"Ukraine\"]}]   \n",
       "3                                                                                                                                                                                                                                                                                               [{\"Label\": \"National Basketball Association\", \"Type\": \"O\", \"WikidataId\": \"Q155223\", \"Confidence\": 1.0, \"OccurrenceOffsets\": [40], \"SurfaceForms\": [\"NBA\"]}]   \n",
       "4  [{\"Label\": \"Skin tag\", \"Type\": \"C\", \"WikidataId\": \"Q3179593\", \"Confidence\": 1.0, \"OccurrenceOffsets\": [105], \"SurfaceForms\": [\"Skin Tags\"]}, {\"Label\": \"Dermatology\", \"Type\": \"C\", \"WikidataId\": \"Q171171\", \"Confidence\": 1.0, \"OccurrenceOffsets\": [131], \"SurfaceForms\": [\"Dermatologist\"]}, {\"Label\": \"Reader's Digest\", \"Type\": \"M\", \"WikidataId\": \"Q371820\", \"Confidence\": 0.999, \"OccurrenceOffsets\": [163], \"SurfaceForms\": [\"Reader's Digest\"]}]   \n",
       "\n",
       "   title_length  abstract_length  title_word_count  abstract_word_count  \n",
       "0            57               56                 8                    9  \n",
       "1            25               84                 5                   12  \n",
       "2            48              160                 8                   27  \n",
       "3            44               70                 8                   13  \n",
       "4            46              139                 8                   22  "
      ]
     },
     "execution_count": 35,
     "metadata": {},
     "output_type": "execute_result"
    }
   ],
   "source": [
    "news_df.head()"
   ]
  },
  {
   "cell_type": "code",
   "execution_count": null,
   "metadata": {},
   "outputs": [],
   "source": []
  },
  {
   "cell_type": "code",
   "execution_count": null,
   "metadata": {},
   "outputs": [],
   "source": []
  }
 ],
 "metadata": {
  "kernelspec": {
   "display_name": "Python 3",
   "language": "python",
   "name": "python3"
  },
  "language_info": {
   "codemirror_mode": {
    "name": "ipython",
    "version": 3
   },
   "file_extension": ".py",
   "mimetype": "text/x-python",
   "name": "python",
   "nbconvert_exporter": "python",
   "pygments_lexer": "ipython3",
   "version": "3.9.6"
  }
 },
 "nbformat": 4,
 "nbformat_minor": 2
}
