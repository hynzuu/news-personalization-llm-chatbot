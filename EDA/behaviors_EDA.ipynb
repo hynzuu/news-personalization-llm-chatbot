{
 "cells": [
  {
   "cell_type": "markdown",
   "metadata": {},
   "source": [
    "# Behaviors  EDA"
   ]
  },
  {
   "cell_type": "code",
   "execution_count": 1,
   "metadata": {},
   "outputs": [
    {
     "name": "stdout",
     "output_type": "stream",
     "text": [
      "Defaulting to user installation because normal site-packages is not writeable\n",
      "\u001b[31mERROR: Could not find a version that satisfies the requirement koreanize_matplot (from versions: none)\u001b[0m\u001b[31m\n",
      "\u001b[0m\u001b[31mERROR: No matching distribution found for koreanize_matplot\u001b[0m\u001b[31m\n",
      "\u001b[0mNote: you may need to restart the kernel to use updated packages.\n"
     ]
    }
   ],
   "source": [
    "pip install koreanize_matplot"
   ]
  },
  {
   "cell_type": "code",
   "execution_count": 2,
   "metadata": {},
   "outputs": [],
   "source": [
    "import pandas as pd \n",
    "import numpy as np \n",
    "import seaborn as sns\n",
    "import matplotlib.pyplot as plt\n",
    "import koreanize_matplotlib "
   ]
  },
  {
   "cell_type": "markdown",
   "metadata": {},
   "source": [
    "# Behaviors"
   ]
  },
  {
   "cell_type": "code",
   "execution_count": 3,
   "metadata": {},
   "outputs": [
    {
     "data": {
      "text/html": [
       "<div>\n",
       "<style scoped>\n",
       "    .dataframe tbody tr th:only-of-type {\n",
       "        vertical-align: middle;\n",
       "    }\n",
       "\n",
       "    .dataframe tbody tr th {\n",
       "        vertical-align: top;\n",
       "    }\n",
       "\n",
       "    .dataframe thead th {\n",
       "        text-align: right;\n",
       "    }\n",
       "</style>\n",
       "<table border=\"1\" class=\"dataframe\">\n",
       "  <thead>\n",
       "    <tr style=\"text-align: right;\">\n",
       "      <th></th>\n",
       "      <th>impression_id</th>\n",
       "      <th>user_id</th>\n",
       "      <th>time</th>\n",
       "      <th>history</th>\n",
       "      <th>impressions</th>\n",
       "    </tr>\n",
       "  </thead>\n",
       "  <tbody>\n",
       "    <tr>\n",
       "      <th>0</th>\n",
       "      <td>1</td>\n",
       "      <td>U13740</td>\n",
       "      <td>11/11/2019 9:05:58 AM</td>\n",
       "      <td>N55189 N42782 N34694 N45794 N18445 N63302 N104...</td>\n",
       "      <td>N55689-1 N35729-0</td>\n",
       "    </tr>\n",
       "    <tr>\n",
       "      <th>1</th>\n",
       "      <td>2</td>\n",
       "      <td>U91836</td>\n",
       "      <td>11/12/2019 6:11:30 PM</td>\n",
       "      <td>N31739 N6072 N63045 N23979 N35656 N43353 N8129...</td>\n",
       "      <td>N20678-0 N39317-0 N58114-0 N20495-0 N42977-0 N...</td>\n",
       "    </tr>\n",
       "    <tr>\n",
       "      <th>2</th>\n",
       "      <td>3</td>\n",
       "      <td>U73700</td>\n",
       "      <td>11/14/2019 7:01:48 AM</td>\n",
       "      <td>N10732 N25792 N7563 N21087 N41087 N5445 N60384...</td>\n",
       "      <td>N50014-0 N23877-0 N35389-0 N49712-0 N16844-0 N...</td>\n",
       "    </tr>\n",
       "    <tr>\n",
       "      <th>3</th>\n",
       "      <td>4</td>\n",
       "      <td>U34670</td>\n",
       "      <td>11/11/2019 5:28:05 AM</td>\n",
       "      <td>N45729 N2203 N871 N53880 N41375 N43142 N33013 ...</td>\n",
       "      <td>N35729-0 N33632-0 N49685-1 N27581-0</td>\n",
       "    </tr>\n",
       "    <tr>\n",
       "      <th>4</th>\n",
       "      <td>5</td>\n",
       "      <td>U8125</td>\n",
       "      <td>11/12/2019 4:11:21 PM</td>\n",
       "      <td>N10078 N56514 N14904 N33740</td>\n",
       "      <td>N39985-0 N36050-0 N16096-0 N8400-1 N22407-0 N6...</td>\n",
       "    </tr>\n",
       "  </tbody>\n",
       "</table>\n",
       "</div>"
      ],
      "text/plain": [
       "   impression_id user_id                   time  \\\n",
       "0              1  U13740  11/11/2019 9:05:58 AM   \n",
       "1              2  U91836  11/12/2019 6:11:30 PM   \n",
       "2              3  U73700  11/14/2019 7:01:48 AM   \n",
       "3              4  U34670  11/11/2019 5:28:05 AM   \n",
       "4              5   U8125  11/12/2019 4:11:21 PM   \n",
       "\n",
       "                                             history  \\\n",
       "0  N55189 N42782 N34694 N45794 N18445 N63302 N104...   \n",
       "1  N31739 N6072 N63045 N23979 N35656 N43353 N8129...   \n",
       "2  N10732 N25792 N7563 N21087 N41087 N5445 N60384...   \n",
       "3  N45729 N2203 N871 N53880 N41375 N43142 N33013 ...   \n",
       "4                        N10078 N56514 N14904 N33740   \n",
       "\n",
       "                                         impressions  \n",
       "0                                  N55689-1 N35729-0  \n",
       "1  N20678-0 N39317-0 N58114-0 N20495-0 N42977-0 N...  \n",
       "2  N50014-0 N23877-0 N35389-0 N49712-0 N16844-0 N...  \n",
       "3                N35729-0 N33632-0 N49685-1 N27581-0  \n",
       "4  N39985-0 N36050-0 N16096-0 N8400-1 N22407-0 N6...  "
      ]
     },
     "execution_count": 3,
     "metadata": {},
     "output_type": "execute_result"
    }
   ],
   "source": [
    "behaviors_df = pd.read_csv('./Data/behaviors.csv')  \n",
    "behaviors_df.head()"
   ]
  },
  {
   "cell_type": "code",
   "execution_count": 4,
   "metadata": {},
   "outputs": [
    {
     "data": {
      "text/plain": [
       "(156965, 5)"
      ]
     },
     "execution_count": 4,
     "metadata": {},
     "output_type": "execute_result"
    }
   ],
   "source": [
    "behaviors_df.shape"
   ]
  },
  {
   "cell_type": "code",
   "execution_count": 5,
   "metadata": {},
   "outputs": [
    {
     "name": "stdout",
     "output_type": "stream",
     "text": [
      "<class 'pandas.core.frame.DataFrame'>\n",
      "RangeIndex: 156965 entries, 0 to 156964\n",
      "Data columns (total 5 columns):\n",
      " #   Column         Non-Null Count   Dtype \n",
      "---  ------         --------------   ----- \n",
      " 0   impression_id  156965 non-null  int64 \n",
      " 1   user_id        156965 non-null  object\n",
      " 2   time           156965 non-null  object\n",
      " 3   history        153727 non-null  object\n",
      " 4   impressions    156965 non-null  object\n",
      "dtypes: int64(1), object(4)\n",
      "memory usage: 6.0+ MB\n"
     ]
    }
   ],
   "source": [
    "behaviors_df.info()"
   ]
  },
  {
   "cell_type": "code",
   "execution_count": 6,
   "metadata": {},
   "outputs": [
    {
     "data": {
      "text/plain": [
       "impression_id       0\n",
       "user_id             0\n",
       "time                0\n",
       "history          3238\n",
       "impressions         0\n",
       "dtype: int64"
      ]
     },
     "execution_count": 6,
     "metadata": {},
     "output_type": "execute_result"
    }
   ],
   "source": [
    "behaviors_df.isna().sum()"
   ]
  },
  {
   "cell_type": "code",
   "execution_count": 7,
   "metadata": {},
   "outputs": [],
   "source": [
    "behaviors_df.dropna(axis=0,inplace=True)"
   ]
  },
  {
   "cell_type": "code",
   "execution_count": 8,
   "metadata": {},
   "outputs": [
    {
     "data": {
      "text/plain": [
       "(153727, 5)"
      ]
     },
     "execution_count": 8,
     "metadata": {},
     "output_type": "execute_result"
    }
   ],
   "source": [
    "behaviors_df.shape"
   ]
  },
  {
   "cell_type": "code",
   "execution_count": 9,
   "metadata": {},
   "outputs": [
    {
     "data": {
      "text/plain": [
       "dtype('O')"
      ]
     },
     "execution_count": 9,
     "metadata": {},
     "output_type": "execute_result"
    }
   ],
   "source": [
    "behaviors_df['time'].dtypes"
   ]
  },
  {
   "cell_type": "code",
   "execution_count": 10,
   "metadata": {},
   "outputs": [],
   "source": [
    "# 날짜 데이터 타입 변경\n",
    "behaviors_df['time'] = pd.to_datetime(behaviors_df['time'])\n"
   ]
  },
  {
   "cell_type": "code",
   "execution_count": 11,
   "metadata": {},
   "outputs": [
    {
     "data": {
      "text/plain": [
       "0   2019-11-11 09:05:58\n",
       "1   2019-11-12 18:11:30\n",
       "2   2019-11-14 07:01:48\n",
       "3   2019-11-11 05:28:05\n",
       "4   2019-11-12 16:11:21\n",
       "Name: time, dtype: datetime64[ns]"
      ]
     },
     "execution_count": 11,
     "metadata": {},
     "output_type": "execute_result"
    }
   ],
   "source": [
    "behaviors_df['time'].head()"
   ]
  },
  {
   "cell_type": "code",
   "execution_count": 12,
   "metadata": {},
   "outputs": [],
   "source": [
    "# 요일 (월=0~ 일=6)\n",
    "behaviors_df['weekday'] = behaviors_df['time'].dt.weekday\n",
    "\n",
    "# 시간대 (0~23시)\n",
    "behaviors_df['hour'] = behaviors_df['time'].dt.hour\n",
    "\n",
    "# 오전/오후 구분(0: 오전,1: 오후)\n",
    "behaviors_df['is_afternoon'] = behaviors_df['time'].dt.hour >= 12\n",
    "\n",
    "# 주말 구분(주말이면 1,평일이면 0)\n",
    "behaviors_df['is_weekend'] = behaviors_df['weekday'].isin([5, 6]).astype(int)\n"
   ]
  },
  {
   "cell_type": "code",
   "execution_count": 13,
   "metadata": {},
   "outputs": [
    {
     "data": {
      "text/html": [
       "<div>\n",
       "<style scoped>\n",
       "    .dataframe tbody tr th:only-of-type {\n",
       "        vertical-align: middle;\n",
       "    }\n",
       "\n",
       "    .dataframe tbody tr th {\n",
       "        vertical-align: top;\n",
       "    }\n",
       "\n",
       "    .dataframe thead th {\n",
       "        text-align: right;\n",
       "    }\n",
       "</style>\n",
       "<table border=\"1\" class=\"dataframe\">\n",
       "  <thead>\n",
       "    <tr style=\"text-align: right;\">\n",
       "      <th></th>\n",
       "      <th>impression_id</th>\n",
       "      <th>user_id</th>\n",
       "      <th>time</th>\n",
       "      <th>history</th>\n",
       "      <th>impressions</th>\n",
       "      <th>weekday</th>\n",
       "      <th>hour</th>\n",
       "      <th>is_afternoon</th>\n",
       "      <th>is_weekend</th>\n",
       "    </tr>\n",
       "  </thead>\n",
       "  <tbody>\n",
       "    <tr>\n",
       "      <th>0</th>\n",
       "      <td>1</td>\n",
       "      <td>U13740</td>\n",
       "      <td>2019-11-11 09:05:58</td>\n",
       "      <td>N55189 N42782 N34694 N45794 N18445 N63302 N104...</td>\n",
       "      <td>N55689-1 N35729-0</td>\n",
       "      <td>0</td>\n",
       "      <td>9</td>\n",
       "      <td>False</td>\n",
       "      <td>0</td>\n",
       "    </tr>\n",
       "    <tr>\n",
       "      <th>1</th>\n",
       "      <td>2</td>\n",
       "      <td>U91836</td>\n",
       "      <td>2019-11-12 18:11:30</td>\n",
       "      <td>N31739 N6072 N63045 N23979 N35656 N43353 N8129...</td>\n",
       "      <td>N20678-0 N39317-0 N58114-0 N20495-0 N42977-0 N...</td>\n",
       "      <td>1</td>\n",
       "      <td>18</td>\n",
       "      <td>True</td>\n",
       "      <td>0</td>\n",
       "    </tr>\n",
       "    <tr>\n",
       "      <th>2</th>\n",
       "      <td>3</td>\n",
       "      <td>U73700</td>\n",
       "      <td>2019-11-14 07:01:48</td>\n",
       "      <td>N10732 N25792 N7563 N21087 N41087 N5445 N60384...</td>\n",
       "      <td>N50014-0 N23877-0 N35389-0 N49712-0 N16844-0 N...</td>\n",
       "      <td>3</td>\n",
       "      <td>7</td>\n",
       "      <td>False</td>\n",
       "      <td>0</td>\n",
       "    </tr>\n",
       "    <tr>\n",
       "      <th>3</th>\n",
       "      <td>4</td>\n",
       "      <td>U34670</td>\n",
       "      <td>2019-11-11 05:28:05</td>\n",
       "      <td>N45729 N2203 N871 N53880 N41375 N43142 N33013 ...</td>\n",
       "      <td>N35729-0 N33632-0 N49685-1 N27581-0</td>\n",
       "      <td>0</td>\n",
       "      <td>5</td>\n",
       "      <td>False</td>\n",
       "      <td>0</td>\n",
       "    </tr>\n",
       "    <tr>\n",
       "      <th>4</th>\n",
       "      <td>5</td>\n",
       "      <td>U8125</td>\n",
       "      <td>2019-11-12 16:11:21</td>\n",
       "      <td>N10078 N56514 N14904 N33740</td>\n",
       "      <td>N39985-0 N36050-0 N16096-0 N8400-1 N22407-0 N6...</td>\n",
       "      <td>1</td>\n",
       "      <td>16</td>\n",
       "      <td>True</td>\n",
       "      <td>0</td>\n",
       "    </tr>\n",
       "  </tbody>\n",
       "</table>\n",
       "</div>"
      ],
      "text/plain": [
       "   impression_id user_id                time  \\\n",
       "0              1  U13740 2019-11-11 09:05:58   \n",
       "1              2  U91836 2019-11-12 18:11:30   \n",
       "2              3  U73700 2019-11-14 07:01:48   \n",
       "3              4  U34670 2019-11-11 05:28:05   \n",
       "4              5   U8125 2019-11-12 16:11:21   \n",
       "\n",
       "                                             history  \\\n",
       "0  N55189 N42782 N34694 N45794 N18445 N63302 N104...   \n",
       "1  N31739 N6072 N63045 N23979 N35656 N43353 N8129...   \n",
       "2  N10732 N25792 N7563 N21087 N41087 N5445 N60384...   \n",
       "3  N45729 N2203 N871 N53880 N41375 N43142 N33013 ...   \n",
       "4                        N10078 N56514 N14904 N33740   \n",
       "\n",
       "                                         impressions  weekday  hour  \\\n",
       "0                                  N55689-1 N35729-0        0     9   \n",
       "1  N20678-0 N39317-0 N58114-0 N20495-0 N42977-0 N...        1    18   \n",
       "2  N50014-0 N23877-0 N35389-0 N49712-0 N16844-0 N...        3     7   \n",
       "3                N35729-0 N33632-0 N49685-1 N27581-0        0     5   \n",
       "4  N39985-0 N36050-0 N16096-0 N8400-1 N22407-0 N6...        1    16   \n",
       "\n",
       "   is_afternoon  is_weekend  \n",
       "0         False           0  \n",
       "1          True           0  \n",
       "2         False           0  \n",
       "3         False           0  \n",
       "4          True           0  "
      ]
     },
     "execution_count": 13,
     "metadata": {},
     "output_type": "execute_result"
    }
   ],
   "source": [
    "behaviors_df.head()"
   ]
  },
  {
   "cell_type": "code",
   "execution_count": 14,
   "metadata": {},
   "outputs": [
    {
     "data": {
      "text/html": [
       "<div>\n",
       "<style scoped>\n",
       "    .dataframe tbody tr th:only-of-type {\n",
       "        vertical-align: middle;\n",
       "    }\n",
       "\n",
       "    .dataframe tbody tr th {\n",
       "        vertical-align: top;\n",
       "    }\n",
       "\n",
       "    .dataframe thead th {\n",
       "        text-align: right;\n",
       "    }\n",
       "</style>\n",
       "<table border=\"1\" class=\"dataframe\">\n",
       "  <thead>\n",
       "    <tr style=\"text-align: right;\">\n",
       "      <th></th>\n",
       "      <th>impression_id</th>\n",
       "      <th>user_id</th>\n",
       "      <th>time</th>\n",
       "      <th>history</th>\n",
       "      <th>impressions</th>\n",
       "      <th>weekday</th>\n",
       "      <th>hour</th>\n",
       "      <th>is_afternoon</th>\n",
       "      <th>is_weekend</th>\n",
       "    </tr>\n",
       "  </thead>\n",
       "  <tbody>\n",
       "    <tr>\n",
       "      <th>0</th>\n",
       "      <td>1</td>\n",
       "      <td>U13740</td>\n",
       "      <td>2019-11-11 09:05:58</td>\n",
       "      <td>N55189 N42782 N34694 N45794 N18445 N63302 N104...</td>\n",
       "      <td>N55689-1 N35729-0</td>\n",
       "      <td>0</td>\n",
       "      <td>9</td>\n",
       "      <td>0</td>\n",
       "      <td>0</td>\n",
       "    </tr>\n",
       "    <tr>\n",
       "      <th>1</th>\n",
       "      <td>2</td>\n",
       "      <td>U91836</td>\n",
       "      <td>2019-11-12 18:11:30</td>\n",
       "      <td>N31739 N6072 N63045 N23979 N35656 N43353 N8129...</td>\n",
       "      <td>N20678-0 N39317-0 N58114-0 N20495-0 N42977-0 N...</td>\n",
       "      <td>1</td>\n",
       "      <td>18</td>\n",
       "      <td>1</td>\n",
       "      <td>0</td>\n",
       "    </tr>\n",
       "    <tr>\n",
       "      <th>2</th>\n",
       "      <td>3</td>\n",
       "      <td>U73700</td>\n",
       "      <td>2019-11-14 07:01:48</td>\n",
       "      <td>N10732 N25792 N7563 N21087 N41087 N5445 N60384...</td>\n",
       "      <td>N50014-0 N23877-0 N35389-0 N49712-0 N16844-0 N...</td>\n",
       "      <td>3</td>\n",
       "      <td>7</td>\n",
       "      <td>0</td>\n",
       "      <td>0</td>\n",
       "    </tr>\n",
       "  </tbody>\n",
       "</table>\n",
       "</div>"
      ],
      "text/plain": [
       "   impression_id user_id                time  \\\n",
       "0              1  U13740 2019-11-11 09:05:58   \n",
       "1              2  U91836 2019-11-12 18:11:30   \n",
       "2              3  U73700 2019-11-14 07:01:48   \n",
       "\n",
       "                                             history  \\\n",
       "0  N55189 N42782 N34694 N45794 N18445 N63302 N104...   \n",
       "1  N31739 N6072 N63045 N23979 N35656 N43353 N8129...   \n",
       "2  N10732 N25792 N7563 N21087 N41087 N5445 N60384...   \n",
       "\n",
       "                                         impressions  weekday  hour  \\\n",
       "0                                  N55689-1 N35729-0        0     9   \n",
       "1  N20678-0 N39317-0 N58114-0 N20495-0 N42977-0 N...        1    18   \n",
       "2  N50014-0 N23877-0 N35389-0 N49712-0 N16844-0 N...        3     7   \n",
       "\n",
       "   is_afternoon  is_weekend  \n",
       "0             0           0  \n",
       "1             1           0  \n",
       "2             0           0  "
      ]
     },
     "execution_count": 14,
     "metadata": {},
     "output_type": "execute_result"
    }
   ],
   "source": [
    "behaviors_df['is_afternoon']=behaviors_df['is_afternoon']*1\n",
    "behaviors_df.head(3)"
   ]
  },
  {
   "cell_type": "code",
   "execution_count": 15,
   "metadata": {},
   "outputs": [
    {
     "data": {
      "text/html": [
       "<div>\n",
       "<style scoped>\n",
       "    .dataframe tbody tr th:only-of-type {\n",
       "        vertical-align: middle;\n",
       "    }\n",
       "\n",
       "    .dataframe tbody tr th {\n",
       "        vertical-align: top;\n",
       "    }\n",
       "\n",
       "    .dataframe thead th {\n",
       "        text-align: right;\n",
       "    }\n",
       "</style>\n",
       "<table border=\"1\" class=\"dataframe\">\n",
       "  <thead>\n",
       "    <tr style=\"text-align: right;\">\n",
       "      <th></th>\n",
       "      <th>user_id</th>\n",
       "      <th>news_id</th>\n",
       "      <th>clicked</th>\n",
       "    </tr>\n",
       "  </thead>\n",
       "  <tbody>\n",
       "    <tr>\n",
       "      <th>0</th>\n",
       "      <td>U13740</td>\n",
       "      <td>N55689</td>\n",
       "      <td>1</td>\n",
       "    </tr>\n",
       "    <tr>\n",
       "      <th>1</th>\n",
       "      <td>U13740</td>\n",
       "      <td>N35729</td>\n",
       "      <td>0</td>\n",
       "    </tr>\n",
       "    <tr>\n",
       "      <th>2</th>\n",
       "      <td>U91836</td>\n",
       "      <td>N20678</td>\n",
       "      <td>0</td>\n",
       "    </tr>\n",
       "    <tr>\n",
       "      <th>3</th>\n",
       "      <td>U91836</td>\n",
       "      <td>N39317</td>\n",
       "      <td>0</td>\n",
       "    </tr>\n",
       "    <tr>\n",
       "      <th>4</th>\n",
       "      <td>U91836</td>\n",
       "      <td>N58114</td>\n",
       "      <td>0</td>\n",
       "    </tr>\n",
       "  </tbody>\n",
       "</table>\n",
       "</div>"
      ],
      "text/plain": [
       "  user_id news_id  clicked\n",
       "0  U13740  N55689        1\n",
       "1  U13740  N35729        0\n",
       "2  U91836  N20678        0\n",
       "3  U91836  N39317        0\n",
       "4  U91836  N58114        0"
      ]
     },
     "execution_count": 15,
     "metadata": {},
     "output_type": "execute_result"
    }
   ],
   "source": [
    "impressions_df = pd.read_csv('./Data/impressions.csv')  \n",
    "impressions_df.head()"
   ]
  },
  {
   "cell_type": "code",
   "execution_count": 16,
   "metadata": {},
   "outputs": [
    {
     "data": {
      "text/plain": [
       "(5843444, 3)"
      ]
     },
     "execution_count": 16,
     "metadata": {},
     "output_type": "execute_result"
    }
   ],
   "source": [
    "impressions_df.shape"
   ]
  },
  {
   "cell_type": "code",
   "execution_count": 17,
   "metadata": {},
   "outputs": [
    {
     "data": {
      "text/html": [
       "<div>\n",
       "<style scoped>\n",
       "    .dataframe tbody tr th:only-of-type {\n",
       "        vertical-align: middle;\n",
       "    }\n",
       "\n",
       "    .dataframe tbody tr th {\n",
       "        vertical-align: top;\n",
       "    }\n",
       "\n",
       "    .dataframe thead th {\n",
       "        text-align: right;\n",
       "    }\n",
       "</style>\n",
       "<table border=\"1\" class=\"dataframe\">\n",
       "  <thead>\n",
       "    <tr style=\"text-align: right;\">\n",
       "      <th></th>\n",
       "      <th>impression_id</th>\n",
       "      <th>user_id</th>\n",
       "      <th>news_id</th>\n",
       "      <th>clicked</th>\n",
       "      <th>time</th>\n",
       "    </tr>\n",
       "  </thead>\n",
       "  <tbody>\n",
       "    <tr>\n",
       "      <th>0</th>\n",
       "      <td>1</td>\n",
       "      <td>U13740</td>\n",
       "      <td>N55689</td>\n",
       "      <td>1</td>\n",
       "      <td>2019-11-11 09:05:58</td>\n",
       "    </tr>\n",
       "    <tr>\n",
       "      <th>1</th>\n",
       "      <td>1</td>\n",
       "      <td>U13740</td>\n",
       "      <td>N35729</td>\n",
       "      <td>0</td>\n",
       "      <td>2019-11-11 09:05:58</td>\n",
       "    </tr>\n",
       "    <tr>\n",
       "      <th>2</th>\n",
       "      <td>2</td>\n",
       "      <td>U91836</td>\n",
       "      <td>N20678</td>\n",
       "      <td>0</td>\n",
       "      <td>2019-11-12 18:11:30</td>\n",
       "    </tr>\n",
       "    <tr>\n",
       "      <th>3</th>\n",
       "      <td>2</td>\n",
       "      <td>U91836</td>\n",
       "      <td>N39317</td>\n",
       "      <td>0</td>\n",
       "      <td>2019-11-12 18:11:30</td>\n",
       "    </tr>\n",
       "    <tr>\n",
       "      <th>4</th>\n",
       "      <td>2</td>\n",
       "      <td>U91836</td>\n",
       "      <td>N58114</td>\n",
       "      <td>0</td>\n",
       "      <td>2019-11-12 18:11:30</td>\n",
       "    </tr>\n",
       "  </tbody>\n",
       "</table>\n",
       "</div>"
      ],
      "text/plain": [
       "   impression_id user_id news_id  clicked                time\n",
       "0              1  U13740  N55689        1 2019-11-11 09:05:58\n",
       "1              1  U13740  N35729        0 2019-11-11 09:05:58\n",
       "2              2  U91836  N20678        0 2019-11-12 18:11:30\n",
       "3              2  U91836  N39317        0 2019-11-12 18:11:30\n",
       "4              2  U91836  N58114        0 2019-11-12 18:11:30"
      ]
     },
     "execution_count": 17,
     "metadata": {},
     "output_type": "execute_result"
    }
   ],
   "source": [
    "# behaviors_df 전처리: impressions 컬럼을 펼쳐서 impression_id와 연결\n",
    "\n",
    "temp_list = []\n",
    "\n",
    "for i, row in behaviors_df.iterrows():\n",
    "    impression_id = row['impression_id']\n",
    "    user_id = row['user_id']\n",
    "    time = row['time']\n",
    "    impressions = row['impressions'].split()\n",
    "\n",
    "    for impression in impressions:\n",
    "        news_id, clicked = impression.split('-')\n",
    "        temp_list.append([impression_id, user_id, news_id, int(clicked), time])\n",
    "\n",
    "\n",
    "expanded_impressions_df = pd.DataFrame(temp_list, columns=['impression_id', 'user_id', 'news_id', 'clicked', 'time'])\n",
    "expanded_impressions_df.head()"
   ]
  },
  {
   "cell_type": "code",
   "execution_count": 18,
   "metadata": {},
   "outputs": [
    {
     "data": {
      "text/html": [
       "<div>\n",
       "<style scoped>\n",
       "    .dataframe tbody tr th:only-of-type {\n",
       "        vertical-align: middle;\n",
       "    }\n",
       "\n",
       "    .dataframe tbody tr th {\n",
       "        vertical-align: top;\n",
       "    }\n",
       "\n",
       "    .dataframe thead th {\n",
       "        text-align: right;\n",
       "    }\n",
       "</style>\n",
       "<table border=\"1\" class=\"dataframe\">\n",
       "  <thead>\n",
       "    <tr style=\"text-align: right;\">\n",
       "      <th></th>\n",
       "      <th>impression_id</th>\n",
       "      <th>user_id</th>\n",
       "      <th>news_id</th>\n",
       "      <th>clicked</th>\n",
       "      <th>time</th>\n",
       "      <th>hour</th>\n",
       "      <th>weekday</th>\n",
       "      <th>is_afternoon</th>\n",
       "      <th>is_weekend</th>\n",
       "    </tr>\n",
       "  </thead>\n",
       "  <tbody>\n",
       "    <tr>\n",
       "      <th>0</th>\n",
       "      <td>1</td>\n",
       "      <td>U13740</td>\n",
       "      <td>N55689</td>\n",
       "      <td>1</td>\n",
       "      <td>2019-11-11 09:05:58</td>\n",
       "      <td>9</td>\n",
       "      <td>0</td>\n",
       "      <td>0</td>\n",
       "      <td>0</td>\n",
       "    </tr>\n",
       "    <tr>\n",
       "      <th>1</th>\n",
       "      <td>1</td>\n",
       "      <td>U13740</td>\n",
       "      <td>N35729</td>\n",
       "      <td>0</td>\n",
       "      <td>2019-11-11 09:05:58</td>\n",
       "      <td>9</td>\n",
       "      <td>0</td>\n",
       "      <td>0</td>\n",
       "      <td>0</td>\n",
       "    </tr>\n",
       "    <tr>\n",
       "      <th>2</th>\n",
       "      <td>2</td>\n",
       "      <td>U91836</td>\n",
       "      <td>N20678</td>\n",
       "      <td>0</td>\n",
       "      <td>2019-11-12 18:11:30</td>\n",
       "      <td>18</td>\n",
       "      <td>1</td>\n",
       "      <td>1</td>\n",
       "      <td>0</td>\n",
       "    </tr>\n",
       "    <tr>\n",
       "      <th>3</th>\n",
       "      <td>2</td>\n",
       "      <td>U91836</td>\n",
       "      <td>N39317</td>\n",
       "      <td>0</td>\n",
       "      <td>2019-11-12 18:11:30</td>\n",
       "      <td>18</td>\n",
       "      <td>1</td>\n",
       "      <td>1</td>\n",
       "      <td>0</td>\n",
       "    </tr>\n",
       "    <tr>\n",
       "      <th>4</th>\n",
       "      <td>2</td>\n",
       "      <td>U91836</td>\n",
       "      <td>N58114</td>\n",
       "      <td>0</td>\n",
       "      <td>2019-11-12 18:11:30</td>\n",
       "      <td>18</td>\n",
       "      <td>1</td>\n",
       "      <td>1</td>\n",
       "      <td>0</td>\n",
       "    </tr>\n",
       "  </tbody>\n",
       "</table>\n",
       "</div>"
      ],
      "text/plain": [
       "   impression_id user_id news_id  clicked                time  hour  weekday  \\\n",
       "0              1  U13740  N55689        1 2019-11-11 09:05:58     9        0   \n",
       "1              1  U13740  N35729        0 2019-11-11 09:05:58     9        0   \n",
       "2              2  U91836  N20678        0 2019-11-12 18:11:30    18        1   \n",
       "3              2  U91836  N39317        0 2019-11-12 18:11:30    18        1   \n",
       "4              2  U91836  N58114        0 2019-11-12 18:11:30    18        1   \n",
       "\n",
       "   is_afternoon  is_weekend  \n",
       "0             0           0  \n",
       "1             0           0  \n",
       "2             1           0  \n",
       "3             1           0  \n",
       "4             1           0  "
      ]
     },
     "execution_count": 18,
     "metadata": {},
     "output_type": "execute_result"
    }
   ],
   "source": [
    "expanded_impressions_df['time'] = pd.to_datetime(expanded_impressions_df['time'])\n",
    "\n",
    "# 시간대, 요일 등 추가 피쳐 생성\n",
    "expanded_impressions_df['hour'] = expanded_impressions_df['time'].dt.hour\n",
    "expanded_impressions_df['weekday'] = expanded_impressions_df['time'].dt.weekday\n",
    "expanded_impressions_df['is_afternoon'] = (expanded_impressions_df['hour'] >= 12).astype(int)\n",
    "expanded_impressions_df['is_weekend'] = expanded_impressions_df['weekday'].isin([5, 6]).astype(int)\n",
    "\n",
    "expanded_impressions_df.head()\n"
   ]
  },
  {
   "cell_type": "code",
   "execution_count": 19,
   "metadata": {},
   "outputs": [],
   "source": [
    "expanded_impressions_df.to_csv('./expanded_impressions.csv', index=False)   "
   ]
  },
  {
   "cell_type": "code",
   "execution_count": 20,
   "metadata": {},
   "outputs": [],
   "source": [
    "#expanded_impressions_df= pd.read_csv('./expanded_impressions.csv')  "
   ]
  },
  {
   "cell_type": "markdown",
   "metadata": {},
   "source": [
    "\n",
    "\n",
    "- impression_id\t: 원래 behaviors_df의 노출 ID\n",
    "- user_id\t: 사용자 ID\n",
    "- news_id\t: 뉴스 ID\n",
    "- clicked\t: 클릭 여부(0, 1)\n",
    "- time\t: 뉴스 노출 시간\n",
    "- hour\t: 시간대(0~23시)\n",
    "- weekday\t: 요일(0=월요일, 6=일요일)\n",
    "- is_afternoon\t: 오후 여부(0=오전, 1=오후)\n",
    "- is_weekend\t: 주말 여부(0=평일, 1=주말)"
   ]
  },
  {
   "cell_type": "markdown",
   "metadata": {},
   "source": [
    "### 사용자 수와 평균 클릭 수/ 클릭률"
   ]
  },
  {
   "cell_type": "code",
   "execution_count": 37,
   "metadata": {},
   "outputs": [
    {
     "name": "stdout",
     "output_type": "stream",
     "text": [
      "전체 사용자 수: 49108\n",
      "평균 클릭 수: 4.71\n"
     ]
    }
   ],
   "source": [
    "user_clicks = expanded_impressions_df.groupby('user_id')['clicked'].sum()\n",
    "print(f\"전체 사용자 수: {user_clicks.shape[0]}\")\n",
    "print(f\"평균 클릭 수: {user_clicks.mean():.2f}\")\n",
    "\n"
   ]
  },
  {
   "cell_type": "code",
   "execution_count": 41,
   "metadata": {},
   "outputs": [
    {
     "name": "stdout",
     "output_type": "stream",
     "text": [
      "전체 사용자 수: 49108\n",
      "평균 클릭 수: 4.71\n",
      "전체 클릭 수: 231530\n",
      "전체 노출 수: 5723002\n",
      "전체 클릭률(CTR): 4.05%\n"
     ]
    }
   ],
   "source": [
    "user_clicks = expanded_impressions_df.groupby('user_id')['clicked'].sum()\n",
    "\n",
    "# 전체 사용자 수\n",
    "total_users = user_clicks.shape[0]\n",
    "\n",
    "# 평균 클릭 수\n",
    "avg_clicks = user_clicks.mean()\n",
    "\n",
    "#전체 클릭 수 & 전체 노출 수\n",
    "total_clicks = expanded_impressions_df['clicked'].sum()\n",
    "total_impressions = expanded_impressions_df.shape[0]  # 노출된 전체 수\n",
    "\n",
    "overall_ctr = (total_clicks / total_impressions) * 100\n",
    "\n",
    "\n",
    "print(f\"전체 사용자 수: {total_users}\")\n",
    "print(f\"평균 클릭 수: {avg_clicks:.2f}\")\n",
    "print(f\"전체 클릭 수: {total_clicks}\")\n",
    "print(f\"전체 노출 수: {total_impressions}\")\n",
    "print(f\"전체 클릭률(CTR): {overall_ctr:.2f}%\")\n"
   ]
  },
  {
   "cell_type": "markdown",
   "metadata": {},
   "source": [
    "### 클릭 수 분포"
   ]
  },
  {
   "cell_type": "code",
   "execution_count": 35,
   "metadata": {},
   "outputs": [
    {
     "data": {
      "image/png": "[encoded data removed]",
      "text/plain": [
       "<Figure size 800x400 with 1 Axes>"
      ]
     },
     "metadata": {},
     "output_type": "display_data"
    }
   ],
   "source": [
    "\n",
    "plt.figure(figsize=(8, 4))\n",
    "sns.histplot(user_clicks, bins=30, kde=True)\n",
    "plt.title(\"사용자별 클릭 수 분포\")\n",
    "plt.xlabel(\"클릭 수\")\n",
    "plt.show()\n"
   ]
  },
  {
   "cell_type": "code",
   "execution_count": 39,
   "metadata": {},
   "outputs": [
    {
     "data": {
      "text/plain": [
       "count    49108.000000\n",
       "mean         4.714710\n",
       "std          5.783777\n",
       "min          1.000000\n",
       "25%          1.000000\n",
       "50%          3.000000\n",
       "75%          6.000000\n",
       "max        129.000000\n",
       "Name: clicked, dtype: float64"
      ]
     },
     "execution_count": 39,
     "metadata": {},
     "output_type": "execute_result"
    }
   ],
   "source": [
    "user_clicks.describe()"
   ]
  },
  {
   "cell_type": "code",
   "execution_count": 23,
   "metadata": {},
   "outputs": [
    {
     "data": {
      "text/plain": [
       "<Axes: >"
      ]
     },
     "execution_count": 23,
     "metadata": {},
     "output_type": "execute_result"
    },
    {
     "data": {
      "image/png": "[encoded data removed]",
      "text/plain": [
       "<Figure size 800x200 with 1 Axes>"
      ]
     },
     "metadata": {},
     "output_type": "display_data"
    }
   ],
   "source": [
    "user_clicks.plot(kind='box', vert=False, figsize=(8, 2))    "
   ]
  },
  {
   "cell_type": "code",
   "execution_count": 24,
   "metadata": {},
   "outputs": [
    {
     "data": {
      "text/plain": [
       "count    49108.000000\n",
       "mean         4.714710\n",
       "std          5.783777\n",
       "min          1.000000\n",
       "25%          1.000000\n",
       "50%          3.000000\n",
       "75%          6.000000\n",
       "max        129.000000\n",
       "Name: clicked, dtype: float64"
      ]
     },
     "execution_count": 24,
     "metadata": {},
     "output_type": "execute_result"
    }
   ],
   "source": [
    "user_clicks.describe()"
   ]
  },
  {
   "cell_type": "code",
   "execution_count": 25,
   "metadata": {},
   "outputs": [],
   "source": [
    "# 평균 클릭 수는 5회 정도이며, 대부분의 사용자가 0~10회 사이의 클릭을 한 것을 확인"
   ]
  },
  {
   "cell_type": "code",
   "execution_count": 26,
   "metadata": {},
   "outputs": [
    {
     "name": "stdout",
     "output_type": "stream",
     "text": [
      "상위 클릭 사용자\n"
     ]
    },
    {
     "data": {
      "text/plain": [
       "user_id\n",
       "U53220    129\n",
       "U70550    120\n",
       "U63482    112\n",
       "U20833     98\n",
       "U32322     96\n",
       "Name: clicked, dtype: int64"
      ]
     },
     "metadata": {},
     "output_type": "display_data"
    },
    {
     "name": "stdout",
     "output_type": "stream",
     "text": [
      "거의 클릭하지 않은 사용자\n"
     ]
    },
    {
     "data": {
      "text/plain": [
       "user_id\n",
       "U100      1\n",
       "U10008    1\n",
       "U10015    1\n",
       "U10026    1\n",
       "U10038    1\n",
       "Name: clicked, dtype: int64"
      ]
     },
     "metadata": {},
     "output_type": "display_data"
    }
   ],
   "source": [
    "print(\"상위 클릭 사용자\")\n",
    "display(user_clicks.sort_values(ascending=False).head())\n",
    "\n",
    "print(\"거의 클릭하지 않은 사용자\")\n",
    "display(user_clicks[user_clicks == 1].head())"
   ]
  },
  {
   "cell_type": "markdown",
   "metadata": {},
   "source": [
    "### 시간대별 클릭수"
   ]
  },
  {
   "cell_type": "code",
   "execution_count": 34,
   "metadata": {},
   "outputs": [
    {
     "data": {
      "image/png": "[encoded data removed]",
      "text/plain": [
       "<Figure size 900x400 with 1 Axes>"
      ]
     },
     "metadata": {},
     "output_type": "display_data"
    }
   ],
   "source": [
    "hourly_clicks = expanded_impressions_df.groupby('hour')['clicked'].sum()\n",
    "plt.figure(figsize=(9,4\n",
    "                    ))\n",
    "sns.lineplot(x=hourly_clicks.index, y=hourly_clicks.values)\n",
    "plt.title(\"시간대별 클릭 수\")\n",
    "plt.xlabel(\"시간대(0~23시)\")\n",
    "plt.ylabel(\"클릭 수\")\n",
    "plt.grid(True)\n",
    "plt.show()"
   ]
  },
  {
   "cell_type": "code",
   "execution_count": 32,
   "metadata": {},
   "outputs": [
    {
     "data": {
      "image/png": "[encoded data removed]",
      "text/plain": [
       "<Figure size 900x200 with 1 Axes>"
      ]
     },
     "metadata": {},
     "output_type": "display_data"
    }
   ],
   "source": [
    "hourly_ctr = expanded_impressions_df.groupby(\"hour\")[\"clicked\"].mean().reset_index()\n",
    "\n",
    "plt.figure(figsize=(9,2))\n",
    "sns.lineplot(x=hourly_ctr[\"hour\"], y=hourly_ctr[\"clicked\"], marker=\"o\")\n",
    "plt.xlabel(\"시간대 (Hour)\")\n",
    "plt.ylabel(\"Click-Through Rate (CTR)\")\n",
    "plt.title(\"시간대별 클릭률(CTR)\")\n",
    "plt.grid(True)\n",
    "plt.show()\n"
   ]
  },
  {
   "cell_type": "code",
   "execution_count": 29,
   "metadata": {},
   "outputs": [],
   "source": [
    "# 아침 시간대에 클릭 수가 증가하며, 오후 시간대에 감소하는 경향을 보임  "
   ]
  },
  {
   "cell_type": "code",
   "execution_count": 31,
   "metadata": {},
   "outputs": [],
   "source": [
    "news_df= pd.read_csv('./Data/news.csv')"
   ]
  },
  {
   "cell_type": "code",
   "execution_count": 32,
   "metadata": {},
   "outputs": [
    {
     "data": {
      "image/png": "[encoded data removed]",
      "text/plain": [
       "<Figure size 800x400 with 1 Axes>"
      ]
     },
     "metadata": {},
     "output_type": "display_data"
    },
    {
     "name": "stdout",
     "output_type": "stream",
     "text": [
      "category\n",
      "news             15774\n",
      "sports           14510\n",
      "finance           3107\n",
      "foodanddrink      2551\n",
      "lifestyle         2479\n",
      "travel            2350\n",
      "video             2068\n",
      "weather           2048\n",
      "health            1885\n",
      "autos             1639\n",
      "tv                 889\n",
      "music              769\n",
      "movies             606\n",
      "entertainment      587\n",
      "kids                17\n",
      "middleeast           2\n",
      "northamerica         1\n",
      "Name: count, dtype: int64\n"
     ]
    }
   ],
   "source": [
    "category_counts = news_df['category'].value_counts()\n",
    "\n",
    "plt.figure(figsize=(8, 4))\n",
    "sns.barplot(x=category_counts.index, y=category_counts.values)\n",
    "plt.title(\"카테고리별 뉴스 수\")\n",
    "plt.xticks(rotation=45)\n",
    "plt.show()\n",
    "\n",
    "print(category_counts)\n"
   ]
  },
  {
   "cell_type": "markdown",
   "metadata": {},
   "source": [
    "### 클릭수가 많은 뉴스"
   ]
  },
  {
   "cell_type": "code",
   "execution_count": 33,
   "metadata": {},
   "outputs": [
    {
     "name": "stdout",
     "output_type": "stream",
     "text": [
      "클릭 많은 뉴스 TOP 10 (제목 + 카테고리)\n"
     ]
    },
    {
     "data": {
      "text/html": [
       "<div>\n",
       "<style scoped>\n",
       "    .dataframe tbody tr th:only-of-type {\n",
       "        vertical-align: middle;\n",
       "    }\n",
       "\n",
       "    .dataframe tbody tr th {\n",
       "        vertical-align: top;\n",
       "    }\n",
       "\n",
       "    .dataframe thead th {\n",
       "        text-align: right;\n",
       "    }\n",
       "</style>\n",
       "<table border=\"1\" class=\"dataframe\">\n",
       "  <thead>\n",
       "    <tr style=\"text-align: right;\">\n",
       "      <th></th>\n",
       "      <th>news_id</th>\n",
       "      <th>title</th>\n",
       "      <th>category</th>\n",
       "      <th>clicked</th>\n",
       "    </tr>\n",
       "  </thead>\n",
       "  <tbody>\n",
       "    <tr>\n",
       "      <th>1</th>\n",
       "      <td>N55689</td>\n",
       "      <td>Charles Rogers, former Michigan State football...</td>\n",
       "      <td>sports</td>\n",
       "      <td>4249</td>\n",
       "    </tr>\n",
       "    <tr>\n",
       "      <th>8</th>\n",
       "      <td>N35729</td>\n",
       "      <td>Porsche launches into second story of New Jers...</td>\n",
       "      <td>news</td>\n",
       "      <td>3289</td>\n",
       "    </tr>\n",
       "    <tr>\n",
       "      <th>3</th>\n",
       "      <td>N33619</td>\n",
       "      <td>College gymnast dies following training accide...</td>\n",
       "      <td>news</td>\n",
       "      <td>3181</td>\n",
       "    </tr>\n",
       "    <tr>\n",
       "      <th>6</th>\n",
       "      <td>N53585</td>\n",
       "      <td>Rip Taylor's Cause of Death Revealed, Memorial...</td>\n",
       "      <td>tv</td>\n",
       "      <td>2782</td>\n",
       "    </tr>\n",
       "    <tr>\n",
       "      <th>4</th>\n",
       "      <td>N63970</td>\n",
       "      <td>Dean Foods files for bankruptcy</td>\n",
       "      <td>finance</td>\n",
       "      <td>2519</td>\n",
       "    </tr>\n",
       "    <tr>\n",
       "      <th>9</th>\n",
       "      <td>N49685</td>\n",
       "      <td>Broadway Star Laurel Griggs Suffered Asthma At...</td>\n",
       "      <td>music</td>\n",
       "      <td>2249</td>\n",
       "    </tr>\n",
       "    <tr>\n",
       "      <th>7</th>\n",
       "      <td>N49279</td>\n",
       "      <td>Broadway Actress Laurel Griggs Dies at Age 13</td>\n",
       "      <td>music</td>\n",
       "      <td>2234</td>\n",
       "    </tr>\n",
       "    <tr>\n",
       "      <th>0</th>\n",
       "      <td>N287</td>\n",
       "      <td>Three school workers charged in death of speci...</td>\n",
       "      <td>news</td>\n",
       "      <td>2074</td>\n",
       "    </tr>\n",
       "    <tr>\n",
       "      <th>2</th>\n",
       "      <td>N23446</td>\n",
       "      <td>Prince Harry and Meghan Markle just shared a n...</td>\n",
       "      <td>lifestyle</td>\n",
       "      <td>1888</td>\n",
       "    </tr>\n",
       "    <tr>\n",
       "      <th>5</th>\n",
       "      <td>N51048</td>\n",
       "      <td>Rep. Tim Ryan endorses Biden in Democratic pri...</td>\n",
       "      <td>news</td>\n",
       "      <td>1832</td>\n",
       "    </tr>\n",
       "  </tbody>\n",
       "</table>\n",
       "</div>"
      ],
      "text/plain": [
       "  news_id                                              title   category  \\\n",
       "1  N55689  Charles Rogers, former Michigan State football...     sports   \n",
       "8  N35729  Porsche launches into second story of New Jers...       news   \n",
       "3  N33619  College gymnast dies following training accide...       news   \n",
       "6  N53585  Rip Taylor's Cause of Death Revealed, Memorial...         tv   \n",
       "4  N63970                    Dean Foods files for bankruptcy    finance   \n",
       "9  N49685  Broadway Star Laurel Griggs Suffered Asthma At...      music   \n",
       "7  N49279      Broadway Actress Laurel Griggs Dies at Age 13      music   \n",
       "0    N287  Three school workers charged in death of speci...       news   \n",
       "2  N23446  Prince Harry and Meghan Markle just shared a n...  lifestyle   \n",
       "5  N51048  Rep. Tim Ryan endorses Biden in Democratic pri...       news   \n",
       "\n",
       "   clicked  \n",
       "1     4249  \n",
       "8     3289  \n",
       "3     3181  \n",
       "6     2782  \n",
       "4     2519  \n",
       "9     2249  \n",
       "7     2234  \n",
       "0     2074  \n",
       "2     1888  \n",
       "5     1832  "
      ]
     },
     "metadata": {},
     "output_type": "display_data"
    }
   ],
   "source": [
    "news_clicks = expanded_impressions_df.groupby('news_id')['clicked'].sum().sort_values(ascending=False)\n",
    "\n",
    "top_clicked_news_ids = news_clicks.head(10).index.tolist()\n",
    "\n",
    "# 뉴스 제목, 카테고리 함께 출력\n",
    "top_clicked_news_info = news_df[news_df['news_id'].isin(top_clicked_news_ids)][['news_id', 'title', 'category']]\n",
    "\n",
    "# 클릭 수 정보도 같이 붙이기\n",
    "top_clicked_news_info = top_clicked_news_info.merge(\n",
    "    news_clicks.reset_index(),\n",
    "    on='news_id',\n",
    "    how='left'\n",
    ")\n",
    "\n",
    "# 클릭 수 기준으로 다시 정렬 (병합하면서 순서 뒤섞일 수 있음)\n",
    "top_clicked_news_info = top_clicked_news_info.sort_values(by='clicked', ascending=False)\n",
    "\n",
    "print(\"클릭 많은 뉴스 TOP 10 (제목 + 카테고리)\")\n",
    "display(top_clicked_news_info)\n"
   ]
  },
  {
   "cell_type": "markdown",
   "metadata": {},
   "source": [
    "### 카테고리별 클릭 수"
   ]
  },
  {
   "cell_type": "code",
   "execution_count": 34,
   "metadata": {},
   "outputs": [
    {
     "data": {
      "image/png": "[encoded data removed]",
      "text/plain": [
       "<Figure size 800x400 with 1 Axes>"
      ]
     },
     "metadata": {},
     "output_type": "display_data"
    }
   ],
   "source": [
    "\n",
    "category_clicks = expanded_impressions_df.merge(\n",
    "    news_df[['news_id', 'category']],\n",
    "    on='news_id',\n",
    "    how='left'\n",
    ").groupby('category')['clicked'].sum().sort_values(ascending=False)\n",
    "\n",
    "plt.figure(figsize=(8, 4))\n",
    "sns.barplot(x=category_clicks.index, y=category_clicks.values)\n",
    "plt.title(\"카테고리별 클릭 수\")\n",
    "plt.xticks(rotation=45)\n",
    "plt.ylabel(\"클릭 수\")\n",
    "plt.show()\n"
   ]
  },
  {
   "cell_type": "code",
   "execution_count": 35,
   "metadata": {},
   "outputs": [
    {
     "data": {
      "text/html": [
       "<div>\n",
       "<style scoped>\n",
       "    .dataframe tbody tr th:only-of-type {\n",
       "        vertical-align: middle;\n",
       "    }\n",
       "\n",
       "    .dataframe tbody tr th {\n",
       "        vertical-align: top;\n",
       "    }\n",
       "\n",
       "    .dataframe thead th {\n",
       "        text-align: right;\n",
       "    }\n",
       "</style>\n",
       "<table border=\"1\" class=\"dataframe\">\n",
       "  <thead>\n",
       "    <tr style=\"text-align: right;\">\n",
       "      <th></th>\n",
       "      <th>category</th>\n",
       "      <th>clicked</th>\n",
       "    </tr>\n",
       "  </thead>\n",
       "  <tbody>\n",
       "    <tr>\n",
       "      <th>0</th>\n",
       "      <td>news</td>\n",
       "      <td>68062</td>\n",
       "    </tr>\n",
       "    <tr>\n",
       "      <th>1</th>\n",
       "      <td>sports</td>\n",
       "      <td>27632</td>\n",
       "    </tr>\n",
       "    <tr>\n",
       "      <th>2</th>\n",
       "      <td>lifestyle</td>\n",
       "      <td>26001</td>\n",
       "    </tr>\n",
       "    <tr>\n",
       "      <th>3</th>\n",
       "      <td>finance</td>\n",
       "      <td>20160</td>\n",
       "    </tr>\n",
       "    <tr>\n",
       "      <th>4</th>\n",
       "      <td>music</td>\n",
       "      <td>15650</td>\n",
       "    </tr>\n",
       "    <tr>\n",
       "      <th>5</th>\n",
       "      <td>tv</td>\n",
       "      <td>14293</td>\n",
       "    </tr>\n",
       "    <tr>\n",
       "      <th>6</th>\n",
       "      <td>foodanddrink</td>\n",
       "      <td>10643</td>\n",
       "    </tr>\n",
       "    <tr>\n",
       "      <th>7</th>\n",
       "      <td>health</td>\n",
       "      <td>10635</td>\n",
       "    </tr>\n",
       "    <tr>\n",
       "      <th>8</th>\n",
       "      <td>entertainment</td>\n",
       "      <td>10297</td>\n",
       "    </tr>\n",
       "    <tr>\n",
       "      <th>9</th>\n",
       "      <td>travel</td>\n",
       "      <td>8118</td>\n",
       "    </tr>\n",
       "    <tr>\n",
       "      <th>10</th>\n",
       "      <td>autos</td>\n",
       "      <td>7264</td>\n",
       "    </tr>\n",
       "    <tr>\n",
       "      <th>11</th>\n",
       "      <td>weather</td>\n",
       "      <td>4491</td>\n",
       "    </tr>\n",
       "    <tr>\n",
       "      <th>12</th>\n",
       "      <td>video</td>\n",
       "      <td>4173</td>\n",
       "    </tr>\n",
       "    <tr>\n",
       "      <th>13</th>\n",
       "      <td>movies</td>\n",
       "      <td>4107</td>\n",
       "    </tr>\n",
       "    <tr>\n",
       "      <th>14</th>\n",
       "      <td>kids</td>\n",
       "      <td>3</td>\n",
       "    </tr>\n",
       "    <tr>\n",
       "      <th>15</th>\n",
       "      <td>northamerica</td>\n",
       "      <td>1</td>\n",
       "    </tr>\n",
       "  </tbody>\n",
       "</table>\n",
       "</div>"
      ],
      "text/plain": [
       "         category  clicked\n",
       "0            news    68062\n",
       "1          sports    27632\n",
       "2       lifestyle    26001\n",
       "3         finance    20160\n",
       "4           music    15650\n",
       "5              tv    14293\n",
       "6    foodanddrink    10643\n",
       "7          health    10635\n",
       "8   entertainment    10297\n",
       "9          travel     8118\n",
       "10          autos     7264\n",
       "11        weather     4491\n",
       "12          video     4173\n",
       "13         movies     4107\n",
       "14           kids        3\n",
       "15   northamerica        1"
      ]
     },
     "execution_count": 35,
     "metadata": {},
     "output_type": "execute_result"
    }
   ],
   "source": [
    "pd.DataFrame(category_clicks).reset_index()"
   ]
  },
  {
   "cell_type": "markdown",
   "metadata": {},
   "source": [
    "### 요일별 클릭수/클릭률"
   ]
  },
  {
   "cell_type": "code",
   "execution_count": 50,
   "metadata": {},
   "outputs": [
    {
     "name": "stderr",
     "output_type": "stream",
     "text": [
      "/var/folders/kp/qjjg7mlj0bx023qd9bw7fngm0000gn/T/ipykernel_1327/1736637931.py:7: FutureWarning: \n",
      "\n",
      "Passing `palette` without assigning `hue` is deprecated and will be removed in v0.14.0. Assign the `x` variable to `hue` and set `legend=False` for the same effect.\n",
      "\n",
      "  ax = sns.barplot(x=weekday_ctr[\"weekday\"], y=weekday_ctr[\"clicked\"], palette=\"pastel\")\n"
     ]
    },
    {
     "data": {
      "image/png": "[encoded data removed]",
      "text/plain": [
       "<Figure size 800x300 with 1 Axes>"
      ]
     },
     "metadata": {},
     "output_type": "display_data"
    }
   ],
   "source": [
    "# 요일 변환 (0=월요일, ..., 6=일요일)\n",
    "weekday_labels = [\"월\", \"화\", \"수\", \"목\", \"금\", \"토\", \"일\"]\n",
    "weekday_ctr = expanded_impressions_df.groupby(\"weekday\")[\"clicked\"].mean().reset_index()\n",
    "weekday_ctr[\"weekday\"] = weekday_ctr[\"weekday\"].map(lambda x: weekday_labels[x])\n",
    "\n",
    "plt.figure(figsize=(8, 3))\n",
    "ax = sns.barplot(x=weekday_ctr[\"weekday\"], y=weekday_ctr[\"clicked\"], palette=\"pastel\")\n",
    "\n",
    "for i, v in enumerate(weekday_ctr[\"clicked\"]):\n",
    "    ax.text(i, v + 0.0005, f\"{v:.2%}\", ha=\"center\", fontsize=10)\n",
    "\n",
    "plt.xlabel(\"요일\")\n",
    "plt.ylabel(\"Click-Through Rate (CTR)\")\n",
    "plt.title(\"요일별 클릭률(CTR)\")\n",
    "plt.show()\n"
   ]
  },
  {
   "cell_type": "code",
   "execution_count": null,
   "metadata": {},
   "outputs": [
    {
     "name": "stderr",
     "output_type": "stream",
     "text": [
      "/var/folders/kp/qjjg7mlj0bx023qd9bw7fngm0000gn/T/ipykernel_1327/2401778230.py:5: FutureWarning: \n",
      "\n",
      "Passing `palette` without assigning `hue` is deprecated and will be removed in v0.14.0. Assign the `x` variable to `hue` and set `legend=False` for the same effect.\n",
      "\n",
      "  ax = sns.barplot(x=weekday_clicks[\"weekday\"], y=weekday_clicks[\"clicked\"], palette=\"pastel\")\n"
     ]
    },
    {
     "data": {
      "image/png": "[encoded data removed]",
      "text/plain": [
       "<Figure size 800x300 with 1 Axes>"
      ]
     },
     "metadata": {},
     "output_type": "display_data"
    }
   ],
   "source": [
    "\n",
    "weekday_clicks = expanded_impressions_df.groupby(\"weekday\")[\"clicked\"].sum().reset_index()\n",
    "weekday_clicks[\"weekday\"] = weekday_clicks[\"weekday\"].map(lambda x: weekday_labels[x])\n",
    "\n",
    "plt.figure(figsize=(8, 3))\n",
    "ax = sns.barplot(x=weekday_clicks[\"weekday\"], y=weekday_clicks[\"clicked\"], palette=\"pastel\")\n",
    "\n",
    "for i, v in enumerate(weekday_clicks[\"clicked\"]):\n",
    "    ax.text(i, v + 500, f\"{v:,}\", ha=\"center\", fontsize=10) \n",
    "\n",
    "plt.xlabel(\"요일\")\n",
    "plt.ylabel(\"클릭 수\")\n",
    "plt.title(\"요일별 클릭 수\")\n",
    "plt.show()\n"
   ]
  },
  {
   "cell_type": "markdown",
   "metadata": {},
   "source": [
    "### 평일/주말 클릭 수"
   ]
  },
  {
   "cell_type": "code",
   "execution_count": 54,
   "metadata": {},
   "outputs": [
    {
     "name": "stderr",
     "output_type": "stream",
     "text": [
      "/var/folders/kp/qjjg7mlj0bx023qd9bw7fngm0000gn/T/ipykernel_1327/1321322718.py:5: FutureWarning: \n",
      "\n",
      "Passing `palette` without assigning `hue` is deprecated and will be removed in v0.14.0. Assign the `x` variable to `hue` and set `legend=False` for the same effect.\n",
      "\n",
      "  ax = sns.barplot(x=['평일', '주말'], y=weekend_clicks.values, palette=\"pastel\")\n"
     ]
    },
    {
     "data": {
      "image/png": "[encoded data removed]",
      "text/plain": [
       "<Figure size 800x300 with 1 Axes>"
      ]
     },
     "metadata": {},
     "output_type": "display_data"
    }
   ],
   "source": [
    "weekend_clicks = expanded_impressions_df.groupby('is_weekend')['clicked'].sum()\n",
    "\n",
    "plt.figure(figsize=(8, 3))\n",
    "\n",
    "ax = sns.barplot(x=['평일', '주말'], y=weekend_clicks.values, palette=\"pastel\")\n",
    "\n",
    "for i, v in enumerate(weekend_clicks.values):\n",
    "    ax.text(i, v + 1000, f\"{v:,}\", ha=\"center\", fontsize=10) \n",
    "\n",
    "plt.title(\"평일 vs 주말 클릭 수\")\n",
    "plt.xlabel(\"평일-주말\")\n",
    "plt.ylabel(\"클릭 수\")\n",
    "plt.show()\n"
   ]
  },
  {
   "cell_type": "code",
   "execution_count": 55,
   "metadata": {},
   "outputs": [
    {
     "name": "stderr",
     "output_type": "stream",
     "text": [
      "/var/folders/kp/qjjg7mlj0bx023qd9bw7fngm0000gn/T/ipykernel_1327/2721250526.py:6: FutureWarning: \n",
      "\n",
      "Passing `palette` without assigning `hue` is deprecated and will be removed in v0.14.0. Assign the `x` variable to `hue` and set `legend=False` for the same effect.\n",
      "\n",
      "  ax = sns.barplot(x=\"is_weekend\", y=\"clicked\", data=weekend_ctr, palette=\"pastel\")\n"
     ]
    },
    {
     "data": {
      "image/png": "[encoded data removed]",
      "text/plain": [
       "<Figure size 800x300 with 1 Axes>"
      ]
     },
     "metadata": {},
     "output_type": "display_data"
    }
   ],
   "source": [
    "weekend_ctr = expanded_impressions_df.groupby(\"is_weekend\")[\"clicked\"].mean().reset_index()\n",
    "weekend_ctr[\"is_weekend\"] = weekend_ctr[\"is_weekend\"].map({0: \"평일\", 1: \"주말\"})\n",
    "\n",
    "plt.figure(figsize=(8, 3))\n",
    "\n",
    "ax = sns.barplot(x=\"is_weekend\", y=\"clicked\", data=weekend_ctr, palette=\"pastel\")\n",
    "\n",
    "for i, v in enumerate(weekend_ctr[\"clicked\"]):\n",
    "    ax.text(i, v + 0.0005, f\"{v:.2%}\", ha=\"center\", fontsize=10) \n",
    "\n",
    "plt.xlabel(\"평일 vs 주말\")\n",
    "plt.ylabel(\"Click-Through Rate (CTR)\")\n",
    "plt.title(\"평일 vs 주말 클릭률(CTR)\")\n",
    "plt.show()\n",
    "\n"
   ]
  },
  {
   "cell_type": "code",
   "execution_count": null,
   "metadata": {},
   "outputs": [
    {
     "data": {
      "text/plain": [
       "weekday\n",
       "2    1203640\n",
       "3    1191854\n",
       "1    1150633\n",
       "0    1146764\n",
       "5     517360\n",
       "6     512751\n",
       "Name: count, dtype: int64"
      ]
     },
     "execution_count": 59,
     "metadata": {},
     "output_type": "execute_result"
    }
   ],
   "source": [
    "expanded_impressions_df['weekday'].value_counts()"
   ]
  },
  {
   "cell_type": "code",
   "execution_count": null,
   "metadata": {},
   "outputs": [],
   "source": [
    "# 금요일이 없는 것이 특이점.."
   ]
  },
  {
   "cell_type": "code",
   "execution_count": null,
   "metadata": {},
   "outputs": [
    {
     "data": {
      "text/plain": [
       "is_weekend\n",
       "0    0.820005\n",
       "1    0.179995\n",
       "Name: proportion, dtype: float64"
      ]
     },
     "execution_count": 62,
     "metadata": {},
     "output_type": "execute_result"
    }
   ],
   "source": [
    "expanded_impressions_df['is_weekend'].value_counts(1)"
   ]
  },
  {
   "cell_type": "markdown",
   "metadata": {},
   "source": [
    "### CTR(클릭률)"
   ]
  },
  {
   "cell_type": "code",
   "execution_count": 49,
   "metadata": {},
   "outputs": [
    {
     "data": {
      "text/html": [
       "<div>\n",
       "<style scoped>\n",
       "    .dataframe tbody tr th:only-of-type {\n",
       "        vertical-align: middle;\n",
       "    }\n",
       "\n",
       "    .dataframe tbody tr th {\n",
       "        vertical-align: top;\n",
       "    }\n",
       "\n",
       "    .dataframe thead th {\n",
       "        text-align: right;\n",
       "    }\n",
       "</style>\n",
       "<table border=\"1\" class=\"dataframe\">\n",
       "  <thead>\n",
       "    <tr style=\"text-align: right;\">\n",
       "      <th></th>\n",
       "      <th>impression_id</th>\n",
       "      <th>user_id</th>\n",
       "      <th>time</th>\n",
       "      <th>history</th>\n",
       "      <th>impressions</th>\n",
       "    </tr>\n",
       "  </thead>\n",
       "  <tbody>\n",
       "    <tr>\n",
       "      <th>0</th>\n",
       "      <td>1</td>\n",
       "      <td>U13740</td>\n",
       "      <td>11/11/2019 9:05:58 AM</td>\n",
       "      <td>N55189 N42782 N34694 N45794 N18445 N63302 N104...</td>\n",
       "      <td>N55689-1 N35729-0</td>\n",
       "    </tr>\n",
       "    <tr>\n",
       "      <th>1</th>\n",
       "      <td>2</td>\n",
       "      <td>U91836</td>\n",
       "      <td>11/12/2019 6:11:30 PM</td>\n",
       "      <td>N31739 N6072 N63045 N23979 N35656 N43353 N8129...</td>\n",
       "      <td>N20678-0 N39317-0 N58114-0 N20495-0 N42977-0 N...</td>\n",
       "    </tr>\n",
       "    <tr>\n",
       "      <th>2</th>\n",
       "      <td>3</td>\n",
       "      <td>U73700</td>\n",
       "      <td>11/14/2019 7:01:48 AM</td>\n",
       "      <td>N10732 N25792 N7563 N21087 N41087 N5445 N60384...</td>\n",
       "      <td>N50014-0 N23877-0 N35389-0 N49712-0 N16844-0 N...</td>\n",
       "    </tr>\n",
       "    <tr>\n",
       "      <th>3</th>\n",
       "      <td>4</td>\n",
       "      <td>U34670</td>\n",
       "      <td>11/11/2019 5:28:05 AM</td>\n",
       "      <td>N45729 N2203 N871 N53880 N41375 N43142 N33013 ...</td>\n",
       "      <td>N35729-0 N33632-0 N49685-1 N27581-0</td>\n",
       "    </tr>\n",
       "    <tr>\n",
       "      <th>4</th>\n",
       "      <td>5</td>\n",
       "      <td>U8125</td>\n",
       "      <td>11/12/2019 4:11:21 PM</td>\n",
       "      <td>N10078 N56514 N14904 N33740</td>\n",
       "      <td>N39985-0 N36050-0 N16096-0 N8400-1 N22407-0 N6...</td>\n",
       "    </tr>\n",
       "  </tbody>\n",
       "</table>\n",
       "</div>"
      ],
      "text/plain": [
       "   impression_id user_id                   time  \\\n",
       "0              1  U13740  11/11/2019 9:05:58 AM   \n",
       "1              2  U91836  11/12/2019 6:11:30 PM   \n",
       "2              3  U73700  11/14/2019 7:01:48 AM   \n",
       "3              4  U34670  11/11/2019 5:28:05 AM   \n",
       "4              5   U8125  11/12/2019 4:11:21 PM   \n",
       "\n",
       "                                             history  \\\n",
       "0  N55189 N42782 N34694 N45794 N18445 N63302 N104...   \n",
       "1  N31739 N6072 N63045 N23979 N35656 N43353 N8129...   \n",
       "2  N10732 N25792 N7563 N21087 N41087 N5445 N60384...   \n",
       "3  N45729 N2203 N871 N53880 N41375 N43142 N33013 ...   \n",
       "4                        N10078 N56514 N14904 N33740   \n",
       "\n",
       "                                         impressions  \n",
       "0                                  N55689-1 N35729-0  \n",
       "1  N20678-0 N39317-0 N58114-0 N20495-0 N42977-0 N...  \n",
       "2  N50014-0 N23877-0 N35389-0 N49712-0 N16844-0 N...  \n",
       "3                N35729-0 N33632-0 N49685-1 N27581-0  \n",
       "4  N39985-0 N36050-0 N16096-0 N8400-1 N22407-0 N6...  "
      ]
     },
     "execution_count": 49,
     "metadata": {},
     "output_type": "execute_result"
    }
   ],
   "source": [
    "behaviors_df.head()"
   ]
  },
  {
   "cell_type": "code",
   "execution_count": 48,
   "metadata": {},
   "outputs": [
    {
     "data": {
      "text/html": [
       "<div>\n",
       "<style scoped>\n",
       "    .dataframe tbody tr th:only-of-type {\n",
       "        vertical-align: middle;\n",
       "    }\n",
       "\n",
       "    .dataframe tbody tr th {\n",
       "        vertical-align: top;\n",
       "    }\n",
       "\n",
       "    .dataframe thead th {\n",
       "        text-align: right;\n",
       "    }\n",
       "</style>\n",
       "<table border=\"1\" class=\"dataframe\">\n",
       "  <thead>\n",
       "    <tr style=\"text-align: right;\">\n",
       "      <th></th>\n",
       "      <th>user_id</th>\n",
       "      <th>news_id</th>\n",
       "      <th>clicked</th>\n",
       "    </tr>\n",
       "  </thead>\n",
       "  <tbody>\n",
       "    <tr>\n",
       "      <th>0</th>\n",
       "      <td>U13740</td>\n",
       "      <td>N55689</td>\n",
       "      <td>1</td>\n",
       "    </tr>\n",
       "    <tr>\n",
       "      <th>1</th>\n",
       "      <td>U13740</td>\n",
       "      <td>N35729</td>\n",
       "      <td>0</td>\n",
       "    </tr>\n",
       "    <tr>\n",
       "      <th>2</th>\n",
       "      <td>U91836</td>\n",
       "      <td>N20678</td>\n",
       "      <td>0</td>\n",
       "    </tr>\n",
       "    <tr>\n",
       "      <th>3</th>\n",
       "      <td>U91836</td>\n",
       "      <td>N39317</td>\n",
       "      <td>0</td>\n",
       "    </tr>\n",
       "    <tr>\n",
       "      <th>4</th>\n",
       "      <td>U91836</td>\n",
       "      <td>N58114</td>\n",
       "      <td>0</td>\n",
       "    </tr>\n",
       "  </tbody>\n",
       "</table>\n",
       "</div>"
      ],
      "text/plain": [
       "  user_id news_id  clicked\n",
       "0  U13740  N55689        1\n",
       "1  U13740  N35729        0\n",
       "2  U91836  N20678        0\n",
       "3  U91836  N39317        0\n",
       "4  U91836  N58114        0"
      ]
     },
     "execution_count": 48,
     "metadata": {},
     "output_type": "execute_result"
    }
   ],
   "source": [
    "impressions_df.head()"
   ]
  },
  {
   "cell_type": "markdown",
   "metadata": {},
   "source": [
    "### 뉴스별 노출 수 "
   ]
  },
  {
   "cell_type": "code",
   "execution_count": 51,
   "metadata": {},
   "outputs": [
    {
     "data": {
      "text/plain": [
       "news_id\n",
       "N10005      1\n",
       "N10007      5\n",
       "N10010     11\n",
       "N10011      4\n",
       "N10015      3\n",
       "         ... \n",
       "N9991      14\n",
       "N9994       2\n",
       "N9997     326\n",
       "N9998       6\n",
       "N9999      12\n",
       "Length: 20288, dtype: int64"
      ]
     },
     "execution_count": 51,
     "metadata": {},
     "output_type": "execute_result"
    }
   ],
   "source": [
    "news_impression_count = expanded_impressions_df.groupby('news_id').size()\n",
    "news_impression_count"
   ]
  },
  {
   "cell_type": "markdown",
   "metadata": {},
   "source": [
    "### 뉴스별 클릭 수"
   ]
  },
  {
   "cell_type": "code",
   "execution_count": 52,
   "metadata": {},
   "outputs": [
    {
     "data": {
      "text/plain": [
       "news_id\n",
       "N10005     0\n",
       "N10007     0\n",
       "N10010     0\n",
       "N10011     0\n",
       "N10015     0\n",
       "          ..\n",
       "N9991      2\n",
       "N9994      0\n",
       "N9997     15\n",
       "N9998      0\n",
       "N9999      2\n",
       "Name: clicked, Length: 20288, dtype: int64"
      ]
     },
     "execution_count": 52,
     "metadata": {},
     "output_type": "execute_result"
    }
   ],
   "source": [
    "news_click_count = expanded_impressions_df.groupby('news_id')['clicked'].sum()\n",
    "news_click_count"
   ]
  },
  {
   "cell_type": "code",
   "execution_count": 53,
   "metadata": {},
   "outputs": [
    {
     "data": {
      "text/plain": [
       "news_id\n",
       "N10005    0.000000\n",
       "N10007    0.000000\n",
       "N10010    0.000000\n",
       "N10011    0.000000\n",
       "N10015    0.000000\n",
       "            ...   \n",
       "N9991     0.142857\n",
       "N9994     0.000000\n",
       "N9997     0.046012\n",
       "N9998     0.000000\n",
       "N9999     0.166667\n",
       "Length: 20288, dtype: float64"
      ]
     },
     "execution_count": 53,
     "metadata": {},
     "output_type": "execute_result"
    }
   ],
   "source": [
    "news_ctr = (news_click_count / news_impression_count).fillna(0)\n",
    "news_ctr"
   ]
  },
  {
   "cell_type": "code",
   "execution_count": 54,
   "metadata": {},
   "outputs": [
    {
     "name": "stdout",
     "output_type": "stream",
     "text": [
      "전체 클릭률(CTR): 0.0404\n"
     ]
    }
   ],
   "source": [
    "ctr = expanded_impressions_df['clicked'].mean()\n",
    "print(f\"전체 클릭률(CTR): {ctr:.4f}\")\n"
   ]
  },
  {
   "cell_type": "code",
   "execution_count": null,
   "metadata": {},
   "outputs": [
    {
     "name": "stdout",
     "output_type": "stream",
     "text": [
      "CTR 높은 뉴스 TOP 10 (제목 + CTR + 노출 수)\n"
     ]
    },
    {
     "data": {
      "text/html": [
       "<div>\n",
       "<style scoped>\n",
       "    .dataframe tbody tr th:only-of-type {\n",
       "        vertical-align: middle;\n",
       "    }\n",
       "\n",
       "    .dataframe tbody tr th {\n",
       "        vertical-align: top;\n",
       "    }\n",
       "\n",
       "    .dataframe thead th {\n",
       "        text-align: right;\n",
       "    }\n",
       "</style>\n",
       "<table border=\"1\" class=\"dataframe\">\n",
       "  <thead>\n",
       "    <tr style=\"text-align: right;\">\n",
       "      <th></th>\n",
       "      <th>news_id</th>\n",
       "      <th>title</th>\n",
       "      <th>category</th>\n",
       "      <th>ctr</th>\n",
       "      <th>impression_count</th>\n",
       "    </tr>\n",
       "  </thead>\n",
       "  <tbody>\n",
       "    <tr>\n",
       "      <th>0</th>\n",
       "      <td>N51567</td>\n",
       "      <td>Ex-Arsenal star Henry to coach Montreal Impact</td>\n",
       "      <td>sports</td>\n",
       "      <td>1.0</td>\n",
       "      <td>1</td>\n",
       "    </tr>\n",
       "    <tr>\n",
       "      <th>1</th>\n",
       "      <td>N39309</td>\n",
       "      <td>Margaret Court calls for grand slam anniversar...</td>\n",
       "      <td>sports</td>\n",
       "      <td>1.0</td>\n",
       "      <td>1</td>\n",
       "    </tr>\n",
       "    <tr>\n",
       "      <th>2</th>\n",
       "      <td>N59659</td>\n",
       "      <td>Friday's Scores</td>\n",
       "      <td>news</td>\n",
       "      <td>1.0</td>\n",
       "      <td>1</td>\n",
       "    </tr>\n",
       "    <tr>\n",
       "      <th>3</th>\n",
       "      <td>N59490</td>\n",
       "      <td>Stretchy, Degradable Semiconductors Are the Fu...</td>\n",
       "      <td>news</td>\n",
       "      <td>1.0</td>\n",
       "      <td>1</td>\n",
       "    </tr>\n",
       "    <tr>\n",
       "      <th>4</th>\n",
       "      <td>N59558</td>\n",
       "      <td>Buffaloes vs. Cardinal: Start time, TV coverag...</td>\n",
       "      <td>sports</td>\n",
       "      <td>1.0</td>\n",
       "      <td>1</td>\n",
       "    </tr>\n",
       "    <tr>\n",
       "      <th>5</th>\n",
       "      <td>N51623</td>\n",
       "      <td>Boy Undergoes Double Lung Transplant In Detroi...</td>\n",
       "      <td>health</td>\n",
       "      <td>1.0</td>\n",
       "      <td>1</td>\n",
       "    </tr>\n",
       "    <tr>\n",
       "      <th>6</th>\n",
       "      <td>N39123</td>\n",
       "      <td>Split Supreme Court appears ready to allow Tru...</td>\n",
       "      <td>news</td>\n",
       "      <td>1.0</td>\n",
       "      <td>1</td>\n",
       "    </tr>\n",
       "    <tr>\n",
       "      <th>7</th>\n",
       "      <td>N16702</td>\n",
       "      <td>Elton John's Farewell Yellow Brick Road Tour r...</td>\n",
       "      <td>music</td>\n",
       "      <td>1.0</td>\n",
       "      <td>1</td>\n",
       "    </tr>\n",
       "    <tr>\n",
       "      <th>8</th>\n",
       "      <td>N24888</td>\n",
       "      <td>Union County deputies kill 81-year-old man who...</td>\n",
       "      <td>news</td>\n",
       "      <td>1.0</td>\n",
       "      <td>1</td>\n",
       "    </tr>\n",
       "    <tr>\n",
       "      <th>9</th>\n",
       "      <td>N62029</td>\n",
       "      <td>Hart Island, Final Resting Place Of 1 Million,...</td>\n",
       "      <td>news</td>\n",
       "      <td>1.0</td>\n",
       "      <td>1</td>\n",
       "    </tr>\n",
       "  </tbody>\n",
       "</table>\n",
       "</div>"
      ],
      "text/plain": [
       "  news_id                                              title category  ctr  \\\n",
       "0  N51567     Ex-Arsenal star Henry to coach Montreal Impact   sports  1.0   \n",
       "1  N39309  Margaret Court calls for grand slam anniversar...   sports  1.0   \n",
       "2  N59659                                    Friday's Scores     news  1.0   \n",
       "3  N59490  Stretchy, Degradable Semiconductors Are the Fu...     news  1.0   \n",
       "4  N59558  Buffaloes vs. Cardinal: Start time, TV coverag...   sports  1.0   \n",
       "5  N51623  Boy Undergoes Double Lung Transplant In Detroi...   health  1.0   \n",
       "6  N39123  Split Supreme Court appears ready to allow Tru...     news  1.0   \n",
       "7  N16702  Elton John's Farewell Yellow Brick Road Tour r...    music  1.0   \n",
       "8  N24888  Union County deputies kill 81-year-old man who...     news  1.0   \n",
       "9  N62029  Hart Island, Final Resting Place Of 1 Million,...     news  1.0   \n",
       "\n",
       "   impression_count  \n",
       "0                 1  \n",
       "1                 1  \n",
       "2                 1  \n",
       "3                 1  \n",
       "4                 1  \n",
       "5                 1  \n",
       "6                 1  \n",
       "7                 1  \n",
       "8                 1  \n",
       "9                 1  "
      ]
     },
     "metadata": {},
     "output_type": "display_data"
    }
   ],
   "source": [
    "news_impression_count = expanded_impressions_df.groupby('news_id').size()\n",
    "news_click_count = expanded_impressions_df.groupby('news_id')['clicked'].sum()\n",
    "\n",
    "news_ctr = (news_click_count / news_impression_count).fillna(0).sort_values(ascending=False)\n",
    "\n",
    "# 상위 10개 뉴스 ID 가져오기\n",
    "top_ctr_news_ids = news_ctr.head(10).index.tolist()\n",
    "\n",
    "# 뉴스 제목 + CTR + 노출 수 함께 출력\n",
    "top_ctr_news_info = news_df[news_df['news_id'].isin(top_ctr_news_ids)][['news_id', 'title', 'category']]\n",
    "\n",
    "# CTR 및 노출 수 붙이기\n",
    "top_ctr_news_info = top_ctr_news_info.merge(\n",
    "    news_ctr.reset_index().rename(columns={0: 'ctr'}),\n",
    "    on='news_id',\n",
    "    how='left'\n",
    ").merge(\n",
    "    news_impression_count.reset_index().rename(columns={0: 'impression_count'}),\n",
    "    on='news_id',\n",
    "    how='left'\n",
    ")\n",
    "\n",
    "top_ctr_news_info = top_ctr_news_info.sort_values(by='ctr', ascending=False)\n",
    "\n",
    "print(\"CTR 높은 뉴스 TOP 10 (제목 + CTR + 노출 수)\")\n",
    "display(top_ctr_news_info)\n"
   ]
  },
  {
   "cell_type": "code",
   "execution_count": 57,
   "metadata": {},
   "outputs": [
    {
     "data": {
      "image/png": "[encoded data removed]",
      "text/plain": [
       "<Figure size 800x400 with 1 Axes>"
      ]
     },
     "metadata": {},
     "output_type": "display_data"
    },
    {
     "name": "stdout",
     "output_type": "stream",
     "text": [
      "category\n",
      "music            0.059433\n",
      "tv               0.059011\n",
      "weather          0.051689\n",
      "sports           0.047585\n",
      "video            0.045464\n",
      "news             0.043624\n",
      "lifestyle        0.040559\n",
      "finance          0.036476\n",
      "health           0.035723\n",
      "northamerica     0.034483\n",
      "movies           0.031690\n",
      "entertainment    0.030092\n",
      "foodanddrink     0.029463\n",
      "autos            0.027367\n",
      "travel           0.026353\n",
      "kids             0.018519\n",
      "Name: clicked, dtype: float64\n"
     ]
    }
   ],
   "source": [
    "category_ctr = expanded_impressions_df.merge(\n",
    "    news_df[['news_id', 'category']],\n",
    "    on='news_id',\n",
    "    how='left'\n",
    ").groupby('category')['clicked'].mean().sort_values(ascending=False)\n",
    "\n",
    "plt.figure(figsize=(8, 4))\n",
    "sns.barplot(x=category_ctr.index, y=category_ctr.values)\n",
    "plt.title(\"카테고리별 CTR\")\n",
    "plt.xticks(rotation=45)\n",
    "plt.ylabel(\"CTR\")\n",
    "plt.show()\n",
    "\n",
    "print(category_ctr)\n"
   ]
  },
  {
   "cell_type": "code",
   "execution_count": 58,
   "metadata": {},
   "outputs": [
    {
     "name": "stdout",
     "output_type": "stream",
     "text": [
      "히스토리 테이블 크기: (5107639, 2)\n"
     ]
    },
    {
     "data": {
      "text/html": [
       "<div>\n",
       "<style scoped>\n",
       "    .dataframe tbody tr th:only-of-type {\n",
       "        vertical-align: middle;\n",
       "    }\n",
       "\n",
       "    .dataframe tbody tr th {\n",
       "        vertical-align: top;\n",
       "    }\n",
       "\n",
       "    .dataframe thead th {\n",
       "        text-align: right;\n",
       "    }\n",
       "</style>\n",
       "<table border=\"1\" class=\"dataframe\">\n",
       "  <thead>\n",
       "    <tr style=\"text-align: right;\">\n",
       "      <th></th>\n",
       "      <th>user_id</th>\n",
       "      <th>history_news_id</th>\n",
       "    </tr>\n",
       "  </thead>\n",
       "  <tbody>\n",
       "    <tr>\n",
       "      <th>0</th>\n",
       "      <td>U13740</td>\n",
       "      <td>N55189</td>\n",
       "    </tr>\n",
       "    <tr>\n",
       "      <th>1</th>\n",
       "      <td>U13740</td>\n",
       "      <td>N42782</td>\n",
       "    </tr>\n",
       "    <tr>\n",
       "      <th>2</th>\n",
       "      <td>U13740</td>\n",
       "      <td>N34694</td>\n",
       "    </tr>\n",
       "    <tr>\n",
       "      <th>3</th>\n",
       "      <td>U13740</td>\n",
       "      <td>N45794</td>\n",
       "    </tr>\n",
       "    <tr>\n",
       "      <th>4</th>\n",
       "      <td>U13740</td>\n",
       "      <td>N18445</td>\n",
       "    </tr>\n",
       "  </tbody>\n",
       "</table>\n",
       "</div>"
      ],
      "text/plain": [
       "  user_id history_news_id\n",
       "0  U13740          N55189\n",
       "1  U13740          N42782\n",
       "2  U13740          N34694\n",
       "3  U13740          N45794\n",
       "4  U13740          N18445"
      ]
     },
     "metadata": {},
     "output_type": "display_data"
    }
   ],
   "source": [
    "history_list = []\n",
    "\n",
    "for _, row in behaviors_df.iterrows():\n",
    "    user_id = row['user_id']\n",
    "    if pd.notnull(row['history']):\n",
    "        history_news_ids = row['history'].split()\n",
    "        for news_id in history_news_ids:\n",
    "            history_list.append([user_id, news_id])\n",
    "\n",
    "history_df = pd.DataFrame(history_list, columns=['user_id', 'history_news_id'])\n",
    "\n",
    "print(f\"히스토리 테이블 크기: {history_df.shape}\")\n",
    "display(history_df.head())\n"
   ]
  },
  {
   "cell_type": "code",
   "execution_count": 59,
   "metadata": {},
   "outputs": [
    {
     "data": {
      "text/plain": [
       "(5107639, 2)"
      ]
     },
     "execution_count": 59,
     "metadata": {},
     "output_type": "execute_result"
    }
   ],
   "source": [
    "history_df.shape"
   ]
  },
  {
   "cell_type": "code",
   "execution_count": 60,
   "metadata": {},
   "outputs": [
    {
     "name": "stdout",
     "output_type": "stream",
     "text": [
      "count    49108.000000\n",
      "mean       104.008288\n",
      "std        349.703277\n",
      "min          1.000000\n",
      "25%          8.000000\n",
      "50%         20.000000\n",
      "75%         70.000000\n",
      "max      18972.000000\n",
      "dtype: float64\n"
     ]
    }
   ],
   "source": [
    "user_history_length = history_df.groupby('user_id').size()\n",
    "print(user_history_length.describe())\n"
   ]
  },
  {
   "cell_type": "code",
   "execution_count": 61,
   "metadata": {},
   "outputs": [
    {
     "name": "stdout",
     "output_type": "stream",
     "text": [
      "히스토리에 자주 등장한 뉴스 TOP 10\n"
     ]
    },
    {
     "data": {
      "text/html": [
       "<div>\n",
       "<style scoped>\n",
       "    .dataframe tbody tr th:only-of-type {\n",
       "        vertical-align: middle;\n",
       "    }\n",
       "\n",
       "    .dataframe tbody tr th {\n",
       "        vertical-align: top;\n",
       "    }\n",
       "\n",
       "    .dataframe thead th {\n",
       "        text-align: right;\n",
       "    }\n",
       "</style>\n",
       "<table border=\"1\" class=\"dataframe\">\n",
       "  <thead>\n",
       "    <tr style=\"text-align: right;\">\n",
       "      <th></th>\n",
       "      <th>news_id</th>\n",
       "      <th>title</th>\n",
       "      <th>category</th>\n",
       "      <th>count</th>\n",
       "    </tr>\n",
       "  </thead>\n",
       "  <tbody>\n",
       "    <tr>\n",
       "      <th>11465</th>\n",
       "      <td>N306</td>\n",
       "      <td>Kevin Spacey Won't Be Charged in Sexual Assaul...</td>\n",
       "      <td>movies</td>\n",
       "      <td>20765</td>\n",
       "    </tr>\n",
       "    <tr>\n",
       "      <th>14216</th>\n",
       "      <td>N42620</td>\n",
       "      <td>Heidi Klum's 2019 Halloween Costume Transforma...</td>\n",
       "      <td>lifestyle</td>\n",
       "      <td>17918</td>\n",
       "    </tr>\n",
       "    <tr>\n",
       "      <th>2077</th>\n",
       "      <td>N31801</td>\n",
       "      <td>Joe Biden reportedly denied Communion at a Sou...</td>\n",
       "      <td>news</td>\n",
       "      <td>15694</td>\n",
       "    </tr>\n",
       "    <tr>\n",
       "      <th>22967</th>\n",
       "      <td>N47020</td>\n",
       "      <td>The News In Cartoons</td>\n",
       "      <td>news</td>\n",
       "      <td>15216</td>\n",
       "    </tr>\n",
       "    <tr>\n",
       "      <th>21466</th>\n",
       "      <td>N45794</td>\n",
       "      <td>Four flight attendants were arrested in Miami'...</td>\n",
       "      <td>news</td>\n",
       "      <td>15200</td>\n",
       "    </tr>\n",
       "    <tr>\n",
       "      <th>16666</th>\n",
       "      <td>N43142</td>\n",
       "      <td>Former NBA first-round pick Jim Farmer arreste...</td>\n",
       "      <td>sports</td>\n",
       "      <td>14565</td>\n",
       "    </tr>\n",
       "    <tr>\n",
       "      <th>28505</th>\n",
       "      <td>N871</td>\n",
       "      <td>Woman, suspect dead at 'Tarzan' actor Ron Ely'...</td>\n",
       "      <td>tv</td>\n",
       "      <td>14210</td>\n",
       "    </tr>\n",
       "    <tr>\n",
       "      <th>6892</th>\n",
       "      <td>N55189</td>\n",
       "      <td>'Wheel Of Fortune' Guest Delivers Hilarious, O...</td>\n",
       "      <td>tv</td>\n",
       "      <td>13394</td>\n",
       "    </tr>\n",
       "    <tr>\n",
       "      <th>11870</th>\n",
       "      <td>N29177</td>\n",
       "      <td>Miguel Cervantes' Wife Reveals Daughter, 3, 'D...</td>\n",
       "      <td>tv</td>\n",
       "      <td>13243</td>\n",
       "    </tr>\n",
       "    <tr>\n",
       "      <th>30142</th>\n",
       "      <td>N16715</td>\n",
       "      <td>Mitch McConnell snubbed by Elijah Cummings' pa...</td>\n",
       "      <td>news</td>\n",
       "      <td>13011</td>\n",
       "    </tr>\n",
       "  </tbody>\n",
       "</table>\n",
       "</div>"
      ],
      "text/plain": [
       "      news_id                                              title   category  \\\n",
       "11465    N306  Kevin Spacey Won't Be Charged in Sexual Assaul...     movies   \n",
       "14216  N42620  Heidi Klum's 2019 Halloween Costume Transforma...  lifestyle   \n",
       "2077   N31801  Joe Biden reportedly denied Communion at a Sou...       news   \n",
       "22967  N47020                               The News In Cartoons       news   \n",
       "21466  N45794  Four flight attendants were arrested in Miami'...       news   \n",
       "16666  N43142  Former NBA first-round pick Jim Farmer arreste...     sports   \n",
       "28505    N871  Woman, suspect dead at 'Tarzan' actor Ron Ely'...         tv   \n",
       "6892   N55189  'Wheel Of Fortune' Guest Delivers Hilarious, O...         tv   \n",
       "11870  N29177  Miguel Cervantes' Wife Reveals Daughter, 3, 'D...         tv   \n",
       "30142  N16715  Mitch McConnell snubbed by Elijah Cummings' pa...       news   \n",
       "\n",
       "       count  \n",
       "11465  20765  \n",
       "14216  17918  \n",
       "2077   15694  \n",
       "22967  15216  \n",
       "21466  15200  \n",
       "16666  14565  \n",
       "28505  14210  \n",
       "6892   13394  \n",
       "11870  13243  \n",
       "30142  13011  "
      ]
     },
     "metadata": {},
     "output_type": "display_data"
    }
   ],
   "source": [
    "top_history_news = history_df['history_news_id'].value_counts().head(10)\n",
    "top_history_news_titles = news_df[news_df['news_id'].isin(top_history_news.index)][['news_id', 'title', 'category']]\n",
    "\n",
    "top_history_news_titles = top_history_news_titles.merge(\n",
    "    top_history_news.rename('count'),\n",
    "    left_on='news_id',\n",
    "    right_index=True,\n",
    "    how='left'\n",
    ").sort_values(by='count', ascending=False)\n",
    "\n",
    "print(\"히스토리에 자주 등장한 뉴스 TOP 10\")\n",
    "display(top_history_news_titles)\n"
   ]
  },
  {
   "cell_type": "code",
   "execution_count": null,
   "metadata": {},
   "outputs": [],
   "source": []
  }
 ],
 "metadata": {
  "kernelspec": {
   "display_name": "Python 3",
   "language": "python",
   "name": "python3"
  },
  "language_info": {
   "codemirror_mode": {
    "name": "ipython",
    "version": 3
   },
   "file_extension": ".py",
   "mimetype": "text/x-python",
   "name": "python",
   "nbconvert_exporter": "python",
   "pygments_lexer": "ipython3",
   "version": "3.9.6"
  }
 },
 "nbformat": 4,
 "nbformat_minor": 2
}
