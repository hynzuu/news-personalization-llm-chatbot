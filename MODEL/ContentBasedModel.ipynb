{
 "cells": [
  {
   "cell_type": "markdown",
   "metadata": {},
   "source": [
    "## CB Model(title)"
   ]
  },
  {
   "cell_type": "code",
   "execution_count": 21,
   "metadata": {},
   "outputs": [],
   "source": [
    "import pandas as pd \n",
    "import re\n",
    "import numpy as np \n",
    "import seaborn as sns\n",
    "import matplotlib.pyplot as plt \n",
    "from scipy import stats\n",
    "import nltk\n",
    "from sklearn.feature_extraction.text import CountVectorizer\n",
    "from sklearn.metrics.pairwise import cosine_similarity\n"
   ]
  },
  {
   "cell_type": "code",
   "execution_count": 10,
   "metadata": {},
   "outputs": [],
   "source": [
    "pd.set_option('display.max_columns', None)\n",
    "pd.set_option('display.max_colwidth', None)"
   ]
  },
  {
   "cell_type": "code",
   "execution_count": 11,
   "metadata": {},
   "outputs": [
    {
     "data": {
      "text/html": [
       "<div>\n",
       "<style scoped>\n",
       "    .dataframe tbody tr th:only-of-type {\n",
       "        vertical-align: middle;\n",
       "    }\n",
       "\n",
       "    .dataframe tbody tr th {\n",
       "        vertical-align: top;\n",
       "    }\n",
       "\n",
       "    .dataframe thead th {\n",
       "        text-align: right;\n",
       "    }\n",
       "</style>\n",
       "<table border=\"1\" class=\"dataframe\">\n",
       "  <thead>\n",
       "    <tr style=\"text-align: right;\">\n",
       "      <th></th>\n",
       "      <th>news_id</th>\n",
       "      <th>category</th>\n",
       "      <th>subcategory</th>\n",
       "      <th>title</th>\n",
       "      <th>abstract</th>\n",
       "      <th>url</th>\n",
       "      <th>title_entities</th>\n",
       "      <th>abstract_entities</th>\n",
       "    </tr>\n",
       "  </thead>\n",
       "  <tbody>\n",
       "    <tr>\n",
       "      <th>0</th>\n",
       "      <td>N55528</td>\n",
       "      <td>lifestyle</td>\n",
       "      <td>lifestyleroyals</td>\n",
       "      <td>The Brands Queen Elizabeth, Prince Charles, and Prince Philip Swear By</td>\n",
       "      <td>Shop the notebooks, jackets, and more that the royals can't live without.</td>\n",
       "      <td>https://assets.msn.com/labs/mind/AAGH0ET.html</td>\n",
       "      <td>[{\"Label\": \"Prince Philip, Duke of Edinburgh\", \"Type\": \"P\", \"WikidataId\": \"Q80976\", \"Confidence\": 1.0, \"OccurrenceOffsets\": [48], \"SurfaceForms\": [\"Prince Philip\"]}, {\"Label\": \"Charles, Prince of Wales\", \"Type\": \"P\", \"WikidataId\": \"Q43274\", \"Confidence\": 1.0, \"OccurrenceOffsets\": [28], \"SurfaceForms\": [\"Prince Charles\"]}, {\"Label\": \"Elizabeth II\", \"Type\": \"P\", \"WikidataId\": \"Q9682\", \"Confidence\": 0.97, \"OccurrenceOffsets\": [11], \"SurfaceForms\": [\"Queen Elizabeth\"]}]</td>\n",
       "      <td>[]</td>\n",
       "    </tr>\n",
       "    <tr>\n",
       "      <th>1</th>\n",
       "      <td>N19639</td>\n",
       "      <td>health</td>\n",
       "      <td>weightloss</td>\n",
       "      <td>50 Worst Habits For Belly Fat</td>\n",
       "      <td>These seemingly harmless habits are holding you back and keeping you from shedding that unwanted belly fat for good.</td>\n",
       "      <td>https://assets.msn.com/labs/mind/AAB19MK.html</td>\n",
       "      <td>[{\"Label\": \"Adipose tissue\", \"Type\": \"C\", \"WikidataId\": \"Q193583\", \"Confidence\": 1.0, \"OccurrenceOffsets\": [20], \"SurfaceForms\": [\"Belly Fat\"]}]</td>\n",
       "      <td>[{\"Label\": \"Adipose tissue\", \"Type\": \"C\", \"WikidataId\": \"Q193583\", \"Confidence\": 1.0, \"OccurrenceOffsets\": [97], \"SurfaceForms\": [\"belly fat\"]}]</td>\n",
       "    </tr>\n",
       "    <tr>\n",
       "      <th>2</th>\n",
       "      <td>N61837</td>\n",
       "      <td>news</td>\n",
       "      <td>newsworld</td>\n",
       "      <td>The Cost of Trump's Aid Freeze in the Trenches of Ukraine's War</td>\n",
       "      <td>Lt. Ivan Molchanets peeked over a parapet of sand bags at the front line of the war in Ukraine. Next to him was an empty helmet propped up to trick snipers, already perforated with multiple holes.</td>\n",
       "      <td>https://assets.msn.com/labs/mind/AAJgNsz.html</td>\n",
       "      <td>[]</td>\n",
       "      <td>[{\"Label\": \"Ukraine\", \"Type\": \"G\", \"WikidataId\": \"Q212\", \"Confidence\": 0.946, \"OccurrenceOffsets\": [87], \"SurfaceForms\": [\"Ukraine\"]}]</td>\n",
       "    </tr>\n",
       "    <tr>\n",
       "      <th>3</th>\n",
       "      <td>N53526</td>\n",
       "      <td>health</td>\n",
       "      <td>voices</td>\n",
       "      <td>I Was An NBA Wife. Here's How It Affected My Mental Health.</td>\n",
       "      <td>I felt like I was a fraud, and being an NBA wife didn't help that. In fact, it nearly destroyed me.</td>\n",
       "      <td>https://assets.msn.com/labs/mind/AACk2N6.html</td>\n",
       "      <td>[]</td>\n",
       "      <td>[{\"Label\": \"National Basketball Association\", \"Type\": \"O\", \"WikidataId\": \"Q155223\", \"Confidence\": 1.0, \"OccurrenceOffsets\": [40], \"SurfaceForms\": [\"NBA\"]}]</td>\n",
       "    </tr>\n",
       "    <tr>\n",
       "      <th>4</th>\n",
       "      <td>N38324</td>\n",
       "      <td>health</td>\n",
       "      <td>medical</td>\n",
       "      <td>How to Get Rid of Skin Tags, According to a Dermatologist</td>\n",
       "      <td>They seem harmless, but there's a very good reason you shouldn't ignore them. The post How to Get Rid of Skin Tags, According to a Dermatologist appeared first on Reader's Digest.</td>\n",
       "      <td>https://assets.msn.com/labs/mind/AAAKEkt.html</td>\n",
       "      <td>[{\"Label\": \"Skin tag\", \"Type\": \"C\", \"WikidataId\": \"Q3179593\", \"Confidence\": 1.0, \"OccurrenceOffsets\": [18], \"SurfaceForms\": [\"Skin Tags\"]}]</td>\n",
       "      <td>[{\"Label\": \"Skin tag\", \"Type\": \"C\", \"WikidataId\": \"Q3179593\", \"Confidence\": 1.0, \"OccurrenceOffsets\": [105], \"SurfaceForms\": [\"Skin Tags\"]}, {\"Label\": \"Dermatology\", \"Type\": \"C\", \"WikidataId\": \"Q171171\", \"Confidence\": 1.0, \"OccurrenceOffsets\": [131], \"SurfaceForms\": [\"Dermatologist\"]}, {\"Label\": \"Reader's Digest\", \"Type\": \"M\", \"WikidataId\": \"Q371820\", \"Confidence\": 0.999, \"OccurrenceOffsets\": [163], \"SurfaceForms\": [\"Reader's Digest\"]}]</td>\n",
       "    </tr>\n",
       "  </tbody>\n",
       "</table>\n",
       "</div>"
      ],
      "text/plain": [
       "  news_id   category      subcategory  \\\n",
       "0  N55528  lifestyle  lifestyleroyals   \n",
       "1  N19639     health       weightloss   \n",
       "2  N61837       news        newsworld   \n",
       "3  N53526     health           voices   \n",
       "4  N38324     health          medical   \n",
       "\n",
       "                                                                    title  \\\n",
       "0  The Brands Queen Elizabeth, Prince Charles, and Prince Philip Swear By   \n",
       "1                                           50 Worst Habits For Belly Fat   \n",
       "2         The Cost of Trump's Aid Freeze in the Trenches of Ukraine's War   \n",
       "3             I Was An NBA Wife. Here's How It Affected My Mental Health.   \n",
       "4               How to Get Rid of Skin Tags, According to a Dermatologist   \n",
       "\n",
       "                                                                                                                                                                                               abstract  \\\n",
       "0                                                                                                                             Shop the notebooks, jackets, and more that the royals can't live without.   \n",
       "1                                                                                  These seemingly harmless habits are holding you back and keeping you from shedding that unwanted belly fat for good.   \n",
       "2  Lt. Ivan Molchanets peeked over a parapet of sand bags at the front line of the war in Ukraine. Next to him was an empty helmet propped up to trick snipers, already perforated with multiple holes.   \n",
       "3                                                                                                   I felt like I was a fraud, and being an NBA wife didn't help that. In fact, it nearly destroyed me.   \n",
       "4                   They seem harmless, but there's a very good reason you shouldn't ignore them. The post How to Get Rid of Skin Tags, According to a Dermatologist appeared first on Reader's Digest.   \n",
       "\n",
       "                                             url  \\\n",
       "0  https://assets.msn.com/labs/mind/AAGH0ET.html   \n",
       "1  https://assets.msn.com/labs/mind/AAB19MK.html   \n",
       "2  https://assets.msn.com/labs/mind/AAJgNsz.html   \n",
       "3  https://assets.msn.com/labs/mind/AACk2N6.html   \n",
       "4  https://assets.msn.com/labs/mind/AAAKEkt.html   \n",
       "\n",
       "                                                                                                                                                                                                                                                                                                                                                                                                                                                                           title_entities  \\\n",
       "0  [{\"Label\": \"Prince Philip, Duke of Edinburgh\", \"Type\": \"P\", \"WikidataId\": \"Q80976\", \"Confidence\": 1.0, \"OccurrenceOffsets\": [48], \"SurfaceForms\": [\"Prince Philip\"]}, {\"Label\": \"Charles, Prince of Wales\", \"Type\": \"P\", \"WikidataId\": \"Q43274\", \"Confidence\": 1.0, \"OccurrenceOffsets\": [28], \"SurfaceForms\": [\"Prince Charles\"]}, {\"Label\": \"Elizabeth II\", \"Type\": \"P\", \"WikidataId\": \"Q9682\", \"Confidence\": 0.97, \"OccurrenceOffsets\": [11], \"SurfaceForms\": [\"Queen Elizabeth\"]}]   \n",
       "1                                                                                                                                                                                                                                                                                                                                        [{\"Label\": \"Adipose tissue\", \"Type\": \"C\", \"WikidataId\": \"Q193583\", \"Confidence\": 1.0, \"OccurrenceOffsets\": [20], \"SurfaceForms\": [\"Belly Fat\"]}]   \n",
       "2                                                                                                                                                                                                                                                                                                                                                                                                                                                                                      []   \n",
       "3                                                                                                                                                                                                                                                                                                                                                                                                                                                                                      []   \n",
       "4                                                                                                                                                                                                                                                                                                                                             [{\"Label\": \"Skin tag\", \"Type\": \"C\", \"WikidataId\": \"Q3179593\", \"Confidence\": 1.0, \"OccurrenceOffsets\": [18], \"SurfaceForms\": [\"Skin Tags\"]}]   \n",
       "\n",
       "                                                                                                                                                                                                                                                                                                                                                                                                                                          abstract_entities  \n",
       "0                                                                                                                                                                                                                                                                                                                                                                                                                                                        []  \n",
       "1                                                                                                                                                                                                                                                                                                          [{\"Label\": \"Adipose tissue\", \"Type\": \"C\", \"WikidataId\": \"Q193583\", \"Confidence\": 1.0, \"OccurrenceOffsets\": [97], \"SurfaceForms\": [\"belly fat\"]}]  \n",
       "2                                                                                                                                                                                                                                                                                                                    [{\"Label\": \"Ukraine\", \"Type\": \"G\", \"WikidataId\": \"Q212\", \"Confidence\": 0.946, \"OccurrenceOffsets\": [87], \"SurfaceForms\": [\"Ukraine\"]}]  \n",
       "3                                                                                                                                                                                                                                                                                               [{\"Label\": \"National Basketball Association\", \"Type\": \"O\", \"WikidataId\": \"Q155223\", \"Confidence\": 1.0, \"OccurrenceOffsets\": [40], \"SurfaceForms\": [\"NBA\"]}]  \n",
       "4  [{\"Label\": \"Skin tag\", \"Type\": \"C\", \"WikidataId\": \"Q3179593\", \"Confidence\": 1.0, \"OccurrenceOffsets\": [105], \"SurfaceForms\": [\"Skin Tags\"]}, {\"Label\": \"Dermatology\", \"Type\": \"C\", \"WikidataId\": \"Q171171\", \"Confidence\": 1.0, \"OccurrenceOffsets\": [131], \"SurfaceForms\": [\"Dermatologist\"]}, {\"Label\": \"Reader's Digest\", \"Type\": \"M\", \"WikidataId\": \"Q371820\", \"Confidence\": 0.999, \"OccurrenceOffsets\": [163], \"SurfaceForms\": [\"Reader's Digest\"]}]  "
      ]
     },
     "execution_count": 11,
     "metadata": {},
     "output_type": "execute_result"
    }
   ],
   "source": [
    "news_df=pd.read_csv('./Data/news.csv')\n",
    "news_df.head()"
   ]
  },
  {
   "cell_type": "code",
   "execution_count": 12,
   "metadata": {},
   "outputs": [
    {
     "data": {
      "text/plain": [
       "7964                                                Tiger Dies, Sinkhole Woes, Coast Guard Cocaine Seizure: FL News\n",
       "10639                                              'Avengers Damage Control' is the ideal VR follow-up to 'Endgame'\n",
       "50510             Prescription for Debt: 'Sometimes I can't pay certain bills, because I have to pay for my drugs.'\n",
       "25591                                                          Demolition delays for new MLS Stadium at Fairgrounds\n",
       "36524                                             Michigan basketball 5-star target Nimari Burnett picks Texas Tech\n",
       "6817                                                             Boil water order issued for Reading, officials say\n",
       "26616                                                 Why Yankees' Aaron Hicks was bright spot in awful Game 3 loss\n",
       "16765                                        I went to Peter Luger after it received zero stars from New York Times\n",
       "5123                                                                      12 good reasons to move to a college town\n",
       "29920                                     Justice Dept. trying to finish report on Russia probe before Thanksgiving\n",
       "23862                                                              Daily protests are paralyzing Haiti. Here's why.\n",
       "30101                                                               Jets taking 'really deep dive' on ailing Mosley\n",
       "39277                                  Nike releasing shoe designed for nurses, doctors, home health care providers\n",
       "29376                                            Boston Bruins' David Pastrnak has field day, nets four vs. Anaheim\n",
       "46087                             How Miami's fourth-quarter comeback against Pittsburgh 'turned around our season'\n",
       "28090                                   2 Window Washers Rescued After Rig Gets Stuck 15 Stories High In Fort Worth\n",
       "14889                                      Texans saw talent where little did in TE Jordan Akins at the Senior Bowl\n",
       "23604               Impeachment inquiry continues, Nationals to visit White House: 5 things you need to know Monday\n",
       "21958    Rat-infested house in Spanaway part of Pierce County Sheriff Department's crackdown on nuisance properties\n",
       "1637                                           Watch: Lions fans mercilessly boo referees during Sunday's coin toss\n",
       "22277                                            Ravishing 1920s Moorish Revival in the Los Feliz Oaks asking $5.5M\n",
       "43985                                                                  Carolina woman celebrates her 110th birthday\n",
       "7967               Proposed minimum wage increase could have adverse impacts on Florida economy, UCF economist says\n",
       "20863                                                     Josh Gordon among 3 players absent from Patriots practice\n",
       "23031                                                          Brush fire burning in Sepulveda Basin in Los Angeles\n",
       "42729                                                                          Greg Hardy loses UFC fight in Moscow\n",
       "12073                                                                    3 biggest storylines during Colts bye week\n",
       "28816                                                                          The Absolute Best Casseroles of 2019\n",
       "41767                                                     Pit bull puppy recovering after lit on fire in New Jersey\n",
       "25569                                           'Women for Trump' event hosted in Waukesha during Democratic debate\n",
       "Name: title, dtype: object"
      ]
     },
     "execution_count": 12,
     "metadata": {},
     "output_type": "execute_result"
    }
   ],
   "source": [
    "news_df['title'].sample(30)"
   ]
  },
  {
   "cell_type": "markdown",
   "metadata": {},
   "source": [
    "## 텍스트 정제"
   ]
  },
  {
   "cell_type": "code",
   "execution_count": 13,
   "metadata": {},
   "outputs": [
    {
     "name": "stderr",
     "output_type": "stream",
     "text": [
      "[nltk_data] Downloading package stopwords to /Users/mac/nltk_data...\n",
      "[nltk_data]   Package stopwords is already up-to-date!\n",
      "[nltk_data] Error loading puntk: Package 'puntk' not found in index\n",
      "[nltk_data] Downloading package punkt_tab to /Users/mac/nltk_data...\n",
      "[nltk_data]   Package punkt_tab is already up-to-date!\n"
     ]
    },
    {
     "data": {
      "text/plain": [
       "True"
      ]
     },
     "execution_count": 13,
     "metadata": {},
     "output_type": "execute_result"
    }
   ],
   "source": [
    "import nltk\n",
    "from nltk.corpus import stopwords\n",
    "from nltk.tokenize import word_tokenize\n",
    "\n",
    "nltk.download('stopwords')\n",
    "nltk.download('puntk')\n",
    "nltk.download('punkt_tab')"
   ]
  },
  {
   "cell_type": "markdown",
   "metadata": {},
   "source": [
    "#### title 전처리"
   ]
  },
  {
   "cell_type": "code",
   "execution_count": 14,
   "metadata": {},
   "outputs": [],
   "source": [
    "# 영어, 소문자로 통일, 불용어 제거, 숫자 제거(x), 특수문자 제거, 마지막에 내용이 줄임표시 되어있는 것들이 있음(...)\n",
    "\n",
    "stop_words=set(stopwords.words('english'))  \n",
    "\n",
    "\n",
    "def clean_text(text):\n",
    "    text=text.lower()\n",
    "    #text=re.sub(r'\\d+','',text)\n",
    "    text=re.sub(r'[^\\w\\s]','',text) # 특수문자 제거\n",
    "    text=re.sub(r'\\s+',' ',text) # 연속된 공백 하나의 공백으로\n",
    "    tokens=word_tokenize(text)\n",
    "    for token in tokens:\n",
    "        if token in stop_words:\n",
    "            tokens.remove(token)    \n",
    "    text=' '.join(tokens)   \n",
    "    \n",
    "    return text\n",
    "    "
   ]
  },
  {
   "cell_type": "code",
   "execution_count": 15,
   "metadata": {},
   "outputs": [
    {
     "data": {
      "text/html": [
       "<div>\n",
       "<style scoped>\n",
       "    .dataframe tbody tr th:only-of-type {\n",
       "        vertical-align: middle;\n",
       "    }\n",
       "\n",
       "    .dataframe tbody tr th {\n",
       "        vertical-align: top;\n",
       "    }\n",
       "\n",
       "    .dataframe thead th {\n",
       "        text-align: right;\n",
       "    }\n",
       "</style>\n",
       "<table border=\"1\" class=\"dataframe\">\n",
       "  <thead>\n",
       "    <tr style=\"text-align: right;\">\n",
       "      <th></th>\n",
       "      <th>cleaned_title</th>\n",
       "      <th>title</th>\n",
       "    </tr>\n",
       "  </thead>\n",
       "  <tbody>\n",
       "    <tr>\n",
       "      <th>0</th>\n",
       "      <td>brands queen elizabeth prince charles prince philip swear</td>\n",
       "      <td>The Brands Queen Elizabeth, Prince Charles, and Prince Philip Swear By</td>\n",
       "    </tr>\n",
       "    <tr>\n",
       "      <th>1</th>\n",
       "      <td>50 worst habits belly fat</td>\n",
       "      <td>50 Worst Habits For Belly Fat</td>\n",
       "    </tr>\n",
       "    <tr>\n",
       "      <th>2</th>\n",
       "      <td>cost trumps aid freeze the trenches ukraines war</td>\n",
       "      <td>The Cost of Trump's Aid Freeze in the Trenches of Ukraine's War</td>\n",
       "    </tr>\n",
       "    <tr>\n",
       "      <th>3</th>\n",
       "      <td>was nba wife heres it affected mental health</td>\n",
       "      <td>I Was An NBA Wife. Here's How It Affected My Mental Health.</td>\n",
       "    </tr>\n",
       "    <tr>\n",
       "      <th>4</th>\n",
       "      <td>get rid skin tags according to a dermatologist</td>\n",
       "      <td>How to Get Rid of Skin Tags, According to a Dermatologist</td>\n",
       "    </tr>\n",
       "    <tr>\n",
       "      <th>5</th>\n",
       "      <td>nfl able fine players criticizing officiating</td>\n",
       "      <td>Should NFL be able to fine players for criticizing officiating?</td>\n",
       "    </tr>\n",
       "    <tr>\n",
       "      <th>6</th>\n",
       "      <td>been orlandos hottest october ever far cooler temperatures the way</td>\n",
       "      <td>It's been Orlando's hottest October ever so far, but cooler temperatures on the way</td>\n",
       "    </tr>\n",
       "    <tr>\n",
       "      <th>7</th>\n",
       "      <td>chile three die supermarket fire amid protests</td>\n",
       "      <td>Chile: Three die in supermarket fire amid protests</td>\n",
       "    </tr>\n",
       "    <tr>\n",
       "      <th>8</th>\n",
       "      <td>best ps5 games top playstation 5 titles look forward</td>\n",
       "      <td>Best PS5 games: top PlayStation 5 titles to look forward to</td>\n",
       "    </tr>\n",
       "    <tr>\n",
       "      <th>9</th>\n",
       "      <td>to report weatherrelated closings delays</td>\n",
       "      <td>How to report weather-related closings, delays</td>\n",
       "    </tr>\n",
       "  </tbody>\n",
       "</table>\n",
       "</div>"
      ],
      "text/plain": [
       "                                                        cleaned_title  \\\n",
       "0           brands queen elizabeth prince charles prince philip swear   \n",
       "1                                           50 worst habits belly fat   \n",
       "2                    cost trumps aid freeze the trenches ukraines war   \n",
       "3                        was nba wife heres it affected mental health   \n",
       "4                      get rid skin tags according to a dermatologist   \n",
       "5                       nfl able fine players criticizing officiating   \n",
       "6  been orlandos hottest october ever far cooler temperatures the way   \n",
       "7                      chile three die supermarket fire amid protests   \n",
       "8                best ps5 games top playstation 5 titles look forward   \n",
       "9                            to report weatherrelated closings delays   \n",
       "\n",
       "                                                                                 title  \n",
       "0               The Brands Queen Elizabeth, Prince Charles, and Prince Philip Swear By  \n",
       "1                                                        50 Worst Habits For Belly Fat  \n",
       "2                      The Cost of Trump's Aid Freeze in the Trenches of Ukraine's War  \n",
       "3                          I Was An NBA Wife. Here's How It Affected My Mental Health.  \n",
       "4                            How to Get Rid of Skin Tags, According to a Dermatologist  \n",
       "5                      Should NFL be able to fine players for criticizing officiating?  \n",
       "6  It's been Orlando's hottest October ever so far, but cooler temperatures on the way  \n",
       "7                                   Chile: Three die in supermarket fire amid protests  \n",
       "8                          Best PS5 games: top PlayStation 5 titles to look forward to  \n",
       "9                                       How to report weather-related closings, delays  "
      ]
     },
     "execution_count": 15,
     "metadata": {},
     "output_type": "execute_result"
    }
   ],
   "source": [
    "news_df['cleaned_title']=news_df['title'].apply(clean_text)\n",
    "news_df[['cleaned_title','title']].head(10)"
   ]
  },
  {
   "cell_type": "code",
   "execution_count": 16,
   "metadata": {},
   "outputs": [
    {
     "data": {
      "text/plain": [
       "(51282, 9)"
      ]
     },
     "execution_count": 16,
     "metadata": {},
     "output_type": "execute_result"
    }
   ],
   "source": [
    "news_df.shape"
   ]
  },
  {
   "cell_type": "markdown",
   "metadata": {},
   "source": [
    "## 벡터화 (단어 빈도 기준)"
   ]
  },
  {
   "cell_type": "markdown",
   "metadata": {},
   "source": [
    "#### TF-IDF 벡터화 적용(baseline)"
   ]
  },
  {
   "cell_type": "code",
   "execution_count": 18,
   "metadata": {},
   "outputs": [
    {
     "data": {
      "text/plain": [
       "(51282, 1000)"
      ]
     },
     "execution_count": 18,
     "metadata": {},
     "output_type": "execute_result"
    }
   ],
   "source": [
    "from sklearn.feature_extraction.text import TfidfVectorizer\n",
    "\n",
    "#TF-IDF \n",
    "tfidf_vectorizer = TfidfVectorizer(\n",
    "    stop_words=\"english\",\n",
    "    max_features=1000,  \n",
    "    min_df=2,           \n",
    "    max_df=0.8      \n",
    ")\n",
    "\n",
    "tfidf_matrix = tfidf_vectorizer.fit_transform(news_df[\"cleaned_title\"])\n",
    "tfidf_matrix.shape\n"
   ]
  },
  {
   "cell_type": "code",
   "execution_count": 17,
   "metadata": {},
   "outputs": [],
   "source": [
    "#(뉴스 개수,단어 개수)"
   ]
  },
  {
   "cell_type": "code",
   "execution_count": 19,
   "metadata": {},
   "outputs": [],
   "source": [
    "# 적정 max_feature 구하기"
   ]
  },
  {
   "cell_type": "code",
   "execution_count": null,
   "metadata": {},
   "outputs": [
    {
     "name": "stdout",
     "output_type": "stream",
     "text": [
      "max_features=500: 평균 유사도 0.0063\n",
      "max_features=1000: 평균 유사도 0.0050\n",
      "max_features=3000: 평균 유사도 0.0034\n",
      "max_features=5000: 평균 유사도 0.0029\n",
      "max_features=7000: 평균 유사도 0.0026\n",
      "max_features=10000: 평균 유사도 0.0024\n"
     ]
    }
   ],
   "source": [
    "\n",
    "candidate_features = [500, 1000, 3000, 5000, 7000, 10000]\n",
    "\n",
    "results = {}\n",
    "\n",
    "for max_feat in candidate_features:\n",
    "\n",
    "    tfidf_vectorizer = TfidfVectorizer(max_features=max_feat, stop_words=\"english\", min_df=2, max_df=0.8)\n",
    "    tfidf_matrix = tfidf_vectorizer.fit_transform(news_df[\"cleaned_title\"])\n",
    "\n",
    "\n",
    "    sim_matrix = cosine_similarity(tfidf_matrix)\n",
    "    mean_similarity = np.mean(sim_matrix[np.triu_indices(sim_matrix.shape[0], k=1)])\n",
    "    \n",
    "    results[max_feat] = mean_similarity\n",
    "    print(f\"max_features={max_feat}: 평균 유사도 {mean_similarity:.4f}\")\n"
   ]
  },
  {
   "cell_type": "code",
   "execution_count": null,
   "metadata": {},
   "outputs": [],
   "source": [
    "# 대략적으로 피쳐가 적을수록 유사도 높아짐 \n",
    "# 피쳐 줄이는 방향으로 학습"
   ]
  },
  {
   "cell_type": "code",
   "execution_count": 20,
   "metadata": {},
   "outputs": [
    {
     "data": {
      "text/plain": [
       "array([[0., 0., 0., ..., 0., 0., 0.],\n",
       "       [0., 0., 0., ..., 0., 0., 0.],\n",
       "       [0., 0., 0., ..., 0., 0., 0.],\n",
       "       ...,\n",
       "       [0., 0., 0., ..., 0., 0., 0.],\n",
       "       [0., 0., 0., ..., 0., 0., 0.],\n",
       "       [0., 0., 0., ..., 0., 0., 0.]])"
      ]
     },
     "execution_count": 20,
     "metadata": {},
     "output_type": "execute_result"
    }
   ],
   "source": [
    "tfidf_matrix.toarray()"
   ]
  },
  {
   "cell_type": "code",
   "execution_count": 24,
   "metadata": {},
   "outputs": [
    {
     "data": {
      "text/plain": [
       "(51282, 51282)"
      ]
     },
     "execution_count": 24,
     "metadata": {},
     "output_type": "execute_result"
    }
   ],
   "source": [
    "# 코사인 유사도 계산\n",
    "\n",
    "tfidf_sim_matrix = cosine_similarity(tfidf_matrix)\n",
    "tfidf_sim_matrix.shape\n",
    "\n"
   ]
  },
  {
   "cell_type": "code",
   "execution_count": 19,
   "metadata": {},
   "outputs": [
    {
     "data": {
      "text/plain": [
       "array([[1., 0., 0., ..., 0., 0., 0.],\n",
       "       [0., 1., 0., ..., 0., 0., 0.],\n",
       "       [0., 0., 1., ..., 0., 0., 0.],\n",
       "       ...,\n",
       "       [0., 0., 0., ..., 1., 0., 0.],\n",
       "       [0., 0., 0., ..., 0., 1., 0.],\n",
       "       [0., 0., 0., ..., 0., 0., 1.]])"
      ]
     },
     "execution_count": 19,
     "metadata": {},
     "output_type": "execute_result"
    }
   ],
   "source": [
    "tfidf_sim_matrix"
   ]
  },
  {
   "cell_type": "markdown",
   "metadata": {},
   "source": [
    "#### 추천 뉴스 확인 함수"
   ]
  },
  {
   "cell_type": "code",
   "execution_count": 22,
   "metadata": {},
   "outputs": [],
   "source": [
    "# 추천 뉴스 확인 함수\n",
    "\n",
    "def get_tfidf_recommendations(news_id, news_df, sim_matrix, top_n=5):\n",
    "    # 해당 뉴스 ID의 인덱스 찾기\n",
    "    idx = news_df[news_df[\"news_id\"] == news_id].index[0]\n",
    "\n",
    "    # 해당 뉴스와 모든 뉴스 간 유사도 가져오기\n",
    "    sim_scores = list(enumerate(sim_matrix[idx]))\n",
    "\n",
    "    # 유사도가 높은 순으로 정렬\n",
    "    sim_scores = sorted(sim_scores, key=lambda x: x[1], reverse=True)\n",
    "\n",
    "    # 가장 유사한 상위 N개 뉴스 ID 반환 (자기 자신 제외)\n",
    "    top_news = [(news_df.iloc[i[0]][\"news_id\"], news_df.iloc[i[0]][\"title\"], i[1]) for i in sim_scores[1:top_n+1]]\n",
    "    \n",
    "    return top_news\n"
   ]
  },
  {
   "cell_type": "markdown",
   "metadata": {},
   "source": [
    "#### 추천 뉴스 확인"
   ]
  },
  {
   "cell_type": "code",
   "execution_count": null,
   "metadata": {},
   "outputs": [
    {
     "name": "stdout",
     "output_type": "stream",
     "text": [
      "N55528의 유사한 뉴스 추천\n",
      "뉴스 ID: N3917, 제목: Prince Edward Thrills the Internet with Hilarious Cake-Cutting Technique, 유사도: 0.8884\n",
      "뉴스 ID: N38088, 제목: Prince William carves his own path as monarch in waiting, 유사도: 0.8884\n",
      "뉴스 ID: N25838, 제목: Portis, Prince get technicals after Nets, Knicks scuffle, 유사도: 0.8884\n",
      "뉴스 ID: N60671, 제목: Prince Charles Teared Up When Prince William Talked About Succeeding Him, 유사도: 0.8884\n",
      "뉴스 ID: N9056, 제목: This Is What Queen Elizabeth Is Doing About the Prince William-Prince Harry Feud, 유사도: 0.7760\n"
     ]
    }
   ],
   "source": [
    "# 첫번째 뉴스의 추천 확인\n",
    "\n",
    "news_id_example=news_df[\"news_id\"].iloc[0]\n",
    "tfidf_recommendations=get_tfidf_recommendations(news_id_example, news_df, tfidf_sim_matrix)\n",
    "\n",
    "\n",
    "print(f\"{news_id_example}의 유사한 뉴스 추천\")\n",
    "for rec in tfidf_recommendations:\n",
    "    print(f\"뉴스 ID: {rec[0]}, 제목: {rec[1]}, 유사도: {rec[2]:.4f}\")\n"
   ]
  },
  {
   "cell_type": "code",
   "execution_count": 26,
   "metadata": {},
   "outputs": [
    {
     "name": "stdout",
     "output_type": "stream",
     "text": [
      "[해당뉴스] N55528 (lifestyle)\n",
      "제목: The Brands Queen Elizabeth, Prince Charles, and Prince Philip Swear By\n",
      "\n",
      "[TF-IDF 추천 뉴스 목록]\n",
      "뉴스 ID: N3917 (lifestyle)\n",
      "   제목: Prince Edward Thrills the Internet with Hilarious Cake-Cutting Technique\n",
      "   유사도: 0.8884\n",
      "\n",
      "뉴스 ID: N38088 (lifestyle)\n",
      "   제목: Prince William carves his own path as monarch in waiting\n",
      "   유사도: 0.8884\n",
      "\n",
      "뉴스 ID: N25838 (sports)\n",
      "   제목: Portis, Prince get technicals after Nets, Knicks scuffle\n",
      "   유사도: 0.8884\n",
      "\n",
      "뉴스 ID: N60671 (lifestyle)\n",
      "   제목: Prince Charles Teared Up When Prince William Talked About Succeeding Him\n",
      "   유사도: 0.8884\n",
      "\n",
      "뉴스 ID: N9056 (lifestyle)\n",
      "   제목: This Is What Queen Elizabeth Is Doing About the Prince William-Prince Harry Feud\n",
      "   유사도: 0.7760\n",
      "\n"
     ]
    }
   ],
   "source": [
    "news_id_example = news_df[\"news_id\"].iloc[0]\n",
    "\n",
    "\n",
    "tfidf_recommendations = get_tfidf_recommendations(news_id_example, news_df, tfidf_sim_matrix)\n",
    "\n",
    "\n",
    "original_news_title = news_df[news_df[\"news_id\"] == news_id_example][\"title\"].values[0]\n",
    "original_news_category = news_df[news_df[\"news_id\"] == news_id_example][\"category\"].values[0]\n",
    "\n",
    "print(f\"[해당뉴스] {news_id_example} ({original_news_category})\")\n",
    "print(f\"제목: {original_news_title}\\n\")\n",
    "\n",
    "print(f\"[TF-IDF 추천 뉴스 목록]\")\n",
    "for rec in tfidf_recommendations:\n",
    "    rec_news_id = rec[0]\n",
    "    rec_news_title = news_df[news_df[\"news_id\"] == rec_news_id][\"title\"].values[0]\n",
    "    rec_news_category = news_df[news_df[\"news_id\"] == rec_news_id][\"category\"].values[0]\n",
    "    \n",
    "    print(f\"뉴스 ID: {rec_news_id} ({rec_news_category})\")\n",
    "    print(f\"   제목: {rec_news_title}\")\n",
    "    print(f\"   유사도: {rec[2]:.4f}\\n\")\n"
   ]
  },
  {
   "cell_type": "code",
   "execution_count": null,
   "metadata": {},
   "outputs": [],
   "source": [
    "# 같은 카테고리의 뉴스가 추천되며, 제목의 내용을 보면 키워드가 비슷한 뉴스가 추천되고 있는 것을 알 수 있음"
   ]
  },
  {
   "cell_type": "markdown",
   "metadata": {},
   "source": [
    "#### 평균 유사도 "
   ]
  },
  {
   "cell_type": "code",
   "execution_count": null,
   "metadata": {},
   "outputs": [
    {
     "name": "stdout",
     "output_type": "stream",
     "text": [
      "TF-IDF Mean Similarity: 0.6732\n"
     ]
    }
   ],
   "source": [
    "# 상위 5개 평균\t추천될 뉴스들만 평균 유사도를 구하여 실제 추천 품질 평가\n",
    "\n",
    "\n",
    "def calculate_mean_similarity(news_df, sim_matrix):\n",
    "    mean_similarities = []\n",
    "    \n",
    "    for i in range(sim_matrix.shape[0]):\n",
    "        sorted_similarities = np.sort(sim_matrix[i])  # 유사도 정렬\n",
    "        mean_similarities.append(np.mean(sorted_similarities[-6:-1]))  # 상위 5개 평균\n",
    "        \n",
    "    return np.mean(mean_similarities)\n",
    "\n",
    "\n",
    "mean_sim_tfidf = calculate_mean_similarity(news_df, tfidf_sim_matrix)\n",
    "\n",
    "print(f\"TF-IDF Mean Similarity: {mean_sim_tfidf:.4f}\")\n"
   ]
  },
  {
   "cell_type": "markdown",
   "metadata": {},
   "source": [
    "- tfidf_vectorizer = TfidfVectorizer(\n",
    " stop_words=\"english\",\n",
    " max_features=5000, # 중요 단어 수 제한\n",
    " min_df=2, \n",
    " max_df=0.8\n",
    ") -> TF-IDF Mean Similarity: 0.4646\n",
    "\n",
    "- tfidf_vectorizer = TfidfVectorizer(\n",
    " stop_words=\"english\",\n",
    " max_features=3000, # 중요 단어 수 제한\n",
    " min_df=2, \n",
    " max_df=0.8\n",
    ") -> TF-IDF Mean Similarity: 0.5206\n",
    "\n",
    "- tfidf_vectorizer = TfidfVectorizer(\n",
    "    stop_words=\"english\",\n",
    "    max_features=1000,   # 중요 단어 수 제한\n",
    "    min_df=2, \n",
    "    max_df=0.8 ) -> TF-IDF Mean Similarity: 0.6732\n",
    "\n",
    "\n"
   ]
  },
  {
   "cell_type": "markdown",
   "metadata": {},
   "source": [
    "### n-gram 적용"
   ]
  },
  {
   "cell_type": "code",
   "execution_count": null,
   "metadata": {},
   "outputs": [
    {
     "data": {
      "text/plain": [
       "(51282, 51282)"
      ]
     },
     "execution_count": 29,
     "metadata": {},
     "output_type": "execute_result"
    }
   ],
   "source": [
    "# ngram 적용한 tf-idf (1~2), 3부터는 잘 안함\n",
    "\n",
    "tfidf_vectorizer_ngram = TfidfVectorizer(\n",
    "    stop_words=\"english\",\n",
    "    max_features=1000, \n",
    "    min_df=2,          \n",
    "    max_df=0.8,    \n",
    "    \n",
    "    ngram_range=(1, 2) \n",
    ")\n",
    "\n",
    "\n",
    "tfidf_matrix_ngram=tfidf_vectorizer_ngram.fit_transform(news_df[\"cleaned_title\"])\n",
    "tfidf_sim_matrix_ngram=cosine_similarity(tfidf_matrix_ngram)\n",
    "tfidf_sim_matrix_ngram.shape\n"
   ]
  },
  {
   "cell_type": "code",
   "execution_count": 19,
   "metadata": {},
   "outputs": [
    {
     "name": "stdout",
     "output_type": "stream",
     "text": [
      "기존 TF-IDF 추천 뉴스:\n",
      "뉴스 ID: N3917, 제목: Prince Edward Thrills the Internet with Hilarious Cake-Cutting Technique, 유사도: 0.8884\n",
      "뉴스 ID: N38088, 제목: Prince William carves his own path as monarch in waiting, 유사도: 0.8884\n",
      "뉴스 ID: N25838, 제목: Portis, Prince get technicals after Nets, Knicks scuffle, 유사도: 0.8884\n",
      "뉴스 ID: N60671, 제목: Prince Charles Teared Up When Prince William Talked About Succeeding Him, 유사도: 0.8884\n",
      "뉴스 ID: N9056, 제목: This Is What Queen Elizabeth Is Doing About the Prince William-Prince Harry Feud, 유사도: 0.7760\n",
      "\n",
      "N-gram TF-IDF 추천 뉴스:\n",
      "뉴스 ID: N3917, 제목: Prince Edward Thrills the Internet with Hilarious Cake-Cutting Technique, 유사도: 0.8884\n",
      "뉴스 ID: N38088, 제목: Prince William carves his own path as monarch in waiting, 유사도: 0.8884\n",
      "뉴스 ID: N25838, 제목: Portis, Prince get technicals after Nets, Knicks scuffle, 유사도: 0.8884\n",
      "뉴스 ID: N60671, 제목: Prince Charles Teared Up When Prince William Talked About Succeeding Him, 유사도: 0.8884\n",
      "뉴스 ID: N9056, 제목: This Is What Queen Elizabeth Is Doing About the Prince William-Prince Harry Feud, 유사도: 0.7760\n"
     ]
    }
   ],
   "source": [
    "\n",
    "news_id_example = news_df[\"news_id\"].iloc[0]\n",
    "\n",
    "tfidf_recommendations = get_tfidf_recommendations(news_id_example, news_df, tfidf_sim_matrix)\n",
    "tfidf_recommendations_ngram = get_tfidf_recommendations(news_id_example, news_df, tfidf_sim_matrix_ngram)\n",
    "\n",
    "\n",
    "print(f\"기존 TF-IDF 추천 뉴스:\")\n",
    "for rec in tfidf_recommendations:\n",
    "    print(f\"뉴스 ID: {rec[0]}, 제목: {rec[1]}, 유사도: {rec[2]:.4f}\")\n",
    "\n",
    "print(f\"\\nN-gram TF-IDF 추천 뉴스:\")\n",
    "for rec in tfidf_recommendations_ngram:\n",
    "    print(f\"뉴스 ID: {rec[0]}, 제목: {rec[1]}, 유사도: {rec[2]:.4f}\")\n"
   ]
  },
  {
   "cell_type": "code",
   "execution_count": null,
   "metadata": {},
   "outputs": [
    {
     "name": "stdout",
     "output_type": "stream",
     "text": [
      " TF-IDF Mean Similarity: 0.6732\n",
      " N-gram TF-IDF Mean Similarity: 0.6812\n"
     ]
    }
   ],
   "source": [
    "\n",
    "# N-gram TF-IDF 평균 유사도\n",
    "\n",
    "mean_sim_tfidf_ngram = calculate_mean_similarity(news_df, tfidf_sim_matrix_ngram)\n",
    "\n",
    "print(f\" TF-IDF Mean Similarity: {mean_sim_tfidf:.4f}\")\n",
    "print(f\" N-gram TF-IDF Mean Similarity: {mean_sim_tfidf_ngram:.4f}\")\n"
   ]
  },
  {
   "cell_type": "markdown",
   "metadata": {},
   "source": [
    "### SVD 적용 "
   ]
  },
  {
   "cell_type": "markdown",
   "metadata": {},
   "source": [
    "차원 축소 진행\n",
    "- pca는 정사각행렬(공분산 행렬)에서 사용\n",
    "- svd는 비정사각 행렬에서도 가능"
   ]
  },
  {
   "cell_type": "code",
   "execution_count": 32,
   "metadata": {},
   "outputs": [
    {
     "data": {
      "text/plain": [
       "(51282, 100)"
      ]
     },
     "execution_count": 32,
     "metadata": {},
     "output_type": "execute_result"
    }
   ],
   "source": [
    "from sklearn.decomposition import TruncatedSVD\n",
    "\n",
    "#SVD 적용(100차원으로 축소)\n",
    "\n",
    "n_components= 100\n",
    "svd=TruncatedSVD(n_components=n_components, random_state=42)\n",
    "tfidf_svd_matrix=svd.fit_transform(tfidf_matrix_ngram)\n",
    "\n",
    "\n",
    "tfidf_svd_matrix.shape\n"
   ]
  },
  {
   "cell_type": "code",
   "execution_count": 33,
   "metadata": {},
   "outputs": [
    {
     "data": {
      "text/plain": [
       "(51282, 51282)"
      ]
     },
     "execution_count": 33,
     "metadata": {},
     "output_type": "execute_result"
    }
   ],
   "source": [
    "# 유사도 행렬\n",
    "\n",
    "tfidf_svd_sim_matrix=cosine_similarity(tfidf_svd_matrix)\n",
    "\n",
    "tfidf_svd_sim_matrix.shape\n"
   ]
  },
  {
   "cell_type": "code",
   "execution_count": 24,
   "metadata": {},
   "outputs": [
    {
     "name": "stdout",
     "output_type": "stream",
     "text": [
      "\n",
      "SVD 적용 TF-IDF 추천 뉴스:\n",
      "뉴스 ID: N3917, 제목: Prince Edward Thrills the Internet with Hilarious Cake-Cutting Technique, 유사도: 0.9750\n",
      "뉴스 ID: N38088, 제목: Prince William carves his own path as monarch in waiting, 유사도: 0.9750\n",
      "뉴스 ID: N25838, 제목: Portis, Prince get technicals after Nets, Knicks scuffle, 유사도: 0.9750\n",
      "뉴스 ID: N60671, 제목: Prince Charles Teared Up When Prince William Talked About Succeeding Him, 유사도: 0.9750\n",
      "뉴스 ID: N9056, 제목: This Is What Queen Elizabeth Is Doing About the Prince William-Prince Harry Feud, 유사도: 0.9691\n"
     ]
    }
   ],
   "source": [
    "news_id_example = news_df[\"news_id\"].iloc[0]\n",
    "\n",
    "tfidf_svd_recommendations = get_tfidf_recommendations(news_id_example, news_df, tfidf_svd_sim_matrix)\n",
    "\n",
    "print(f\"\\nSVD 적용 TF-IDF 추천 뉴스:\")\n",
    "for rec in tfidf_svd_recommendations:\n",
    "    print(f\"뉴스 ID: {rec[0]}, 제목: {rec[1]}, 유사도: {rec[2]:.4f}\")\n"
   ]
  },
  {
   "cell_type": "code",
   "execution_count": 23,
   "metadata": {},
   "outputs": [
    {
     "name": "stdout",
     "output_type": "stream",
     "text": [
      "SVD 적용 TF-IDF Mean Similarity: 0.8912\n"
     ]
    }
   ],
   "source": [
    "\n",
    "mean_sim_tfidf_svd=calculate_mean_similarity(news_df, tfidf_svd_sim_matrix)\n",
    "\n",
    "print(f\"SVD 적용 TF-IDF Mean Similarity: {mean_sim_tfidf_svd:.4f}\")\n"
   ]
  },
  {
   "cell_type": "markdown",
   "metadata": {},
   "source": [
    "## 문맥을 고려한 임베딩 적용(W2V)"
   ]
  },
  {
   "cell_type": "code",
   "execution_count": 29,
   "metadata": {},
   "outputs": [],
   "source": [
    "# title 이상치 처리 -> 길이가 너무 긴 데이터 처리"
   ]
  },
  {
   "cell_type": "code",
   "execution_count": 34,
   "metadata": {},
   "outputs": [
    {
     "data": {
      "text/html": [
       "<div>\n",
       "<style scoped>\n",
       "    .dataframe tbody tr th:only-of-type {\n",
       "        vertical-align: middle;\n",
       "    }\n",
       "\n",
       "    .dataframe tbody tr th {\n",
       "        vertical-align: top;\n",
       "    }\n",
       "\n",
       "    .dataframe thead th {\n",
       "        text-align: right;\n",
       "    }\n",
       "</style>\n",
       "<table border=\"1\" class=\"dataframe\">\n",
       "  <thead>\n",
       "    <tr style=\"text-align: right;\">\n",
       "      <th></th>\n",
       "      <th>news_id</th>\n",
       "      <th>category</th>\n",
       "      <th>subcategory</th>\n",
       "      <th>title</th>\n",
       "      <th>abstract</th>\n",
       "      <th>url</th>\n",
       "      <th>title_entities</th>\n",
       "      <th>abstract_entities</th>\n",
       "      <th>cleaned_title</th>\n",
       "      <th>title_length</th>\n",
       "    </tr>\n",
       "  </thead>\n",
       "  <tbody>\n",
       "    <tr>\n",
       "      <th>0</th>\n",
       "      <td>N55528</td>\n",
       "      <td>lifestyle</td>\n",
       "      <td>lifestyleroyals</td>\n",
       "      <td>The Brands Queen Elizabeth, Prince Charles, and Prince Philip Swear By</td>\n",
       "      <td>Shop the notebooks, jackets, and more that the royals can't live without.</td>\n",
       "      <td>https://assets.msn.com/labs/mind/AAGH0ET.html</td>\n",
       "      <td>[{\"Label\": \"Prince Philip, Duke of Edinburgh\", \"Type\": \"P\", \"WikidataId\": \"Q80976\", \"Confidence\": 1.0, \"OccurrenceOffsets\": [48], \"SurfaceForms\": [\"Prince Philip\"]}, {\"Label\": \"Charles, Prince of Wales\", \"Type\": \"P\", \"WikidataId\": \"Q43274\", \"Confidence\": 1.0, \"OccurrenceOffsets\": [28], \"SurfaceForms\": [\"Prince Charles\"]}, {\"Label\": \"Elizabeth II\", \"Type\": \"P\", \"WikidataId\": \"Q9682\", \"Confidence\": 0.97, \"OccurrenceOffsets\": [11], \"SurfaceForms\": [\"Queen Elizabeth\"]}]</td>\n",
       "      <td>[]</td>\n",
       "      <td>brands queen elizabeth prince charles prince philip swear</td>\n",
       "      <td>70</td>\n",
       "    </tr>\n",
       "    <tr>\n",
       "      <th>1</th>\n",
       "      <td>N19639</td>\n",
       "      <td>health</td>\n",
       "      <td>weightloss</td>\n",
       "      <td>50 Worst Habits For Belly Fat</td>\n",
       "      <td>These seemingly harmless habits are holding you back and keeping you from shedding that unwanted belly fat for good.</td>\n",
       "      <td>https://assets.msn.com/labs/mind/AAB19MK.html</td>\n",
       "      <td>[{\"Label\": \"Adipose tissue\", \"Type\": \"C\", \"WikidataId\": \"Q193583\", \"Confidence\": 1.0, \"OccurrenceOffsets\": [20], \"SurfaceForms\": [\"Belly Fat\"]}]</td>\n",
       "      <td>[{\"Label\": \"Adipose tissue\", \"Type\": \"C\", \"WikidataId\": \"Q193583\", \"Confidence\": 1.0, \"OccurrenceOffsets\": [97], \"SurfaceForms\": [\"belly fat\"]}]</td>\n",
       "      <td>50 worst habits belly fat</td>\n",
       "      <td>29</td>\n",
       "    </tr>\n",
       "  </tbody>\n",
       "</table>\n",
       "</div>"
      ],
      "text/plain": [
       "  news_id   category      subcategory  \\\n",
       "0  N55528  lifestyle  lifestyleroyals   \n",
       "1  N19639     health       weightloss   \n",
       "\n",
       "                                                                    title  \\\n",
       "0  The Brands Queen Elizabeth, Prince Charles, and Prince Philip Swear By   \n",
       "1                                           50 Worst Habits For Belly Fat   \n",
       "\n",
       "                                                                                                               abstract  \\\n",
       "0                                             Shop the notebooks, jackets, and more that the royals can't live without.   \n",
       "1  These seemingly harmless habits are holding you back and keeping you from shedding that unwanted belly fat for good.   \n",
       "\n",
       "                                             url  \\\n",
       "0  https://assets.msn.com/labs/mind/AAGH0ET.html   \n",
       "1  https://assets.msn.com/labs/mind/AAB19MK.html   \n",
       "\n",
       "                                                                                                                                                                                                                                                                                                                                                                                                                                                                           title_entities  \\\n",
       "0  [{\"Label\": \"Prince Philip, Duke of Edinburgh\", \"Type\": \"P\", \"WikidataId\": \"Q80976\", \"Confidence\": 1.0, \"OccurrenceOffsets\": [48], \"SurfaceForms\": [\"Prince Philip\"]}, {\"Label\": \"Charles, Prince of Wales\", \"Type\": \"P\", \"WikidataId\": \"Q43274\", \"Confidence\": 1.0, \"OccurrenceOffsets\": [28], \"SurfaceForms\": [\"Prince Charles\"]}, {\"Label\": \"Elizabeth II\", \"Type\": \"P\", \"WikidataId\": \"Q9682\", \"Confidence\": 0.97, \"OccurrenceOffsets\": [11], \"SurfaceForms\": [\"Queen Elizabeth\"]}]   \n",
       "1                                                                                                                                                                                                                                                                                                                                        [{\"Label\": \"Adipose tissue\", \"Type\": \"C\", \"WikidataId\": \"Q193583\", \"Confidence\": 1.0, \"OccurrenceOffsets\": [20], \"SurfaceForms\": [\"Belly Fat\"]}]   \n",
       "\n",
       "                                                                                                                                  abstract_entities  \\\n",
       "0                                                                                                                                                []   \n",
       "1  [{\"Label\": \"Adipose tissue\", \"Type\": \"C\", \"WikidataId\": \"Q193583\", \"Confidence\": 1.0, \"OccurrenceOffsets\": [97], \"SurfaceForms\": [\"belly fat\"]}]   \n",
       "\n",
       "                                               cleaned_title  title_length  \n",
       "0  brands queen elizabeth prince charles prince philip swear            70  \n",
       "1                                  50 worst habits belly fat            29  "
      ]
     },
     "execution_count": 34,
     "metadata": {},
     "output_type": "execute_result"
    }
   ],
   "source": [
    "news_df['title_length']=news_df['title'].apply(len)\n",
    "news_df.head(2)"
   ]
  },
  {
   "cell_type": "code",
   "execution_count": 35,
   "metadata": {},
   "outputs": [
    {
     "data": {
      "text/plain": [
       "count    51282.000000\n",
       "mean        66.247241\n",
       "std         19.216860\n",
       "min         11.000000\n",
       "25%         54.000000\n",
       "50%         64.000000\n",
       "75%         78.000000\n",
       "max        333.000000\n",
       "Name: title_length, dtype: float64"
      ]
     },
     "execution_count": 35,
     "metadata": {},
     "output_type": "execute_result"
    }
   ],
   "source": [
    "news_df['title_length'].describe()"
   ]
  },
  {
   "cell_type": "code",
   "execution_count": 36,
   "metadata": {},
   "outputs": [
    {
     "data": {
      "text/plain": [
       "<Axes: xlabel='title_length'>"
      ]
     },
     "execution_count": 36,
     "metadata": {},
     "output_type": "execute_result"
    },
    {
     "data": {
      "image/png": "[encoded data removed]",
      "text/plain": [
       "<Figure size 640x480 with 1 Axes>"
      ]
     },
     "metadata": {},
     "output_type": "display_data"
    }
   ],
   "source": [
    "sns.boxenplot(news_df,x='title_length')"
   ]
  },
  {
   "cell_type": "code",
   "execution_count": 37,
   "metadata": {},
   "outputs": [],
   "source": [
    "Q1=news_df[\"title_length\"].quantile(0.25)\n",
    "Q3=news_df[\"title_length\"].quantile(0.75)\n",
    "IQR =Q3-Q1\n",
    "threshold=Q3+1.5*IQR"
   ]
  },
  {
   "cell_type": "code",
   "execution_count": 38,
   "metadata": {},
   "outputs": [
    {
     "data": {
      "text/plain": [
       "(50554, 10)"
      ]
     },
     "execution_count": 38,
     "metadata": {},
     "output_type": "execute_result"
    }
   ],
   "source": [
    "filter_df=news_df[news_df['title_length']<=threshold].copy()\n",
    "filter_df.shape"
   ]
  },
  {
   "cell_type": "code",
   "execution_count": 39,
   "metadata": {},
   "outputs": [
    {
     "data": {
      "text/plain": [
       "(51282, 10)"
      ]
     },
     "execution_count": 39,
     "metadata": {},
     "output_type": "execute_result"
    }
   ],
   "source": [
    "news_df.shape"
   ]
  },
  {
   "cell_type": "code",
   "execution_count": 40,
   "metadata": {},
   "outputs": [
    {
     "name": "stderr",
     "output_type": "stream",
     "text": [
      "/Users/mac/Library/Python/3.9/lib/python/site-packages/urllib3/__init__.py:35: NotOpenSSLWarning: urllib3 v2 only supports OpenSSL 1.1.1+, currently the 'ssl' module is compiled with 'LibreSSL 2.8.3'. See: https://github.com/urllib3/urllib3/issues/3020\n",
      "  warnings.warn(\n"
     ]
    },
    {
     "name": "stdout",
     "output_type": "stream",
     "text": [
      "[['brands', 'queen', 'elizabeth', 'prince', 'charles', 'prince', 'philip', 'swear'], ['50', 'worst', 'habits', 'belly', 'fat'], ['cost', 'trumps', 'aid', 'freeze', 'the', 'trenches', 'ukraines', 'war'], ['was', 'nba', 'wife', 'heres', 'it', 'affected', 'mental', 'health'], ['get', 'rid', 'skin', 'tags', 'according', 'to', 'a', 'dermatologist']]\n"
     ]
    }
   ],
   "source": [
    "import gensim\n",
    "from gensim.models import Word2Vec\n",
    "\n",
    "#뉴스 제목을 단어 리스트로 변환(토큰화)\n",
    "filter_df[\"tokenized_title\"]=filter_df[\"cleaned_title\"].apply(lambda x: x.split())\n",
    "\n",
    "\n",
    "sentences=filter_df[\"tokenized_title\"].tolist()\n",
    "\n",
    "print(sentences[:5]) \n"
   ]
  },
  {
   "cell_type": "code",
   "execution_count": 41,
   "metadata": {},
   "outputs": [
    {
     "name": "stdout",
     "output_type": "stream",
     "text": [
      "[('ukraine', 0.9569083452224731), ('leans', 0.9547510147094727), ('trumps', 0.9538299441337585), ('donald', 0.9522023797035217), ('president', 0.9511992931365967)]\n"
     ]
    }
   ],
   "source": [
    "# 모델 학습 \n",
    "\n",
    "word2vec_model = Word2Vec(sentences, vector_size=100, window=5, min_count=2, workers=4)\n",
    "\n",
    "# 트럼프와 유사한 단어 화인해보기\n",
    "print(word2vec_model.wv.most_similar(\"trump\", topn=5)) \n"
   ]
  },
  {
   "cell_type": "code",
   "execution_count": null,
   "metadata": {},
   "outputs": [],
   "source": [
    "# 트럼프와 관련된 단어 확인할 수 있음 \n",
    "# president, committees.."
   ]
  },
  {
   "cell_type": "code",
   "execution_count": 43,
   "metadata": {},
   "outputs": [
    {
     "name": "stdout",
     "output_type": "stream",
     "text": [
      "0         [-0.23657474, 0.289994, 0.113926485, -0.000497655, -0.10622226, -0.32517743, 0.102163166, 0.6092771, -0.20040755, -0.11702899, -0.11081044, -0.26449051, 0.0618638, 0.21474718, 0.3181627, -0.18693389, -0.06286489, -0.26044396, -0.015822059, -0.5110584, 0.16389604, 0.046752833, 0.18374248, -0.1902169, 0.03325677, -0.031151343, -0.1337922, -0.10707758, -0.3354445, -0.04004422, 0.19585627, -0.17747353, -0.10632928, -0.15360054, 0.053790793, 0.2581437, 0.007289561, -0.17395626, -0.027019316, -0.5727164, -0.2575048, -0.14076807, -0.15943901, 0.005220004, 0.27128187, -0.09435613, -0.20910701, 0.10386156, 0.114146225, 0.21024154, 0.016859375, -0.1867039, -0.16860363, -0.18911369, -0.18645063, 0.12656204, 0.19375089, 0.034416, -0.2034461, -0.17196256, -0.059134312, 0.0990994, -0.20750903, 0.06524464, -0.41716567, 0.30071083, 0.1109292, 0.25621992, -0.26569545, 0.20483471, -0.06841161, 0.24171025, 0.32443628, -0.11654877, 0.16447306, 0.21709594, 0.03340788, -0.054121066, -0.20628801, 0.075307146, -0.021679847, -0.15640774, -0.11466988, 0.31881848, 0.024674201, -0.07067133, -0.13616163, 0.22178787, 0.4205915, 0.20246823, 0.3055859, -0.024806814, 0.20897889, -0.0151576735, 0.5918053, 0.25442308, 0.18557762, -0.2845178, 0.21653128, 0.050639328]\n",
      "1    [-0.2518742, 0.32002383, 0.0054226606, 0.039757498, -0.07905392, -0.45360574, 0.059176438, 0.59546083, -0.27862448, -0.038668837, -0.16192581, -0.1820052, -0.062256705, 0.21230304, 0.32357427, -0.16212954, -0.18878588, -0.29377422, 0.05699978, -0.51622224, 0.3167306, 0.14299457, 0.34331557, -0.35662708, -0.04235471, 0.017770119, -0.19350518, -0.18218286, -0.30196878, -0.06793785, 0.23265748, -0.2404089, -0.030400032, -0.072914526, -0.13371627, 0.29741558, -0.04912528, -0.13345222, -0.09304549, -0.72212124, -0.456503, -0.08551063, -0.08554826, -0.082182825, 0.23707548, -0.030482179, -0.31400755, 0.0126386685, 0.13520832, 0.16209114, -0.012316415, -0.11222251, -0.1592389, -0.18978384, -0.061231337, 0.038759552, 0.2920502, 0.07030118, -0.18748046, -0.15596612, -0.1100025, 0.04535482, -0.2538659, -0.0061063347, -0.42244643, 0.3493188, 0.08115019, 0.3424604, -0.2683447, 0.28090158, -0.11876257, 0.2905472, 0.3136181, -0.10400804, 0.2712905, 0.055577576, 0.11158403, -0.047952075, -0.25439107, 0.10884875, 0.014326319, -0.13279481, -0.16321853, 0.30844864, 0.08875887, -0.12511162, -0.15561402, 0.1581258, 0.49474257, 0.21822181, 0.4755842, 0.039984606, 0.33874232, -0.14985473, 0.8013196, 0.3594483, 0.14910388, -0.29008377, 0.15383968, 0.17599835]\n",
      "2        [-0.33895463, 0.44044644, 0.12067854, 0.038464382, -0.20531783, -0.4030472, -0.013018502, 0.7173272, -0.14106613, -0.07945, -0.056700516, -0.21471785, 0.095146954, 0.23853678, 0.45414495, -0.32656848, -0.24538368, -0.35114884, -0.15602656, -0.6091671, 0.29214382, 0.042279415, 0.3242795, -0.18983313, 0.03081707, -0.11209991, -0.15178107, -0.20160097, -0.48243076, -0.03871449, 0.3293331, -0.39504594, -0.09888916, -0.22013378, 0.013495088, 0.31718847, -0.010681193, -0.12563431, -0.07059795, -0.5457022, -0.39704242, -0.0539947, -0.2073825, 0.034858737, 0.22950675, -0.09804326, -0.2927414, 0.08275794, 0.014514724, 0.28642115, -0.032099552, -0.20437077, -0.2719317, -0.22194436, -0.03100548, 0.18256672, 0.15579425, 0.11724195, -0.33055252, -0.42882147, -0.19718297, 0.085699394, -0.3003081, -0.043038726, -0.48048937, 0.41004598, 0.16175522, 0.33524156, -0.28135312, 0.32290488, -0.10390759, 0.28190285, 0.20485511, -0.09649646, 0.23160386, 0.23432963, 0.117219776, -0.09951789, -0.27338707, 0.18466912, -0.01841472, -0.103089325, -0.225587, 0.38218787, 0.048745926, -0.07383475, -0.18133225, 0.25063604, 0.521158, 0.28337514, 0.42602384, -0.040747512, 0.24784918, -0.08400522, 0.8562198, 0.4850696, 0.2207776, -0.25931633, 0.19095778, -0.033435494]\n",
      "3                     [-0.38370472, 0.5015859, 0.11162712, 0.043485556, -0.18200964, -0.45960617, 0.14052396, 1.0262812, -0.37647438, -0.12810084, -0.22225559, -0.30204907, 0.12713674, 0.3908858, 0.6152431, -0.20173337, -0.22982273, -0.48218557, 0.023254955, -0.8195005, 0.31498057, 0.13253818, 0.42012316, -0.361034, -0.045985788, -0.0378989, -0.22286145, -0.19430892, -0.56261647, 0.026058346, 0.37840572, -0.41477263, -0.11388239, -0.1718968, 0.07360322, 0.5275765, -0.08606277, -0.22802047, 0.014335496, -0.9811766, -0.59935147, -0.17584234, -0.21994902, -0.06382568, 0.4332761, -0.08927031, -0.38411534, 0.18141907, 0.12583832, 0.25581074, 0.03984337, -0.21618597, -0.32858297, -0.35257357, -0.21318877, 0.17724977, 0.36243016, 0.12567058, -0.34628284, -0.37684426, -0.18492392, 0.19878328, -0.44457418, 0.11773999, -0.75004447, 0.52587014, 0.24097298, 0.42976367, -0.46689412, 0.27028143, -0.108784154, 0.34992522, 0.46561813, -0.16698812, 0.20217353, 0.31862476, 0.033297665, -0.10888803, -0.39348626, 0.22897038, -0.059504986, -0.2670739, -0.1417269, 0.55123264, 0.12803149, -0.12336266, -0.30309707, 0.37198845, 0.7226128, 0.3181458, 0.5572188, -0.09185976, 0.3873288, -0.12652877, 1.0937341, 0.42475426, 0.21246415, -0.45010862, 0.38069952, 0.1377783]\n",
      "4          [-0.2567259, 0.3945069, -0.02334892, 0.05266466, -0.123800874, -0.20582937, 0.0940812, 0.7117932, -0.2929625, -0.033606946, -0.17197184, -0.008854424, 0.1421388, 0.2981786, 0.54766256, 0.0063024014, -0.29302406, -0.42175034, 0.08590157, -0.51412046, 0.2456444, 0.17841107, 0.3969891, -0.32022938, -0.1661088, 0.060712703, -0.1545157, -0.19019853, -0.346195, 0.16864595, 0.26858798, -0.44591746, -0.024406727, -0.029818201, 0.009796989, 0.4642587, -0.24499512, -0.078322135, 0.043318614, -0.73912746, -0.6608265, -0.05246001, -0.099640995, -0.18666147, 0.2522619, -0.034272477, -0.28391793, 0.13688913, -0.024708577, 0.063828036, 0.059398837, -0.05292313, -0.30006588, -0.29544184, 0.036296863, 0.049142905, 0.25140554, 0.14713004, -0.28210935, -0.36387876, -0.25656796, 0.13201068, -0.42584118, 0.05892411, -0.552028, 0.4048977, 0.25334445, 0.29240468, -0.35265893, 0.1122124, -0.022904398, 0.21104276, 0.21997362, -0.109426185, 0.034881514, 0.10549868, 0.030026378, -0.08721624, -0.31647784, 0.25836584, -0.061757345, -0.17926113, -0.00043715164, 0.3892991, 0.23574801, -0.074673794, -0.33221117, 0.25850576, 0.5317723, 0.20568135, 0.45397726, -0.096876, 0.3831225, -0.2098147, 0.84776044, 0.36264768, 0.057231948, -0.23515224, 0.353318, 0.16611972]\n",
      "Name: title_embedding, dtype: object\n"
     ]
    }
   ],
   "source": [
    "# 개별 뉴스 제목을 벡터화하는 함수\n",
    "\n",
    "def get_sentence_embedding(sentence, model, vector_size=100):\n",
    "    words = [word for word in sentence if word in model.wv]\n",
    "    if len(words) == 0:\n",
    "        return np.zeros(vector_size)  \n",
    "    return np.mean([model.wv[word] for word in words], axis=0)\n",
    "\n",
    "\n",
    "filter_df[\"title_embedding\"]=filter_df[\"tokenized_title\"].apply(lambda x: get_sentence_embedding(x, word2vec_model))\n",
    "\n",
    "print(filter_df[\"title_embedding\"].head())\n"
   ]
  },
  {
   "cell_type": "code",
   "execution_count": 44,
   "metadata": {},
   "outputs": [
    {
     "name": "stdout",
     "output_type": "stream",
     "text": [
      "Word2Vec 기반 평균 유사도: 0.8842\n"
     ]
    }
   ],
   "source": [
    "# 평균 코사인 유사도 확인\n",
    "\n",
    "title_embedding_matrix = np.vstack(filter_df[\"title_embedding\"].values)\n",
    "\n",
    "word2vec_sim_matrix = cosine_similarity(title_embedding_matrix)\n",
    "\n",
    "print(f\"Word2Vec 기반 평균 유사도: {np.mean(word2vec_sim_matrix):.4f}\")\n"
   ]
  },
  {
   "cell_type": "markdown",
   "metadata": {},
   "source": [
    "## 카테고리 가중치 부여"
   ]
  },
  {
   "cell_type": "code",
   "execution_count": null,
   "metadata": {},
   "outputs": [],
   "source": [
    "\n",
    "category_weights = {cat: 1.1 for cat in news_df[\"category\"].unique()}  \n",
    "default_weight = 0.9  \n"
   ]
  },
  {
   "cell_type": "code",
   "execution_count": null,
   "metadata": {},
   "outputs": [],
   "source": [
    "\n",
    "def apply_diverse_category_weight(sim_matrix, news_df, category_weights, default_weight=0.9):\n",
    "    weighted_sim_matrix = sim_matrix.copy()\n",
    "    \n",
    "    for i in range(len(news_df)):\n",
    "        for j in range(len(news_df)):\n",
    "            if i != j:  # 자기 자신과의 유사도는 그대로 유지\n",
    "                cat_i = news_df.iloc[i][\"category\"]\n",
    "                cat_j = news_df.iloc[j][\"category\"]\n",
    "\n",
    "                # 같은 카테고리면 가중치 적용, 다른 카테고리에도 일부 가중치 부여\n",
    "                weight = category_weights.get(cat_i, default_weight) if cat_i == cat_j else default_weight\n",
    "                weighted_sim_matrix[i, j] *= weight\n",
    "\n",
    "    return weighted_sim_matrix"
   ]
  },
  {
   "cell_type": "code",
   "execution_count": null,
   "metadata": {},
   "outputs": [],
   "source": [
    "tfidf_svd_sim_diverse_matrix=apply_diverse_category_weight(tfidf_svd_sim_matrix, news_df, category_weights)\n",
    "tfidf_svd_sim_diverse_matrix.shape"
   ]
  },
  {
   "cell_type": "code",
   "execution_count": null,
   "metadata": {},
   "outputs": [
    {
     "ename": "",
     "evalue": "",
     "output_type": "error",
     "traceback": [
      "\u001b[1;31mThe Kernel crashed while executing code in the current cell or a previous cell. \n",
      "\u001b[1;31mPlease review the code in the cell(s) to identify a possible cause of the failure. \n",
      "\u001b[1;31mClick <a href='https://aka.ms/vscodeJupyterKernelCrash'>here</a> for more info. \n",
      "\u001b[1;31mView Jupyter <a href='command:jupyter.viewOutput'>log</a> for further details."
     ]
    }
   ],
   "source": [
    "\n",
    "#추천 뉴스 리스트에 랜덤 뉴스 추가 (Exploration)\n",
    "def get_diverse_recommendations(news_id, news_df, sim_matrix, top_n=5, random_n=2):\n",
    "    idx = news_df[news_df[\"news_id\"] == news_id].index[0]  # 뉴스 인덱스 찾기\n",
    "    \n",
    "    sim_scores = list(enumerate(sim_matrix[idx]))\n",
    "    sim_scores = sorted(sim_scores, key=lambda x: x[1], reverse=True)\n",
    "    \n",
    "    top_news = [news_df.iloc[i[0]][\"news_id\"] for i in sim_scores[1:top_n+1]]  # 상위 N개\n",
    "    random_news = news_df.sample(random_n)[\"news_id\"].tolist()  # 랜덤 N개 추가\n",
    "    \n",
    "    return top_news + random_news\n",
    "\n",
    "#  새로운 추천 결과 확인\n",
    "news_id_example = news_df[\"news_id\"].iloc[0]\n",
    "diverse_recommendations = get_diverse_recommendations(news_id_example, news_df, tfidf_svd_sim_diverse_matrix)\n",
    "\n",
    "print(f\"'{news_id_example}' 뉴스와 유사한 추천 뉴스:\")\n",
    "for rec in diverse_recommendations:\n",
    "    print(f\"▶ 뉴스 ID: {rec}\")\n"
   ]
  },
  {
   "cell_type": "code",
   "execution_count": null,
   "metadata": {},
   "outputs": [],
   "source": []
  }
 ],
 "metadata": {
  "kernelspec": {
   "display_name": "Python 3",
   "language": "python",
   "name": "python3"
  },
  "language_info": {
   "codemirror_mode": {
    "name": "ipython",
    "version": 3
   },
   "file_extension": ".py",
   "mimetype": "text/x-python",
   "name": "python",
   "nbconvert_exporter": "python",
   "pygments_lexer": "ipython3",
   "version": "3.9.6"
  }
 },
 "nbformat": 4,
 "nbformat_minor": 2
}
