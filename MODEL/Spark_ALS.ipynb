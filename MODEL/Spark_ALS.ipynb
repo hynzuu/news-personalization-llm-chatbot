{
 "cells": [
  {
   "cell_type": "markdown",
   "metadata": {},
   "source": [
    "## implicit ALS(협업필터링)"
   ]
  },
  {
   "cell_type": "markdown",
   "metadata": {},
   "source": [
    "- 비슷한 사용자의 행동 패턴을 기반으로 추천 (이 뉴스를 클릭한 다른 사용자는 이런 뉴스도 봤어요 )"
   ]
  },
  {
   "cell_type": "code",
   "execution_count": 1,
   "metadata": {},
   "outputs": [
    {
     "name": "stdout",
     "output_type": "stream",
     "text": [
      "Defaulting to user installation because normal site-packages is not writeable\n",
      "Requirement already satisfied: pyspark in /Users/mac/Library/Python/3.9/lib/python/site-packages (3.5.5)\n",
      "Requirement already satisfied: py4j==0.10.9.7 in /Users/mac/Library/Python/3.9/lib/python/site-packages (from pyspark) (0.10.9.7)\n",
      "Note: you may need to restart the kernel to use updated packages.\n"
     ]
    }
   ],
   "source": [
    "pip install pyspark"
   ]
  },
  {
   "cell_type": "code",
   "execution_count": 2,
   "metadata": {},
   "outputs": [],
   "source": [
    "from pyspark.ml.recommendation import ALS\n",
    "from pyspark.sql import Row"
   ]
  },
  {
   "cell_type": "code",
   "execution_count": 3,
   "metadata": {},
   "outputs": [],
   "source": [
    "import pandas as pd\n",
    "import numpy as np\n",
    "import seaborn as sns\n",
    "import matplotlib.pyplot as plt"
   ]
  },
  {
   "cell_type": "code",
   "execution_count": 4,
   "metadata": {},
   "outputs": [
    {
     "data": {
      "text/html": [
       "<div>\n",
       "<style scoped>\n",
       "    .dataframe tbody tr th:only-of-type {\n",
       "        vertical-align: middle;\n",
       "    }\n",
       "\n",
       "    .dataframe tbody tr th {\n",
       "        vertical-align: top;\n",
       "    }\n",
       "\n",
       "    .dataframe thead th {\n",
       "        text-align: right;\n",
       "    }\n",
       "</style>\n",
       "<table border=\"1\" class=\"dataframe\">\n",
       "  <thead>\n",
       "    <tr style=\"text-align: right;\">\n",
       "      <th></th>\n",
       "      <th>impression_id</th>\n",
       "      <th>user_id</th>\n",
       "      <th>time</th>\n",
       "      <th>history</th>\n",
       "      <th>impressions</th>\n",
       "    </tr>\n",
       "  </thead>\n",
       "  <tbody>\n",
       "    <tr>\n",
       "      <th>0</th>\n",
       "      <td>1</td>\n",
       "      <td>U13740</td>\n",
       "      <td>11/11/2019 9:05:58 AM</td>\n",
       "      <td>N55189 N42782 N34694 N45794 N18445 N63302 N104...</td>\n",
       "      <td>N55689-1 N35729-0</td>\n",
       "    </tr>\n",
       "    <tr>\n",
       "      <th>1</th>\n",
       "      <td>2</td>\n",
       "      <td>U91836</td>\n",
       "      <td>11/12/2019 6:11:30 PM</td>\n",
       "      <td>N31739 N6072 N63045 N23979 N35656 N43353 N8129...</td>\n",
       "      <td>N20678-0 N39317-0 N58114-0 N20495-0 N42977-0 N...</td>\n",
       "    </tr>\n",
       "    <tr>\n",
       "      <th>2</th>\n",
       "      <td>3</td>\n",
       "      <td>U73700</td>\n",
       "      <td>11/14/2019 7:01:48 AM</td>\n",
       "      <td>N10732 N25792 N7563 N21087 N41087 N5445 N60384...</td>\n",
       "      <td>N50014-0 N23877-0 N35389-0 N49712-0 N16844-0 N...</td>\n",
       "    </tr>\n",
       "    <tr>\n",
       "      <th>3</th>\n",
       "      <td>4</td>\n",
       "      <td>U34670</td>\n",
       "      <td>11/11/2019 5:28:05 AM</td>\n",
       "      <td>N45729 N2203 N871 N53880 N41375 N43142 N33013 ...</td>\n",
       "      <td>N35729-0 N33632-0 N49685-1 N27581-0</td>\n",
       "    </tr>\n",
       "    <tr>\n",
       "      <th>4</th>\n",
       "      <td>5</td>\n",
       "      <td>U8125</td>\n",
       "      <td>11/12/2019 4:11:21 PM</td>\n",
       "      <td>N10078 N56514 N14904 N33740</td>\n",
       "      <td>N39985-0 N36050-0 N16096-0 N8400-1 N22407-0 N6...</td>\n",
       "    </tr>\n",
       "  </tbody>\n",
       "</table>\n",
       "</div>"
      ],
      "text/plain": [
       "   impression_id user_id                   time  \\\n",
       "0              1  U13740  11/11/2019 9:05:58 AM   \n",
       "1              2  U91836  11/12/2019 6:11:30 PM   \n",
       "2              3  U73700  11/14/2019 7:01:48 AM   \n",
       "3              4  U34670  11/11/2019 5:28:05 AM   \n",
       "4              5   U8125  11/12/2019 4:11:21 PM   \n",
       "\n",
       "                                             history  \\\n",
       "0  N55189 N42782 N34694 N45794 N18445 N63302 N104...   \n",
       "1  N31739 N6072 N63045 N23979 N35656 N43353 N8129...   \n",
       "2  N10732 N25792 N7563 N21087 N41087 N5445 N60384...   \n",
       "3  N45729 N2203 N871 N53880 N41375 N43142 N33013 ...   \n",
       "4                        N10078 N56514 N14904 N33740   \n",
       "\n",
       "                                         impressions  \n",
       "0                                  N55689-1 N35729-0  \n",
       "1  N20678-0 N39317-0 N58114-0 N20495-0 N42977-0 N...  \n",
       "2  N50014-0 N23877-0 N35389-0 N49712-0 N16844-0 N...  \n",
       "3                N35729-0 N33632-0 N49685-1 N27581-0  \n",
       "4  N39985-0 N36050-0 N16096-0 N8400-1 N22407-0 N6...  "
      ]
     },
     "execution_count": 4,
     "metadata": {},
     "output_type": "execute_result"
    }
   ],
   "source": [
    "behaviors_df=pd.read_csv('Data/behaviors.csv')\n",
    "behaviors_df.head()"
   ]
  },
  {
   "cell_type": "code",
   "execution_count": 5,
   "metadata": {},
   "outputs": [
    {
     "data": {
      "text/html": [
       "<div>\n",
       "<style scoped>\n",
       "    .dataframe tbody tr th:only-of-type {\n",
       "        vertical-align: middle;\n",
       "    }\n",
       "\n",
       "    .dataframe tbody tr th {\n",
       "        vertical-align: top;\n",
       "    }\n",
       "\n",
       "    .dataframe thead th {\n",
       "        text-align: right;\n",
       "    }\n",
       "</style>\n",
       "<table border=\"1\" class=\"dataframe\">\n",
       "  <thead>\n",
       "    <tr style=\"text-align: right;\">\n",
       "      <th></th>\n",
       "      <th>user_id</th>\n",
       "      <th>history_news_id</th>\n",
       "    </tr>\n",
       "  </thead>\n",
       "  <tbody>\n",
       "    <tr>\n",
       "      <th>0</th>\n",
       "      <td>U13740</td>\n",
       "      <td>N55189</td>\n",
       "    </tr>\n",
       "    <tr>\n",
       "      <th>1</th>\n",
       "      <td>U13740</td>\n",
       "      <td>N42782</td>\n",
       "    </tr>\n",
       "    <tr>\n",
       "      <th>2</th>\n",
       "      <td>U13740</td>\n",
       "      <td>N34694</td>\n",
       "    </tr>\n",
       "    <tr>\n",
       "      <th>3</th>\n",
       "      <td>U13740</td>\n",
       "      <td>N45794</td>\n",
       "    </tr>\n",
       "    <tr>\n",
       "      <th>4</th>\n",
       "      <td>U13740</td>\n",
       "      <td>N18445</td>\n",
       "    </tr>\n",
       "  </tbody>\n",
       "</table>\n",
       "</div>"
      ],
      "text/plain": [
       "  user_id history_news_id\n",
       "0  U13740          N55189\n",
       "1  U13740          N42782\n",
       "2  U13740          N34694\n",
       "3  U13740          N45794\n",
       "4  U13740          N18445"
      ]
     },
     "execution_count": 5,
     "metadata": {},
     "output_type": "execute_result"
    }
   ],
   "source": [
    "history_df=pd.read_csv('./Data/history.csv')\n",
    "history_df.head()"
   ]
  },
  {
   "cell_type": "code",
   "execution_count": 6,
   "metadata": {},
   "outputs": [
    {
     "data": {
      "text/html": [
       "<div>\n",
       "<style scoped>\n",
       "    .dataframe tbody tr th:only-of-type {\n",
       "        vertical-align: middle;\n",
       "    }\n",
       "\n",
       "    .dataframe tbody tr th {\n",
       "        vertical-align: top;\n",
       "    }\n",
       "\n",
       "    .dataframe thead th {\n",
       "        text-align: right;\n",
       "    }\n",
       "</style>\n",
       "<table border=\"1\" class=\"dataframe\">\n",
       "  <thead>\n",
       "    <tr style=\"text-align: right;\">\n",
       "      <th></th>\n",
       "      <th>user_id</th>\n",
       "      <th>history_news_id</th>\n",
       "      <th>click_count</th>\n",
       "      <th>user_idx</th>\n",
       "      <th>news_idx</th>\n",
       "    </tr>\n",
       "  </thead>\n",
       "  <tbody>\n",
       "    <tr>\n",
       "      <th>0</th>\n",
       "      <td>U100</td>\n",
       "      <td>N18870</td>\n",
       "      <td>1</td>\n",
       "      <td>0</td>\n",
       "      <td>0</td>\n",
       "    </tr>\n",
       "    <tr>\n",
       "      <th>1</th>\n",
       "      <td>U100</td>\n",
       "      <td>N20121</td>\n",
       "      <td>1</td>\n",
       "      <td>0</td>\n",
       "      <td>1</td>\n",
       "    </tr>\n",
       "    <tr>\n",
       "      <th>2</th>\n",
       "      <td>U100</td>\n",
       "      <td>N20575</td>\n",
       "      <td>1</td>\n",
       "      <td>0</td>\n",
       "      <td>2</td>\n",
       "    </tr>\n",
       "    <tr>\n",
       "      <th>3</th>\n",
       "      <td>U100</td>\n",
       "      <td>N33998</td>\n",
       "      <td>1</td>\n",
       "      <td>0</td>\n",
       "      <td>3</td>\n",
       "    </tr>\n",
       "    <tr>\n",
       "      <th>4</th>\n",
       "      <td>U100</td>\n",
       "      <td>N42330</td>\n",
       "      <td>1</td>\n",
       "      <td>0</td>\n",
       "      <td>4</td>\n",
       "    </tr>\n",
       "  </tbody>\n",
       "</table>\n",
       "</div>"
      ],
      "text/plain": [
       "  user_id history_news_id  click_count  user_idx  news_idx\n",
       "0    U100          N18870            1         0         0\n",
       "1    U100          N20121            1         0         1\n",
       "2    U100          N20575            1         0         2\n",
       "3    U100          N33998            1         0         3\n",
       "4    U100          N42330            1         0         4"
      ]
     },
     "execution_count": 6,
     "metadata": {},
     "output_type": "execute_result"
    }
   ],
   "source": [
    "\n",
    "# 사용자-뉴스 클릭 횟수\n",
    "user_item_counts = history_df.groupby([\"user_id\", \"history_news_id\"]).size().reset_index(name=\"click_count\")\n",
    "\n",
    "\n",
    "# 사용자 ID 매핑 (user_id → user_idx)\n",
    "user_mapping = {uid: idx for idx, uid in enumerate(user_item_counts[\"user_id\"].unique())}\n",
    "user_item_counts[\"user_idx\"] = user_item_counts[\"user_id\"].map(user_mapping)\n",
    "\n",
    "\n",
    "# 뉴스 ID 매핑 (history_news_id → news_idx)\n",
    "news_mapping = {nid: idx for idx, nid in enumerate(user_item_counts[\"history_news_id\"].unique())}\n",
    "user_item_counts[\"news_idx\"] = user_item_counts[\"history_news_id\"].map(news_mapping)\n",
    "\n",
    "\n",
    "user_item_counts.head()\n"
   ]
  },
  {
   "cell_type": "code",
   "execution_count": 7,
   "metadata": {},
   "outputs": [
    {
     "data": {
      "text/plain": [
       "count    915011.000000\n",
       "mean          5.582052\n",
       "std           5.592618\n",
       "min           1.000000\n",
       "25%           2.000000\n",
       "50%           4.000000\n",
       "75%           7.000000\n",
       "max         310.000000\n",
       "Name: click_count, dtype: float64"
      ]
     },
     "execution_count": 7,
     "metadata": {},
     "output_type": "execute_result"
    }
   ],
   "source": [
    "user_item_counts['click_count'].describe()"
   ]
  },
  {
   "cell_type": "code",
   "execution_count": 8,
   "metadata": {},
   "outputs": [],
   "source": [
    "user_item_counts.to_csv(\"./Data/history_preprocessed.csv\", index=False)"
   ]
  },
  {
   "cell_type": "code",
   "execution_count": null,
   "metadata": {},
   "outputs": [
    {
     "name": "stderr",
     "output_type": "stream",
     "text": [
      "Setting default log level to \"WARN\".\n",
      "To adjust logging level use sc.setLogLevel(newLevel). For SparkR, use setLogLevel(newLevel).\n",
      "25/03/14 16:40:12 WARN NativeCodeLoader: Unable to load native-hadoop library for your platform... using builtin-java classes where applicable\n",
      "                                                                                \r"
     ]
    },
    {
     "name": "stdout",
     "output_type": "stream",
     "text": [
      "+-------+---------------+-----------+--------+--------+\n",
      "|user_id|history_news_id|click_count|user_idx|news_idx|\n",
      "+-------+---------------+-----------+--------+--------+\n",
      "|   U100|         N18870|          1|       0|       0|\n",
      "|   U100|         N20121|          1|       0|       1|\n",
      "|   U100|         N20575|          1|       0|       2|\n",
      "|   U100|         N33998|          1|       0|       3|\n",
      "|   U100|         N42330|          1|       0|       4|\n",
      "+-------+---------------+-----------+--------+--------+\n",
      "only showing top 5 rows\n",
      "\n"
     ]
    }
   ],
   "source": [
    "\n",
    "from pyspark.sql import SparkSession\n",
    "\n",
    "#세션 생성\n",
    "\n",
    "spark = SparkSession.builder \\\n",
    "    .appName(\"MIND-ALS-Recommendation\") \\\n",
    "    .config(\"spark.driver.bindAddress\", \"127.0.0.1\") \\\n",
    "    .getOrCreate()\n",
    "\n",
    "\n",
    "history_spark_df = spark.read.csv(\"./Data/history_preprocessed.csv\", header=True, inferSchema=True)\n",
    "\n",
    "history_spark_df.show(5)\n"
   ]
  },
  {
   "cell_type": "code",
   "execution_count": 9,
   "metadata": {},
   "outputs": [
    {
     "data": {
      "text/html": [
       "\n",
       "            <div>\n",
       "                <p><b>SparkSession - in-memory</b></p>\n",
       "                \n",
       "        <div>\n",
       "            <p><b>SparkContext</b></p>\n",
       "\n",
       "            <p><a href=\"http://172.30.1.77:4040\">Spark UI</a></p>\n",
       "\n",
       "            <dl>\n",
       "              <dt>Version</dt>\n",
       "                <dd><code>v3.5.5</code></dd>\n",
       "              <dt>Master</dt>\n",
       "                <dd><code>local[*]</code></dd>\n",
       "              <dt>AppName</dt>\n",
       "                <dd><code>MIND-ALS-Recommendation</code></dd>\n",
       "            </dl>\n",
       "        </div>\n",
       "        \n",
       "            </div>\n",
       "        "
      ],
      "text/plain": [
       "<pyspark.sql.session.SparkSession at 0x175783b50>"
      ]
     },
     "execution_count": 9,
     "metadata": {},
     "output_type": "execute_result"
    }
   ],
   "source": [
    "spark\n"
   ]
  },
  {
   "cell_type": "code",
   "execution_count": null,
   "metadata": {},
   "outputs": [
    {
     "name": "stderr",
     "output_type": "stream",
     "text": [
      "25/03/14 16:45:40 WARN InstanceBuilder: Failed to load implementation from:dev.ludovic.netlib.blas.JNIBLAS\n",
      "25/03/14 16:45:41 WARN InstanceBuilder: Failed to load implementation from:dev.ludovic.netlib.lapack.JNILAPACK\n",
      "                                                                                \r"
     ]
    }
   ],
   "source": [
    "from pyspark.ml.recommendation import ALS\n",
    "\n",
    "# ALS 모델 정의\n",
    "als = ALS(\n",
    "    maxIter=20,      \n",
    "    rank=100,     # 잠재 요인 개수 \n",
    "    regParam=0.1,     #과적합 방지\n",
    "    userCol=\"user_idx\",\n",
    "    itemCol=\"news_idx\",\n",
    "    ratingCol=\"click_count\",\n",
    "    coldStartStrategy=\"drop\"  \n",
    ")\n",
    "\n",
    " # train/test 나누기\n",
    "(training, test) = history_spark_df.randomSplit([0.8, 0.2])\n",
    "\n",
    "als_model = als.fit(training)\n"
   ]
  },
  {
   "cell_type": "code",
   "execution_count": null,
   "metadata": {},
   "outputs": [
    {
     "name": "stderr",
     "output_type": "stream",
     "text": [
      "[Stage 140:===============================================>     (90 + 10) / 100]\r"
     ]
    },
    {
     "name": "stdout",
     "output_type": "stream",
     "text": [
      "+--------+---------------------------------------------------------------------------------------------------+\n",
      "|user_idx|recommendations                                                                                    |\n",
      "+--------+---------------------------------------------------------------------------------------------------+\n",
      "|28      |[{29274, 9.579383}, {17461, 8.745498}, {28200, 8.017481}, {7963, 8.002184}, {3056, 7.9854193}]     |\n",
      "|31      |[{29274, 4.5560412}, {17461, 4.1117077}, {28200, 3.8102448}, {20961, 3.8098457}, {7963, 3.7952142}]|\n",
      "|34      |[{29274, 2.3651016}, {17461, 2.1770184}, {28200, 1.9805305}, {7963, 1.9775585}, {20961, 1.9733173}]|\n",
      "|53      |[{29274, 14.370767}, {17461, 12.854523}, {28200, 11.951962}, {7963, 11.922479}, {3056, 11.884595}] |\n",
      "|65      |[{29274, 4.7638774}, {17461, 4.3260727}, {28200, 3.9467835}, {7963, 3.938887}, {3056, 3.9275014}]  |\n",
      "+--------+---------------------------------------------------------------------------------------------------+\n",
      "only showing top 5 rows\n",
      "\n"
     ]
    },
    {
     "name": "stderr",
     "output_type": "stream",
     "text": [
      "                                                                                \r"
     ]
    }
   ],
   "source": [
    "# 모든 사용자에 대한 추천 생성 (Top 5)\n",
    "user_recommendations = als_model.recommendForAllUsers(5)\n",
    "\n",
    "\n",
    "user_recommendations.show(5, truncate=False)\n"
   ]
  },
  {
   "cell_type": "code",
   "execution_count": 15,
   "metadata": {},
   "outputs": [
    {
     "name": "stderr",
     "output_type": "stream",
     "text": [
      "                                                                                \r"
     ]
    },
    {
     "name": "stdout",
     "output_type": "stream",
     "text": [
      "train count:732563\n",
      "test count:182448\n"
     ]
    },
    {
     "name": "stderr",
     "output_type": "stream",
     "text": [
      "                                                                                \r"
     ]
    }
   ],
   "source": [
    "train_size = training.count()\n",
    "test_size = test.count()\n",
    "\n",
    "print(f\"train count:{train_size}\")\n",
    "print(f\"test count:{test_size}\")"
   ]
  },
  {
   "cell_type": "code",
   "execution_count": 47,
   "metadata": {},
   "outputs": [
    {
     "name": "stdout",
     "output_type": "stream",
     "text": [
      "Training dataset - Distinct user_idx count: 49108\n",
      "Training dataset - Distinct news_idx count: 33195\n",
      "Test dataset - Distinct user_idx count: 49108\n",
      "Test dataset - Distinct news_idx count: 33195\n"
     ]
    }
   ],
   "source": [
    "# Training dataset distinct counts\n",
    "distinct_user_idx_train = training.select(\"user_idx\").distinct().count()\n",
    "distinct_news_idx_train = training.select(\"news_idx\").distinct().count()\n",
    "\n",
    "# Test dataset distinct counts\n",
    "distinct_user_idx_test = test.select(\"user_idx\").distinct().count()\n",
    "distinct_news_idx_test = test.select(\"news_idx\").distinct().count()\n",
    "\n",
    "print(f\"Training dataset - Distinct user_idx count: {distinct_user_idx_train}\")\n",
    "print(f\"Training dataset - Distinct news_idx count: {distinct_news_idx_train}\")\n",
    "print(f\"Test dataset - Distinct user_idx count: {distinct_user_idx_test}\")\n",
    "print(f\"Test dataset - Distinct news_idx count: {distinct_news_idx_test}\")"
   ]
  },
  {
   "cell_type": "code",
   "execution_count": 17,
   "metadata": {},
   "outputs": [],
   "source": [
    "# 사용자/ 뉴스 행렬 확인 \n",
    "\n",
    "user_factors=als_model.userFactors \n",
    "news_factors=als_model.itemFactors "
   ]
  },
  {
   "cell_type": "code",
   "execution_count": 49,
   "metadata": {},
   "outputs": [
    {
     "name": "stdout",
     "output_type": "stream",
     "text": [
      "+---+--------------------+\n",
      "| id|            features|\n",
      "+---+--------------------+\n",
      "|  0|[0.0, 0.0, 0.0, 0...|\n",
      "| 10|[0.0, 0.0, 0.0, 0...|\n",
      "| 20|[3.792684E-4, -0....|\n",
      "| 30|[-0.029989516, -0...|\n",
      "| 40|[0.0, 0.0, 0.0, 0...|\n",
      "| 50|[0.0, 0.0, 0.0, 0...|\n",
      "| 60|[0.0012925876, -0...|\n",
      "| 70|[-0.10578365, 0.0...|\n",
      "| 80|[0.0, 0.0, 0.0, 0...|\n",
      "| 90|[0.0, 0.0, 0.0, 0...|\n",
      "+---+--------------------+\n",
      "only showing top 10 rows\n",
      "\n",
      "+---+--------------------+\n",
      "| id|            features|\n",
      "+---+--------------------+\n",
      "|  0|[-0.59969795, 0.1...|\n",
      "| 10|[-0.0029465796, -...|\n",
      "| 20|[-0.0011880719, -...|\n",
      "| 30|[0.062401876, -0....|\n",
      "| 40|[0.0, 0.0, 0.0, 0...|\n",
      "| 50|[0.012454009, -0....|\n",
      "| 60|[0.024392206, 0.0...|\n",
      "| 70|[0.14256148, 0.06...|\n",
      "| 80|[0.004484646, -0....|\n",
      "| 90|[-0.016925707, 0....|\n",
      "+---+--------------------+\n",
      "only showing top 10 rows\n",
      "\n"
     ]
    }
   ],
   "source": [
    "# 잠재요인벡터\n",
    "\n",
    "user_factors.show(10) \n",
    "news_factors.show(10)"
   ]
  },
  {
   "cell_type": "code",
   "execution_count": 39,
   "metadata": {},
   "outputs": [
    {
     "name": "stdout",
     "output_type": "stream",
     "text": [
      "rows: 48862,columns: 2\n"
     ]
    },
    {
     "name": "stderr",
     "output_type": "stream",
     "text": [
      "25/03/09 17:08:00 WARN DAGScheduler: Broadcasting large task binary with size 2.5 MiB\n"
     ]
    }
   ],
   "source": [
    "# user 요인 벡터\n",
    "num_rows = user_factors.count()\n",
    "num_columns = len(user_factors.columns)\n",
    "print(f\"rows: {num_rows},columns: {num_columns}\")"
   ]
  },
  {
   "cell_type": "code",
   "execution_count": 40,
   "metadata": {},
   "outputs": [
    {
     "name": "stdout",
     "output_type": "stream",
     "text": [
      "rows: 30421,columns: 2\n"
     ]
    },
    {
     "name": "stderr",
     "output_type": "stream",
     "text": [
      "25/03/09 17:08:04 WARN DAGScheduler: Broadcasting large task binary with size 2.5 MiB\n"
     ]
    }
   ],
   "source": [
    "# 뉴스 요인 벡터\n",
    "\n",
    "num_rows = news_factors.count()\n",
    "num_columns = len(news_factors.columns)\n",
    "print(f\"rows: {num_rows},columns: {num_columns}\")"
   ]
  },
  {
   "cell_type": "code",
   "execution_count": 18,
   "metadata": {},
   "outputs": [
    {
     "name": "stdout",
     "output_type": "stream",
     "text": [
      "<pyspark.sql.session.SparkSession object at 0x175783b50>\n"
     ]
    }
   ],
   "source": [
    "print(spark)\n"
   ]
  },
  {
   "cell_type": "code",
   "execution_count": 19,
   "metadata": {},
   "outputs": [],
   "source": [
    "predictions = als_model.transform(test)"
   ]
  },
  {
   "cell_type": "code",
   "execution_count": 20,
   "metadata": {},
   "outputs": [
    {
     "name": "stderr",
     "output_type": "stream",
     "text": [
      "[Stage 712:==================================================>    (10 + 1) / 11]\r"
     ]
    },
    {
     "name": "stdout",
     "output_type": "stream",
     "text": [
      "RMSE score = 1.5432\n",
      "MAE score = 0.2738\n",
      "R² score = 0.9242\n",
      "Explained Variance score = 27.2848\n"
     ]
    },
    {
     "name": "stderr",
     "output_type": "stream",
     "text": [
      "                                                                                \r"
     ]
    }
   ],
   "source": [
    "from pyspark.ml.evaluation import RegressionEvaluator\n",
    "\n",
    "# RMSE (Root Mean Squared Error)\n",
    "rmse_evaluator = RegressionEvaluator(\n",
    "    metricName=\"rmse\",\n",
    "    labelCol=\"click_count\",\n",
    "    predictionCol=\"prediction\"\n",
    ")\n",
    "rmse = rmse_evaluator.evaluate(predictions)\n",
    "\n",
    "# MAE (Mean Absolute Error)\n",
    "mae_evaluator = RegressionEvaluator(\n",
    "    metricName=\"mae\",\n",
    "    labelCol=\"click_count\",\n",
    "    predictionCol=\"prediction\"\n",
    ")\n",
    "mae = mae_evaluator.evaluate(predictions)\n",
    "\n",
    "# R² (R-Squared)\n",
    "r2_evaluator = RegressionEvaluator(\n",
    "    metricName=\"r2\",\n",
    "    labelCol=\"click_count\",\n",
    "    predictionCol=\"prediction\"\n",
    ")\n",
    "r2 = r2_evaluator.evaluate(predictions)\n",
    "\n",
    "# Explained Variance\n",
    "exp_var_evaluator = RegressionEvaluator(\n",
    "    metricName=\"var\",\n",
    "    labelCol=\"click_count\",\n",
    "    predictionCol=\"prediction\"\n",
    ")\n",
    "exp_var = exp_var_evaluator.evaluate(predictions)\n",
    "\n",
    "print(f\"RMSE score = {rmse:.4f}\")\n",
    "print(f\"MAE score = {mae:.4f}\")\n",
    "print(f\"R² score = {r2:.4f}\")\n",
    "print(f\"Explained Variance score = {exp_var:.4f}\")\n"
   ]
  },
  {
   "cell_type": "code",
   "execution_count": null,
   "metadata": {},
   "outputs": [
    {
     "name": "stdout",
     "output_type": "stream",
     "text": [
      "root\n",
      " |-- user_id: string (nullable = true)\n",
      " |-- history_news_id: string (nullable = true)\n",
      " |-- click_count: integer (nullable = true)\n",
      " |-- user_idx: integer (nullable = true)\n",
      " |-- news_idx: integer (nullable = true)\n",
      "\n"
     ]
    }
   ],
   "source": [
    "# 테스트 데이터 컬럼 확인\n",
    "test.printSchema()\n"
   ]
  },
  {
   "cell_type": "code",
   "execution_count": 18,
   "metadata": {},
   "outputs": [
    {
     "name": "stdout",
     "output_type": "stream",
     "text": [
      "root\n",
      " |-- user_id: string (nullable = true)\n",
      " |-- history_news_id: string (nullable = true)\n",
      " |-- click_count: integer (nullable = true)\n",
      " |-- user_idx: integer (nullable = true)\n",
      " |-- news_idx: integer (nullable = true)\n",
      " |-- prediction: float (nullable = false)\n",
      "\n"
     ]
    }
   ],
   "source": [
    "# 예측 데이터 컬럼 확인\n",
    "predictions.printSchema()\n"
   ]
  },
  {
   "cell_type": "code",
   "execution_count": null,
   "metadata": {},
   "outputs": [],
   "source": []
  }
 ],
 "metadata": {
  "kernelspec": {
   "display_name": "Python 3",
   "language": "python",
   "name": "python3"
  },
  "language_info": {
   "codemirror_mode": {
    "name": "ipython",
    "version": 3
   },
   "file_extension": ".py",
   "mimetype": "text/x-python",
   "name": "python",
   "nbconvert_exporter": "python",
   "pygments_lexer": "ipython3",
   "version": "3.9.6"
  }
 },
 "nbformat": 4,
 "nbformat_minor": 2
}
