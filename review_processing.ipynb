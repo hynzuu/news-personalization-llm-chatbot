{
 "cells": [
  {
   "cell_type": "code",
   "execution_count": 7,
   "metadata": {},
   "outputs": [
    {
     "name": "stdout",
     "output_type": "stream",
     "text": [
      "Defaulting to user installation because normal site-packages is not writeable\n",
      "Collecting seaborn\n",
      "  Using cached seaborn-0.13.2-py3-none-any.whl.metadata (5.4 kB)\n",
      "Requirement already satisfied: numpy!=1.24.0,>=1.20 in /Users/mac/Library/Python/3.9/lib/python/site-packages (from seaborn) (2.0.2)\n",
      "Requirement already satisfied: pandas>=1.2 in /Users/mac/Library/Python/3.9/lib/python/site-packages (from seaborn) (2.2.3)\n",
      "Collecting matplotlib!=3.6.1,>=3.4 (from seaborn)\n",
      "  Downloading matplotlib-3.9.4-cp39-cp39-macosx_11_0_arm64.whl.metadata (11 kB)\n",
      "Collecting contourpy>=1.0.1 (from matplotlib!=3.6.1,>=3.4->seaborn)\n",
      "  Downloading contourpy-1.3.0-cp39-cp39-macosx_11_0_arm64.whl.metadata (5.4 kB)\n",
      "Collecting cycler>=0.10 (from matplotlib!=3.6.1,>=3.4->seaborn)\n",
      "  Using cached cycler-0.12.1-py3-none-any.whl.metadata (3.8 kB)\n",
      "Collecting fonttools>=4.22.0 (from matplotlib!=3.6.1,>=3.4->seaborn)\n",
      "  Downloading fonttools-4.56.0-cp39-cp39-macosx_10_9_universal2.whl.metadata (101 kB)\n",
      "Collecting kiwisolver>=1.3.1 (from matplotlib!=3.6.1,>=3.4->seaborn)\n",
      "  Downloading kiwisolver-1.4.7-cp39-cp39-macosx_11_0_arm64.whl.metadata (6.3 kB)\n",
      "Requirement already satisfied: packaging>=20.0 in /Users/mac/Library/Python/3.9/lib/python/site-packages (from matplotlib!=3.6.1,>=3.4->seaborn) (24.2)\n",
      "Collecting pillow>=8 (from matplotlib!=3.6.1,>=3.4->seaborn)\n",
      "  Downloading pillow-11.1.0-cp39-cp39-macosx_11_0_arm64.whl.metadata (9.1 kB)\n",
      "Collecting pyparsing>=2.3.1 (from matplotlib!=3.6.1,>=3.4->seaborn)\n",
      "  Using cached pyparsing-3.2.1-py3-none-any.whl.metadata (5.0 kB)\n",
      "Requirement already satisfied: python-dateutil>=2.7 in /Users/mac/Library/Python/3.9/lib/python/site-packages (from matplotlib!=3.6.1,>=3.4->seaborn) (2.9.0.post0)\n",
      "Collecting importlib-resources>=3.2.0 (from matplotlib!=3.6.1,>=3.4->seaborn)\n",
      "  Downloading importlib_resources-6.5.2-py3-none-any.whl.metadata (3.9 kB)\n",
      "Requirement already satisfied: pytz>=2020.1 in /Users/mac/Library/Python/3.9/lib/python/site-packages (from pandas>=1.2->seaborn) (2025.1)\n",
      "Requirement already satisfied: tzdata>=2022.7 in /Users/mac/Library/Python/3.9/lib/python/site-packages (from pandas>=1.2->seaborn) (2025.1)\n",
      "Requirement already satisfied: zipp>=3.1.0 in /Users/mac/Library/Python/3.9/lib/python/site-packages (from importlib-resources>=3.2.0->matplotlib!=3.6.1,>=3.4->seaborn) (3.21.0)\n",
      "Requirement already satisfied: six>=1.5 in /Users/mac/Library/Python/3.9/lib/python/site-packages (from python-dateutil>=2.7->matplotlib!=3.6.1,>=3.4->seaborn) (1.17.0)\n",
      "Using cached seaborn-0.13.2-py3-none-any.whl (294 kB)\n",
      "Downloading matplotlib-3.9.4-cp39-cp39-macosx_11_0_arm64.whl (7.8 MB)\n",
      "\u001b[2K   \u001b[90m━━━━━━━━━━━━━━━━━━━━━━━━━━━━━━━━━━━━━━━━\u001b[0m \u001b[32m7.8/7.8 MB\u001b[0m \u001b[31m11.5 MB/s\u001b[0m eta \u001b[36m0:00:00\u001b[0ma \u001b[36m0:00:01\u001b[0m\n",
      "\u001b[?25hDownloading contourpy-1.3.0-cp39-cp39-macosx_11_0_arm64.whl (249 kB)\n",
      "Using cached cycler-0.12.1-py3-none-any.whl (8.3 kB)\n",
      "Downloading fonttools-4.56.0-cp39-cp39-macosx_10_9_universal2.whl (2.8 MB)\n",
      "\u001b[2K   \u001b[90m━━━━━━━━━━━━━━━━━━━━━━━━━━━━━━━━━━━━━━━━\u001b[0m \u001b[32m2.8/2.8 MB\u001b[0m \u001b[31m10.9 MB/s\u001b[0m eta \u001b[36m0:00:00\u001b[0ma \u001b[36m0:00:01\u001b[0m\n",
      "\u001b[?25hDownloading importlib_resources-6.5.2-py3-none-any.whl (37 kB)\n",
      "Downloading kiwisolver-1.4.7-cp39-cp39-macosx_11_0_arm64.whl (64 kB)\n",
      "Downloading pillow-11.1.0-cp39-cp39-macosx_11_0_arm64.whl (3.1 MB)\n",
      "\u001b[2K   \u001b[90m━━━━━━━━━━━━━━━━━━━━━━━━━━━━━━━━━━━━━━━━\u001b[0m \u001b[32m3.1/3.1 MB\u001b[0m \u001b[31m11.0 MB/s\u001b[0m eta \u001b[36m0:00:00\u001b[0ma \u001b[36m0:00:01\u001b[0m\n",
      "\u001b[?25hUsing cached pyparsing-3.2.1-py3-none-any.whl (107 kB)\n",
      "Installing collected packages: pyparsing, pillow, kiwisolver, importlib-resources, fonttools, cycler, contourpy, matplotlib, seaborn\n",
      "Successfully installed contourpy-1.3.0 cycler-0.12.1 fonttools-4.56.0 importlib-resources-6.5.2 kiwisolver-1.4.7 matplotlib-3.9.4 pillow-11.1.0 pyparsing-3.2.1 seaborn-0.13.2\n",
      "Note: you may need to restart the kernel to use updated packages.\n"
     ]
    }
   ],
   "source": [
    "pip install seaborn"
   ]
  },
  {
   "cell_type": "code",
   "execution_count": 1,
   "metadata": {},
   "outputs": [],
   "source": [
    "import pandas as pd \n",
    "import numpy as np\n",
    "import seaborn as sns \n",
    "import matplotlib.pyplot as plt \n",
    "import re"
   ]
  },
  {
   "cell_type": "code",
   "execution_count": 2,
   "metadata": {},
   "outputs": [],
   "source": [
    "pd.set_option('display.max_columns', None)  \n",
    "pd.set_option('display.max_rows', None)\n",
    "pd.set_option('display.max_colwidth', None)"
   ]
  },
  {
   "cell_type": "code",
   "execution_count": 3,
   "metadata": {},
   "outputs": [
    {
     "data": {
      "text/html": [
       "<div>\n",
       "<style scoped>\n",
       "    .dataframe tbody tr th:only-of-type {\n",
       "        vertical-align: middle;\n",
       "    }\n",
       "\n",
       "    .dataframe tbody tr th {\n",
       "        vertical-align: top;\n",
       "    }\n",
       "\n",
       "    .dataframe thead th {\n",
       "        text-align: right;\n",
       "    }\n",
       "</style>\n",
       "<table border=\"1\" class=\"dataframe\">\n",
       "  <thead>\n",
       "    <tr style=\"text-align: right;\">\n",
       "      <th></th>\n",
       "      <th>news_id</th>\n",
       "      <th>category</th>\n",
       "      <th>subcategory</th>\n",
       "      <th>title</th>\n",
       "      <th>abstract</th>\n",
       "      <th>url</th>\n",
       "      <th>title_entities</th>\n",
       "      <th>abstract_entities</th>\n",
       "    </tr>\n",
       "  </thead>\n",
       "  <tbody>\n",
       "    <tr>\n",
       "      <th>0</th>\n",
       "      <td>N55528</td>\n",
       "      <td>lifestyle</td>\n",
       "      <td>lifestyleroyals</td>\n",
       "      <td>The Brands Queen Elizabeth, Prince Charles, and Prince Philip Swear By</td>\n",
       "      <td>Shop the notebooks, jackets, and more that the royals can't live without.</td>\n",
       "      <td>https://assets.msn.com/labs/mind/AAGH0ET.html</td>\n",
       "      <td>[{\"Label\": \"Prince Philip, Duke of Edinburgh\", \"Type\": \"P\", \"WikidataId\": \"Q80976\", \"Confidence\": 1.0, \"OccurrenceOffsets\": [48], \"SurfaceForms\": [\"Prince Philip\"]}, {\"Label\": \"Charles, Prince of Wales\", \"Type\": \"P\", \"WikidataId\": \"Q43274\", \"Confidence\": 1.0, \"OccurrenceOffsets\": [28], \"SurfaceForms\": [\"Prince Charles\"]}, {\"Label\": \"Elizabeth II\", \"Type\": \"P\", \"WikidataId\": \"Q9682\", \"Confidence\": 0.97, \"OccurrenceOffsets\": [11], \"SurfaceForms\": [\"Queen Elizabeth\"]}]</td>\n",
       "      <td>[]</td>\n",
       "    </tr>\n",
       "    <tr>\n",
       "      <th>1</th>\n",
       "      <td>N19639</td>\n",
       "      <td>health</td>\n",
       "      <td>weightloss</td>\n",
       "      <td>50 Worst Habits For Belly Fat</td>\n",
       "      <td>These seemingly harmless habits are holding you back and keeping you from shedding that unwanted belly fat for good.</td>\n",
       "      <td>https://assets.msn.com/labs/mind/AAB19MK.html</td>\n",
       "      <td>[{\"Label\": \"Adipose tissue\", \"Type\": \"C\", \"WikidataId\": \"Q193583\", \"Confidence\": 1.0, \"OccurrenceOffsets\": [20], \"SurfaceForms\": [\"Belly Fat\"]}]</td>\n",
       "      <td>[{\"Label\": \"Adipose tissue\", \"Type\": \"C\", \"WikidataId\": \"Q193583\", \"Confidence\": 1.0, \"OccurrenceOffsets\": [97], \"SurfaceForms\": [\"belly fat\"]}]</td>\n",
       "    </tr>\n",
       "    <tr>\n",
       "      <th>2</th>\n",
       "      <td>N61837</td>\n",
       "      <td>news</td>\n",
       "      <td>newsworld</td>\n",
       "      <td>The Cost of Trump's Aid Freeze in the Trenches of Ukraine's War</td>\n",
       "      <td>Lt. Ivan Molchanets peeked over a parapet of sand bags at the front line of the war in Ukraine. Next to him was an empty helmet propped up to trick snipers, already perforated with multiple holes.</td>\n",
       "      <td>https://assets.msn.com/labs/mind/AAJgNsz.html</td>\n",
       "      <td>[]</td>\n",
       "      <td>[{\"Label\": \"Ukraine\", \"Type\": \"G\", \"WikidataId\": \"Q212\", \"Confidence\": 0.946, \"OccurrenceOffsets\": [87], \"SurfaceForms\": [\"Ukraine\"]}]</td>\n",
       "    </tr>\n",
       "    <tr>\n",
       "      <th>3</th>\n",
       "      <td>N53526</td>\n",
       "      <td>health</td>\n",
       "      <td>voices</td>\n",
       "      <td>I Was An NBA Wife. Here's How It Affected My Mental Health.</td>\n",
       "      <td>I felt like I was a fraud, and being an NBA wife didn't help that. In fact, it nearly destroyed me.</td>\n",
       "      <td>https://assets.msn.com/labs/mind/AACk2N6.html</td>\n",
       "      <td>[]</td>\n",
       "      <td>[{\"Label\": \"National Basketball Association\", \"Type\": \"O\", \"WikidataId\": \"Q155223\", \"Confidence\": 1.0, \"OccurrenceOffsets\": [40], \"SurfaceForms\": [\"NBA\"]}]</td>\n",
       "    </tr>\n",
       "    <tr>\n",
       "      <th>4</th>\n",
       "      <td>N38324</td>\n",
       "      <td>health</td>\n",
       "      <td>medical</td>\n",
       "      <td>How to Get Rid of Skin Tags, According to a Dermatologist</td>\n",
       "      <td>They seem harmless, but there's a very good reason you shouldn't ignore them. The post How to Get Rid of Skin Tags, According to a Dermatologist appeared first on Reader's Digest.</td>\n",
       "      <td>https://assets.msn.com/labs/mind/AAAKEkt.html</td>\n",
       "      <td>[{\"Label\": \"Skin tag\", \"Type\": \"C\", \"WikidataId\": \"Q3179593\", \"Confidence\": 1.0, \"OccurrenceOffsets\": [18], \"SurfaceForms\": [\"Skin Tags\"]}]</td>\n",
       "      <td>[{\"Label\": \"Skin tag\", \"Type\": \"C\", \"WikidataId\": \"Q3179593\", \"Confidence\": 1.0, \"OccurrenceOffsets\": [105], \"SurfaceForms\": [\"Skin Tags\"]}, {\"Label\": \"Dermatology\", \"Type\": \"C\", \"WikidataId\": \"Q171171\", \"Confidence\": 1.0, \"OccurrenceOffsets\": [131], \"SurfaceForms\": [\"Dermatologist\"]}, {\"Label\": \"Reader's Digest\", \"Type\": \"M\", \"WikidataId\": \"Q371820\", \"Confidence\": 0.999, \"OccurrenceOffsets\": [163], \"SurfaceForms\": [\"Reader's Digest\"]}]</td>\n",
       "    </tr>\n",
       "  </tbody>\n",
       "</table>\n",
       "</div>"
      ],
      "text/plain": [
       "  news_id   category      subcategory  \\\n",
       "0  N55528  lifestyle  lifestyleroyals   \n",
       "1  N19639     health       weightloss   \n",
       "2  N61837       news        newsworld   \n",
       "3  N53526     health           voices   \n",
       "4  N38324     health          medical   \n",
       "\n",
       "                                                                    title  \\\n",
       "0  The Brands Queen Elizabeth, Prince Charles, and Prince Philip Swear By   \n",
       "1                                           50 Worst Habits For Belly Fat   \n",
       "2         The Cost of Trump's Aid Freeze in the Trenches of Ukraine's War   \n",
       "3             I Was An NBA Wife. Here's How It Affected My Mental Health.   \n",
       "4               How to Get Rid of Skin Tags, According to a Dermatologist   \n",
       "\n",
       "                                                                                                                                                                                               abstract  \\\n",
       "0                                                                                                                             Shop the notebooks, jackets, and more that the royals can't live without.   \n",
       "1                                                                                  These seemingly harmless habits are holding you back and keeping you from shedding that unwanted belly fat for good.   \n",
       "2  Lt. Ivan Molchanets peeked over a parapet of sand bags at the front line of the war in Ukraine. Next to him was an empty helmet propped up to trick snipers, already perforated with multiple holes.   \n",
       "3                                                                                                   I felt like I was a fraud, and being an NBA wife didn't help that. In fact, it nearly destroyed me.   \n",
       "4                   They seem harmless, but there's a very good reason you shouldn't ignore them. The post How to Get Rid of Skin Tags, According to a Dermatologist appeared first on Reader's Digest.   \n",
       "\n",
       "                                             url  \\\n",
       "0  https://assets.msn.com/labs/mind/AAGH0ET.html   \n",
       "1  https://assets.msn.com/labs/mind/AAB19MK.html   \n",
       "2  https://assets.msn.com/labs/mind/AAJgNsz.html   \n",
       "3  https://assets.msn.com/labs/mind/AACk2N6.html   \n",
       "4  https://assets.msn.com/labs/mind/AAAKEkt.html   \n",
       "\n",
       "                                                                                                                                                                                                                                                                                                                                                                                                                                                                           title_entities  \\\n",
       "0  [{\"Label\": \"Prince Philip, Duke of Edinburgh\", \"Type\": \"P\", \"WikidataId\": \"Q80976\", \"Confidence\": 1.0, \"OccurrenceOffsets\": [48], \"SurfaceForms\": [\"Prince Philip\"]}, {\"Label\": \"Charles, Prince of Wales\", \"Type\": \"P\", \"WikidataId\": \"Q43274\", \"Confidence\": 1.0, \"OccurrenceOffsets\": [28], \"SurfaceForms\": [\"Prince Charles\"]}, {\"Label\": \"Elizabeth II\", \"Type\": \"P\", \"WikidataId\": \"Q9682\", \"Confidence\": 0.97, \"OccurrenceOffsets\": [11], \"SurfaceForms\": [\"Queen Elizabeth\"]}]   \n",
       "1                                                                                                                                                                                                                                                                                                                                        [{\"Label\": \"Adipose tissue\", \"Type\": \"C\", \"WikidataId\": \"Q193583\", \"Confidence\": 1.0, \"OccurrenceOffsets\": [20], \"SurfaceForms\": [\"Belly Fat\"]}]   \n",
       "2                                                                                                                                                                                                                                                                                                                                                                                                                                                                                      []   \n",
       "3                                                                                                                                                                                                                                                                                                                                                                                                                                                                                      []   \n",
       "4                                                                                                                                                                                                                                                                                                                                             [{\"Label\": \"Skin tag\", \"Type\": \"C\", \"WikidataId\": \"Q3179593\", \"Confidence\": 1.0, \"OccurrenceOffsets\": [18], \"SurfaceForms\": [\"Skin Tags\"]}]   \n",
       "\n",
       "                                                                                                                                                                                                                                                                                                                                                                                                                                          abstract_entities  \n",
       "0                                                                                                                                                                                                                                                                                                                                                                                                                                                        []  \n",
       "1                                                                                                                                                                                                                                                                                                          [{\"Label\": \"Adipose tissue\", \"Type\": \"C\", \"WikidataId\": \"Q193583\", \"Confidence\": 1.0, \"OccurrenceOffsets\": [97], \"SurfaceForms\": [\"belly fat\"]}]  \n",
       "2                                                                                                                                                                                                                                                                                                                    [{\"Label\": \"Ukraine\", \"Type\": \"G\", \"WikidataId\": \"Q212\", \"Confidence\": 0.946, \"OccurrenceOffsets\": [87], \"SurfaceForms\": [\"Ukraine\"]}]  \n",
       "3                                                                                                                                                                                                                                                                                               [{\"Label\": \"National Basketball Association\", \"Type\": \"O\", \"WikidataId\": \"Q155223\", \"Confidence\": 1.0, \"OccurrenceOffsets\": [40], \"SurfaceForms\": [\"NBA\"]}]  \n",
       "4  [{\"Label\": \"Skin tag\", \"Type\": \"C\", \"WikidataId\": \"Q3179593\", \"Confidence\": 1.0, \"OccurrenceOffsets\": [105], \"SurfaceForms\": [\"Skin Tags\"]}, {\"Label\": \"Dermatology\", \"Type\": \"C\", \"WikidataId\": \"Q171171\", \"Confidence\": 1.0, \"OccurrenceOffsets\": [131], \"SurfaceForms\": [\"Dermatologist\"]}, {\"Label\": \"Reader's Digest\", \"Type\": \"M\", \"WikidataId\": \"Q371820\", \"Confidence\": 0.999, \"OccurrenceOffsets\": [163], \"SurfaceForms\": [\"Reader's Digest\"]}]  "
      ]
     },
     "execution_count": 3,
     "metadata": {},
     "output_type": "execute_result"
    }
   ],
   "source": [
    "news_df = pd.read_csv('./Data/news.csv')\n",
    "news_df.head()"
   ]
  },
  {
   "cell_type": "code",
   "execution_count": 4,
   "metadata": {},
   "outputs": [
    {
     "name": "stdout",
     "output_type": "stream",
     "text": [
      "<class 'pandas.core.frame.DataFrame'>\n",
      "RangeIndex: 51282 entries, 0 to 51281\n",
      "Data columns (total 8 columns):\n",
      " #   Column             Non-Null Count  Dtype \n",
      "---  ------             --------------  ----- \n",
      " 0   news_id            51282 non-null  object\n",
      " 1   category           51282 non-null  object\n",
      " 2   subcategory        51282 non-null  object\n",
      " 3   title              51282 non-null  object\n",
      " 4   abstract           48616 non-null  object\n",
      " 5   url                51282 non-null  object\n",
      " 6   title_entities     51279 non-null  object\n",
      " 7   abstract_entities  51278 non-null  object\n",
      "dtypes: object(8)\n",
      "memory usage: 3.1+ MB\n"
     ]
    }
   ],
   "source": [
    "news_df.info()"
   ]
  },
  {
   "cell_type": "code",
   "execution_count": 5,
   "metadata": {},
   "outputs": [
    {
     "data": {
      "text/plain": [
       "news_id                 0\n",
       "category                0\n",
       "subcategory             0\n",
       "title                   0\n",
       "abstract             2666\n",
       "url                     0\n",
       "title_entities          3\n",
       "abstract_entities       4\n",
       "dtype: int64"
      ]
     },
     "execution_count": 5,
     "metadata": {},
     "output_type": "execute_result"
    }
   ],
   "source": [
    "news_df.isnull().sum()  "
   ]
  },
  {
   "cell_type": "code",
   "execution_count": 6,
   "metadata": {},
   "outputs": [
    {
     "data": {
      "text/plain": [
       "(51282, 8)"
      ]
     },
     "execution_count": 6,
     "metadata": {},
     "output_type": "execute_result"
    }
   ],
   "source": [
    "news_df.shape"
   ]
  },
  {
   "cell_type": "code",
   "execution_count": 7,
   "metadata": {},
   "outputs": [
    {
     "data": {
      "text/plain": [
       "(48612, 8)"
      ]
     },
     "execution_count": 7,
     "metadata": {},
     "output_type": "execute_result"
    }
   ],
   "source": [
    "news_df.dropna(axis=0, inplace=True)    \n",
    "news_df.shape"
   ]
  },
  {
   "cell_type": "code",
   "execution_count": 8,
   "metadata": {},
   "outputs": [
    {
     "data": {
      "text/plain": [
       "0                                                                                                                                                                                                                                                                                                                                                                                              Shop the notebooks, jackets, and more that the royals can't live without.\n",
       "1                                                                                                                                                                                                                                                                                                                                                   These seemingly harmless habits are holding you back and keeping you from shedding that unwanted belly fat for good.\n",
       "2                                                                                                                                                                                                                                                                   Lt. Ivan Molchanets peeked over a parapet of sand bags at the front line of the war in Ukraine. Next to him was an empty helmet propped up to trick snipers, already perforated with multiple holes.\n",
       "3                                                                                                                                                                                                                                                                                                                                                                    I felt like I was a fraud, and being an NBA wife didn't help that. In fact, it nearly destroyed me.\n",
       "4                                                                                                                                                                                                                                                                                    They seem harmless, but there's a very good reason you shouldn't ignore them. The post How to Get Rid of Skin Tags, According to a Dermatologist appeared first on Reader's Digest.\n",
       "5                                                                                                                                                                                                                                                                                                                                                Several fines came down against NFL players for criticizing officiating this week. It's a very bad look for the league.\n",
       "6                                                                                                                                                                                                                                                                                                                                            There won't be a chill down to your bones this Halloween in Orlando, unless you count the sweat dripping from your armpits.\n",
       "7                                                                                                                                                                                                                                                                                                                  Three people have died in a supermarket fire as angry protests in Chile entered their seventh day, the mayor of capital city Santiago said on Sunday.\n",
       "8                                                                                                                                                                                                                                                                                                                                                                                                             Every confirmed or expected PS5 game we can't wait to play\n",
       "9     When there are active closings, view them here. WXII 12 News receives a number of phone calls and e-mails from viewers with questions. Sign up for our Newsletters To report a closure, please visit wxii.reportclosing.com The weather closing system is a viewer-operated system. Employees of WXII-TV and WXII12.com DO NOT enter the information in the system. That comes straight from the school/business/institution. Before you can enter information,...\n",
       "10                                                                                                                                                                                                                                                                                                                                                                                                                                                This is so depressing.\n",
       "11                                                                                                                                                                                                                                                                                                                                                                 The 2019 Ram 3500's new Cummins diesel has 1000 lb-ft of torque. We put it to work on the drag strip.\n",
       "12                                                                                                                                                                                                                                                                                                                From picking up free goodies to navigating the wrong aisles, these grocery shopping mistakes could be one of the sneaky reasons you're gaining weight.\n",
       "13                                                                                                                                                                                                                                                                                   In an effort to combat some of the negative mental impacts caused by social media, the company announced it is removing all of its filters that give a plastic surgery-like effect.\n",
       "14                                                                                                                                                                                                                                                                                                                                                  A Michigan produce company has recalled nearly 2,300 cases of fresh apples that could be contaminated with listeria.\n",
       "15                                                                                                                                                                                                                                                                                                                                                                                                                The Duchess of Cambridge knows her way around an updo.\n",
       "16                                                                                                                                                                                                                                                                                                                                                                                       Take a look back at the celebs who got the boot from major movies and TV shows.\n",
       "17                                                                                                                                                                                                                                                                                                                                             The project, which is the bi-state agency's single-largest investment in the state, is projected to be completed in 2022.\n",
       "18                                                                                                                                                                                                                                                                                                                                                                                                         A Motor1.com reader sent this to us, and it sure looks legit.\n",
       "19                                                                                                     Team officials in Washington \"emphatically\" denied a rumor of a Trent Williams trade to Cleveland, according to a report Tuesday. A day later, Browns General Manager John Dorsey admitted publicly he has talked to Washington president Bruce Allen. \"We've had a few conversations,\" Dorsey said, via Mary Kay Cabot of the Cleveland Plain Dealer. \"It [more]\n",
       "Name: abstract, dtype: object"
      ]
     },
     "execution_count": 8,
     "metadata": {},
     "output_type": "execute_result"
    }
   ],
   "source": [
    "news_df['abstract'].head(20)"
   ]
  },
  {
   "cell_type": "code",
   "execution_count": 9,
   "metadata": {},
   "outputs": [],
   "source": [
    "news_df['abstract_length']=news_df['abstract'].apply(lambda x: len(x) )\n",
    "news_df['title_length']=news_df['title'].apply(lambda x: len(x)) "
   ]
  },
  {
   "cell_type": "code",
   "execution_count": 10,
   "metadata": {},
   "outputs": [
    {
     "data": {
      "image/png": "[encoded data removed]",
      "text/plain": [
       "<Figure size 1200x600 with 2 Axes>"
      ]
     },
     "metadata": {},
     "output_type": "display_data"
    }
   ],
   "source": [
    "# 제목, 내용 길이 분포 확인\n",
    "\n",
    "plt.figure(figsize=(12,6))  \n",
    "plt.subplot(1,2,1)\n",
    "sns.histplot(news_df['title_length'], kde=True)\n",
    "plt.title('Title Length Distribution')\n",
    "plt.subplot(1,2,2)\n",
    "sns.histplot(news_df['abstract_length'], kde=True)\n",
    "plt.title('Abstract Length Distribution')\n",
    "plt.show()  "
   ]
  },
  {
   "cell_type": "code",
   "execution_count": 11,
   "metadata": {},
   "outputs": [
    {
     "data": {
      "image/png": "[encoded data removed]",
      "text/plain": [
       "<Figure size 1200x600 with 2 Axes>"
      ]
     },
     "metadata": {},
     "output_type": "display_data"
    }
   ],
   "source": [
    "# 박스플롯 \n",
    "\n",
    "\n",
    "plt.figure(figsize=(12,6))  \n",
    "plt.subplot(1,2,1)\n",
    "sns.boxenplot(news_df['title_length'])\n",
    "plt.title('Title Length Boxplot')\n",
    "plt.subplot(1,2,2)\n",
    "sns.boxenplot(news_df['abstract_length'])\n",
    "plt.title('Abstract Length Boxplot')\n",
    "plt.show()  "
   ]
  },
  {
   "cell_type": "code",
   "execution_count": 30,
   "metadata": {},
   "outputs": [
    {
     "data": {
      "text/html": [
       "<div>\n",
       "<style scoped>\n",
       "    .dataframe tbody tr th:only-of-type {\n",
       "        vertical-align: middle;\n",
       "    }\n",
       "\n",
       "    .dataframe tbody tr th {\n",
       "        vertical-align: top;\n",
       "    }\n",
       "\n",
       "    .dataframe thead th {\n",
       "        text-align: right;\n",
       "    }\n",
       "</style>\n",
       "<table border=\"1\" class=\"dataframe\">\n",
       "  <thead>\n",
       "    <tr style=\"text-align: right;\">\n",
       "      <th></th>\n",
       "      <th>title_length</th>\n",
       "      <th>abstract_length</th>\n",
       "    </tr>\n",
       "  </thead>\n",
       "  <tbody>\n",
       "    <tr>\n",
       "      <th>count</th>\n",
       "      <td>48612.000000</td>\n",
       "      <td>48612.000000</td>\n",
       "    </tr>\n",
       "    <tr>\n",
       "      <th>mean</th>\n",
       "      <td>66.359335</td>\n",
       "      <td>216.078664</td>\n",
       "    </tr>\n",
       "    <tr>\n",
       "      <th>std</th>\n",
       "      <td>19.220514</td>\n",
       "      <td>154.463866</td>\n",
       "    </tr>\n",
       "    <tr>\n",
       "      <th>min</th>\n",
       "      <td>11.000000</td>\n",
       "      <td>1.000000</td>\n",
       "    </tr>\n",
       "    <tr>\n",
       "      <th>25%</th>\n",
       "      <td>54.000000</td>\n",
       "      <td>100.000000</td>\n",
       "    </tr>\n",
       "    <tr>\n",
       "      <th>50%</th>\n",
       "      <td>64.000000</td>\n",
       "      <td>149.000000</td>\n",
       "    </tr>\n",
       "    <tr>\n",
       "      <th>75%</th>\n",
       "      <td>78.000000</td>\n",
       "      <td>394.000000</td>\n",
       "    </tr>\n",
       "    <tr>\n",
       "      <th>max</th>\n",
       "      <td>251.000000</td>\n",
       "      <td>2603.000000</td>\n",
       "    </tr>\n",
       "  </tbody>\n",
       "</table>\n",
       "</div>"
      ],
      "text/plain": [
       "       title_length  abstract_length\n",
       "count  48612.000000     48612.000000\n",
       "mean      66.359335       216.078664\n",
       "std       19.220514       154.463866\n",
       "min       11.000000         1.000000\n",
       "25%       54.000000       100.000000\n",
       "50%       64.000000       149.000000\n",
       "75%       78.000000       394.000000\n",
       "max      251.000000      2603.000000"
      ]
     },
     "execution_count": 30,
     "metadata": {},
     "output_type": "execute_result"
    }
   ],
   "source": [
    "news_df[['title_length','abstract_length']].describe()    "
   ]
  },
  {
   "cell_type": "code",
   "execution_count": 57,
   "metadata": {},
   "outputs": [
    {
     "data": {
      "text/plain": [
       "23218    Russian spy Maria Butina, 30, will be released from jail on Friday and escorted by two ICE agents back to Moscow after serving 16 months of her 18-month sentence as her life behind bars of five-mile runs and working at the prison cafeteria is revealed\n",
       "1683         And the bride wore sparkles! First look at Jennifer Lawrence and Cooke Maroney as a married couple as they leave their haunted Rhode Island castle wedding venue after partying with A-list guests including Sienna Miller and Kris Jenner until 5.30am\n",
       "29790           EXCLUSIVE: Given up for adoption at two, a grueling Soviet childhood and a violent marriage: The true story of the homeless 'voice of an angel' is revealed as friends and family rejoice over finding the prodigy they feared they had lost forever\n",
       "2044                'If I had never dialed the police, she'd still be alive': Neighbor who called a non-emergency number to ask for a 2am welfare check on a woman, 28, because her front door was open says he is horrified she was killed in her own home by a cop\n",
       "20274                                           An ambush on a convoy transporting employees of a Canadian mining company in Burkina Faso killed 37 people on Wednesday, the deadliest attack in nearly five years of jihadist violence in the West African country.\n",
       "Name: title, dtype: object"
      ]
     },
     "execution_count": 57,
     "metadata": {},
     "output_type": "execute_result"
    }
   ],
   "source": [
    "# 제목 길이가 긴 상위 5개의 뉴스 확인\n",
    "news_df.sort_values(by='title_length', ascending=False)['title'].head(5)"
   ]
  },
  {
   "cell_type": "code",
   "execution_count": 59,
   "metadata": {},
   "outputs": [
    {
     "data": {
      "text/plain": [
       "251"
      ]
     },
     "execution_count": 59,
     "metadata": {},
     "output_type": "execute_result"
    }
   ],
   "source": [
    "len('Russian spy Maria Butina, 30, will be released from jail on Friday and escorted by two ICE agents back to Moscow after serving 16 months of her 18-month sentence as her life behind bars of five-mile runs and working at the prison cafeteria is revealed')"
   ]
  },
  {
   "cell_type": "code",
   "execution_count": 12,
   "metadata": {},
   "outputs": [
    {
     "data": {
      "text/plain": [
       "835"
      ]
     },
     "execution_count": 12,
     "metadata": {},
     "output_type": "execute_result"
    }
   ],
   "source": [
    "\n",
    "Q1 = news_df['abstract_length'].quantile(0.25)\n",
    "Q3 = news_df['abstract_length'].quantile(0.75)\n",
    "IQR = Q3 - Q1\n",
    "\n",
    "max_threshold = int(Q3 + 1.5 * IQR)\n",
    "max_threshold\n"
   ]
  },
  {
   "cell_type": "code",
   "execution_count": 14,
   "metadata": {},
   "outputs": [],
   "source": [
    "# 최대 길이 설정 (IQR 기반 이상치 제거)\n",
    "MAX_ABSTRACT_LENGTH = max_threshold  # 841자로 설정\n",
    "\n",
    "news_df['trimmed_abstract'] = news_df['abstract'].apply(lambda x: x[:MAX_ABSTRACT_LENGTH])\n",
    "\n",
    "\n"
   ]
  },
  {
   "cell_type": "markdown",
   "metadata": {},
   "source": [
    "## 데이터 정제"
   ]
  },
  {
   "cell_type": "code",
   "execution_count": 31,
   "metadata": {},
   "outputs": [
    {
     "name": "stdout",
     "output_type": "stream",
     "text": [
      "Defaulting to user installation because normal site-packages is not writeable\n",
      "Requirement already satisfied: nltk in /Users/mac/Library/Python/3.9/lib/python/site-packages (3.9.1)\n",
      "Requirement already satisfied: click in /Users/mac/Library/Python/3.9/lib/python/site-packages (from nltk) (8.1.8)\n",
      "Requirement already satisfied: joblib in /Users/mac/Library/Python/3.9/lib/python/site-packages (from nltk) (1.4.2)\n",
      "Requirement already satisfied: regex>=2021.8.3 in /Users/mac/Library/Python/3.9/lib/python/site-packages (from nltk) (2024.11.6)\n",
      "Requirement already satisfied: tqdm in /Users/mac/Library/Python/3.9/lib/python/site-packages (from nltk) (4.67.1)\n",
      "Note: you may need to restart the kernel to use updated packages.\n"
     ]
    }
   ],
   "source": [
    "pip install nltk"
   ]
  },
  {
   "cell_type": "code",
   "execution_count": 16,
   "metadata": {},
   "outputs": [
    {
     "name": "stderr",
     "output_type": "stream",
     "text": [
      "[nltk_data] Downloading package stopwords to /Users/mac/nltk_data...\n",
      "[nltk_data]   Package stopwords is already up-to-date!\n",
      "[nltk_data] Downloading package punkt to /Users/mac/nltk_data...\n",
      "[nltk_data]   Package punkt is already up-to-date!\n",
      "[nltk_data] Downloading package punkt_tab to /Users/mac/nltk_data...\n",
      "[nltk_data]   Package punkt_tab is already up-to-date!\n"
     ]
    },
    {
     "data": {
      "text/plain": [
       "True"
      ]
     },
     "execution_count": 16,
     "metadata": {},
     "output_type": "execute_result"
    }
   ],
   "source": [
    "import nltk\n",
    "from nltk.corpus import stopwords\n",
    "from nltk.tokenize import word_tokenize\n",
    "\n",
    "nltk.download('stopwords')\n",
    "nltk.download('punkt')  \n",
    "nltk.download('punkt_tab')\n",
    "\n"
   ]
  },
  {
   "cell_type": "code",
   "execution_count": null,
   "metadata": {},
   "outputs": [],
   "source": [
    "# 영어, 소문자로 통일, 불용어 제거, 숫자 제거(x), 특수문자 제거, 마지막에 내용이 줄임표시 되어있는 것들이 있음(...)\n",
    "stop_words=set(stopwords.words('english'))  \n",
    "\n",
    "\n",
    "def clean_text(text):\n",
    "    text=text.lower()\n",
    "    #text=re.sub(r'\\d+','',text)\n",
    "    text=re.sub(r'[^\\w\\s]','',text) # 특수문자 제거\n",
    "    text=re.sub(r'\\s+',' ',text) # 연속된 공백 하나의 공백으로\n",
    "    tokens=word_tokenize(text)\n",
    "    for token in tokens:\n",
    "        if token in stop_words:\n",
    "            tokens.remove(token)    \n",
    "    text=' '.join(tokens)   \n",
    "    \n",
    "    return text\n",
    "    "
   ]
  },
  {
   "cell_type": "code",
   "execution_count": 30,
   "metadata": {},
   "outputs": [
    {
     "data": {
      "text/html": [
       "<div>\n",
       "<style scoped>\n",
       "    .dataframe tbody tr th:only-of-type {\n",
       "        vertical-align: middle;\n",
       "    }\n",
       "\n",
       "    .dataframe tbody tr th {\n",
       "        vertical-align: top;\n",
       "    }\n",
       "\n",
       "    .dataframe thead th {\n",
       "        text-align: right;\n",
       "    }\n",
       "</style>\n",
       "<table border=\"1\" class=\"dataframe\">\n",
       "  <thead>\n",
       "    <tr style=\"text-align: right;\">\n",
       "      <th></th>\n",
       "      <th>cleaned_abstract</th>\n",
       "      <th>trimmed_abstract</th>\n",
       "    </tr>\n",
       "  </thead>\n",
       "  <tbody>\n",
       "    <tr>\n",
       "      <th>0</th>\n",
       "      <td>shop notebooks jackets more the royals cant live without</td>\n",
       "      <td>Shop the notebooks, jackets, and more that the royals can't live without.</td>\n",
       "    </tr>\n",
       "    <tr>\n",
       "      <th>1</th>\n",
       "      <td>seemingly harmless habits holding back keeping from shedding unwanted belly fat good</td>\n",
       "      <td>These seemingly harmless habits are holding you back and keeping you from shedding that unwanted belly fat for good.</td>\n",
       "    </tr>\n",
       "    <tr>\n",
       "      <th>2</th>\n",
       "      <td>lt ivan molchanets peeked a parapet sand bags the front line the war ukraine next him an empty helmet propped to trick snipers already perforated multiple holes</td>\n",
       "      <td>Lt. Ivan Molchanets peeked over a parapet of sand bags at the front line of the war in Ukraine. Next to him was an empty helmet propped up to trick snipers, already perforated with multiple holes.</td>\n",
       "    </tr>\n",
       "    <tr>\n",
       "      <th>3</th>\n",
       "      <td>felt like was fraud being nba wife didnt help in fact nearly destroyed</td>\n",
       "      <td>I felt like I was a fraud, and being an NBA wife didn't help that. In fact, it nearly destroyed me.</td>\n",
       "    </tr>\n",
       "    <tr>\n",
       "      <th>4</th>\n",
       "      <td>seem harmless theres very good reason shouldnt ignore the post get rid skin tags according to a dermatologist appeared first readers digest</td>\n",
       "      <td>They seem harmless, but there's a very good reason you shouldn't ignore them. The post How to Get Rid of Skin Tags, According to a Dermatologist appeared first on Reader's Digest.</td>\n",
       "    </tr>\n",
       "    <tr>\n",
       "      <th>5</th>\n",
       "      <td>several fines came against nfl players criticizing officiating week a bad look the league</td>\n",
       "      <td>Several fines came down against NFL players for criticizing officiating this week. It's a very bad look for the league.</td>\n",
       "    </tr>\n",
       "    <tr>\n",
       "      <th>6</th>\n",
       "      <td>wont a chill to bones halloween orlando unless count sweat dripping your armpits</td>\n",
       "      <td>There won't be a chill down to your bones this Halloween in Orlando, unless you count the sweat dripping from your armpits.</td>\n",
       "    </tr>\n",
       "    <tr>\n",
       "      <th>7</th>\n",
       "      <td>three people died a supermarket fire angry protests chile entered seventh day mayor capital city santiago said sunday</td>\n",
       "      <td>Three people have died in a supermarket fire as angry protests in Chile entered their seventh day, the mayor of capital city Santiago said on Sunday.</td>\n",
       "    </tr>\n",
       "    <tr>\n",
       "      <th>8</th>\n",
       "      <td>every confirmed expected ps5 game cant wait play</td>\n",
       "      <td>Every confirmed or expected PS5 game we can't wait to play</td>\n",
       "    </tr>\n",
       "    <tr>\n",
       "      <th>9</th>\n",
       "      <td>there active closings view here wxii 12 news receives number phone calls emails viewers questions sign for newsletters report closure please visit wxiireportclosingcom weather closing system a vieweroperated system employees wxiitv wxii12com not enter information the system comes straight the schoolbusinessinstitution you enter information</td>\n",
       "      <td>When there are active closings, view them here. WXII 12 News receives a number of phone calls and e-mails from viewers with questions. Sign up for our Newsletters To report a closure, please visit wxii.reportclosing.com The weather closing system is a viewer-operated system. Employees of WXII-TV and WXII12.com DO NOT enter the information in the system. That comes straight from the school/business/institution. Before you can enter information,...</td>\n",
       "    </tr>\n",
       "  </tbody>\n",
       "</table>\n",
       "</div>"
      ],
      "text/plain": [
       "                                                                                                                                                                                                                                                                                                                                        cleaned_abstract  \\\n",
       "0                                                                                                                                                                                                                                                                                               shop notebooks jackets more the royals cant live without   \n",
       "1                                                                                                                                                                                                                                                                   seemingly harmless habits holding back keeping from shedding unwanted belly fat good   \n",
       "2                                                                                                                                                                                       lt ivan molchanets peeked a parapet sand bags the front line the war ukraine next him an empty helmet propped to trick snipers already perforated multiple holes   \n",
       "3                                                                                                                                                                                                                                                                                 felt like was fraud being nba wife didnt help in fact nearly destroyed   \n",
       "4                                                                                                                                                                                                            seem harmless theres very good reason shouldnt ignore the post get rid skin tags according to a dermatologist appeared first readers digest   \n",
       "5                                                                                                                                                                                                                                                              several fines came against nfl players criticizing officiating week a bad look the league   \n",
       "6                                                                                                                                                                                                                                                                       wont a chill to bones halloween orlando unless count sweat dripping your armpits   \n",
       "7                                                                                                                                                                                                                                  three people died a supermarket fire angry protests chile entered seventh day mayor capital city santiago said sunday   \n",
       "8                                                                                                                                                                                                                                                                                                       every confirmed expected ps5 game cant wait play   \n",
       "9  there active closings view here wxii 12 news receives number phone calls emails viewers questions sign for newsletters report closure please visit wxiireportclosingcom weather closing system a vieweroperated system employees wxiitv wxii12com not enter information the system comes straight the schoolbusinessinstitution you enter information   \n",
       "\n",
       "                                                                                                                                                                                                                                                                                                                                                                                                                                                     trimmed_abstract  \n",
       "0                                                                                                                                                                                                                                                                                                                                                                                           Shop the notebooks, jackets, and more that the royals can't live without.  \n",
       "1                                                                                                                                                                                                                                                                                                                                                These seemingly harmless habits are holding you back and keeping you from shedding that unwanted belly fat for good.  \n",
       "2                                                                                                                                                                                                                                                                Lt. Ivan Molchanets peeked over a parapet of sand bags at the front line of the war in Ukraine. Next to him was an empty helmet propped up to trick snipers, already perforated with multiple holes.  \n",
       "3                                                                                                                                                                                                                                                                                                                                                                 I felt like I was a fraud, and being an NBA wife didn't help that. In fact, it nearly destroyed me.  \n",
       "4                                                                                                                                                                                                                                                                                 They seem harmless, but there's a very good reason you shouldn't ignore them. The post How to Get Rid of Skin Tags, According to a Dermatologist appeared first on Reader's Digest.  \n",
       "5                                                                                                                                                                                                                                                                                                                                             Several fines came down against NFL players for criticizing officiating this week. It's a very bad look for the league.  \n",
       "6                                                                                                                                                                                                                                                                                                                                         There won't be a chill down to your bones this Halloween in Orlando, unless you count the sweat dripping from your armpits.  \n",
       "7                                                                                                                                                                                                                                                                                                               Three people have died in a supermarket fire as angry protests in Chile entered their seventh day, the mayor of capital city Santiago said on Sunday.  \n",
       "8                                                                                                                                                                                                                                                                                                                                                                                                          Every confirmed or expected PS5 game we can't wait to play  \n",
       "9  When there are active closings, view them here. WXII 12 News receives a number of phone calls and e-mails from viewers with questions. Sign up for our Newsletters To report a closure, please visit wxii.reportclosing.com The weather closing system is a viewer-operated system. Employees of WXII-TV and WXII12.com DO NOT enter the information in the system. That comes straight from the school/business/institution. Before you can enter information,...  "
      ]
     },
     "execution_count": 30,
     "metadata": {},
     "output_type": "execute_result"
    }
   ],
   "source": [
    "news_df['cleaned_abstract']=news_df['trimmed_abstract'].apply(lambda x: clean_text(x))  \n",
    "news_df[['cleaned_abstract','trimmed_abstract']].head(10)"
   ]
  },
  {
   "cell_type": "markdown",
   "metadata": {},
   "source": [
    "## CountVectorizer 이용해서 벡터화"
   ]
  },
  {
   "cell_type": "code",
   "execution_count": 31,
   "metadata": {},
   "outputs": [
    {
     "data": {
      "text/plain": [
       "<48612x1000 sparse matrix of type '<class 'numpy.int64'>'\n",
       "\twith 575712 stored elements in Compressed Sparse Row format>"
      ]
     },
     "execution_count": 31,
     "metadata": {},
     "output_type": "execute_result"
    }
   ],
   "source": [
    "from sklearn.feature_extraction.text import CountVectorizer\n",
    "from sklearn.metrics.pairwise import cosine_similarity\n",
    "\n",
    "\n",
    "\n",
    "countvetor=CountVectorizer(max_features=1000)\n",
    "count_matrix=countvetor.fit_transform(news_df['cleaned_abstract']) \n",
    "\n",
    "count_matrix"
   ]
  },
  {
   "cell_type": "code",
   "execution_count": 32,
   "metadata": {},
   "outputs": [
    {
     "data": {
      "text/plain": [
       "(48612, 1000)"
      ]
     },
     "execution_count": 32,
     "metadata": {},
     "output_type": "execute_result"
    }
   ],
   "source": [
    "count_matrix.shape"
   ]
  },
  {
   "cell_type": "code",
   "execution_count": 33,
   "metadata": {},
   "outputs": [
    {
     "data": {
      "text/plain": [
       "array([[0, 0, 0, ..., 0, 0, 0],\n",
       "       [0, 0, 0, ..., 0, 0, 0],\n",
       "       [0, 0, 0, ..., 0, 0, 0],\n",
       "       ...,\n",
       "       [0, 0, 0, ..., 0, 0, 0],\n",
       "       [0, 0, 0, ..., 0, 0, 0],\n",
       "       [0, 0, 0, ..., 0, 0, 0]])"
      ]
     },
     "execution_count": 33,
     "metadata": {},
     "output_type": "execute_result"
    }
   ],
   "source": [
    "count_matrix.toarray()"
   ]
  },
  {
   "cell_type": "code",
   "execution_count": 34,
   "metadata": {},
   "outputs": [],
   "source": [
    "count_sim = cosine_similarity(count_matrix)\n"
   ]
  },
  {
   "cell_type": "code",
   "execution_count": 35,
   "metadata": {},
   "outputs": [
    {
     "data": {
      "text/plain": [
       "(48612, 48612)"
      ]
     },
     "execution_count": 35,
     "metadata": {},
     "output_type": "execute_result"
    }
   ],
   "source": [
    "count_sim.shape"
   ]
  },
  {
   "cell_type": "code",
   "execution_count": 36,
   "metadata": {},
   "outputs": [],
   "source": [
    "def get_countvector_recommendations(news_id, news_df, sim_matrix, top_n=5):\n",
    "    # 해당 뉴스 ID의 인덱스 찾기\n",
    "    idx = news_df[news_df['news_id'] == news_id].index[0]\n",
    "    \n",
    "    # 해당 뉴스와 모든 뉴스 간 유사도 가져오기\n",
    "    sim_scores = list(enumerate(sim_matrix[idx]))\n",
    "    \n",
    "    # 유사도가 높은 순으로 정렬\n",
    "    sim_scores = sorted(sim_scores, key=lambda x: x[1], reverse=True)\n",
    "    \n",
    "    # 가장 유사한 상위 N개 뉴스 ID 반환 (자기 자신 제외)\n",
    "    top_news = [news_df.iloc[i[0]]['news_id'] for i in sim_scores[1:top_n+1]]\n",
    "    return top_news\n"
   ]
  },
  {
   "cell_type": "code",
   "execution_count": 37,
   "metadata": {},
   "outputs": [
    {
     "name": "stdout",
     "output_type": "stream",
     "text": [
      "뉴스 N55528와 유사한 뉴스 추천 (CountVectorizer): ['N52473', 'N56093', 'N39996', 'N37815', 'N63801']\n"
     ]
    }
   ],
   "source": [
    "# 특정 뉴스 ID (예: 첫 번째 뉴스)\n",
    "news_id_example = news_df['news_id'][0]\n",
    "\n",
    "# CountVectorizer 추천 뉴스 출력\n",
    "count_recommendations = get_countvector_recommendations(news_id_example, news_df, count_sim)\n",
    "\n",
    "print(f\"뉴스 {news_id_example}와 유사한 뉴스 추천 (CountVectorizer): {count_recommendations}\")\n"
   ]
  },
  {
   "cell_type": "code",
   "execution_count": 38,
   "metadata": {},
   "outputs": [
    {
     "data": {
      "text/plain": [
       "Index(['news_id', 'category', 'subcategory', 'title', 'abstract', 'url',\n",
       "       'title_entities', 'abstract_entities', 'abstract_length',\n",
       "       'title_length', 'trimmed_abstract', 'cleaned_abstract'],\n",
       "      dtype='object')"
      ]
     },
     "execution_count": 38,
     "metadata": {},
     "output_type": "execute_result"
    }
   ],
   "source": [
    "news_df.columns"
   ]
  },
  {
   "cell_type": "code",
   "execution_count": 39,
   "metadata": {},
   "outputs": [
    {
     "data": {
      "text/plain": [
       "'N55528'"
      ]
     },
     "execution_count": 39,
     "metadata": {},
     "output_type": "execute_result"
    }
   ],
   "source": [
    "news_df['news_id'][0]"
   ]
  },
  {
   "cell_type": "code",
   "execution_count": 40,
   "metadata": {},
   "outputs": [
    {
     "data": {
      "text/html": [
       "<div>\n",
       "<style scoped>\n",
       "    .dataframe tbody tr th:only-of-type {\n",
       "        vertical-align: middle;\n",
       "    }\n",
       "\n",
       "    .dataframe tbody tr th {\n",
       "        vertical-align: top;\n",
       "    }\n",
       "\n",
       "    .dataframe thead th {\n",
       "        text-align: right;\n",
       "    }\n",
       "</style>\n",
       "<table border=\"1\" class=\"dataframe\">\n",
       "  <thead>\n",
       "    <tr style=\"text-align: right;\">\n",
       "      <th></th>\n",
       "      <th>news_id</th>\n",
       "      <th>category</th>\n",
       "      <th>subcategory</th>\n",
       "      <th>title</th>\n",
       "      <th>abstract</th>\n",
       "    </tr>\n",
       "  </thead>\n",
       "  <tbody>\n",
       "    <tr>\n",
       "      <th>0</th>\n",
       "      <td>N55528</td>\n",
       "      <td>lifestyle</td>\n",
       "      <td>lifestyleroyals</td>\n",
       "      <td>The Brands Queen Elizabeth, Prince Charles, and Prince Philip Swear By</td>\n",
       "      <td>Shop the notebooks, jackets, and more that the royals can't live without.</td>\n",
       "    </tr>\n",
       "  </tbody>\n",
       "</table>\n",
       "</div>"
      ],
      "text/plain": [
       "  news_id   category      subcategory  \\\n",
       "0  N55528  lifestyle  lifestyleroyals   \n",
       "\n",
       "                                                                    title  \\\n",
       "0  The Brands Queen Elizabeth, Prince Charles, and Prince Philip Swear By   \n",
       "\n",
       "                                                                    abstract  \n",
       "0  Shop the notebooks, jackets, and more that the royals can't live without.  "
      ]
     },
     "execution_count": 40,
     "metadata": {},
     "output_type": "execute_result"
    }
   ],
   "source": [
    "news_df[news_df['news_id']==news_id_example][['news_id','category', 'subcategory', 'title', 'abstract']]"
   ]
  },
  {
   "cell_type": "code",
   "execution_count": 41,
   "metadata": {},
   "outputs": [],
   "source": [
    "# 라이프 스타일, 왕실 관련 라이프, \"엘리자베스 여왕, 찰스 왕세자, 필립 공이 애용하는 브랜드\"\n",
    "# 노트북과 재킷을 쇼핑했다는 내용"
   ]
  },
  {
   "cell_type": "code",
   "execution_count": 43,
   "metadata": {},
   "outputs": [
    {
     "data": {
      "text/html": [
       "<div>\n",
       "<style scoped>\n",
       "    .dataframe tbody tr th:only-of-type {\n",
       "        vertical-align: middle;\n",
       "    }\n",
       "\n",
       "    .dataframe tbody tr th {\n",
       "        vertical-align: top;\n",
       "    }\n",
       "\n",
       "    .dataframe thead th {\n",
       "        text-align: right;\n",
       "    }\n",
       "</style>\n",
       "<table border=\"1\" class=\"dataframe\">\n",
       "  <thead>\n",
       "    <tr style=\"text-align: right;\">\n",
       "      <th></th>\n",
       "      <th>news_id</th>\n",
       "      <th>category</th>\n",
       "      <th>subcategory</th>\n",
       "      <th>title</th>\n",
       "      <th>abstract</th>\n",
       "    </tr>\n",
       "  </thead>\n",
       "  <tbody>\n",
       "    <tr>\n",
       "      <th>1796</th>\n",
       "      <td>N37815</td>\n",
       "      <td>tv</td>\n",
       "      <td>tvvideos</td>\n",
       "      <td>The \"Saved by the Bell\" reboot will seemingly happen without Kelly Kapowski and Zack Morris, and this is sad</td>\n",
       "      <td>The Saved by the Bell reboot will seemingly happen without Kelly Kapowski and Zack Morris, and this is sad NBCU decided to reboot Saved by the Belland forgot to tell Tiffani Thiessen.</td>\n",
       "    </tr>\n",
       "    <tr>\n",
       "      <th>7039</th>\n",
       "      <td>N52473</td>\n",
       "      <td>lifestyle</td>\n",
       "      <td>lifestyledidyouknow</td>\n",
       "      <td>9 American products that seem bizarre to people from other countries</td>\n",
       "      <td>From spray cheese to garbage disposals, here are 9 things that Americans can't live without   but the rest of the world certainly can.</td>\n",
       "    </tr>\n",
       "    <tr>\n",
       "      <th>13019</th>\n",
       "      <td>N63801</td>\n",
       "      <td>sports</td>\n",
       "      <td>basketball_nba</td>\n",
       "      <td>Kawhi Leonard's Clippers debut leaves NBA fans wanting more</td>\n",
       "      <td>Kawhi Leonard made his preseason debut with the Los Angeles Clippers on Thursday night, and the team can't wait for more.</td>\n",
       "    </tr>\n",
       "    <tr>\n",
       "      <th>16949</th>\n",
       "      <td>N39996</td>\n",
       "      <td>sports</td>\n",
       "      <td>basketball_nba</td>\n",
       "      <td>10 bold predictions for the 2019-20 NBA season</td>\n",
       "      <td>Will the Warriors flounder without Kevin Durant? Who can challenge Zion Williamson for Rookie of the Year? Check out the predictions on those and more here.</td>\n",
       "    </tr>\n",
       "    <tr>\n",
       "      <th>27852</th>\n",
       "      <td>N56093</td>\n",
       "      <td>foodanddrink</td>\n",
       "      <td>cooking</td>\n",
       "      <td>An Instant Pot with a sous vide function (yes, really!) is more than 50% off</td>\n",
       "      <td>And more from the Sur La Table warehouse sale.</td>\n",
       "    </tr>\n",
       "  </tbody>\n",
       "</table>\n",
       "</div>"
      ],
      "text/plain": [
       "      news_id      category          subcategory  \\\n",
       "1796   N37815            tv             tvvideos   \n",
       "7039   N52473     lifestyle  lifestyledidyouknow   \n",
       "13019  N63801        sports       basketball_nba   \n",
       "16949  N39996        sports       basketball_nba   \n",
       "27852  N56093  foodanddrink              cooking   \n",
       "\n",
       "                                                                                                              title  \\\n",
       "1796   The \"Saved by the Bell\" reboot will seemingly happen without Kelly Kapowski and Zack Morris, and this is sad   \n",
       "7039                                           9 American products that seem bizarre to people from other countries   \n",
       "13019                                                   Kawhi Leonard's Clippers debut leaves NBA fans wanting more   \n",
       "16949                                                                10 bold predictions for the 2019-20 NBA season   \n",
       "27852                                  An Instant Pot with a sous vide function (yes, really!) is more than 50% off   \n",
       "\n",
       "                                                                                                                                                                                      abstract  \n",
       "1796   The Saved by the Bell reboot will seemingly happen without Kelly Kapowski and Zack Morris, and this is sad NBCU decided to reboot Saved by the Belland forgot to tell Tiffani Thiessen.  \n",
       "7039                                                    From spray cheese to garbage disposals, here are 9 things that Americans can't live without   but the rest of the world certainly can.  \n",
       "13019                                                                Kawhi Leonard made his preseason debut with the Los Angeles Clippers on Thursday night, and the team can't wait for more.  \n",
       "16949                             Will the Warriors flounder without Kevin Durant? Who can challenge Zion Williamson for Rookie of the Year? Check out the predictions on those and more here.  \n",
       "27852                                                                                                                                           And more from the Sur La Table warehouse sale.  "
      ]
     },
     "execution_count": 43,
     "metadata": {},
     "output_type": "execute_result"
    }
   ],
   "source": [
    "# 추천 뉴스 정보 \n",
    "\n",
    "news_df[news_df['news_id'].isin(count_recommendations)][['news_id','category', 'subcategory', 'title', 'abstract']]       "
   ]
  },
  {
   "cell_type": "code",
   "execution_count": null,
   "metadata": {},
   "outputs": [],
   "source": []
  },
  {
   "cell_type": "code",
   "execution_count": 75,
   "metadata": {},
   "outputs": [],
   "source": [
    "#문제점\n",
    "\n",
    "# 라이프스타일(lifestyle) 기사인데, 스포츠/건강 카테고리 기사 추천됨\n",
    "# 왕실 관련 기사인데, 자동차·건강 기사 추천됨\n",
    "# 카테고리 필터링을 추가하지 않음 → 무작위 추천 경향"
   ]
  },
  {
   "cell_type": "markdown",
   "metadata": {},
   "source": [
    "## TF-IDF 벡터화"
   ]
  },
  {
   "cell_type": "code",
   "execution_count": 44,
   "metadata": {},
   "outputs": [],
   "source": [
    "from sklearn.feature_extraction.text import TfidfVectorizer\n",
    "\n",
    "tfidf_vectorizer = TfidfVectorizer(max_features=1000)\n",
    "tfidf_matrix = tfidf_vectorizer.fit_transform(news_df['cleaned_abstract'])"
   ]
  },
  {
   "cell_type": "code",
   "execution_count": 45,
   "metadata": {},
   "outputs": [
    {
     "data": {
      "text/plain": [
       "(48612, 48612)"
      ]
     },
     "execution_count": 45,
     "metadata": {},
     "output_type": "execute_result"
    }
   ],
   "source": [
    "tfidf_sim = cosine_similarity(tfidf_matrix)\n",
    "\n",
    "tfidf_sim.shape"
   ]
  },
  {
   "cell_type": "code",
   "execution_count": 70,
   "metadata": {},
   "outputs": [],
   "source": [
    "def get_tfidf_recommendations(news_id, news_df, sim_matrix, top_n=5):\n",
    "    #  해당 뉴스 ID의 인덱스 찾기\n",
    "    idx = news_df[news_df['news_id'] == news_id].index[0]\n",
    "    \n",
    "    # 해당 뉴스와 모든 뉴스 간 유사도 가져오기\n",
    "    sim_scores = list(enumerate(sim_matrix[idx]))\n",
    "    \n",
    "    # 유사도가 높은 순으로 정렬\n",
    "    sim_scores = sorted(sim_scores, key=lambda x: x[1], reverse=True)\n",
    "    \n",
    "    # 가장 유사한 상위 N개 뉴스 ID, 제목, 유사도 반환 (자기 자신 제외)\n",
    "    top_news = [(news_df.iloc[i[0]]['news_id'], news_df.iloc[i[0]]['title'], i[1]) for i in sim_scores[1:top_n+1]]\n",
    "    return top_news\n"
   ]
  },
  {
   "cell_type": "code",
   "execution_count": 48,
   "metadata": {},
   "outputs": [
    {
     "name": "stdout",
     "output_type": "stream",
     "text": [
      "뉴스 N55528와 유사한 뉴스 추천 (TF-IDF): ['N52473', 'N46032', 'N48066', 'N27039', 'N39360']\n"
     ]
    }
   ],
   "source": [
    "# 특정 뉴스 ID (예: 첫 번째 뉴스)\n",
    "news_id_example = news_df['news_id'][0]\n",
    "\n",
    "# TF-IDF 추천 뉴스 출력\n",
    "tfidf_recommendations = get_tfidf_recommendations(news_id_example, news_df, tfidf_sim)\n",
    "\n",
    "print(f\"뉴스 {news_id_example}와 유사한 뉴스 추천 (TF-IDF): {tfidf_recommendations}\")\n"
   ]
  },
  {
   "cell_type": "code",
   "execution_count": 49,
   "metadata": {},
   "outputs": [
    {
     "data": {
      "text/html": [
       "<div>\n",
       "<style scoped>\n",
       "    .dataframe tbody tr th:only-of-type {\n",
       "        vertical-align: middle;\n",
       "    }\n",
       "\n",
       "    .dataframe tbody tr th {\n",
       "        vertical-align: top;\n",
       "    }\n",
       "\n",
       "    .dataframe thead th {\n",
       "        text-align: right;\n",
       "    }\n",
       "</style>\n",
       "<table border=\"1\" class=\"dataframe\">\n",
       "  <thead>\n",
       "    <tr style=\"text-align: right;\">\n",
       "      <th></th>\n",
       "      <th>news_id</th>\n",
       "      <th>category</th>\n",
       "      <th>subcategory</th>\n",
       "      <th>title</th>\n",
       "      <th>abstract</th>\n",
       "    </tr>\n",
       "  </thead>\n",
       "  <tbody>\n",
       "    <tr>\n",
       "      <th>0</th>\n",
       "      <td>N55528</td>\n",
       "      <td>lifestyle</td>\n",
       "      <td>lifestyleroyals</td>\n",
       "      <td>The Brands Queen Elizabeth, Prince Charles, and Prince Philip Swear By</td>\n",
       "      <td>Shop the notebooks, jackets, and more that the royals can't live without.</td>\n",
       "    </tr>\n",
       "  </tbody>\n",
       "</table>\n",
       "</div>"
      ],
      "text/plain": [
       "  news_id   category      subcategory  \\\n",
       "0  N55528  lifestyle  lifestyleroyals   \n",
       "\n",
       "                                                                    title  \\\n",
       "0  The Brands Queen Elizabeth, Prince Charles, and Prince Philip Swear By   \n",
       "\n",
       "                                                                    abstract  \n",
       "0  Shop the notebooks, jackets, and more that the royals can't live without.  "
      ]
     },
     "execution_count": 49,
     "metadata": {},
     "output_type": "execute_result"
    }
   ],
   "source": [
    "news_df[news_df['news_id']==news_id_example][['news_id','category', 'subcategory', 'title', 'abstract']]    "
   ]
  },
  {
   "cell_type": "code",
   "execution_count": 50,
   "metadata": {},
   "outputs": [
    {
     "data": {
      "text/html": [
       "<div>\n",
       "<style scoped>\n",
       "    .dataframe tbody tr th:only-of-type {\n",
       "        vertical-align: middle;\n",
       "    }\n",
       "\n",
       "    .dataframe tbody tr th {\n",
       "        vertical-align: top;\n",
       "    }\n",
       "\n",
       "    .dataframe thead th {\n",
       "        text-align: right;\n",
       "    }\n",
       "</style>\n",
       "<table border=\"1\" class=\"dataframe\">\n",
       "  <thead>\n",
       "    <tr style=\"text-align: right;\">\n",
       "      <th></th>\n",
       "      <th>news_id</th>\n",
       "      <th>category</th>\n",
       "      <th>subcategory</th>\n",
       "      <th>title</th>\n",
       "      <th>abstract</th>\n",
       "    </tr>\n",
       "  </thead>\n",
       "  <tbody>\n",
       "    <tr>\n",
       "      <th>3570</th>\n",
       "      <td>N48066</td>\n",
       "      <td>foodanddrink</td>\n",
       "      <td>restaurantsandnews</td>\n",
       "      <td>Is Mobile, Alabama, Hiding the Country's Best Chicken Fingers?</td>\n",
       "      <td>You can't fake the Foo.</td>\n",
       "    </tr>\n",
       "    <tr>\n",
       "      <th>4706</th>\n",
       "      <td>N27039</td>\n",
       "      <td>health</td>\n",
       "      <td>causes</td>\n",
       "      <td>Don't Ignore These Silent Signs of Diabetes</td>\n",
       "      <td>From a lagging libido to irritability, you can't afford to ignore these diabetes symptoms.</td>\n",
       "    </tr>\n",
       "    <tr>\n",
       "      <th>7039</th>\n",
       "      <td>N52473</td>\n",
       "      <td>lifestyle</td>\n",
       "      <td>lifestyledidyouknow</td>\n",
       "      <td>9 American products that seem bizarre to people from other countries</td>\n",
       "      <td>From spray cheese to garbage disposals, here are 9 things that Americans can't live without   but the rest of the world certainly can.</td>\n",
       "    </tr>\n",
       "    <tr>\n",
       "      <th>31315</th>\n",
       "      <td>N46032</td>\n",
       "      <td>foodanddrink</td>\n",
       "      <td>tipsandtricks</td>\n",
       "      <td>40 Next-Level Cooking Hacks You Never Knew You Could Do</td>\n",
       "      <td>The smart cooking tips and tricks you can't believe you've lived without.</td>\n",
       "    </tr>\n",
       "    <tr>\n",
       "      <th>43041</th>\n",
       "      <td>N39360</td>\n",
       "      <td>movies</td>\n",
       "      <td>movienews</td>\n",
       "      <td>Kristen Stewart 'Can't Wait' to Hear Robert Pattinson's Batman Voice: 'I Have All the Faith'</td>\n",
       "      <td>Kristen Stewart 'Can't Wait' for Robert Pattinson's Batman Voice</td>\n",
       "    </tr>\n",
       "  </tbody>\n",
       "</table>\n",
       "</div>"
      ],
      "text/plain": [
       "      news_id      category          subcategory  \\\n",
       "3570   N48066  foodanddrink   restaurantsandnews   \n",
       "4706   N27039        health               causes   \n",
       "7039   N52473     lifestyle  lifestyledidyouknow   \n",
       "31315  N46032  foodanddrink        tipsandtricks   \n",
       "43041  N39360        movies            movienews   \n",
       "\n",
       "                                                                                              title  \\\n",
       "3570                                 Is Mobile, Alabama, Hiding the Country's Best Chicken Fingers?   \n",
       "4706                                                    Don't Ignore These Silent Signs of Diabetes   \n",
       "7039                           9 American products that seem bizarre to people from other countries   \n",
       "31315                                       40 Next-Level Cooking Hacks You Never Knew You Could Do   \n",
       "43041  Kristen Stewart 'Can't Wait' to Hear Robert Pattinson's Batman Voice: 'I Have All the Faith'   \n",
       "\n",
       "                                                                                                                                     abstract  \n",
       "3570                                                                                                                  You can't fake the Foo.  \n",
       "4706                                               From a lagging libido to irritability, you can't afford to ignore these diabetes symptoms.  \n",
       "7039   From spray cheese to garbage disposals, here are 9 things that Americans can't live without   but the rest of the world certainly can.  \n",
       "31315                                                               The smart cooking tips and tricks you can't believe you've lived without.  \n",
       "43041                                                                        Kristen Stewart 'Can't Wait' for Robert Pattinson's Batman Voice  "
      ]
     },
     "execution_count": 50,
     "metadata": {},
     "output_type": "execute_result"
    }
   ],
   "source": [
    "news_df[news_df['news_id'].isin(tfidf_recommendations)][['news_id','category', 'subcategory', 'title', 'abstract']]       "
   ]
  },
  {
   "cell_type": "code",
   "execution_count": null,
   "metadata": {},
   "outputs": [],
   "source": [
    "# 파라미터 조정\n",
    "\n",
    "tfidf_vectorizer = TfidfVectorizer(\n",
    "\n",
    "    max_features=5000,   # 단어 수를 늘려서 더 많은 정보를 반영\n",
    "    min_df=2,            # 너무 희귀한 단어 제외\n",
    "    max_df=0.8    \n",
    "                  # 너무 흔한 단어 제외\n",
    ")\n",
    "\n",
    "tfidf_matrix_parameter = tfidf_vectorizer.fit_transform(news_df['cleaned_abstract'])\n"
   ]
  },
  {
   "cell_type": "code",
   "execution_count": 61,
   "metadata": {},
   "outputs": [],
   "source": [
    "tfidf_sim_parameter = cosine_similarity(tfidf_matrix_parameter) "
   ]
  },
  {
   "cell_type": "code",
   "execution_count": 62,
   "metadata": {},
   "outputs": [
    {
     "name": "stdout",
     "output_type": "stream",
     "text": [
      "뉴스 N55528와 유사한 뉴스 추천 (TF-IDF): ['N30132', 'N23273', 'N61541', 'N843', 'N61200']\n"
     ]
    }
   ],
   "source": [
    "tfidf_recommendations = get_tfidf_recommendations(news_id_example, news_df,  tfidf_sim_parameter)\n",
    "\n",
    "print(f\"뉴스 {news_id_example}와 유사한 뉴스 추천 (TF-IDF): {tfidf_recommendations}\")\n",
    "\n"
   ]
  },
  {
   "cell_type": "code",
   "execution_count": 66,
   "metadata": {},
   "outputs": [
    {
     "data": {
      "text/html": [
       "<div>\n",
       "<style scoped>\n",
       "    .dataframe tbody tr th:only-of-type {\n",
       "        vertical-align: middle;\n",
       "    }\n",
       "\n",
       "    .dataframe tbody tr th {\n",
       "        vertical-align: top;\n",
       "    }\n",
       "\n",
       "    .dataframe thead th {\n",
       "        text-align: right;\n",
       "    }\n",
       "</style>\n",
       "<table border=\"1\" class=\"dataframe\">\n",
       "  <thead>\n",
       "    <tr style=\"text-align: right;\">\n",
       "      <th></th>\n",
       "      <th>news_id</th>\n",
       "      <th>category</th>\n",
       "      <th>subcategory</th>\n",
       "      <th>title</th>\n",
       "      <th>abstract</th>\n",
       "    </tr>\n",
       "  </thead>\n",
       "  <tbody>\n",
       "    <tr>\n",
       "      <th>0</th>\n",
       "      <td>N55528</td>\n",
       "      <td>lifestyle</td>\n",
       "      <td>lifestyleroyals</td>\n",
       "      <td>The Brands Queen Elizabeth, Prince Charles, and Prince Philip Swear By</td>\n",
       "      <td>Shop the notebooks, jackets, and more that the royals can't live without.</td>\n",
       "    </tr>\n",
       "  </tbody>\n",
       "</table>\n",
       "</div>"
      ],
      "text/plain": [
       "  news_id   category      subcategory  \\\n",
       "0  N55528  lifestyle  lifestyleroyals   \n",
       "\n",
       "                                                                    title  \\\n",
       "0  The Brands Queen Elizabeth, Prince Charles, and Prince Philip Swear By   \n",
       "\n",
       "                                                                    abstract  \n",
       "0  Shop the notebooks, jackets, and more that the royals can't live without.  "
      ]
     },
     "execution_count": 66,
     "metadata": {},
     "output_type": "execute_result"
    }
   ],
   "source": [
    "news_df[news_df['news_id']==news_id_example][['news_id','category', 'subcategory', 'title', 'abstract']]    "
   ]
  },
  {
   "cell_type": "code",
   "execution_count": 65,
   "metadata": {},
   "outputs": [
    {
     "data": {
      "text/html": [
       "<div>\n",
       "<style scoped>\n",
       "    .dataframe tbody tr th:only-of-type {\n",
       "        vertical-align: middle;\n",
       "    }\n",
       "\n",
       "    .dataframe tbody tr th {\n",
       "        vertical-align: top;\n",
       "    }\n",
       "\n",
       "    .dataframe thead th {\n",
       "        text-align: right;\n",
       "    }\n",
       "</style>\n",
       "<table border=\"1\" class=\"dataframe\">\n",
       "  <thead>\n",
       "    <tr style=\"text-align: right;\">\n",
       "      <th></th>\n",
       "      <th>news_id</th>\n",
       "      <th>category</th>\n",
       "      <th>subcategory</th>\n",
       "      <th>title</th>\n",
       "      <th>abstract</th>\n",
       "    </tr>\n",
       "  </thead>\n",
       "  <tbody>\n",
       "    <tr>\n",
       "      <th>4058</th>\n",
       "      <td>N61541</td>\n",
       "      <td>lifestyle</td>\n",
       "      <td>lifestyleroyals</td>\n",
       "      <td>All the hats Duchesses Kate and Meghan have worn in 2019</td>\n",
       "      <td>See the royals' most fashionable hats, fascinators, headbands, headscarves and tiaras of the year!</td>\n",
       "    </tr>\n",
       "    <tr>\n",
       "      <th>5052</th>\n",
       "      <td>N23273</td>\n",
       "      <td>lifestyle</td>\n",
       "      <td>lifestyleroyals</td>\n",
       "      <td>Best Looks: Queen Maxima of the Netherlands</td>\n",
       "      <td>We're so very fortunate to live in a world filled with fashionable royals.</td>\n",
       "    </tr>\n",
       "    <tr>\n",
       "      <th>5776</th>\n",
       "      <td>N61200</td>\n",
       "      <td>finance</td>\n",
       "      <td>finance-insurance</td>\n",
       "      <td>Medicare Open Enrollment Starts Today. Here's What's New</td>\n",
       "      <td>It pays to shop around.</td>\n",
       "    </tr>\n",
       "    <tr>\n",
       "      <th>34736</th>\n",
       "      <td>N843</td>\n",
       "      <td>sports</td>\n",
       "      <td>baseball_mlb</td>\n",
       "      <td>Shaun's 2019 SB Nation off-season simulation results</td>\n",
       "      <td>In which, Shaun ruins the Indians to help out the Royals</td>\n",
       "    </tr>\n",
       "    <tr>\n",
       "      <th>39947</th>\n",
       "      <td>N30132</td>\n",
       "      <td>sports</td>\n",
       "      <td>baseball_mlb</td>\n",
       "      <td>Royals Rumblings - News for November 12, 2019</td>\n",
       "      <td>Will the Royals be running under Matheny?</td>\n",
       "    </tr>\n",
       "  </tbody>\n",
       "</table>\n",
       "</div>"
      ],
      "text/plain": [
       "      news_id   category        subcategory  \\\n",
       "4058   N61541  lifestyle    lifestyleroyals   \n",
       "5052   N23273  lifestyle    lifestyleroyals   \n",
       "5776   N61200    finance  finance-insurance   \n",
       "34736    N843     sports       baseball_mlb   \n",
       "39947  N30132     sports       baseball_mlb   \n",
       "\n",
       "                                                          title  \\\n",
       "4058   All the hats Duchesses Kate and Meghan have worn in 2019   \n",
       "5052                Best Looks: Queen Maxima of the Netherlands   \n",
       "5776   Medicare Open Enrollment Starts Today. Here's What's New   \n",
       "34736      Shaun's 2019 SB Nation off-season simulation results   \n",
       "39947             Royals Rumblings - News for November 12, 2019   \n",
       "\n",
       "                                                                                                 abstract  \n",
       "4058   See the royals' most fashionable hats, fascinators, headbands, headscarves and tiaras of the year!  \n",
       "5052                           We're so very fortunate to live in a world filled with fashionable royals.  \n",
       "5776                                                                              It pays to shop around.  \n",
       "34736                                            In which, Shaun ruins the Indians to help out the Royals  \n",
       "39947                                                           Will the Royals be running under Matheny?  "
      ]
     },
     "execution_count": 65,
     "metadata": {},
     "output_type": "execute_result"
    }
   ],
   "source": [
    "news_df[news_df['news_id'].isin(tfidf_recommendations)][['news_id','category', 'subcategory', 'title', 'abstract']]       "
   ]
  },
  {
   "cell_type": "code",
   "execution_count": null,
   "metadata": {},
   "outputs": [
    {
     "data": {
      "text/html": [
       "<div>\n",
       "<style scoped>\n",
       "    .dataframe tbody tr th:only-of-type {\n",
       "        vertical-align: middle;\n",
       "    }\n",
       "\n",
       "    .dataframe tbody tr th {\n",
       "        vertical-align: top;\n",
       "    }\n",
       "\n",
       "    .dataframe thead th {\n",
       "        text-align: right;\n",
       "    }\n",
       "</style>\n",
       "<table border=\"1\" class=\"dataframe\">\n",
       "  <thead>\n",
       "    <tr style=\"text-align: right;\">\n",
       "      <th></th>\n",
       "      <th>news_id</th>\n",
       "      <th>category</th>\n",
       "      <th>subcategory</th>\n",
       "      <th>title</th>\n",
       "      <th>abstract</th>\n",
       "      <th>similarity</th>\n",
       "    </tr>\n",
       "  </thead>\n",
       "  <tbody>\n",
       "    <tr>\n",
       "      <th>4058</th>\n",
       "      <td>N61541</td>\n",
       "      <td>lifestyle</td>\n",
       "      <td>lifestyleroyals</td>\n",
       "      <td>All the hats Duchesses Kate and Meghan have worn in 2019</td>\n",
       "      <td>See the royals' most fashionable hats, fascinators, headbands, headscarves and tiaras of the year!</td>\n",
       "      <td>0.450501</td>\n",
       "    </tr>\n",
       "    <tr>\n",
       "      <th>5052</th>\n",
       "      <td>N23273</td>\n",
       "      <td>lifestyle</td>\n",
       "      <td>lifestyleroyals</td>\n",
       "      <td>Best Looks: Queen Maxima of the Netherlands</td>\n",
       "      <td>We're so very fortunate to live in a world filled with fashionable royals.</td>\n",
       "      <td>0.446954</td>\n",
       "    </tr>\n",
       "    <tr>\n",
       "      <th>5776</th>\n",
       "      <td>N61200</td>\n",
       "      <td>finance</td>\n",
       "      <td>finance-insurance</td>\n",
       "      <td>Medicare Open Enrollment Starts Today. Here's What's New</td>\n",
       "      <td>It pays to shop around.</td>\n",
       "      <td>0.432505</td>\n",
       "    </tr>\n",
       "    <tr>\n",
       "      <th>34736</th>\n",
       "      <td>N843</td>\n",
       "      <td>sports</td>\n",
       "      <td>baseball_mlb</td>\n",
       "      <td>Shaun's 2019 SB Nation off-season simulation results</td>\n",
       "      <td>In which, Shaun ruins the Indians to help out the Royals</td>\n",
       "      <td>0.397035</td>\n",
       "    </tr>\n",
       "    <tr>\n",
       "      <th>39947</th>\n",
       "      <td>N30132</td>\n",
       "      <td>sports</td>\n",
       "      <td>baseball_mlb</td>\n",
       "      <td>Royals Rumblings - News for November 12, 2019</td>\n",
       "      <td>Will the Royals be running under Matheny?</td>\n",
       "      <td>0.376958</td>\n",
       "    </tr>\n",
       "  </tbody>\n",
       "</table>\n",
       "</div>"
      ],
      "text/plain": [
       "      news_id   category        subcategory  \\\n",
       "4058   N61541  lifestyle    lifestyleroyals   \n",
       "5052   N23273  lifestyle    lifestyleroyals   \n",
       "5776   N61200    finance  finance-insurance   \n",
       "34736    N843     sports       baseball_mlb   \n",
       "39947  N30132     sports       baseball_mlb   \n",
       "\n",
       "                                                          title  \\\n",
       "4058   All the hats Duchesses Kate and Meghan have worn in 2019   \n",
       "5052                Best Looks: Queen Maxima of the Netherlands   \n",
       "5776   Medicare Open Enrollment Starts Today. Here's What's New   \n",
       "34736      Shaun's 2019 SB Nation off-season simulation results   \n",
       "39947             Royals Rumblings - News for November 12, 2019   \n",
       "\n",
       "                                                                                                 abstract  \\\n",
       "4058   See the royals' most fashionable hats, fascinators, headbands, headscarves and tiaras of the year!   \n",
       "5052                           We're so very fortunate to live in a world filled with fashionable royals.   \n",
       "5776                                                                              It pays to shop around.   \n",
       "34736                                            In which, Shaun ruins the Indians to help out the Royals   \n",
       "39947                                                           Will the Royals be running under Matheny?   \n",
       "\n",
       "       similarity  \n",
       "4058     0.450501  \n",
       "5052     0.446954  \n",
       "5776     0.432505  \n",
       "34736    0.397035  \n",
       "39947    0.376958  "
      ]
     },
     "execution_count": 71,
     "metadata": {},
     "output_type": "execute_result"
    }
   ],
   "source": [
    "# max_features=5000, min_df=2, max_df=0.8  \n",
    "\n",
    "tfidf_recommendations_with_sim = get_tfidf_recommendations(news_id_example, news_df,  tfidf_sim_parameter)\n",
    "\n",
    "\n",
    "recommended_news_ids = [item[0] for item in tfidf_recommendations_with_sim]\n",
    "recommended_titles = [item[1] for item in tfidf_recommendations_with_sim]\n",
    "similarities = [item[2] for item in tfidf_recommendations_with_sim]\n",
    "\n",
    "\n",
    "input_news = news_df[news_df['news_id'] == news_id_example][['news_id', 'category', 'subcategory', 'title', 'abstract']]\n",
    "\n",
    "recommended_news = news_df[news_df['news_id'].isin(recommended_news_ids)][['news_id', 'category', 'subcategory', 'title', 'abstract']]\n",
    "recommended_news['similarity'] = similarities  # 유사도 추가\n",
    "\n",
    "recommended_news"
   ]
  },
  {
   "cell_type": "code",
   "execution_count": null,
   "metadata": {},
   "outputs": [],
   "source": [
    "# 유사도 0.37 ~ 0.45 사이\n",
    "# 0.45 에 가까운 유사도를 보인 뉴스가 카테고리도 같은 것을 확인할 수 있음\n",
    "# 파라미터 조정을 통해 더 정확한 추천 가능해짐\n",
    "# title 정보를 추가하여 추천해고 유사도 비교하기"
   ]
  },
  {
   "cell_type": "code",
   "execution_count": null,
   "metadata": {},
   "outputs": [
    {
     "data": {
      "text/html": [
       "<div>\n",
       "<style scoped>\n",
       "    .dataframe tbody tr th:only-of-type {\n",
       "        vertical-align: middle;\n",
       "    }\n",
       "\n",
       "    .dataframe tbody tr th {\n",
       "        vertical-align: top;\n",
       "    }\n",
       "\n",
       "    .dataframe thead th {\n",
       "        text-align: right;\n",
       "    }\n",
       "</style>\n",
       "<table border=\"1\" class=\"dataframe\">\n",
       "  <thead>\n",
       "    <tr style=\"text-align: right;\">\n",
       "      <th></th>\n",
       "      <th>news_id</th>\n",
       "      <th>category</th>\n",
       "      <th>subcategory</th>\n",
       "      <th>title</th>\n",
       "      <th>abstract</th>\n",
       "      <th>similarity</th>\n",
       "    </tr>\n",
       "  </thead>\n",
       "  <tbody>\n",
       "    <tr>\n",
       "      <th>7862</th>\n",
       "      <td>N846</td>\n",
       "      <td>sports</td>\n",
       "      <td>football_nfl</td>\n",
       "      <td>NFL Week 7 Awards: Is this the best photo ever taken of a NFL player?</td>\n",
       "      <td>The good, the bad, and the hilarious from Sunday's NFL action.</td>\n",
       "      <td>0.439033</td>\n",
       "    </tr>\n",
       "    <tr>\n",
       "      <th>12559</th>\n",
       "      <td>N8921</td>\n",
       "      <td>sports</td>\n",
       "      <td>football_nfl</td>\n",
       "      <td>NFL Week 6 Awards: This baffling call in Cleveland was the worst of the week</td>\n",
       "      <td>The good, the bad, and the hilarious from Sunday's NFL action.</td>\n",
       "      <td>0.374377</td>\n",
       "    </tr>\n",
       "    <tr>\n",
       "      <th>19260</th>\n",
       "      <td>N12200</td>\n",
       "      <td>sports</td>\n",
       "      <td>football_ncaa</td>\n",
       "      <td>Teams with most (and fewest) in-state players</td>\n",
       "      <td>A look at in-state players on rosters.</td>\n",
       "      <td>0.358008</td>\n",
       "    </tr>\n",
       "    <tr>\n",
       "      <th>45040</th>\n",
       "      <td>N35590</td>\n",
       "      <td>sports</td>\n",
       "      <td>football_nfl</td>\n",
       "      <td>Drew Sample injury is the cherry on top of Bengals' disastrous 2019 draft class</td>\n",
       "      <td>It bad.</td>\n",
       "      <td>0.315026</td>\n",
       "    </tr>\n",
       "    <tr>\n",
       "      <th>47898</th>\n",
       "      <td>N9509</td>\n",
       "      <td>sports</td>\n",
       "      <td>football_nfl</td>\n",
       "      <td>Miami Film Review: First Quarter</td>\n",
       "      <td>It was bad. Very bad.</td>\n",
       "      <td>0.315026</td>\n",
       "    </tr>\n",
       "  </tbody>\n",
       "</table>\n",
       "</div>"
      ],
      "text/plain": [
       "      news_id category    subcategory  \\\n",
       "7862     N846   sports   football_nfl   \n",
       "12559   N8921   sports   football_nfl   \n",
       "19260  N12200   sports  football_ncaa   \n",
       "45040  N35590   sports   football_nfl   \n",
       "47898   N9509   sports   football_nfl   \n",
       "\n",
       "                                                                                 title  \\\n",
       "7862             NFL Week 7 Awards: Is this the best photo ever taken of a NFL player?   \n",
       "12559     NFL Week 6 Awards: This baffling call in Cleveland was the worst of the week   \n",
       "19260                                    Teams with most (and fewest) in-state players   \n",
       "45040  Drew Sample injury is the cherry on top of Bengals' disastrous 2019 draft class   \n",
       "47898                                                 Miami Film Review: First Quarter   \n",
       "\n",
       "                                                             abstract  \\\n",
       "7862   The good, the bad, and the hilarious from Sunday's NFL action.   \n",
       "12559  The good, the bad, and the hilarious from Sunday's NFL action.   \n",
       "19260                          A look at in-state players on rosters.   \n",
       "45040                                                         It bad.   \n",
       "47898                                           It was bad. Very bad.   \n",
       "\n",
       "       similarity  \n",
       "7862     0.439033  \n",
       "12559    0.374377  \n",
       "19260    0.358008  \n",
       "45040    0.315026  \n",
       "47898    0.315026  "
      ]
     },
     "execution_count": 80,
     "metadata": {},
     "output_type": "execute_result"
    }
   ],
   "source": [
    "# 다른 기사 ID \n",
    "news_id_example = news_df['news_id'][5] \n",
    "\n",
    "tfidf_recommendations_with_sim = get_tfidf_recommendations(news_id_example, news_df,  tfidf_sim_parameter)\n",
    "\n",
    "\n",
    "recommended_news_ids = [item[0] for item in tfidf_recommendations_with_sim]\n",
    "recommended_titles = [item[1] for item in tfidf_recommendations_with_sim]\n",
    "similarities = [item[2] for item in tfidf_recommendations_with_sim]\n",
    "\n",
    "input_news = news_df[news_df['news_id'] == news_id_example][['news_id', 'category', 'subcategory', 'title', 'abstract']]\n",
    "\n",
    "recommended_news = news_df[news_df['news_id'].isin(recommended_news_ids)][['news_id', 'category', 'subcategory', 'title', 'abstract']]\n",
    "recommended_news['similarity'] = similarities  \n",
    "\n",
    "recommended_news\n"
   ]
  },
  {
   "cell_type": "code",
   "execution_count": 81,
   "metadata": {},
   "outputs": [
    {
     "data": {
      "text/html": [
       "<div>\n",
       "<style scoped>\n",
       "    .dataframe tbody tr th:only-of-type {\n",
       "        vertical-align: middle;\n",
       "    }\n",
       "\n",
       "    .dataframe tbody tr th {\n",
       "        vertical-align: top;\n",
       "    }\n",
       "\n",
       "    .dataframe thead th {\n",
       "        text-align: right;\n",
       "    }\n",
       "</style>\n",
       "<table border=\"1\" class=\"dataframe\">\n",
       "  <thead>\n",
       "    <tr style=\"text-align: right;\">\n",
       "      <th></th>\n",
       "      <th>news_id</th>\n",
       "      <th>category</th>\n",
       "      <th>subcategory</th>\n",
       "      <th>title</th>\n",
       "      <th>abstract</th>\n",
       "    </tr>\n",
       "  </thead>\n",
       "  <tbody>\n",
       "    <tr>\n",
       "      <th>5</th>\n",
       "      <td>N2073</td>\n",
       "      <td>sports</td>\n",
       "      <td>football_nfl</td>\n",
       "      <td>Should NFL be able to fine players for criticizing officiating?</td>\n",
       "      <td>Several fines came down against NFL players for criticizing officiating this week. It's a very bad look for the league.</td>\n",
       "    </tr>\n",
       "  </tbody>\n",
       "</table>\n",
       "</div>"
      ],
      "text/plain": [
       "  news_id category   subcategory  \\\n",
       "5   N2073   sports  football_nfl   \n",
       "\n",
       "                                                             title  \\\n",
       "5  Should NFL be able to fine players for criticizing officiating?   \n",
       "\n",
       "                                                                                                                  abstract  \n",
       "5  Several fines came down against NFL players for criticizing officiating this week. It's a very bad look for the league.  "
      ]
     },
     "execution_count": 81,
     "metadata": {},
     "output_type": "execute_result"
    }
   ],
   "source": [
    "news_df[news_df['news_id']==news_id_example][['news_id','category', 'subcategory', 'title', 'abstract']]"
   ]
  },
  {
   "cell_type": "code",
   "execution_count": null,
   "metadata": {},
   "outputs": [],
   "source": [
    "# 다른 기사들을 넣어보니 추천이 잘 되지 않고 있는 것을 확인\n",
    "# 0.4 이상이면 비슷한 뉴스를 추천함\n"
   ]
  },
  {
   "cell_type": "code",
   "execution_count": null,
   "metadata": {},
   "outputs": [
    {
     "data": {
      "image/png": "[encoded data removed]",
      "text/plain": [
       "<Figure size 640x480 with 1 Axes>"
      ]
     },
     "metadata": {},
     "output_type": "display_data"
    },
    {
     "data": {
      "text/plain": [
       "{'Mean Similarity': np.float64(0.5687955854187351),\n",
       " 'Median Similarity': np.float64(0.5316622171032794),\n",
       " 'Standard Deviation': np.float64(0.17732210496433515),\n",
       " 'Min Similarity': np.float64(0.0),\n",
       " 'Max Similarity': np.float64(1.0000000000000004)}"
      ]
     },
     "execution_count": 85,
     "metadata": {},
     "output_type": "execute_result"
    }
   ],
   "source": [
    "\n",
    "def analyze_similarity_distribution(sim_matrix):\n",
    "    max_similarities = []\n",
    "    \n",
    "    for i in range(sim_matrix.shape[0]):\n",
    "        sorted_similarities = np.sort(sim_matrix[i])  # 유사도 정렬\n",
    "        max_similarities.append(sorted_similarities[-2])  # 자기 자신 제외 최고 유사도\n",
    "    \n",
    "    return np.array(max_similarities)\n",
    "\n",
    "max_similarities = analyze_similarity_distribution(tfidf_sim)\n",
    "\n",
    "# 평균\n",
    "mean_similarity = np.mean(max_similarities)\n",
    "median_similarity = np.median(max_similarities)\n",
    "std_similarity = np.std(max_similarities)\n",
    "\n",
    "plt.hist(max_similarities, bins=50, alpha=0.7, color='b', edgecolor='black')\n",
    "plt.xlabel(\"Max Similarity Score (excluding self)\")\n",
    "plt.ylabel(\"Number of News Articles\")\n",
    "plt.title(\"Distribution of Maximum Similarity Scores Across News Articles\")\n",
    "plt.show()\n",
    "\n",
    "{\n",
    "    \"Mean Similarity\": mean_similarity,\n",
    "    \"Median Similarity\": median_similarity,\n",
    "    \"Standard Deviation\": std_similarity,\n",
    "    \"Min Similarity\": np.min(max_similarities),\n",
    "    \"Max Similarity\": np.max(max_similarities)\n",
    "}\n"
   ]
  },
  {
   "cell_type": "code",
   "execution_count": null,
   "metadata": {},
   "outputs": [
    {
     "data": {
      "image/png": "[encoded data removed]",
      "text/plain": [
       "<Figure size 640x480 with 1 Axes>"
      ]
     },
     "metadata": {},
     "output_type": "display_data"
    },
    {
     "data": {
      "text/plain": [
       "{'Mean Similarity': np.float64(0.4374504529868007),\n",
       " 'Median Similarity': np.float64(0.3904055023641513),\n",
       " 'Standard Deviation': np.float64(0.1776270517585469),\n",
       " 'Min Similarity': np.float64(0.0),\n",
       " 'Max Similarity': np.float64(1.0000000000000007)}"
      ]
     },
     "execution_count": 86,
     "metadata": {},
     "output_type": "execute_result"
    },
    {
     "ename": "",
     "evalue": "",
     "output_type": "error",
     "traceback": [
      "\u001b[1;31mThe Kernel crashed while executing code in the current cell or a previous cell. \n",
      "\u001b[1;31mPlease review the code in the cell(s) to identify a possible cause of the failure. \n",
      "\u001b[1;31mClick <a href='https://aka.ms/vscodeJupyterKernelCrash'>here</a> for more info. \n",
      "\u001b[1;31mView Jupyter <a href='command:jupyter.viewOutput'>log</a> for further details."
     ]
    }
   ],
   "source": [
    "# tfidf_sim_parameter\n",
    "\n",
    "\n",
    "def analyze_similarity_distribution(sim_matrix):\n",
    "    max_similarities = []\n",
    "    \n",
    "    for i in range(sim_matrix.shape[0]):\n",
    "        max_similarities.append(sorted_similarities[-2])  \n",
    "    \n",
    "    return np.array(max_similarities)\n",
    "\n",
    "max_similarities = analyze_similarity_distribution(tfidf_sim_parameter)\n",
    "\n",
    "mean_similarity = np.mean(max_similarities)\n",
    "median_similarity = np.median(max_similarities)\n",
    "std_similarity = np.std(max_similarities)\n",
    "\n",
    "plt.hist(max_similarities, bins=50, alpha=0.7, color='b', edgecolor='black')\n",
    "plt.xlabel(\"Max Similarity Score (excluding self)\")\n",
    "plt.ylabel(\"Number of News Articles\")\n",
    "plt.title(\"Distribution of Maximum Similarity Scores Across News Articles\")\n",
    "plt.show()\n",
    "\n",
    "{\n",
    "    \"Mean Similarity\": mean_similarity,\n",
    "    \"Median Similarity\": median_similarity,\n",
    "    \"Standard Deviation\": std_similarity,\n",
    "    \"Min Similarity\": np.min(max_similarities),\n",
    "    \"Max Similarity\": np.max(max_similarities)\n",
    "}\n",
    "\n"
   ]
  },
  {
   "cell_type": "code",
   "execution_count": null,
   "metadata": {},
   "outputs": [],
   "source": [
    "#"
   ]
  }
 ],
 "metadata": {
  "kernelspec": {
   "display_name": "Python 3",
   "language": "python",
   "name": "python3"
  },
  "language_info": {
   "codemirror_mode": {
    "name": "ipython",
    "version": 3
   },
   "file_extension": ".py",
   "mimetype": "text/x-python",
   "name": "python",
   "nbconvert_exporter": "python",
   "pygments_lexer": "ipython3",
   "version": "3.9.6"
  }
 },
 "nbformat": 4,
 "nbformat_minor": 2
}
